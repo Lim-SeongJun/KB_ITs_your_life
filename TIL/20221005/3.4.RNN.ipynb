{
 "cells": [
  {
   "cell_type": "markdown",
   "metadata": {},
   "source": [
    "# Recurrent Neural Network, 순환 신경망\n"
   ]
  },
  {
   "cell_type": "markdown",
   "metadata": {},
   "source": [
    "### RNN 실습, 다음 수 예측( Many to One)\n",
    "* RNN 구조를 직접 구현해서 다음 숫자 예측하는 실습    "
   ]
  },
  {
   "cell_type": "markdown",
   "metadata": {},
   "source": [
    "#### 입출력 데이타 준비"
   ]
  },
  {
   "cell_type": "code",
   "execution_count": 1,
   "metadata": {},
   "outputs": [
    {
     "data": {
      "text/plain": [
       "'x'"
      ]
     },
     "metadata": {},
     "output_type": "display_data"
    },
    {
     "data": {
      "text/plain": [
       "[[[0.0], [0.1], [0.2], [0.3]],\n",
       " [[0.1], [0.2], [0.3], [0.4]],\n",
       " [[0.2], [0.3], [0.4], [0.5]],\n",
       " [[0.3], [0.4], [0.5], [0.6]],\n",
       " [[0.4], [0.5], [0.6], [0.7]]]"
      ]
     },
     "metadata": {},
     "output_type": "display_data"
    },
    {
     "data": {
      "text/plain": [
       "'y'"
      ]
     },
     "metadata": {},
     "output_type": "display_data"
    },
    {
     "data": {
      "text/plain": [
       "[[0.4], [0.5], [0.6], [0.7], [0.8]]"
      ]
     },
     "metadata": {},
     "output_type": "display_data"
    }
   ],
   "source": [
    "import tensorflow as tf\n",
    "import numpy as np\n",
    "\n",
    "step_size = 4\n",
    "batch_size = 5\n",
    "\n",
    "x = [ [[i/10] for i in range(j, j+step_size)] for j in range(batch_size)]\n",
    "y = [[ (i+step_size) /10] for i in range(batch_size)]\n",
    "display(\"x\", x, \"y\",y)"
   ]
  },
  {
   "cell_type": "markdown",
   "metadata": {},
   "source": [
    "#### RNN을 이용한 다음 수 예측 실습"
   ]
  },
  {
   "cell_type": "code",
   "execution_count": 2,
   "metadata": {},
   "outputs": [
    {
     "name": "stdout",
     "output_type": "stream",
     "text": [
      "Model: \"sequential\"\n",
      "_________________________________________________________________\n",
      "Layer (type)                 Output Shape              Param #   \n",
      "=================================================================\n",
      "simple_rnn (SimpleRNN)       (None, 10)                120       \n",
      "_________________________________________________________________\n",
      "dense (Dense)                (None, 1)                 11        \n",
      "=================================================================\n",
      "Total params: 131\n",
      "Trainable params: 131\n",
      "Non-trainable params: 0\n",
      "_________________________________________________________________\n",
      "prediction: [0.37675864 0.5114519  0.6255354  0.7124297  0.77210134]\n"
     ]
    }
   ],
   "source": [
    "element_size = 1\n",
    "model = tf.keras.Sequential([\n",
    "    tf.keras.layers.SimpleRNN(10, input_shape=[step_size, element_size]),\n",
    "    tf.keras.layers.Dense(element_size)\n",
    "])\n",
    "model.summary()\n",
    "model.compile(optimizer='adam', loss='mse')\n",
    "\n",
    "model.fit(x, y, epochs=1000, verbose=0)\n",
    "pred = model.predict(x)\n",
    "print(f'prediction: {tf.squeeze(pred)}')"
   ]
  },
  {
   "cell_type": "markdown",
   "metadata": {},
   "source": [
    "### Vanila RNN 실습2, Many to Many"
   ]
  },
  {
   "cell_type": "markdown",
   "metadata": {},
   "source": [
    "#### 입출력 데이타 준비"
   ]
  },
  {
   "cell_type": "code",
   "execution_count": 3,
   "metadata": {
    "scrolled": true
   },
   "outputs": [
    {
     "data": {
      "text/plain": [
       "'x'"
      ]
     },
     "metadata": {},
     "output_type": "display_data"
    },
    {
     "data": {
      "text/plain": [
       "[[[0.0], [0.1], [0.2], [0.3]],\n",
       " [[0.1], [0.2], [0.3], [0.4]],\n",
       " [[0.2], [0.3], [0.4], [0.5]],\n",
       " [[0.3], [0.4], [0.5], [0.6]],\n",
       " [[0.4], [0.5], [0.6], [0.7]]]"
      ]
     },
     "metadata": {},
     "output_type": "display_data"
    },
    {
     "data": {
      "text/plain": [
       "'y'"
      ]
     },
     "metadata": {},
     "output_type": "display_data"
    },
    {
     "data": {
      "text/plain": [
       "[[[0.1], [0.2], [0.3], [0.4]],\n",
       " [[0.2], [0.3], [0.4], [0.5]],\n",
       " [[0.3], [0.4], [0.5], [0.6]],\n",
       " [[0.4], [0.5], [0.6], [0.7]],\n",
       " [[0.5], [0.6], [0.7], [0.8]]]"
      ]
     },
     "metadata": {},
     "output_type": "display_data"
    }
   ],
   "source": [
    "import tensorflow as tf\n",
    "import numpy as np\n",
    "\n",
    "step_size = 4\n",
    "batch_size = 5\n",
    "\n",
    "x = [ [[i/10] for i in range(j, j+step_size)] for j in range(batch_size)]\n",
    "y = [ [[i/10] for i in range(j+1, j+step_size+1)] for j in range(batch_size)]\n",
    "display(\"x\", x, \"y\",y)"
   ]
  },
  {
   "cell_type": "code",
   "execution_count": 4,
   "metadata": {},
   "outputs": [
    {
     "name": "stdout",
     "output_type": "stream",
     "text": [
      "Model: \"sequential_1\"\n",
      "_________________________________________________________________\n",
      "Layer (type)                 Output Shape              Param #   \n",
      "=================================================================\n",
      "simple_rnn_1 (SimpleRNN)     (None, 4, 10)             120       \n",
      "_________________________________________________________________\n",
      "dense_1 (Dense)              (None, 4, 1)              11        \n",
      "=================================================================\n",
      "Total params: 131\n",
      "Trainable params: 131\n",
      "Non-trainable params: 0\n",
      "_________________________________________________________________\n",
      "prediction: [[0.22877818 0.1907619  0.28446597 0.39304754]\n",
      " [0.26835254 0.29961243 0.39814338 0.50519395]\n",
      " [0.30750862 0.4052979  0.50641483 0.6088526 ]\n",
      " [0.3459794  0.5058546  0.60690343 0.7038272 ]\n",
      " [0.38351905 0.59980863 0.6984551  0.7904466 ]]\n"
     ]
    }
   ],
   "source": [
    "model = tf.keras.Sequential([\n",
    "    tf.keras.layers.SimpleRNN(10, input_shape=[step_size, element_size], return_sequences=True),\n",
    "    tf.keras.layers.Dense(element_size)\n",
    "])\n",
    "model.summary()\n",
    "model.compile(optimizer='adam', loss='mse')\n",
    "\n",
    "model.fit(x, y, epochs=1000, verbose=0)\n",
    "pred = model.predict(x)\n",
    "print(f'prediction: {tf.squeeze(pred)}')"
   ]
  },
  {
   "cell_type": "markdown",
   "metadata": {},
   "source": [
    "### 회귀 문제 ,  주식 가격 예측\n",
    "#### Data Preparing"
   ]
  },
  {
   "cell_type": "code",
   "execution_count": 6,
   "metadata": {},
   "outputs": [
    {
     "data": {
      "text/html": [
       "<div>\n",
       "<style scoped>\n",
       "    .dataframe tbody tr th:only-of-type {\n",
       "        vertical-align: middle;\n",
       "    }\n",
       "\n",
       "    .dataframe tbody tr th {\n",
       "        vertical-align: top;\n",
       "    }\n",
       "\n",
       "    .dataframe thead th {\n",
       "        text-align: right;\n",
       "    }\n",
       "</style>\n",
       "<table border=\"1\" class=\"dataframe\">\n",
       "  <thead>\n",
       "    <tr style=\"text-align: right;\">\n",
       "      <th></th>\n",
       "      <th># Open</th>\n",
       "      <th>High</th>\n",
       "      <th>Low</th>\n",
       "      <th>Volume</th>\n",
       "      <th>Close</th>\n",
       "    </tr>\n",
       "  </thead>\n",
       "  <tbody>\n",
       "    <tr>\n",
       "      <th>0</th>\n",
       "      <td>828.659973</td>\n",
       "      <td>833.450012</td>\n",
       "      <td>828.349976</td>\n",
       "      <td>1247700</td>\n",
       "      <td>831.659973</td>\n",
       "    </tr>\n",
       "    <tr>\n",
       "      <th>1</th>\n",
       "      <td>823.020020</td>\n",
       "      <td>828.070007</td>\n",
       "      <td>821.655029</td>\n",
       "      <td>1597800</td>\n",
       "      <td>828.070007</td>\n",
       "    </tr>\n",
       "    <tr>\n",
       "      <th>2</th>\n",
       "      <td>819.929993</td>\n",
       "      <td>824.400024</td>\n",
       "      <td>818.979980</td>\n",
       "      <td>1281700</td>\n",
       "      <td>824.159973</td>\n",
       "    </tr>\n",
       "    <tr>\n",
       "      <th>3</th>\n",
       "      <td>819.359985</td>\n",
       "      <td>823.000000</td>\n",
       "      <td>818.469971</td>\n",
       "      <td>1304000</td>\n",
       "      <td>818.979980</td>\n",
       "    </tr>\n",
       "    <tr>\n",
       "      <th>4</th>\n",
       "      <td>819.000000</td>\n",
       "      <td>823.000000</td>\n",
       "      <td>816.000000</td>\n",
       "      <td>1053600</td>\n",
       "      <td>820.450012</td>\n",
       "    </tr>\n",
       "    <tr>\n",
       "      <th>...</th>\n",
       "      <td>...</td>\n",
       "      <td>...</td>\n",
       "      <td>...</td>\n",
       "      <td>...</td>\n",
       "      <td>...</td>\n",
       "    </tr>\n",
       "    <tr>\n",
       "      <th>727</th>\n",
       "      <td>599.992707</td>\n",
       "      <td>604.832763</td>\n",
       "      <td>562.192568</td>\n",
       "      <td>147100</td>\n",
       "      <td>567.002574</td>\n",
       "    </tr>\n",
       "    <tr>\n",
       "      <th>728</th>\n",
       "      <td>558.712504</td>\n",
       "      <td>568.452595</td>\n",
       "      <td>558.712504</td>\n",
       "      <td>7900</td>\n",
       "      <td>567.162558</td>\n",
       "    </tr>\n",
       "    <tr>\n",
       "      <th>729</th>\n",
       "      <td>566.892592</td>\n",
       "      <td>567.002574</td>\n",
       "      <td>556.932537</td>\n",
       "      <td>10800</td>\n",
       "      <td>556.972503</td>\n",
       "    </tr>\n",
       "    <tr>\n",
       "      <th>730</th>\n",
       "      <td>561.202549</td>\n",
       "      <td>566.432590</td>\n",
       "      <td>558.672539</td>\n",
       "      <td>41200</td>\n",
       "      <td>559.992565</td>\n",
       "    </tr>\n",
       "    <tr>\n",
       "      <th>731</th>\n",
       "      <td>568.002570</td>\n",
       "      <td>568.002570</td>\n",
       "      <td>552.922516</td>\n",
       "      <td>13100</td>\n",
       "      <td>558.462551</td>\n",
       "    </tr>\n",
       "  </tbody>\n",
       "</table>\n",
       "<p>732 rows × 5 columns</p>\n",
       "</div>"
      ],
      "text/plain": [
       "         # Open        High         Low   Volume       Close\n",
       "0    828.659973  833.450012  828.349976  1247700  831.659973\n",
       "1    823.020020  828.070007  821.655029  1597800  828.070007\n",
       "2    819.929993  824.400024  818.979980  1281700  824.159973\n",
       "3    819.359985  823.000000  818.469971  1304000  818.979980\n",
       "4    819.000000  823.000000  816.000000  1053600  820.450012\n",
       "..          ...         ...         ...      ...         ...\n",
       "727  599.992707  604.832763  562.192568   147100  567.002574\n",
       "728  558.712504  568.452595  558.712504     7900  567.162558\n",
       "729  566.892592  567.002574  556.932537    10800  556.972503\n",
       "730  561.202549  566.432590  558.672539    41200  559.992565\n",
       "731  568.002570  568.002570  552.922516    13100  558.462551\n",
       "\n",
       "[732 rows x 5 columns]"
      ]
     },
     "metadata": {},
     "output_type": "display_data"
    },
    {
     "data": {
      "text/plain": [
       "((507, 7, 5), (218, 7, 5), (507,), (218,))"
      ]
     },
     "execution_count": 6,
     "metadata": {},
     "output_type": "execute_result"
    }
   ],
   "source": [
    "import numpy as np\n",
    "import tensorflow  as tf\n",
    "import matplotlib.pyplot as plt\n",
    "import pandas as pd\n",
    "from sklearn.model_selection import train_test_split\n",
    "from sklearn.preprocessing import MinMaxScaler\n",
    "\n",
    "file_path = 'stock.csv'\n",
    "tf.random.set_seed(0)\n",
    "seq_length = 7 # train with 7days features for next day close price\n",
    "data_dim = 5 # 5 features\n",
    "\n",
    "\n",
    "df = pd.read_csv(file_path, header=1)\n",
    "display(df)\n",
    "values = df.values\n",
    "values = values[::-1]  # resverse because the data is fliped  \n",
    "\n",
    "scaler = MinMaxScaler() # normalize\n",
    "values_scaled = scaler.fit_transform(values)\n",
    "X = []\n",
    "y = []\n",
    "\n",
    "for i in range(0, len(values) - seq_length):\n",
    "    start, end = i, i+seq_length\n",
    "    X.append(values_scaled[start: end]) # 5 features data of 7 days for input\n",
    "    y.append(values_scaled[end, -1])    # 8th close price\n",
    "X = np.array(X)\n",
    "y = np.array(y)\n",
    "    \n",
    "X_train, X_test, y_train, y_test = train_test_split(X, y, test_size=0.3, shuffle=False, random_state=0)    \n",
    "X_train.shape, X_test.shape, y_train.shape, y_test.shape"
   ]
  },
  {
   "cell_type": "markdown",
   "metadata": {},
   "source": [
    "#### Model 정의"
   ]
  },
  {
   "cell_type": "code",
   "execution_count": 7,
   "metadata": {},
   "outputs": [
    {
     "name": "stdout",
     "output_type": "stream",
     "text": [
      "Model: \"sequential_2\"\n",
      "_________________________________________________________________\n",
      "Layer (type)                 Output Shape              Param #   \n",
      "=================================================================\n",
      "lstm (LSTM)                  (None, 50)                11200     \n",
      "_________________________________________________________________\n",
      "dropout (Dropout)            (None, 50)                0         \n",
      "_________________________________________________________________\n",
      "dense_2 (Dense)              (None, 1)                 51        \n",
      "=================================================================\n",
      "Total params: 11,251\n",
      "Trainable params: 11,251\n",
      "Non-trainable params: 0\n",
      "_________________________________________________________________\n"
     ]
    }
   ],
   "source": [
    "model = tf.keras.models.Sequential()\n",
    "model.add(tf.keras.layers.LSTM(50, input_shape=(seq_length, data_dim), return_sequences=False))\n",
    "model.add(tf.keras.layers.Dropout(0.3))\n",
    "model.add(tf.keras.layers.Dense(1))\n",
    "\n",
    "model.compile(loss='mse', optimizer='adam', metrics=['mae'])\n",
    "model.summary()"
   ]
  },
  {
   "cell_type": "markdown",
   "metadata": {},
   "source": [
    "#### Model Training"
   ]
  },
  {
   "cell_type": "code",
   "execution_count": 8,
   "metadata": {
    "scrolled": true
   },
   "outputs": [
    {
     "name": "stdout",
     "output_type": "stream",
     "text": [
      "(507, 7, 5) (507,)\n",
      "Epoch 1/200\n",
      "21/21 - 4s - loss: 0.0173 - mae: 0.0963 - val_loss: 0.0103 - val_mae: 0.0926\n",
      "Epoch 2/200\n",
      "21/21 - 0s - loss: 0.0056 - mae: 0.0545 - val_loss: 0.0039 - val_mae: 0.0524\n",
      "Epoch 3/200\n",
      "21/21 - 0s - loss: 0.0040 - mae: 0.0458 - val_loss: 0.0032 - val_mae: 0.0417\n",
      "Epoch 4/200\n",
      "21/21 - 0s - loss: 0.0034 - mae: 0.0415 - val_loss: 0.0027 - val_mae: 0.0397\n",
      "Epoch 5/200\n",
      "21/21 - 0s - loss: 0.0035 - mae: 0.0414 - val_loss: 0.0036 - val_mae: 0.0446\n",
      "Epoch 6/200\n",
      "21/21 - 0s - loss: 0.0034 - mae: 0.0422 - val_loss: 0.0051 - val_mae: 0.0559\n",
      "Epoch 7/200\n",
      "21/21 - 0s - loss: 0.0032 - mae: 0.0404 - val_loss: 0.0038 - val_mae: 0.0465\n",
      "Epoch 8/200\n",
      "21/21 - 0s - loss: 0.0031 - mae: 0.0391 - val_loss: 0.0026 - val_mae: 0.0385\n",
      "Epoch 9/200\n",
      "21/21 - 0s - loss: 0.0028 - mae: 0.0387 - val_loss: 0.0043 - val_mae: 0.0561\n",
      "Epoch 10/200\n",
      "21/21 - 0s - loss: 0.0032 - mae: 0.0394 - val_loss: 0.0041 - val_mae: 0.0483\n",
      "Epoch 11/200\n",
      "21/21 - 0s - loss: 0.0028 - mae: 0.0379 - val_loss: 0.0039 - val_mae: 0.0471\n",
      "Epoch 12/200\n",
      "21/21 - 0s - loss: 0.0026 - mae: 0.0359 - val_loss: 0.0039 - val_mae: 0.0471\n",
      "Epoch 13/200\n",
      "21/21 - 0s - loss: 0.0025 - mae: 0.0346 - val_loss: 0.0043 - val_mae: 0.0505\n",
      "Epoch 14/200\n",
      "21/21 - 0s - loss: 0.0028 - mae: 0.0387 - val_loss: 0.0034 - val_mae: 0.0438\n",
      "Epoch 15/200\n",
      "21/21 - 0s - loss: 0.0026 - mae: 0.0356 - val_loss: 0.0030 - val_mae: 0.0412\n",
      "Epoch 16/200\n",
      "21/21 - 0s - loss: 0.0025 - mae: 0.0352 - val_loss: 0.0024 - val_mae: 0.0372\n",
      "Epoch 17/200\n",
      "21/21 - 0s - loss: 0.0025 - mae: 0.0352 - val_loss: 0.0026 - val_mae: 0.0374\n",
      "Epoch 18/200\n",
      "21/21 - 0s - loss: 0.0023 - mae: 0.0343 - val_loss: 0.0032 - val_mae: 0.0428\n",
      "Epoch 19/200\n",
      "21/21 - 0s - loss: 0.0020 - mae: 0.0321 - val_loss: 0.0025 - val_mae: 0.0364\n",
      "Epoch 20/200\n",
      "21/21 - 0s - loss: 0.0023 - mae: 0.0331 - val_loss: 0.0028 - val_mae: 0.0393\n",
      "Epoch 21/200\n",
      "21/21 - 0s - loss: 0.0024 - mae: 0.0344 - val_loss: 0.0028 - val_mae: 0.0392\n",
      "Epoch 22/200\n",
      "21/21 - 0s - loss: 0.0024 - mae: 0.0342 - val_loss: 0.0021 - val_mae: 0.0338\n",
      "Epoch 23/200\n",
      "21/21 - 0s - loss: 0.0024 - mae: 0.0357 - val_loss: 0.0021 - val_mae: 0.0337\n",
      "Epoch 24/200\n",
      "21/21 - 0s - loss: 0.0022 - mae: 0.0334 - val_loss: 0.0020 - val_mae: 0.0320\n",
      "Epoch 25/200\n",
      "21/21 - 0s - loss: 0.0020 - mae: 0.0325 - val_loss: 0.0025 - val_mae: 0.0366\n",
      "Epoch 26/200\n",
      "21/21 - 0s - loss: 0.0017 - mae: 0.0298 - val_loss: 0.0023 - val_mae: 0.0383\n",
      "Epoch 27/200\n",
      "21/21 - 0s - loss: 0.0023 - mae: 0.0345 - val_loss: 0.0020 - val_mae: 0.0322\n",
      "Epoch 28/200\n",
      "21/21 - 0s - loss: 0.0021 - mae: 0.0328 - val_loss: 0.0036 - val_mae: 0.0463\n",
      "Epoch 29/200\n",
      "21/21 - 0s - loss: 0.0020 - mae: 0.0313 - val_loss: 0.0019 - val_mae: 0.0307\n",
      "Epoch 30/200\n",
      "21/21 - 0s - loss: 0.0019 - mae: 0.0321 - val_loss: 0.0026 - val_mae: 0.0414\n",
      "Epoch 31/200\n",
      "21/21 - 0s - loss: 0.0021 - mae: 0.0324 - val_loss: 0.0027 - val_mae: 0.0431\n",
      "Epoch 32/200\n",
      "21/21 - 0s - loss: 0.0021 - mae: 0.0327 - val_loss: 0.0020 - val_mae: 0.0321\n",
      "Epoch 33/200\n",
      "21/21 - 0s - loss: 0.0019 - mae: 0.0307 - val_loss: 0.0023 - val_mae: 0.0386\n",
      "Epoch 34/200\n",
      "21/21 - 0s - loss: 0.0019 - mae: 0.0308 - val_loss: 0.0018 - val_mae: 0.0301\n",
      "Epoch 35/200\n",
      "21/21 - 0s - loss: 0.0019 - mae: 0.0314 - val_loss: 0.0027 - val_mae: 0.0392\n",
      "Epoch 36/200\n",
      "21/21 - 0s - loss: 0.0016 - mae: 0.0290 - val_loss: 0.0022 - val_mae: 0.0345\n",
      "Epoch 37/200\n",
      "21/21 - 0s - loss: 0.0019 - mae: 0.0296 - val_loss: 0.0018 - val_mae: 0.0303\n",
      "Epoch 38/200\n",
      "21/21 - 0s - loss: 0.0017 - mae: 0.0291 - val_loss: 0.0017 - val_mae: 0.0298\n",
      "Epoch 39/200\n",
      "21/21 - 0s - loss: 0.0019 - mae: 0.0313 - val_loss: 0.0017 - val_mae: 0.0295\n",
      "Epoch 40/200\n",
      "21/21 - 0s - loss: 0.0019 - mae: 0.0309 - val_loss: 0.0025 - val_mae: 0.0376\n",
      "Epoch 41/200\n",
      "21/21 - 0s - loss: 0.0018 - mae: 0.0303 - val_loss: 0.0017 - val_mae: 0.0301\n",
      "Epoch 42/200\n",
      "21/21 - 0s - loss: 0.0018 - mae: 0.0298 - val_loss: 0.0018 - val_mae: 0.0317\n",
      "Epoch 43/200\n",
      "21/21 - 0s - loss: 0.0017 - mae: 0.0292 - val_loss: 0.0018 - val_mae: 0.0299\n",
      "Epoch 44/200\n",
      "21/21 - 0s - loss: 0.0018 - mae: 0.0303 - val_loss: 0.0024 - val_mae: 0.0364\n",
      "Epoch 45/200\n",
      "21/21 - 0s - loss: 0.0018 - mae: 0.0302 - val_loss: 0.0017 - val_mae: 0.0294\n",
      "Epoch 46/200\n",
      "21/21 - 0s - loss: 0.0019 - mae: 0.0300 - val_loss: 0.0017 - val_mae: 0.0291\n",
      "Epoch 47/200\n",
      "21/21 - 0s - loss: 0.0017 - mae: 0.0287 - val_loss: 0.0031 - val_mae: 0.0477\n",
      "Epoch 48/200\n",
      "21/21 - 0s - loss: 0.0018 - mae: 0.0295 - val_loss: 0.0017 - val_mae: 0.0302\n",
      "Epoch 49/200\n",
      "21/21 - 0s - loss: 0.0016 - mae: 0.0284 - val_loss: 0.0017 - val_mae: 0.0297\n",
      "Epoch 50/200\n",
      "21/21 - 0s - loss: 0.0017 - mae: 0.0286 - val_loss: 0.0017 - val_mae: 0.0290\n",
      "Epoch 51/200\n",
      "21/21 - 0s - loss: 0.0018 - mae: 0.0300 - val_loss: 0.0022 - val_mae: 0.0385\n",
      "Epoch 52/200\n",
      "21/21 - 0s - loss: 0.0015 - mae: 0.0278 - val_loss: 0.0017 - val_mae: 0.0294\n",
      "Epoch 53/200\n",
      "21/21 - 0s - loss: 0.0016 - mae: 0.0274 - val_loss: 0.0021 - val_mae: 0.0363\n",
      "Epoch 54/200\n",
      "21/21 - 0s - loss: 0.0015 - mae: 0.0277 - val_loss: 0.0016 - val_mae: 0.0288\n",
      "Epoch 55/200\n",
      "21/21 - 0s - loss: 0.0016 - mae: 0.0282 - val_loss: 0.0016 - val_mae: 0.0290\n",
      "Epoch 56/200\n",
      "21/21 - 0s - loss: 0.0018 - mae: 0.0288 - val_loss: 0.0022 - val_mae: 0.0359\n",
      "Epoch 57/200\n",
      "21/21 - 0s - loss: 0.0017 - mae: 0.0290 - val_loss: 0.0015 - val_mae: 0.0285\n",
      "Epoch 58/200\n",
      "21/21 - 0s - loss: 0.0014 - mae: 0.0262 - val_loss: 0.0016 - val_mae: 0.0290\n",
      "Epoch 59/200\n",
      "21/21 - 0s - loss: 0.0017 - mae: 0.0282 - val_loss: 0.0018 - val_mae: 0.0312\n",
      "Epoch 60/200\n",
      "21/21 - 0s - loss: 0.0016 - mae: 0.0267 - val_loss: 0.0020 - val_mae: 0.0340\n",
      "Epoch 61/200\n",
      "21/21 - 0s - loss: 0.0015 - mae: 0.0269 - val_loss: 0.0017 - val_mae: 0.0311\n",
      "Epoch 62/200\n",
      "21/21 - 0s - loss: 0.0016 - mae: 0.0280 - val_loss: 0.0019 - val_mae: 0.0321\n",
      "Epoch 63/200\n",
      "21/21 - 0s - loss: 0.0016 - mae: 0.0282 - val_loss: 0.0015 - val_mae: 0.0282\n",
      "Epoch 64/200\n",
      "21/21 - 0s - loss: 0.0015 - mae: 0.0264 - val_loss: 0.0017 - val_mae: 0.0317\n",
      "Epoch 65/200\n",
      "21/21 - 0s - loss: 0.0014 - mae: 0.0273 - val_loss: 0.0016 - val_mae: 0.0287\n",
      "Epoch 66/200\n",
      "21/21 - 0s - loss: 0.0016 - mae: 0.0285 - val_loss: 0.0015 - val_mae: 0.0285\n",
      "Epoch 67/200\n",
      "21/21 - 0s - loss: 0.0016 - mae: 0.0279 - val_loss: 0.0021 - val_mae: 0.0344\n",
      "Epoch 68/200\n",
      "21/21 - 0s - loss: 0.0014 - mae: 0.0263 - val_loss: 0.0022 - val_mae: 0.0354\n",
      "Epoch 69/200\n",
      "21/21 - 0s - loss: 0.0013 - mae: 0.0260 - val_loss: 0.0015 - val_mae: 0.0282\n",
      "Epoch 70/200\n",
      "21/21 - 0s - loss: 0.0013 - mae: 0.0257 - val_loss: 0.0015 - val_mae: 0.0283\n",
      "Epoch 71/200\n",
      "21/21 - 0s - loss: 0.0014 - mae: 0.0259 - val_loss: 0.0015 - val_mae: 0.0285\n",
      "Epoch 72/200\n",
      "21/21 - 0s - loss: 0.0013 - mae: 0.0256 - val_loss: 0.0015 - val_mae: 0.0283\n",
      "Epoch 73/200\n",
      "21/21 - 0s - loss: 0.0014 - mae: 0.0262 - val_loss: 0.0015 - val_mae: 0.0278\n",
      "Epoch 74/200\n",
      "21/21 - 0s - loss: 0.0014 - mae: 0.0254 - val_loss: 0.0016 - val_mae: 0.0295\n",
      "Epoch 75/200\n",
      "21/21 - 0s - loss: 0.0015 - mae: 0.0270 - val_loss: 0.0015 - val_mae: 0.0283\n",
      "Epoch 76/200\n",
      "21/21 - 0s - loss: 0.0015 - mae: 0.0265 - val_loss: 0.0017 - val_mae: 0.0309\n",
      "Epoch 77/200\n",
      "21/21 - 0s - loss: 0.0015 - mae: 0.0269 - val_loss: 0.0016 - val_mae: 0.0306\n",
      "Epoch 78/200\n",
      "21/21 - 0s - loss: 0.0014 - mae: 0.0251 - val_loss: 0.0014 - val_mae: 0.0274\n",
      "Epoch 79/200\n",
      "21/21 - 0s - loss: 0.0013 - mae: 0.0255 - val_loss: 0.0014 - val_mae: 0.0272\n",
      "Epoch 80/200\n",
      "21/21 - 0s - loss: 0.0015 - mae: 0.0262 - val_loss: 0.0015 - val_mae: 0.0284\n",
      "Epoch 81/200\n",
      "21/21 - 0s - loss: 0.0014 - mae: 0.0267 - val_loss: 0.0025 - val_mae: 0.0385\n",
      "Epoch 82/200\n",
      "21/21 - 0s - loss: 0.0014 - mae: 0.0268 - val_loss: 0.0015 - val_mae: 0.0285\n",
      "Epoch 83/200\n",
      "21/21 - 0s - loss: 0.0014 - mae: 0.0265 - val_loss: 0.0015 - val_mae: 0.0290\n",
      "Epoch 84/200\n",
      "21/21 - 0s - loss: 0.0014 - mae: 0.0267 - val_loss: 0.0014 - val_mae: 0.0276\n",
      "Epoch 85/200\n",
      "21/21 - 0s - loss: 0.0014 - mae: 0.0252 - val_loss: 0.0015 - val_mae: 0.0289\n",
      "Epoch 86/200\n",
      "21/21 - 0s - loss: 0.0013 - mae: 0.0243 - val_loss: 0.0015 - val_mae: 0.0281\n",
      "Epoch 87/200\n",
      "21/21 - 0s - loss: 0.0015 - mae: 0.0263 - val_loss: 0.0017 - val_mae: 0.0311\n",
      "Epoch 88/200\n",
      "21/21 - 0s - loss: 0.0014 - mae: 0.0262 - val_loss: 0.0020 - val_mae: 0.0341\n",
      "Epoch 89/200\n",
      "21/21 - 0s - loss: 0.0015 - mae: 0.0263 - val_loss: 0.0021 - val_mae: 0.0353\n",
      "Epoch 90/200\n",
      "21/21 - 0s - loss: 0.0012 - mae: 0.0242 - val_loss: 0.0014 - val_mae: 0.0276\n",
      "Epoch 91/200\n",
      "21/21 - 0s - loss: 0.0014 - mae: 0.0261 - val_loss: 0.0014 - val_mae: 0.0271\n"
     ]
    },
    {
     "name": "stdout",
     "output_type": "stream",
     "text": [
      "Epoch 92/200\n",
      "21/21 - 0s - loss: 0.0013 - mae: 0.0251 - val_loss: 0.0014 - val_mae: 0.0273\n",
      "Epoch 93/200\n",
      "21/21 - 0s - loss: 0.0014 - mae: 0.0261 - val_loss: 0.0014 - val_mae: 0.0283\n",
      "Epoch 94/200\n",
      "21/21 - 0s - loss: 0.0013 - mae: 0.0256 - val_loss: 0.0023 - val_mae: 0.0371\n",
      "Epoch 95/200\n",
      "21/21 - 0s - loss: 0.0012 - mae: 0.0254 - val_loss: 0.0016 - val_mae: 0.0309\n",
      "Epoch 96/200\n",
      "21/21 - 0s - loss: 0.0016 - mae: 0.0267 - val_loss: 0.0014 - val_mae: 0.0274\n",
      "Epoch 97/200\n",
      "21/21 - 0s - loss: 0.0015 - mae: 0.0264 - val_loss: 0.0016 - val_mae: 0.0307\n",
      "Epoch 98/200\n",
      "21/21 - 0s - loss: 0.0014 - mae: 0.0254 - val_loss: 0.0013 - val_mae: 0.0268\n",
      "Epoch 99/200\n",
      "21/21 - 0s - loss: 0.0014 - mae: 0.0257 - val_loss: 0.0018 - val_mae: 0.0318\n",
      "Epoch 100/200\n",
      "21/21 - 0s - loss: 0.0014 - mae: 0.0258 - val_loss: 0.0018 - val_mae: 0.0320\n",
      "Epoch 101/200\n",
      "21/21 - 0s - loss: 0.0013 - mae: 0.0241 - val_loss: 0.0013 - val_mae: 0.0266\n",
      "Epoch 102/200\n",
      "21/21 - 0s - loss: 0.0014 - mae: 0.0252 - val_loss: 0.0019 - val_mae: 0.0357\n",
      "Epoch 103/200\n",
      "21/21 - 0s - loss: 0.0014 - mae: 0.0256 - val_loss: 0.0013 - val_mae: 0.0264\n",
      "Epoch 104/200\n",
      "21/21 - 0s - loss: 0.0013 - mae: 0.0250 - val_loss: 0.0014 - val_mae: 0.0286\n",
      "Epoch 105/200\n",
      "21/21 - 0s - loss: 0.0014 - mae: 0.0259 - val_loss: 0.0015 - val_mae: 0.0310\n",
      "Epoch 106/200\n",
      "21/21 - 0s - loss: 0.0014 - mae: 0.0246 - val_loss: 0.0016 - val_mae: 0.0322\n",
      "Epoch 107/200\n",
      "21/21 - 0s - loss: 0.0014 - mae: 0.0245 - val_loss: 0.0013 - val_mae: 0.0272\n",
      "Epoch 108/200\n",
      "21/21 - 0s - loss: 0.0013 - mae: 0.0247 - val_loss: 0.0013 - val_mae: 0.0276\n",
      "Epoch 109/200\n",
      "21/21 - 0s - loss: 0.0015 - mae: 0.0263 - val_loss: 0.0013 - val_mae: 0.0266\n",
      "Epoch 110/200\n",
      "21/21 - 0s - loss: 0.0014 - mae: 0.0248 - val_loss: 0.0013 - val_mae: 0.0268\n",
      "Epoch 111/200\n",
      "21/21 - 0s - loss: 0.0014 - mae: 0.0245 - val_loss: 0.0017 - val_mae: 0.0311\n",
      "Epoch 112/200\n",
      "21/21 - 0s - loss: 0.0012 - mae: 0.0241 - val_loss: 0.0013 - val_mae: 0.0267\n",
      "Epoch 113/200\n",
      "21/21 - 0s - loss: 0.0014 - mae: 0.0247 - val_loss: 0.0012 - val_mae: 0.0264\n",
      "Epoch 114/200\n",
      "21/21 - 0s - loss: 0.0013 - mae: 0.0240 - val_loss: 0.0028 - val_mae: 0.0424\n",
      "Epoch 115/200\n",
      "21/21 - 0s - loss: 0.0012 - mae: 0.0245 - val_loss: 0.0022 - val_mae: 0.0369\n",
      "Epoch 116/200\n",
      "21/21 - 0s - loss: 0.0014 - mae: 0.0248 - val_loss: 0.0012 - val_mae: 0.0262\n",
      "Epoch 117/200\n",
      "21/21 - 0s - loss: 0.0011 - mae: 0.0223 - val_loss: 0.0015 - val_mae: 0.0291\n",
      "Epoch 118/200\n",
      "21/21 - 0s - loss: 0.0013 - mae: 0.0250 - val_loss: 0.0026 - val_mae: 0.0403\n",
      "Epoch 119/200\n",
      "21/21 - 0s - loss: 0.0013 - mae: 0.0247 - val_loss: 0.0018 - val_mae: 0.0327\n",
      "Epoch 120/200\n",
      "21/21 - 0s - loss: 0.0013 - mae: 0.0239 - val_loss: 0.0019 - val_mae: 0.0336\n",
      "Epoch 121/200\n",
      "21/21 - 0s - loss: 0.0013 - mae: 0.0244 - val_loss: 0.0018 - val_mae: 0.0327\n",
      "Epoch 122/200\n",
      "21/21 - 0s - loss: 0.0012 - mae: 0.0245 - val_loss: 0.0012 - val_mae: 0.0263\n",
      "Epoch 123/200\n",
      "21/21 - 0s - loss: 0.0012 - mae: 0.0231 - val_loss: 0.0012 - val_mae: 0.0262\n",
      "Epoch 124/200\n",
      "21/21 - 0s - loss: 0.0012 - mae: 0.0240 - val_loss: 0.0012 - val_mae: 0.0266\n",
      "Epoch 125/200\n",
      "21/21 - 0s - loss: 0.0013 - mae: 0.0249 - val_loss: 0.0013 - val_mae: 0.0272\n",
      "Epoch 126/200\n",
      "21/21 - 0s - loss: 0.0012 - mae: 0.0239 - val_loss: 0.0017 - val_mae: 0.0311\n",
      "Epoch 127/200\n",
      "21/21 - 0s - loss: 0.0012 - mae: 0.0241 - val_loss: 0.0022 - val_mae: 0.0370\n",
      "Epoch 128/200\n",
      "21/21 - 0s - loss: 0.0012 - mae: 0.0239 - val_loss: 0.0012 - val_mae: 0.0263\n",
      "Epoch 129/200\n",
      "21/21 - 0s - loss: 0.0013 - mae: 0.0240 - val_loss: 0.0015 - val_mae: 0.0297\n",
      "Epoch 130/200\n",
      "21/21 - 0s - loss: 0.0012 - mae: 0.0242 - val_loss: 0.0012 - val_mae: 0.0264\n",
      "Epoch 131/200\n",
      "21/21 - 0s - loss: 0.0012 - mae: 0.0240 - val_loss: 0.0012 - val_mae: 0.0265\n",
      "Epoch 132/200\n",
      "21/21 - 0s - loss: 0.0012 - mae: 0.0235 - val_loss: 0.0013 - val_mae: 0.0278\n",
      "Epoch 133/200\n",
      "21/21 - 0s - loss: 0.0011 - mae: 0.0233 - val_loss: 0.0016 - val_mae: 0.0304\n",
      "Epoch 134/200\n",
      "21/21 - 0s - loss: 0.0012 - mae: 0.0245 - val_loss: 0.0018 - val_mae: 0.0351\n",
      "Epoch 135/200\n",
      "21/21 - 0s - loss: 0.0014 - mae: 0.0255 - val_loss: 0.0013 - val_mae: 0.0279\n",
      "Epoch 136/200\n",
      "21/21 - 0s - loss: 0.0011 - mae: 0.0232 - val_loss: 0.0016 - val_mae: 0.0312\n",
      "Epoch 137/200\n",
      "21/21 - 0s - loss: 0.0011 - mae: 0.0231 - val_loss: 0.0015 - val_mae: 0.0295\n",
      "Epoch 138/200\n",
      "21/21 - 0s - loss: 0.0013 - mae: 0.0248 - val_loss: 0.0012 - val_mae: 0.0262\n",
      "Epoch 139/200\n",
      "21/21 - 0s - loss: 0.0012 - mae: 0.0239 - val_loss: 0.0012 - val_mae: 0.0260\n",
      "Epoch 140/200\n",
      "21/21 - 0s - loss: 0.0011 - mae: 0.0230 - val_loss: 0.0020 - val_mae: 0.0345\n",
      "Epoch 141/200\n",
      "21/21 - 0s - loss: 0.0011 - mae: 0.0227 - val_loss: 0.0013 - val_mae: 0.0278\n",
      "Epoch 142/200\n",
      "21/21 - 0s - loss: 0.0011 - mae: 0.0230 - val_loss: 0.0012 - val_mae: 0.0262\n",
      "Epoch 143/200\n",
      "21/21 - 0s - loss: 0.0011 - mae: 0.0227 - val_loss: 0.0012 - val_mae: 0.0261\n",
      "Epoch 144/200\n",
      "21/21 - 0s - loss: 0.0011 - mae: 0.0221 - val_loss: 0.0018 - val_mae: 0.0332\n",
      "Epoch 145/200\n",
      "21/21 - 0s - loss: 0.0012 - mae: 0.0236 - val_loss: 0.0014 - val_mae: 0.0282\n",
      "Epoch 146/200\n",
      "21/21 - 0s - loss: 0.0011 - mae: 0.0231 - val_loss: 0.0012 - val_mae: 0.0259\n",
      "Epoch 147/200\n",
      "21/21 - 0s - loss: 0.0012 - mae: 0.0235 - val_loss: 0.0013 - val_mae: 0.0278\n",
      "Epoch 148/200\n",
      "21/21 - 0s - loss: 9.8897e-04 - mae: 0.0218 - val_loss: 0.0016 - val_mae: 0.0312\n",
      "Epoch 149/200\n",
      "21/21 - 0s - loss: 0.0012 - mae: 0.0230 - val_loss: 0.0013 - val_mae: 0.0277\n",
      "Epoch 150/200\n",
      "21/21 - 0s - loss: 0.0012 - mae: 0.0235 - val_loss: 0.0013 - val_mae: 0.0282\n",
      "Epoch 151/200\n",
      "21/21 - 0s - loss: 0.0012 - mae: 0.0224 - val_loss: 0.0024 - val_mae: 0.0389\n",
      "Epoch 152/200\n",
      "21/21 - 0s - loss: 0.0012 - mae: 0.0236 - val_loss: 0.0013 - val_mae: 0.0280\n",
      "Epoch 153/200\n",
      "21/21 - 0s - loss: 0.0013 - mae: 0.0246 - val_loss: 0.0013 - val_mae: 0.0277\n",
      "Epoch 154/200\n",
      "21/21 - 0s - loss: 0.0010 - mae: 0.0221 - val_loss: 0.0012 - val_mae: 0.0261\n",
      "Epoch 155/200\n",
      "21/21 - 0s - loss: 0.0013 - mae: 0.0237 - val_loss: 0.0015 - val_mae: 0.0297\n",
      "Epoch 156/200\n",
      "21/21 - 0s - loss: 0.0013 - mae: 0.0238 - val_loss: 0.0014 - val_mae: 0.0286\n",
      "Epoch 157/200\n",
      "21/21 - 0s - loss: 0.0011 - mae: 0.0220 - val_loss: 0.0012 - val_mae: 0.0263\n",
      "Epoch 158/200\n",
      "21/21 - 0s - loss: 0.0012 - mae: 0.0237 - val_loss: 0.0011 - val_mae: 0.0253\n",
      "Epoch 159/200\n",
      "21/21 - 0s - loss: 0.0013 - mae: 0.0247 - val_loss: 0.0027 - val_mae: 0.0417\n",
      "Epoch 160/200\n",
      "21/21 - 0s - loss: 0.0013 - mae: 0.0236 - val_loss: 0.0011 - val_mae: 0.0255\n",
      "Epoch 161/200\n",
      "21/21 - 0s - loss: 0.0013 - mae: 0.0236 - val_loss: 0.0012 - val_mae: 0.0257\n",
      "Epoch 162/200\n",
      "21/21 - 0s - loss: 0.0011 - mae: 0.0229 - val_loss: 0.0012 - val_mae: 0.0265\n",
      "Epoch 163/200\n",
      "21/21 - 0s - loss: 0.0012 - mae: 0.0235 - val_loss: 0.0011 - val_mae: 0.0256\n",
      "Epoch 164/200\n",
      "21/21 - 0s - loss: 0.0011 - mae: 0.0222 - val_loss: 0.0011 - val_mae: 0.0252\n",
      "Epoch 165/200\n",
      "21/21 - 0s - loss: 0.0012 - mae: 0.0243 - val_loss: 0.0013 - val_mae: 0.0282\n",
      "Epoch 166/200\n",
      "21/21 - 0s - loss: 0.0011 - mae: 0.0231 - val_loss: 0.0012 - val_mae: 0.0261\n",
      "Epoch 167/200\n",
      "21/21 - 0s - loss: 0.0011 - mae: 0.0224 - val_loss: 0.0011 - val_mae: 0.0252\n",
      "Epoch 168/200\n",
      "21/21 - 0s - loss: 0.0012 - mae: 0.0237 - val_loss: 0.0013 - val_mae: 0.0289\n",
      "Epoch 169/200\n",
      "21/21 - 0s - loss: 0.0012 - mae: 0.0238 - val_loss: 0.0012 - val_mae: 0.0272\n",
      "Epoch 170/200\n",
      "21/21 - 0s - loss: 0.0012 - mae: 0.0238 - val_loss: 0.0014 - val_mae: 0.0302\n",
      "Epoch 171/200\n",
      "21/21 - 0s - loss: 0.0012 - mae: 0.0239 - val_loss: 0.0012 - val_mae: 0.0266\n",
      "Epoch 172/200\n",
      "21/21 - 0s - loss: 0.0011 - mae: 0.0224 - val_loss: 0.0017 - val_mae: 0.0323\n",
      "Epoch 173/200\n",
      "21/21 - 0s - loss: 0.0012 - mae: 0.0238 - val_loss: 0.0012 - val_mae: 0.0269\n",
      "Epoch 174/200\n",
      "21/21 - 0s - loss: 0.0011 - mae: 0.0227 - val_loss: 0.0011 - val_mae: 0.0260\n",
      "Epoch 175/200\n",
      "21/21 - 0s - loss: 0.0010 - mae: 0.0219 - val_loss: 0.0011 - val_mae: 0.0260\n",
      "Epoch 176/200\n",
      "21/21 - 0s - loss: 0.0012 - mae: 0.0236 - val_loss: 0.0011 - val_mae: 0.0254\n",
      "Epoch 177/200\n",
      "21/21 - 0s - loss: 0.0012 - mae: 0.0235 - val_loss: 0.0011 - val_mae: 0.0255\n",
      "Epoch 178/200\n",
      "21/21 - 0s - loss: 0.0011 - mae: 0.0228 - val_loss: 0.0012 - val_mae: 0.0269\n",
      "Epoch 179/200\n",
      "21/21 - 0s - loss: 0.0012 - mae: 0.0232 - val_loss: 0.0011 - val_mae: 0.0255\n",
      "Epoch 180/200\n",
      "21/21 - 0s - loss: 0.0011 - mae: 0.0223 - val_loss: 0.0014 - val_mae: 0.0290\n",
      "Epoch 181/200\n",
      "21/21 - 0s - loss: 0.0012 - mae: 0.0231 - val_loss: 0.0012 - val_mae: 0.0263\n",
      "Epoch 182/200\n",
      "21/21 - 0s - loss: 0.0011 - mae: 0.0225 - val_loss: 0.0012 - val_mae: 0.0271\n"
     ]
    },
    {
     "name": "stdout",
     "output_type": "stream",
     "text": [
      "Epoch 183/200\n",
      "21/21 - 0s - loss: 0.0011 - mae: 0.0231 - val_loss: 0.0011 - val_mae: 0.0257\n",
      "Epoch 184/200\n",
      "21/21 - 0s - loss: 0.0012 - mae: 0.0232 - val_loss: 0.0013 - val_mae: 0.0282\n",
      "Epoch 185/200\n",
      "21/21 - 0s - loss: 0.0011 - mae: 0.0231 - val_loss: 0.0014 - val_mae: 0.0287\n",
      "Epoch 186/200\n",
      "21/21 - 0s - loss: 0.0011 - mae: 0.0229 - val_loss: 0.0012 - val_mae: 0.0270\n",
      "Epoch 187/200\n",
      "21/21 - 0s - loss: 0.0011 - mae: 0.0224 - val_loss: 0.0011 - val_mae: 0.0260\n",
      "Epoch 188/200\n",
      "21/21 - 0s - loss: 0.0011 - mae: 0.0234 - val_loss: 0.0013 - val_mae: 0.0281\n",
      "Epoch 189/200\n",
      "21/21 - 0s - loss: 0.0011 - mae: 0.0225 - val_loss: 0.0011 - val_mae: 0.0263\n",
      "Epoch 190/200\n",
      "21/21 - 0s - loss: 0.0012 - mae: 0.0229 - val_loss: 0.0011 - val_mae: 0.0257\n",
      "Epoch 191/200\n",
      "21/21 - 0s - loss: 0.0011 - mae: 0.0227 - val_loss: 0.0020 - val_mae: 0.0351\n",
      "Epoch 192/200\n",
      "21/21 - 0s - loss: 0.0012 - mae: 0.0228 - val_loss: 0.0018 - val_mae: 0.0336\n",
      "Epoch 193/200\n",
      "21/21 - 0s - loss: 0.0010 - mae: 0.0220 - val_loss: 0.0011 - val_mae: 0.0257\n",
      "Epoch 194/200\n",
      "21/21 - 0s - loss: 0.0012 - mae: 0.0233 - val_loss: 0.0011 - val_mae: 0.0257\n",
      "Epoch 195/200\n",
      "21/21 - 0s - loss: 0.0010 - mae: 0.0215 - val_loss: 0.0012 - val_mae: 0.0268\n",
      "Epoch 196/200\n",
      "21/21 - 0s - loss: 0.0011 - mae: 0.0214 - val_loss: 0.0013 - val_mae: 0.0284\n",
      "Epoch 197/200\n",
      "21/21 - 0s - loss: 0.0010 - mae: 0.0218 - val_loss: 0.0011 - val_mae: 0.0259\n",
      "Epoch 198/200\n",
      "21/21 - 0s - loss: 0.0012 - mae: 0.0235 - val_loss: 0.0012 - val_mae: 0.0271\n",
      "Epoch 199/200\n",
      "21/21 - 0s - loss: 0.0011 - mae: 0.0229 - val_loss: 0.0011 - val_mae: 0.0259\n",
      "Epoch 200/200\n",
      "21/21 - 0s - loss: 0.0012 - mae: 0.0235 - val_loss: 0.0011 - val_mae: 0.0259\n"
     ]
    }
   ],
   "source": [
    "print(X_train.shape, y_train.shape)\n",
    "history = model.fit(X_train, y_train\n",
    "                    , epochs=200, batch_size=20\n",
    "                    , validation_split=0.2, verbose=2)"
   ]
  },
  {
   "cell_type": "markdown",
   "metadata": {},
   "source": [
    "#### 훈련 결과 시각화"
   ]
  },
  {
   "cell_type": "code",
   "execution_count": 9,
   "metadata": {
    "scrolled": false
   },
   "outputs": [
    {
     "name": "stdout",
     "output_type": "stream",
     "text": [
      "dict_keys(['loss', 'mae', 'val_loss', 'val_mae'])\n"
     ]
    },
    {
     "data": {
      "text/plain": [
       "<matplotlib.legend.Legend at 0x29f6c20ac40>"
      ]
     },
     "execution_count": 9,
     "metadata": {},
     "output_type": "execute_result"
    },
    {
     "data": {
      "image/png": "[encoded data removed]",
      "text/plain": [
       "<Figure size 1500x500 with 2 Axes>"
      ]
     },
     "metadata": {},
     "output_type": "display_data"
    }
   ],
   "source": [
    "print(history.history.keys())\n",
    "\n",
    "mae = history.history['mae']\n",
    "val_mae = history.history['val_mae']\n",
    "loss = history.history['loss']\n",
    "val_loss = history.history['val_loss']\n",
    "\n",
    "epochs = range(1, len(loss) + 1)\n",
    "\n",
    "plt.figure(figsize=(15,5))\n",
    "plt.subplot(1,2,1)\n",
    "plt.plot(epochs, loss,  label='Training loss')\n",
    "plt.plot(epochs, val_loss,  label='Validation loss')\n",
    "plt.title('Training and validation loss')\n",
    "plt.legend()\n",
    "\n",
    "plt.subplot(1,2,2)\n",
    "plt.plot(epochs, mae,  label='Training MAE')\n",
    "plt.plot(epochs, val_mae,  label='Validation MAE')\n",
    "plt.title('Training and validation MAE')\n",
    "plt.legend()"
   ]
  },
  {
   "cell_type": "markdown",
   "metadata": {},
   "source": [
    "#### Train Data 결과 예측 비교"
   ]
  },
  {
   "cell_type": "code",
   "execution_count": 10,
   "metadata": {},
   "outputs": [
    {
     "data": {
      "text/plain": [
       "<matplotlib.legend.Legend at 0x29f6c9a37f0>"
      ]
     },
     "execution_count": 10,
     "metadata": {},
     "output_type": "execute_result"
    },
    {
     "data": {
      "image/png": "[encoded data removed]",
      "text/plain": [
       "<Figure size 640x480 with 1 Axes>"
      ]
     },
     "metadata": {},
     "output_type": "display_data"
    }
   ],
   "source": [
    "trainPredict = model.predict(X_train)\n",
    "\n",
    "plt.plot(y_train, label=\"train real\")\n",
    "plt.plot(trainPredict, label=\"train predicted\")\n",
    "plt.title('Train data prediction')\n",
    "plt.legend()"
   ]
  },
  {
   "cell_type": "markdown",
   "metadata": {},
   "source": [
    "#### Test Data 결과 예측 비교"
   ]
  },
  {
   "cell_type": "code",
   "execution_count": 11,
   "metadata": {},
   "outputs": [
    {
     "data": {
      "text/plain": [
       "Text(0.5, 1.0, 'Test data prediction')"
      ]
     },
     "execution_count": 11,
     "metadata": {},
     "output_type": "execute_result"
    },
    {
     "data": {
      "image/png": "[encoded data removed]",
      "text/plain": [
       "<Figure size 640x480 with 1 Axes>"
      ]
     },
     "metadata": {},
     "output_type": "display_data"
    }
   ],
   "source": [
    "testPredict = model.predict(X_test)\n",
    "\n",
    "plt.plot(y_test, label=\"test real\")\n",
    "plt.plot(testPredict, label=\"test predicted\")\n",
    "plt.legend()\n",
    "plt.title('Test data prediction')"
   ]
  },
  {
   "cell_type": "markdown",
   "metadata": {},
   "source": [
    "#### 평가"
   ]
  },
  {
   "cell_type": "code",
   "execution_count": 12,
   "metadata": {},
   "outputs": [
    {
     "name": "stdout",
     "output_type": "stream",
     "text": [
      "7/7 [==============================] - 0s 5ms/step - loss: 5.6750e-04 - mae: 0.0175\n"
     ]
    },
    {
     "data": {
      "text/plain": [
       "[0.0005675049033015966, 0.01748947985470295]"
      ]
     },
     "execution_count": 12,
     "metadata": {},
     "output_type": "execute_result"
    }
   ],
   "source": [
    "model.evaluate(X_test, y_test)"
   ]
  },
  {
   "cell_type": "code",
   "execution_count": 13,
   "metadata": {},
   "outputs": [
    {
     "name": "stdout",
     "output_type": "stream",
     "text": [
      "[[0.71712726]] 0.7301802147545013\n"
     ]
    },
    {
     "data": {
      "text/plain": [
       "array([743.090027  , 738.61132783])"
      ]
     },
     "execution_count": 13,
     "metadata": {},
     "output_type": "execute_result"
    }
   ],
   "source": [
    "pred = model.predict(X_test[0:1])\n",
    "print(pred, y_test[0])\n",
    "\n",
    "# 역 스케일링\n",
    "scaled = np.zeros((2,5))\n",
    "scaled[0,-1] = y_test[0]\n",
    "scaled[1,-1] = pred\n",
    "scaler.inverse_transform(scaled)[:, -1]"
   ]
  },
  {
   "cell_type": "markdown",
   "metadata": {},
   "source": [
    "### Text 데이타 실습, One-hot Encoding\n"
   ]
  },
  {
   "cell_type": "markdown",
   "metadata": {},
   "source": [
    "#### 입출력 데이타 준비"
   ]
  },
  {
   "cell_type": "code",
   "execution_count": 14,
   "metadata": {
    "scrolled": true
   },
   "outputs": [
    {
     "name": "stdout",
     "output_type": "stream",
     "text": [
      "sentence:hihello\n",
      "char2idx:{'o': 0, 'i': 1, 'l': 2, 'h': 3, 'e': 4}, idx2char:{0: 'o', 1: 'i', 2: 'l', 3: 'h', 4: 'e'}\n",
      "x:hihell, y:ihello\n",
      "x_idx:[3, 1, 3, 4, 2, 2], y_idx:[1, 3, 4, 2, 2, 0]\n",
      "x_enc: [[[0. 0. 0. 1. 0.]\n",
      "  [0. 1. 0. 0. 0.]\n",
      "  [0. 0. 0. 1. 0.]\n",
      "  [0. 0. 0. 0. 1.]\n",
      "  [0. 0. 1. 0. 0.]\n",
      "  [0. 0. 1. 0. 0.]]] (1, 6, 5)\n",
      "y_enc: [[[0. 1. 0. 0. 0.]\n",
      "  [0. 0. 0. 1. 0.]\n",
      "  [0. 0. 0. 0. 1.]\n",
      "  [0. 0. 1. 0. 0.]\n",
      "  [0. 0. 1. 0. 0.]\n",
      "  [1. 0. 0. 0. 0.]]] (1, 6, 5)\n"
     ]
    }
   ],
   "source": [
    "import tensorflow as tf\n",
    "import numpy as np\n",
    "\n",
    "sentence = \"hihello\"\n",
    "\n",
    "voca = set(sentence) #unique charters\n",
    "char2idx = {c:i for i,c in enumerate(voca)}\n",
    "idx2char = {i:c for i, c in enumerate(voca)}\n",
    "print(f'sentence:{sentence}')\n",
    "print(f'char2idx:{char2idx}, idx2char:{idx2char}')\n",
    "\n",
    "x = sentence[:-1] #\"hihell\"\n",
    "y = sentence[1:] #\"ihello\"\n",
    "print(f'x:{x}, y:{y}')\n",
    "\n",
    "n_class = len(voca)  #example size\n",
    "n_time_steps = len(x) #input sequence\n",
    "hidden_size = n_class #output size\n",
    "\n",
    "''' convert char to integer '''\n",
    "x_idx = [char2idx[c] for c in x]\n",
    "y_idx = [char2idx[c] for c in y]\n",
    "print(f\"x_idx:{x_idx}, y_idx:{y_idx}\")\n",
    "\n",
    "''' one-hot encoding'''\n",
    "x_enc =tf.keras.utils.to_categorical(x_idx, num_classes=n_class)\n",
    "x_enc = np.expand_dims(x_enc, axis=0)\n",
    "\n",
    "y_enc = tf.keras.utils.to_categorical(y_idx, num_classes=n_class)\n",
    "y_enc = np.expand_dims(y_enc, axis=0)\n",
    "print(\"x_enc:\", x_enc, x_enc.shape, )\n",
    "print(\"y_enc:\", y_enc, y_enc.shape)"
   ]
  },
  {
   "cell_type": "markdown",
   "metadata": {},
   "source": [
    "#### LSTM을 이용한 모델 학습"
   ]
  },
  {
   "cell_type": "code",
   "execution_count": 15,
   "metadata": {},
   "outputs": [
    {
     "name": "stdout",
     "output_type": "stream",
     "text": [
      "Model: \"sequential_3\"\n",
      "_________________________________________________________________\n",
      "Layer (type)                 Output Shape              Param #   \n",
      "=================================================================\n",
      "lstm_1 (LSTM)                (None, 6, 5)              220       \n",
      "_________________________________________________________________\n",
      "dense_3 (Dense)              (None, 6, 5)              30        \n",
      "_________________________________________________________________\n",
      "activation (Activation)      (None, 6, 5)              0         \n",
      "=================================================================\n",
      "Total params: 250\n",
      "Trainable params: 250\n",
      "Non-trainable params: 0\n",
      "_________________________________________________________________\n",
      "[[[0.03063688 0.77372235 0.01328815 0.14027303 0.04207947]\n",
      "  [0.01305695 0.10877884 0.01658397 0.6468197  0.2147605 ]\n",
      "  [0.00880179 0.02236146 0.02423027 0.19781165 0.7467949 ]\n",
      "  [0.00563361 0.00207456 0.9558885  0.01394119 0.02246212]\n",
      "  [0.08145859 0.00246691 0.9073762  0.00211717 0.00658111]\n",
      "  [0.86167306 0.02725603 0.09180399 0.00514161 0.01412535]]] [1 3 4 2 2 0]\n",
      "['i', 'h', 'e', 'l', 'l', 'o']\n"
     ]
    }
   ],
   "source": [
    "model = tf.keras.Sequential()\n",
    "model.add(tf.keras.layers.LSTM(hidden_size, input_shape=(n_time_steps, n_class), return_sequences=True))\n",
    "model.add(tf.keras.layers.Dense(hidden_size))\n",
    "model.add(tf.keras.layers.Activation('softmax'))\n",
    "model.summary()\n",
    "\n",
    "model.compile(optimizer='adam', loss='sparse_categorical_crossentropy')\n",
    "\n",
    "n_epochs = 1000\n",
    "history = model.fit(x_enc, np.reshape(y_idx, (1,6,1)), epochs=n_epochs, verbose=0)\n",
    "\n",
    "preds = model.predict(x_enc)\n",
    "print(preds, np.squeeze(np.argmax(preds, axis=2)))\n",
    "print([idx2char[i] for i in np.squeeze(np.argmax(preds, axis=2))])"
   ]
  },
  {
   "cell_type": "markdown",
   "metadata": {},
   "source": [
    "### Keras Embedding Layer 실습\n",
    "* 긍정/부정 어휘 분류"
   ]
  },
  {
   "cell_type": "code",
   "execution_count": 16,
   "metadata": {},
   "outputs": [
    {
     "name": "stdout",
     "output_type": "stream",
     "text": [
      "vocab_size : 15\n",
      "integer encoded: [[2, 3, 1, 4], [5, 6], [7, 8], [9, 10], [11, 12], [13], [14, 1]]\n",
      "max_len: 4\n",
      "padded : [[ 2  3  1  4]\n",
      " [ 5  6  0  0]\n",
      " [ 7  8  0  0]\n",
      " [ 9 10  0  0]\n",
      " [11 12  0  0]\n",
      " [13  0  0  0]\n",
      " [14  1  0  0]]\n",
      "embedding init : [[[-0.03387579  0.00945093]\n",
      "  [ 0.04958024  0.01129835]\n",
      "  [ 0.04722684 -0.04867446]\n",
      "  [-0.03366282  0.03631841]]\n",
      "\n",
      " [[-0.03906244  0.03781896]\n",
      "  [ 0.02580542 -0.03085631]\n",
      "  [-0.04468893 -0.03107666]\n",
      "  [-0.04468893 -0.03107666]]\n",
      "\n",
      " [[-0.00226939  0.03006324]\n",
      "  [-0.02015979 -0.01573056]\n",
      "  [-0.04468893 -0.03107666]\n",
      "  [-0.04468893 -0.03107666]]]\n",
      "Model: \"sequential_4\"\n",
      "_________________________________________________________________\n",
      "Layer (type)                 Output Shape              Param #   \n",
      "=================================================================\n",
      "embedding (Embedding)        (None, 4, 2)              30        \n",
      "_________________________________________________________________\n",
      "flatten (Flatten)            (None, 8)                 0         \n",
      "_________________________________________________________________\n",
      "dense_4 (Dense)              (None, 1)                 9         \n",
      "=================================================================\n",
      "Total params: 39\n",
      "Trainable params: 39\n",
      "Non-trainable params: 0\n",
      "_________________________________________________________________\n",
      "embedding last : [[[ 0.35008687  0.37933207]\n",
      "  [ 0.41882074 -0.553628  ]\n",
      "  [ 0.6413329  -0.58399236]\n",
      "  [ 0.33257344 -0.3134184 ]]\n",
      "\n",
      " [[-0.48746634 -0.3950432 ]\n",
      "  [-0.40635216  0.5981489 ]\n",
      "  [-0.45409068  0.23030303]\n",
      "  [-0.45409068  0.23030303]]\n",
      "\n",
      " [[-0.4489047  -0.40104678]\n",
      "  [-0.45056573  0.6117341 ]\n",
      "  [-0.45409068  0.23030303]\n",
      "  [-0.45409068  0.23030303]]]\n"
     ]
    }
   ],
   "source": [
    "import tensorflow as tf\n",
    "\n",
    "corpus = ['very good nice quality', \n",
    "             'stop lies',\n",
    "             'ugly terrible', \n",
    "             'excellent work', \n",
    "             'adorable lovely', \n",
    "             'bad',\n",
    "             'greate nice']\n",
    "\n",
    "y_train = [1, 0, 0, 1, 1, 0, 1] #1 :pos, 0 : neg\n",
    "\n",
    "t = tf.keras.preprocessing.text.Tokenizer()\n",
    "t.fit_on_texts(corpus)\n",
    "vocab_size = len(t.word_index) + 1\n",
    "\n",
    "print(f'vocab_size : {vocab_size}')\n",
    "\n",
    "X_encoded = t.texts_to_sequences(corpus) # 문장을 단어의 인덱스 벡터로 변환\n",
    "print(f'integer encoded: {X_encoded}')\n",
    "\n",
    "max_len=max(len(l) for l in X_encoded)\n",
    "print(f'max_len: {max_len}')\n",
    "\n",
    "X_train = tf.keras.preprocessing.sequence.pad_sequences(X_encoded, maxlen=max_len, padding='post')\n",
    "y_train=np.array(y_train)\n",
    "print(f'padded : {X_train}')\n",
    "\n",
    "embd = tf.keras.layers.Embedding(vocab_size, 2, input_length=max_len)\n",
    "print(f'embedding init : {embd(X_train)[:3]}')\n",
    "\n",
    "model = tf.keras.Sequential()\n",
    "model.add(embd) \n",
    "model.add(tf.keras.layers.Flatten()) # Dense의 입력으로 넣기위함.\n",
    "model.add(tf.keras.layers.Dense(1, activation='sigmoid'))\n",
    "model.summary()\n",
    "\n",
    "model.compile(optimizer='adam', loss='binary_crossentropy', metrics=['acc'])\n",
    "model.fit(X_train, y_train, epochs=500, verbose=0)\n",
    "\n",
    "print(f'embedding last : {embd(X_train)[:3]}')"
   ]
  },
  {
   "cell_type": "markdown",
   "metadata": {},
   "source": [
    "#### 벡터 시각화"
   ]
  },
  {
   "cell_type": "code",
   "execution_count": 17,
   "metadata": {},
   "outputs": [
    {
     "name": "stdout",
     "output_type": "stream",
     "text": [
      "[[-0.45409068  0.23030303]\n",
      " [ 0.6413329  -0.58399236]\n",
      " [ 0.35008687  0.37933207]\n",
      " [ 0.41882074 -0.553628  ]\n",
      " [ 0.33257344 -0.3134184 ]\n",
      " [-0.48746634 -0.3950432 ]\n",
      " [-0.40635216  0.5981489 ]\n",
      " [-0.4489047  -0.40104678]\n",
      " [-0.45056573  0.6117341 ]\n",
      " [ 0.45372224  0.480611  ]\n",
      " [ 0.4690191  -0.6878898 ]\n",
      " [ 0.4624608   0.45890492]\n",
      " [ 0.4260749  -0.68901837]\n",
      " [-0.45390213 -0.41522354]\n",
      " [ 0.46556425  0.5014453 ]]\n"
     ]
    },
    {
     "data": {
      "image/png": "[encoded data removed]",
      "text/plain": [
       "<Figure size 1000x1000 with 1 Axes>"
      ]
     },
     "metadata": {},
     "output_type": "display_data"
    }
   ],
   "source": [
    "import matplotlib.pyplot as plt\n",
    "\n",
    "embd_matrix = embd.get_weights()[0]\n",
    "print(embd_matrix)\n",
    "plt.figure(figsize=(10,10))  \n",
    "for idx, (x1, x2) in enumerate(embd_matrix):\n",
    "    if idx == 0 : continue\n",
    "    plt.plot(x1, x2, 'b.')\n",
    "    plt.annotate(t.index_word[idx], (x1,x2 ))"
   ]
  },
  {
   "cell_type": "markdown",
   "metadata": {},
   "source": [
    "### Embeding Layer를 이용한 IMDB 텍스트 분류 실습\n"
   ]
  },
  {
   "cell_type": "markdown",
   "metadata": {},
   "source": [
    "#### 데이타 준비"
   ]
  },
  {
   "cell_type": "code",
   "execution_count": 1,
   "metadata": {},
   "outputs": [
    {
     "name": "stdout",
     "output_type": "stream",
     "text": [
      "train set : 25000, test set: (25000,), classes : 2\n"
     ]
    }
   ],
   "source": [
    "import tensorflow as tf\n",
    "\n",
    "imdb = tf.keras.datasets.imdb\n",
    "\n",
    "voca_size = 10000\n",
    "(X_train, y_train), (X_test, y_test) = imdb.load_data(num_words=voca_size)\n",
    "print(f'train set : {len(X_train)}, test set: {len(X_test), }, classes : {max(y_train)+1}')"
   ]
  },
  {
   "cell_type": "markdown",
   "metadata": {},
   "source": [
    "#### 단어-인덱스 사전 생성"
   ]
  },
  {
   "cell_type": "code",
   "execution_count": 2,
   "metadata": {},
   "outputs": [
    {
     "name": "stdout",
     "output_type": "stream",
     "text": [
      "the 1\n"
     ]
    }
   ],
   "source": [
    "imdb_word_index = imdb.get_word_index()\n",
    "imdb_index_word = { idx : key for key, idx in imdb_word_index.items()}\n",
    "\n",
    "print(imdb_index_word[1], imdb_word_index['the'])"
   ]
  },
  {
   "cell_type": "markdown",
   "metadata": {},
   "source": [
    "#### 데이타 미리보기"
   ]
  },
  {
   "cell_type": "code",
   "execution_count": 9,
   "metadata": {
    "scrolled": true
   },
   "outputs": [
    {
     "name": "stdout",
     "output_type": "stream",
     "text": [
      "[1, 14, 22, 16, 43, 530, 973, 1622, 1385, 65, 458, 4468, 66, 3941, 4, 173, 36, 256, 5, 25]\n"
     ]
    },
    {
     "data": {
      "text/plain": [
       "\"? this film was just brilliant casting location scenery story direction everyone's really suited the part they played and you\""
      ]
     },
     "execution_count": 9,
     "metadata": {},
     "output_type": "execute_result"
    }
   ],
   "source": [
    "print(X_train[0][:20])\n",
    "\n",
    "# 0:pad, 1:<start>, 2:UNK \n",
    "' '.join([imdb_index_word.get(i-3, '?') for i in X_train[0][:20]])"
   ]
  },
  {
   "cell_type": "markdown",
   "metadata": {},
   "source": [
    "#### 패딩"
   ]
  },
  {
   "cell_type": "code",
   "execution_count": 10,
   "metadata": {},
   "outputs": [],
   "source": [
    "#padding\n",
    "max_len = 500\n",
    "X_train = tf.keras.preprocessing.sequence.pad_sequences(X_train, maxlen=max_len)\n",
    "X_test = tf.keras.preprocessing.sequence.pad_sequences(X_test, maxlen=max_len)"
   ]
  },
  {
   "cell_type": "markdown",
   "metadata": {},
   "source": [
    "#### 모델 생성, 훈련, 평가"
   ]
  },
  {
   "cell_type": "code",
   "execution_count": 11,
   "metadata": {
    "scrolled": true
   },
   "outputs": [
    {
     "name": "stdout",
     "output_type": "stream",
     "text": [
      "Train on 25000 samples, validate on 25000 samples\n",
      "Epoch 1/20\n",
      "25000/25000 [==============================] - 39s 2ms/sample - loss: 0.4619 - acc: 0.7776 - val_loss: 0.4323 - val_acc: 0.7946\n",
      "Epoch 2/20\n",
      "25000/25000 [==============================] - 38s 2ms/sample - loss: 0.2810 - acc: 0.8888 - val_loss: 0.3118 - val_acc: 0.8688\n",
      "Epoch 3/20\n",
      "25000/25000 [==============================] - 39s 2ms/sample - loss: 0.1878 - acc: 0.9290 - val_loss: 0.3479 - val_acc: 0.8660\n",
      "Epoch 4/20\n",
      "25000/25000 [==============================] - 39s 2ms/sample - loss: 0.1432 - acc: 0.9474 - val_loss: 0.4493 - val_acc: 0.8605\n",
      "Epoch 5/20\n",
      "25000/25000 [==============================] - 40s 2ms/sample - loss: 0.1142 - acc: 0.9581 - val_loss: 0.3961 - val_acc: 0.8683\n",
      "Epoch 6/20\n",
      "25000/25000 [==============================] - 41s 2ms/sample - loss: 0.1072 - acc: 0.9613 - val_loss: 0.4287 - val_acc: 0.8546\n",
      "Epoch 7/20\n",
      "25000/25000 [==============================] - 41s 2ms/sample - loss: 0.0674 - acc: 0.9771 - val_loss: 0.5091 - val_acc: 0.8592\n",
      "Epoch 8/20\n",
      "25000/25000 [==============================] - 41s 2ms/sample - loss: 0.0729 - acc: 0.9743 - val_loss: 0.6038 - val_acc: 0.8542\n",
      "Epoch 9/20\n",
      "25000/25000 [==============================] - 41s 2ms/sample - loss: 0.0535 - acc: 0.9834 - val_loss: 0.6148 - val_acc: 0.8618\n",
      "Epoch 10/20\n",
      "25000/25000 [==============================] - 41s 2ms/sample - loss: 0.0229 - acc: 0.9934 - val_loss: 0.6441 - val_acc: 0.8500\n",
      "Epoch 11/20\n",
      "25000/25000 [==============================] - 41s 2ms/sample - loss: 0.0349 - acc: 0.9890 - val_loss: 0.7416 - val_acc: 0.8505\n",
      "Epoch 12/20\n",
      "25000/25000 [==============================] - 41s 2ms/sample - loss: 0.0771 - acc: 0.9721 - val_loss: 0.5193 - val_acc: 0.8438\n",
      "Epoch 13/20\n",
      "25000/25000 [==============================] - 41s 2ms/sample - loss: 0.0355 - acc: 0.9886 - val_loss: 0.6693 - val_acc: 0.8578\n",
      "Epoch 14/20\n",
      "25000/25000 [==============================] - 41s 2ms/sample - loss: 0.0149 - acc: 0.9958 - val_loss: 0.7321 - val_acc: 0.8420\n",
      "Epoch 15/20\n",
      "25000/25000 [==============================] - 41s 2ms/sample - loss: 0.0184 - acc: 0.9948 - val_loss: 0.7456 - val_acc: 0.8463\n",
      "Epoch 16/20\n",
      "25000/25000 [==============================] - 41s 2ms/sample - loss: 0.0192 - acc: 0.9942 - val_loss: 0.7804 - val_acc: 0.8572\n",
      "Epoch 17/20\n",
      "25000/25000 [==============================] - 41s 2ms/sample - loss: 0.0114 - acc: 0.9969 - val_loss: 0.8823 - val_acc: 0.8576\n",
      "Epoch 18/20\n",
      "25000/25000 [==============================] - 41s 2ms/sample - loss: 0.0189 - acc: 0.9942 - val_loss: 0.7780 - val_acc: 0.8560\n",
      "Epoch 19/20\n",
      "25000/25000 [==============================] - 42s 2ms/sample - loss: 0.0346 - acc: 0.9892 - val_loss: 0.6767 - val_acc: 0.8521\n",
      "Epoch 20/20\n",
      "25000/25000 [==============================] - 41s 2ms/sample - loss: 0.0209 - acc: 0.9940 - val_loss: 0.7822 - val_acc: 0.8454\n",
      "25000/25000 [==============================] - 12s 496us/sample - loss: 0.7822 - acc: 0.8454\n",
      "cost :0.7821888622862101, accuracy:84.53599810600281%\n"
     ]
    }
   ],
   "source": [
    "model = tf.keras.Sequential()\n",
    "model.add(tf.keras.layers.Embedding(voca_size, 250))\n",
    "model.add(tf.keras.layers.LSTM(120))\n",
    "model.add(tf.keras.layers.Dense(32, activation='relu'))\n",
    "model.add(tf.keras.layers.Dense(1, activation='sigmoid'))\n",
    "\n",
    "model.compile(loss='binary_crossentropy', optimizer='adam', metrics=['acc'])\n",
    "model.fit(X_train, y_train, validation_data=(X_test, y_test), epochs=20, batch_size=64)\n",
    "\n",
    "result = model.evaluate(X_test, y_test)\n",
    "print(f'cost :{result[0]}, accuracy:{result[1] * 100:.2f}%')"
   ]
  }
 ],
 "metadata": {
  "kernelspec": {
   "display_name": "KB",
   "language": "python",
   "name": "kb"
  },
  "language_info": {
   "codemirror_mode": {
    "name": "ipython",
    "version": 3
   },
   "file_extension": ".py",
   "mimetype": "text/x-python",
   "name": "python",
   "nbconvert_exporter": "python",
   "pygments_lexer": "ipython3",
   "version": "3.9.12"
  }
 },
 "nbformat": 4,
 "nbformat_minor": 2
}
