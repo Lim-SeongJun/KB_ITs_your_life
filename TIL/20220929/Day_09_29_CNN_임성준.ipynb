{
 "cells": [
  {
   "cell_type": "markdown",
   "id": "2d1b7251",
   "metadata": {},
   "source": [
    "## MNIST DNN"
   ]
  },
  {
   "cell_type": "code",
   "execution_count": 11,
   "id": "851dc60c",
   "metadata": {},
   "outputs": [
    {
     "name": "stdout",
     "output_type": "stream",
     "text": [
      "Model: \"sequential_1\"\n",
      "_________________________________________________________________\n",
      "Layer (type)                 Output Shape              Param #   \n",
      "=================================================================\n",
      "dense_3 (Dense)              (None, 300)               235500    \n",
      "_________________________________________________________________\n",
      "dense_4 (Dense)              (None, 100)               30100     \n",
      "_________________________________________________________________\n",
      "dropout_1 (Dropout)          (None, 100)               0         \n",
      "_________________________________________________________________\n",
      "dense_5 (Dense)              (None, 10)                1010      \n",
      "=================================================================\n",
      "Total params: 266,610\n",
      "Trainable params: 266,610\n",
      "Non-trainable params: 0\n",
      "_________________________________________________________________\n",
      "Epoch 1/10\n",
      "480/480 [==============================] - 3s 4ms/step - loss: 0.4014 - accuracy: 0.8809 - val_loss: 0.1542 - val_accuracy: 0.9548\n",
      "Epoch 2/10\n",
      "480/480 [==============================] - 1s 3ms/step - loss: 0.1675 - accuracy: 0.9527 - val_loss: 0.1031 - val_accuracy: 0.9683\n",
      "Epoch 3/10\n",
      "480/480 [==============================] - 1s 2ms/step - loss: 0.1177 - accuracy: 0.9659 - val_loss: 0.0952 - val_accuracy: 0.9715\n",
      "Epoch 4/10\n",
      "480/480 [==============================] - 1s 2ms/step - loss: 0.0886 - accuracy: 0.9746 - val_loss: 0.0875 - val_accuracy: 0.9738\n",
      "Epoch 5/10\n",
      "480/480 [==============================] - 1s 2ms/step - loss: 0.0693 - accuracy: 0.9790 - val_loss: 0.0840 - val_accuracy: 0.9744\n",
      "Epoch 6/10\n",
      "480/480 [==============================] - 1s 2ms/step - loss: 0.0598 - accuracy: 0.9825 - val_loss: 0.0830 - val_accuracy: 0.9762\n",
      "Epoch 7/10\n",
      "480/480 [==============================] - 1s 2ms/step - loss: 0.0491 - accuracy: 0.9848 - val_loss: 0.0848 - val_accuracy: 0.9778\n",
      "Epoch 8/10\n",
      "480/480 [==============================] - 1s 2ms/step - loss: 0.0409 - accuracy: 0.9873 - val_loss: 0.0947 - val_accuracy: 0.9758\n",
      "Epoch 9/10\n",
      "480/480 [==============================] - 1s 2ms/step - loss: 0.0359 - accuracy: 0.9885 - val_loss: 0.0837 - val_accuracy: 0.9788\n",
      "Epoch 10/10\n",
      "480/480 [==============================] - 1s 2ms/step - loss: 0.0304 - accuracy: 0.9907 - val_loss: 0.0930 - val_accuracy: 0.9760\n",
      "313/313 - 1s - loss: 0.0685 - accuracy: 0.9814\n",
      "Test loss: 0.06854431331157684\n",
      "Test accuracy: 0.9814000129699707\n"
     ]
    }
   ],
   "source": [
    "import tensorflow as tf\n",
    "import numpy as np\n",
    "(X_train, y_train), (X_test, y_test) = tf.keras.datasets.mnist.load_data()\n",
    "(X_train, X_test) = (np.float32(X_train)/255, np.float32(X_test)/255)\n",
    "\n",
    "n_input = 28*28\n",
    "(X_train, X_test) = (X_train.reshape(-1, n_input), X_test.reshape(-1, n_input))\n",
    "model = tf.keras.Sequential([\n",
    "    tf.keras.layers.Dense(300, activation='relu', input_shape=(28*28,)),\n",
    "    tf.keras.layers.Dense(100, activation='relu'),\n",
    "    tf.keras.layers.Dropout(0.5),\n",
    "    tf.keras.layers.Dense(10, activation='softmax')])\n",
    "model.summary()\n",
    "model.compile(loss='sparse_categorical_crossentropy',\n",
    "              optimizer='adam',\n",
    "              metrics=['accuracy'])\n",
    "\n",
    "history = model.fit(X_train, y_train,\n",
    "                    batch_size=100,\n",
    "                    epochs=10,\n",
    "                    validation_split=0.2)\n",
    "\n",
    "test_scores = model.evaluate(X_test, y_test, verbose=2)\n",
    "print('Test loss:', test_scores[0])\n",
    "print('Test accuracy:', test_scores[1])"
   ]
  },
  {
   "cell_type": "markdown",
   "id": "eabe2bda",
   "metadata": {},
   "source": [
    "## MNIST CNN으로 숫자 손글씨 학습"
   ]
  },
  {
   "cell_type": "code",
   "execution_count": 13,
   "id": "de58b850",
   "metadata": {},
   "outputs": [
    {
     "name": "stdout",
     "output_type": "stream",
     "text": [
      "(60000, 28, 28)\n",
      "newaxis이후  (60000, 28, 28, 1)\n"
     ]
    }
   ],
   "source": [
    "import tensorflow as tf\n",
    "import numpy as np\n",
    "\n",
    "n_input = 28*28\n",
    "n_L1 = 300\n",
    "n_L2 = 100\n",
    "n_output = 10\n",
    "\n",
    "(X_train, y_train), (X_test, y_test) = tf.keras.datasets.mnist.load_data()\n",
    "X_train = X_train/255.0\n",
    "X_test = X_test/255.0  # 정규화\n",
    "print(X_train.shape)\n",
    "\n",
    "X_train = X_train[..., tf.newaxis] # 컬러를 위한 차원추가\n",
    "# X_train = X_train.reshape(-1,28,28,1)\n",
    "X_test = X_test[..., tf.newaxis]   # 컬러를 위한 차원추가\n",
    "# X_test = X_test.reshape(-1,28,28,1)\n",
    "print(\"newaxis이후 \", X_train.shape)"
   ]
  },
  {
   "cell_type": "code",
   "execution_count": 1,
   "id": "ab5c5d08",
   "metadata": {
    "scrolled": false
   },
   "outputs": [
    {
     "ename": "NameError",
     "evalue": "name 'X_train' is not defined",
     "output_type": "error",
     "traceback": [
      "\u001b[1;31m---------------------------------------------------------------------------\u001b[0m",
      "\u001b[1;31mNameError\u001b[0m                                 Traceback (most recent call last)",
      "Input \u001b[1;32mIn [1]\u001b[0m, in \u001b[0;36m<cell line: 1>\u001b[1;34m()\u001b[0m\n\u001b[1;32m----> 1\u001b[0m X_valid, X_train \u001b[38;5;241m=\u001b[39m \u001b[43mX_train\u001b[49m[:\u001b[38;5;241m5000\u001b[39m], X_train[\u001b[38;5;241m5000\u001b[39m:] \u001b[38;5;66;03m# 5천, 5만5천\u001b[39;00m\n\u001b[0;32m      2\u001b[0m y_valid, y_train \u001b[38;5;241m=\u001b[39m y_train[:\u001b[38;5;241m5000\u001b[39m], y_train[\u001b[38;5;241m5000\u001b[39m:] \u001b[38;5;66;03m# 5천, 5만5천\u001b[39;00m\n\u001b[0;32m      4\u001b[0m model \u001b[38;5;241m=\u001b[39m tf\u001b[38;5;241m.\u001b[39mkeras\u001b[38;5;241m.\u001b[39mmodels\u001b[38;5;241m.\u001b[39mSequential([\n\u001b[0;32m      5\u001b[0m     tf\u001b[38;5;241m.\u001b[39mkeras\u001b[38;5;241m.\u001b[39mlayers\u001b[38;5;241m.\u001b[39mConv2D(\u001b[38;5;241m32\u001b[39m, \u001b[38;5;241m3\u001b[39m, activation\u001b[38;5;241m=\u001b[39m\u001b[38;5;124m'\u001b[39m\u001b[38;5;124mrelu\u001b[39m\u001b[38;5;124m'\u001b[39m, input_shape\u001b[38;5;241m=\u001b[39m(\u001b[38;5;241m28\u001b[39m,\u001b[38;5;241m28\u001b[39m,\u001b[38;5;241m1\u001b[39m)),\n\u001b[0;32m      6\u001b[0m     tf\u001b[38;5;241m.\u001b[39mkeras\u001b[38;5;241m.\u001b[39mlayers\u001b[38;5;241m.\u001b[39mMaxPool2D(\u001b[38;5;241m2\u001b[39m, \u001b[38;5;241m2\u001b[39m), \n\u001b[1;32m   (...)\u001b[0m\n\u001b[0;32m     10\u001b[0m     tf\u001b[38;5;241m.\u001b[39mkeras\u001b[38;5;241m.\u001b[39mlayers\u001b[38;5;241m.\u001b[39mDense(n_output, activation\u001b[38;5;241m=\u001b[39mtf\u001b[38;5;241m.\u001b[39mnn\u001b[38;5;241m.\u001b[39msoftmax)\n\u001b[0;32m     11\u001b[0m ])\n",
      "\u001b[1;31mNameError\u001b[0m: name 'X_train' is not defined"
     ]
    }
   ],
   "source": [
    "X_valid, X_train = X_train[:5000], X_train[5000:] # 5천, 5만5천\n",
    "y_valid, y_train = y_train[:5000], y_train[5000:] # 5천, 5만5천\n",
    "\n",
    "model = tf.keras.models.Sequential([\n",
    "    tf.keras.layers.Conv2D(32, 3, activation='relu', input_shape=(28,28,1)),\n",
    "    tf.keras.layers.MaxPool2D(2, 2), \n",
    "    tf.keras.layers.Flatten(),\n",
    "    tf.keras.layers.Dense(128, activation=tf.nn.relu ), \n",
    "    tf.keras.layers.Dropout(0.3),\n",
    "    tf.keras.layers.Dense(n_output, activation=tf.nn.softmax)\n",
    "])\n",
    "model.summary()\n",
    "model.compile(optimizer='adam',\n",
    "              loss='sparse_categorical_crossentropy',\n",
    "              metrics=['accuracy'])\n",
    "\n",
    "model.fit(X_train, y_train, epochs=10, batch_size=100, validation_data=(X_valid, y_valid))\n",
    "\n",
    "test_loss, test_acc = model.evaluate(X_test, y_test, verbose=0)\n",
    "\n",
    "print(\"Test Accuracy:{}\".format(test_acc))"
   ]
  },
  {
   "cell_type": "code",
   "execution_count": null,
   "id": "08d63c46",
   "metadata": {},
   "outputs": [],
   "source": []
  }
 ],
 "metadata": {
  "kernelspec": {
   "display_name": "KB",
   "language": "python",
   "name": "kb"
  },
  "language_info": {
   "codemirror_mode": {
    "name": "ipython",
    "version": 3
   },
   "file_extension": ".py",
   "mimetype": "text/x-python",
   "name": "python",
   "nbconvert_exporter": "python",
   "pygments_lexer": "ipython3",
   "version": "3.9.12"
  }
 },
 "nbformat": 4,
 "nbformat_minor": 5
}
