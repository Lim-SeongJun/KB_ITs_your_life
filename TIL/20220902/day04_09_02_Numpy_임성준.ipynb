{
 "cells": [
  {
   "cell_type": "code",
   "execution_count": 14,
   "id": "732db4db",
   "metadata": {
    "scrolled": true
   },
   "outputs": [
    {
     "data": {
      "text/plain": [
       "(array([1, 2, 3, 4]), [1, 2, 3, 4])"
      ]
     },
     "execution_count": 14,
     "metadata": {},
     "output_type": "execute_result"
    }
   ],
   "source": [
    "import numpy as np\n",
    "my_list = [1,2,3,4]\n",
    "arr1 = np.array(my_list)\n",
    "arr1, my_list"
   ]
  },
  {
   "cell_type": "code",
   "execution_count": 8,
   "id": "102de9ac",
   "metadata": {
    "scrolled": true
   },
   "outputs": [
    {
     "data": {
      "text/plain": [
       "array([10, 20, 30, 40])"
      ]
     },
     "execution_count": 8,
     "metadata": {},
     "output_type": "execute_result"
    }
   ],
   "source": [
    "arr1 * 10 # element wise or Broadcast"
   ]
  },
  {
   "cell_type": "code",
   "execution_count": 16,
   "id": "456adb04",
   "metadata": {},
   "outputs": [
    {
     "data": {
      "text/plain": [
       "[4, 5, 6]"
      ]
     },
     "execution_count": 16,
     "metadata": {},
     "output_type": "execute_result"
    }
   ],
   "source": [
    "my_list2 = [\n",
    "    [1,2,3],\n",
    "    [4,5,6],\n",
    "]\n",
    "my_list2[1]"
   ]
  },
  {
   "cell_type": "code",
   "execution_count": 19,
   "id": "09990445",
   "metadata": {},
   "outputs": [
    {
     "data": {
      "text/plain": [
       "array([[1, 2, 3],\n",
       "       [4, 5, 6]])"
      ]
     },
     "execution_count": 19,
     "metadata": {},
     "output_type": "execute_result"
    }
   ],
   "source": [
    "arr2 = np.array(my_list2)\n",
    "arr2"
   ]
  },
  {
   "cell_type": "code",
   "execution_count": 21,
   "id": "7afc4a87",
   "metadata": {},
   "outputs": [
    {
     "data": {
      "text/plain": [
       "array([2, 5])"
      ]
     },
     "execution_count": 21,
     "metadata": {},
     "output_type": "execute_result"
    }
   ],
   "source": [
    "arr2[:,1] # [행번호, 열번호] ':'은  전체를 의미"
   ]
  },
  {
   "cell_type": "code",
   "execution_count": 23,
   "id": "ebbd695d",
   "metadata": {
    "scrolled": true
   },
   "outputs": [
    {
     "data": {
      "text/plain": [
       "array([[1, 3],\n",
       "       [4, 6]])"
      ]
     },
     "execution_count": 23,
     "metadata": {},
     "output_type": "execute_result"
    }
   ],
   "source": [
    "arr2[:,[0,2]] # 팬시 인덱싱(띄엄띄엄 추출)"
   ]
  },
  {
   "cell_type": "markdown",
   "id": "87295246",
   "metadata": {},
   "source": [
    "## arr3 (2,2,3) 2면 2행 3열"
   ]
  },
  {
   "cell_type": "code",
   "execution_count": 30,
   "id": "c333e9fe",
   "metadata": {},
   "outputs": [
    {
     "data": {
      "text/plain": [
       "array([[[1, 2, 3],\n",
       "        [4, 5, 6]],\n",
       "\n",
       "       [[1, 2, 3],\n",
       "        [4, 5, 6]]])"
      ]
     },
     "execution_count": 30,
     "metadata": {},
     "output_type": "execute_result"
    }
   ],
   "source": [
    "arr3 = np.array(\n",
    "    [\n",
    "        [\n",
    "            [1,2,3],\n",
    "            [4,5,6]\n",
    "        ],\n",
    "        [\n",
    "            [1,2,3],\n",
    "            [4,5,6]\n",
    "        ]\n",
    "    ]\n",
    ")\n",
    "arr3"
   ]
  },
  {
   "cell_type": "code",
   "execution_count": 26,
   "id": "e381e7b1",
   "metadata": {},
   "outputs": [
    {
     "data": {
      "text/plain": [
       "array([[[ 0,  1,  2,  3],\n",
       "        [ 4,  5,  6,  7],\n",
       "        [ 8,  9, 10, 11]]])"
      ]
     },
     "execution_count": 26,
     "metadata": {},
     "output_type": "execute_result"
    }
   ],
   "source": [
    "np.array([[[0,1,2,3],\n",
    "          [4,5,6,7],\n",
    "          [8,9,10,11]]])"
   ]
  },
  {
   "cell_type": "code",
   "execution_count": 36,
   "id": "1c5c3bdd",
   "metadata": {},
   "outputs": [
    {
     "data": {
      "text/plain": [
       "array([0. , 0.5, 1. , 1.5, 2. , 2.5])"
      ]
     },
     "execution_count": 36,
     "metadata": {},
     "output_type": "execute_result"
    }
   ],
   "source": [
    "np.arange(0,3,0.5)"
   ]
  },
  {
   "cell_type": "code",
   "execution_count": 46,
   "id": "3920caf4",
   "metadata": {},
   "outputs": [
    {
     "data": {
      "text/plain": [
       "array([ 1. ,  5.5, 10. ])"
      ]
     },
     "execution_count": 46,
     "metadata": {},
     "output_type": "execute_result"
    }
   ],
   "source": [
    "np.linspace(1,10,3)"
   ]
  },
  {
   "cell_type": "code",
   "execution_count": 50,
   "id": "f90520c2",
   "metadata": {},
   "outputs": [
    {
     "data": {
      "text/plain": [
       "array([[1., 1.],\n",
       "       [1., 1.]])"
      ]
     },
     "execution_count": 50,
     "metadata": {},
     "output_type": "execute_result"
    }
   ],
   "source": [
    "np.ones((2,2))"
   ]
  },
  {
   "cell_type": "code",
   "execution_count": 56,
   "id": "6c720616",
   "metadata": {},
   "outputs": [
    {
     "data": {
      "text/plain": [
       "array([[-1, -1, -1, -1],\n",
       "       [-1, -1, -1, -1],\n",
       "       [-1, -1, -1, -1]])"
      ]
     },
     "execution_count": 56,
     "metadata": {},
     "output_type": "execute_result"
    }
   ],
   "source": [
    "np.full((3,4),-1)"
   ]
  },
  {
   "cell_type": "code",
   "execution_count": 62,
   "id": "2d4942f4",
   "metadata": {},
   "outputs": [
    {
     "data": {
      "text/plain": [
       "array([[0., 0.],\n",
       "       [0., 0.]])"
      ]
     },
     "execution_count": 62,
     "metadata": {},
     "output_type": "execute_result"
    }
   ],
   "source": [
    "np.zeros((2,2))"
   ]
  },
  {
   "cell_type": "code",
   "execution_count": 55,
   "id": "1b5a9763",
   "metadata": {},
   "outputs": [
    {
     "data": {
      "text/plain": [
       "array([[1., 0.],\n",
       "       [0., 1.]])"
      ]
     },
     "execution_count": 55,
     "metadata": {},
     "output_type": "execute_result"
    }
   ],
   "source": [
    "np.eye(2,2)"
   ]
  },
  {
   "cell_type": "code",
   "execution_count": 63,
   "id": "6850de9d",
   "metadata": {},
   "outputs": [
    {
     "data": {
      "text/plain": [
       "(1, 2, 3)"
      ]
     },
     "execution_count": 63,
     "metadata": {},
     "output_type": "execute_result"
    }
   ],
   "source": [
    "arr1.ndim, arr2.ndim, arr3.ndim"
   ]
  },
  {
   "cell_type": "code",
   "execution_count": 69,
   "id": "7141807f",
   "metadata": {},
   "outputs": [
    {
     "data": {
      "text/plain": [
       "((2, 3), 6)"
      ]
     },
     "execution_count": 69,
     "metadata": {},
     "output_type": "execute_result"
    }
   ],
   "source": [
    "arr2.shape,arr2.size"
   ]
  },
  {
   "cell_type": "code",
   "execution_count": 80,
   "id": "9e9e6b53",
   "metadata": {},
   "outputs": [
    {
     "data": {
      "text/plain": [
       "array(['1.0', '2.0', '3'], dtype='<U32')"
      ]
     },
     "execution_count": 80,
     "metadata": {},
     "output_type": "execute_result"
    }
   ],
   "source": [
    "np.array([1.,2.,'3']) # 표현방식이 좀 더 많은 쪽을 따라감"
   ]
  },
  {
   "cell_type": "code",
   "execution_count": 81,
   "id": "2b5ddad7",
   "metadata": {},
   "outputs": [
    {
     "data": {
      "text/plain": [
       "(dtype('int32'), dtype('int32'), dtype('int32'))"
      ]
     },
     "execution_count": 81,
     "metadata": {},
     "output_type": "execute_result"
    }
   ],
   "source": [
    "arr1.dtype, arr2.dtype, arr3.dtype"
   ]
  },
  {
   "cell_type": "code",
   "execution_count": 83,
   "id": "7b31bf5d",
   "metadata": {
    "scrolled": true
   },
   "outputs": [
    {
     "data": {
      "text/plain": [
       "(array([[1, 2, 3],\n",
       "        [4, 5, 6]]),\n",
       " array([[1, 4],\n",
       "        [2, 5],\n",
       "        [3, 6]]))"
      ]
     },
     "execution_count": 83,
     "metadata": {},
     "output_type": "execute_result"
    }
   ],
   "source": [
    "arr2, arr2.T"
   ]
  },
  {
   "cell_type": "code",
   "execution_count": 96,
   "id": "4b159356",
   "metadata": {},
   "outputs": [
    {
     "data": {
      "text/plain": [
       "array([[[ 0,  1],\n",
       "        [ 2,  3],\n",
       "        [ 4,  5],\n",
       "        [ 6,  7]],\n",
       "\n",
       "       [[ 8,  9],\n",
       "        [10, 11],\n",
       "        [12, 13],\n",
       "        [14, 15]]])"
      ]
     },
     "execution_count": 96,
     "metadata": {},
     "output_type": "execute_result"
    }
   ],
   "source": [
    "arr4 = np.arange(16)\n",
    "arr4.reshape(2,4,2)"
   ]
  },
  {
   "cell_type": "code",
   "execution_count": 92,
   "id": "a2e35f6b",
   "metadata": {},
   "outputs": [
    {
     "data": {
      "text/plain": [
       "(array([[ 0,  1,  2,  3],\n",
       "        [ 4,  5,  6,  7],\n",
       "        [ 8,  9, 10, 11],\n",
       "        [12, 13, 14, 15]]),\n",
       " (4, 4))"
      ]
     },
     "execution_count": 92,
     "metadata": {},
     "output_type": "execute_result"
    }
   ],
   "source": [
    "arr4.reshape(4,4), arr4.reshape(4,4).shape"
   ]
  },
  {
   "cell_type": "code",
   "execution_count": 94,
   "id": "758339e3",
   "metadata": {
    "scrolled": true
   },
   "outputs": [
    {
     "data": {
      "text/plain": [
       "(array([[ 0,  1,  2,  3,  4,  5,  6,  7],\n",
       "        [ 8,  9, 10, 11, 12, 13, 14, 15]]),\n",
       " (2, 8))"
      ]
     },
     "execution_count": 94,
     "metadata": {},
     "output_type": "execute_result"
    }
   ],
   "source": [
    "arr4.reshape(-1,8), arr4.reshape(-1,8).shape # -1 분할시 알아서 계산"
   ]
  },
  {
   "cell_type": "code",
   "execution_count": 98,
   "id": "60bb4ec8",
   "metadata": {},
   "outputs": [
    {
     "data": {
      "text/plain": [
       "array([[1., 2., 3.],\n",
       "       [4., 5., 6.]], dtype=float32)"
      ]
     },
     "execution_count": 98,
     "metadata": {},
     "output_type": "execute_result"
    }
   ],
   "source": [
    "arr2.astype(np.float32)"
   ]
  },
  {
   "cell_type": "code",
   "execution_count": 99,
   "id": "9434b83e",
   "metadata": {},
   "outputs": [
    {
     "data": {
      "text/plain": [
       "dtype('int32')"
      ]
     },
     "execution_count": 99,
     "metadata": {},
     "output_type": "execute_result"
    }
   ],
   "source": [
    "arr2.dtype"
   ]
  },
  {
   "cell_type": "code",
   "execution_count": 131,
   "id": "3d95a19d",
   "metadata": {
    "scrolled": true
   },
   "outputs": [
    {
     "data": {
      "text/html": [
       "<div>\n",
       "<style scoped>\n",
       "    .dataframe tbody tr th:only-of-type {\n",
       "        vertical-align: middle;\n",
       "    }\n",
       "\n",
       "    .dataframe tbody tr th {\n",
       "        vertical-align: top;\n",
       "    }\n",
       "\n",
       "    .dataframe thead th {\n",
       "        text-align: right;\n",
       "    }\n",
       "</style>\n",
       "<table border=\"1\" class=\"dataframe\">\n",
       "  <thead>\n",
       "    <tr style=\"text-align: right;\">\n",
       "      <th></th>\n",
       "      <th>시군구</th>\n",
       "      <th>번지</th>\n",
       "      <th>본번</th>\n",
       "      <th>부번</th>\n",
       "      <th>단지명</th>\n",
       "      <th>전용면적(㎡)</th>\n",
       "      <th>계약년월</th>\n",
       "      <th>계약일</th>\n",
       "      <th>거래금액(만원)</th>\n",
       "      <th>층</th>\n",
       "      <th>건축년도</th>\n",
       "      <th>도로명</th>\n",
       "      <th>해제사유발생일</th>\n",
       "      <th>거래유형</th>\n",
       "      <th>중개사소재지</th>\n",
       "    </tr>\n",
       "  </thead>\n",
       "  <tbody>\n",
       "    <tr>\n",
       "      <th>0</th>\n",
       "      <td>서울특별시 강남구 개포동</td>\n",
       "      <td>658-1</td>\n",
       "      <td>658.0</td>\n",
       "      <td>1.0</td>\n",
       "      <td>개포6차우성아파트1동~8동</td>\n",
       "      <td>79.97</td>\n",
       "      <td>202109</td>\n",
       "      <td>2</td>\n",
       "      <td>220000</td>\n",
       "      <td>2</td>\n",
       "      <td>1987.0</td>\n",
       "      <td>언주로 3</td>\n",
       "      <td>NaN</td>\n",
       "      <td>-</td>\n",
       "      <td>-</td>\n",
       "    </tr>\n",
       "    <tr>\n",
       "      <th>1</th>\n",
       "      <td>서울특별시 강남구 개포동</td>\n",
       "      <td>658-1</td>\n",
       "      <td>658.0</td>\n",
       "      <td>1.0</td>\n",
       "      <td>개포6차우성아파트1동~8동</td>\n",
       "      <td>79.97</td>\n",
       "      <td>202112</td>\n",
       "      <td>4</td>\n",
       "      <td>215000</td>\n",
       "      <td>3</td>\n",
       "      <td>1987.0</td>\n",
       "      <td>언주로 3</td>\n",
       "      <td>NaN</td>\n",
       "      <td>중개거래</td>\n",
       "      <td>서울 강남구</td>\n",
       "    </tr>\n",
       "    <tr>\n",
       "      <th>2</th>\n",
       "      <td>서울특별시 강남구 개포동</td>\n",
       "      <td>658-1</td>\n",
       "      <td>658.0</td>\n",
       "      <td>1.0</td>\n",
       "      <td>개포6차우성아파트1동~8동</td>\n",
       "      <td>79.97</td>\n",
       "      <td>202204</td>\n",
       "      <td>12</td>\n",
       "      <td>220000</td>\n",
       "      <td>4</td>\n",
       "      <td>1987.0</td>\n",
       "      <td>언주로 3</td>\n",
       "      <td>NaN</td>\n",
       "      <td>중개거래</td>\n",
       "      <td>서울 강남구</td>\n",
       "    </tr>\n",
       "    <tr>\n",
       "      <th>3</th>\n",
       "      <td>서울특별시 강남구 개포동</td>\n",
       "      <td>658-1</td>\n",
       "      <td>658.0</td>\n",
       "      <td>1.0</td>\n",
       "      <td>개포6차우성아파트1동~8동</td>\n",
       "      <td>79.97</td>\n",
       "      <td>202204</td>\n",
       "      <td>21</td>\n",
       "      <td>220000</td>\n",
       "      <td>2</td>\n",
       "      <td>1987.0</td>\n",
       "      <td>언주로 3</td>\n",
       "      <td>NaN</td>\n",
       "      <td>중개거래</td>\n",
       "      <td>서울 강남구</td>\n",
       "    </tr>\n",
       "    <tr>\n",
       "      <th>4</th>\n",
       "      <td>서울특별시 강남구 개포동</td>\n",
       "      <td>658-1</td>\n",
       "      <td>658.0</td>\n",
       "      <td>1.0</td>\n",
       "      <td>개포6차우성아파트1동~8동</td>\n",
       "      <td>79.97</td>\n",
       "      <td>202205</td>\n",
       "      <td>27</td>\n",
       "      <td>216000</td>\n",
       "      <td>2</td>\n",
       "      <td>1987.0</td>\n",
       "      <td>언주로 3</td>\n",
       "      <td>NaN</td>\n",
       "      <td>중개거래</td>\n",
       "      <td>서울 강남구</td>\n",
       "    </tr>\n",
       "    <tr>\n",
       "      <th>...</th>\n",
       "      <td>...</td>\n",
       "      <td>...</td>\n",
       "      <td>...</td>\n",
       "      <td>...</td>\n",
       "      <td>...</td>\n",
       "      <td>...</td>\n",
       "      <td>...</td>\n",
       "      <td>...</td>\n",
       "      <td>...</td>\n",
       "      <td>...</td>\n",
       "      <td>...</td>\n",
       "      <td>...</td>\n",
       "      <td>...</td>\n",
       "      <td>...</td>\n",
       "      <td>...</td>\n",
       "    </tr>\n",
       "    <tr>\n",
       "      <th>16942</th>\n",
       "      <td>서울특별시 중랑구 중화동</td>\n",
       "      <td>450</td>\n",
       "      <td>450.0</td>\n",
       "      <td>0.0</td>\n",
       "      <td>한신아파트(103~109)</td>\n",
       "      <td>59.76</td>\n",
       "      <td>202207</td>\n",
       "      <td>20</td>\n",
       "      <td>74000</td>\n",
       "      <td>3</td>\n",
       "      <td>1997.0</td>\n",
       "      <td>동일로 752</td>\n",
       "      <td>NaN</td>\n",
       "      <td>중개거래</td>\n",
       "      <td>서울 중랑구</td>\n",
       "    </tr>\n",
       "    <tr>\n",
       "      <th>16943</th>\n",
       "      <td>서울특별시 중랑구 중화동</td>\n",
       "      <td>450</td>\n",
       "      <td>450.0</td>\n",
       "      <td>0.0</td>\n",
       "      <td>한신아파트(103~109)</td>\n",
       "      <td>84.03</td>\n",
       "      <td>202207</td>\n",
       "      <td>27</td>\n",
       "      <td>91500</td>\n",
       "      <td>12</td>\n",
       "      <td>1997.0</td>\n",
       "      <td>동일로 752</td>\n",
       "      <td>NaN</td>\n",
       "      <td>중개거래</td>\n",
       "      <td>서울 중랑구</td>\n",
       "    </tr>\n",
       "    <tr>\n",
       "      <th>16944</th>\n",
       "      <td>서울특별시 중랑구 중화동</td>\n",
       "      <td>274-51</td>\n",
       "      <td>274.0</td>\n",
       "      <td>51.0</td>\n",
       "      <td>한영(101)</td>\n",
       "      <td>84.69</td>\n",
       "      <td>202111</td>\n",
       "      <td>4</td>\n",
       "      <td>50000</td>\n",
       "      <td>2</td>\n",
       "      <td>2003.0</td>\n",
       "      <td>동일로144길 74</td>\n",
       "      <td>NaN</td>\n",
       "      <td>중개거래</td>\n",
       "      <td>서울 송파구, 서울 중랑구</td>\n",
       "    </tr>\n",
       "    <tr>\n",
       "      <th>16945</th>\n",
       "      <td>서울특별시 중랑구 중화동</td>\n",
       "      <td>274-51</td>\n",
       "      <td>274.0</td>\n",
       "      <td>51.0</td>\n",
       "      <td>한영(101)</td>\n",
       "      <td>84.69</td>\n",
       "      <td>202204</td>\n",
       "      <td>9</td>\n",
       "      <td>49900</td>\n",
       "      <td>7</td>\n",
       "      <td>2003.0</td>\n",
       "      <td>동일로144길 74</td>\n",
       "      <td>NaN</td>\n",
       "      <td>중개거래</td>\n",
       "      <td>서울 중랑구</td>\n",
       "    </tr>\n",
       "    <tr>\n",
       "      <th>16946</th>\n",
       "      <td>서울특별시 중랑구 중화동</td>\n",
       "      <td>11-7</td>\n",
       "      <td>11.0</td>\n",
       "      <td>7.0</td>\n",
       "      <td>현대휴앤미(102동)</td>\n",
       "      <td>76.43</td>\n",
       "      <td>202204</td>\n",
       "      <td>23</td>\n",
       "      <td>53000</td>\n",
       "      <td>6</td>\n",
       "      <td>2007.0</td>\n",
       "      <td>봉화산로27가길 19</td>\n",
       "      <td>NaN</td>\n",
       "      <td>중개거래</td>\n",
       "      <td>서울 중랑구</td>\n",
       "    </tr>\n",
       "  </tbody>\n",
       "</table>\n",
       "<p>16947 rows × 15 columns</p>\n",
       "</div>"
      ],
      "text/plain": [
       "                 시군구      번지     본번    부번             단지명  전용면적(㎡)    계약년월  \\\n",
       "0      서울특별시 강남구 개포동   658-1  658.0   1.0  개포6차우성아파트1동~8동    79.97  202109   \n",
       "1      서울특별시 강남구 개포동   658-1  658.0   1.0  개포6차우성아파트1동~8동    79.97  202112   \n",
       "2      서울특별시 강남구 개포동   658-1  658.0   1.0  개포6차우성아파트1동~8동    79.97  202204   \n",
       "3      서울특별시 강남구 개포동   658-1  658.0   1.0  개포6차우성아파트1동~8동    79.97  202204   \n",
       "4      서울특별시 강남구 개포동   658-1  658.0   1.0  개포6차우성아파트1동~8동    79.97  202205   \n",
       "...              ...     ...    ...   ...             ...      ...     ...   \n",
       "16942  서울특별시 중랑구 중화동     450  450.0   0.0  한신아파트(103~109)    59.76  202207   \n",
       "16943  서울특별시 중랑구 중화동     450  450.0   0.0  한신아파트(103~109)    84.03  202207   \n",
       "16944  서울특별시 중랑구 중화동  274-51  274.0  51.0         한영(101)    84.69  202111   \n",
       "16945  서울특별시 중랑구 중화동  274-51  274.0  51.0         한영(101)    84.69  202204   \n",
       "16946  서울특별시 중랑구 중화동    11-7   11.0   7.0     현대휴앤미(102동)    76.43  202204   \n",
       "\n",
       "       계약일  거래금액(만원)   층    건축년도          도로명  해제사유발생일  거래유형          중개사소재지  \n",
       "0        2    220000   2  1987.0        언주로 3      NaN     -               -  \n",
       "1        4    215000   3  1987.0        언주로 3      NaN  중개거래          서울 강남구  \n",
       "2       12    220000   4  1987.0        언주로 3      NaN  중개거래          서울 강남구  \n",
       "3       21    220000   2  1987.0        언주로 3      NaN  중개거래          서울 강남구  \n",
       "4       27    216000   2  1987.0        언주로 3      NaN  중개거래          서울 강남구  \n",
       "...    ...       ...  ..     ...          ...      ...   ...             ...  \n",
       "16942   20     74000   3  1997.0      동일로 752      NaN  중개거래          서울 중랑구  \n",
       "16943   27     91500  12  1997.0      동일로 752      NaN  중개거래          서울 중랑구  \n",
       "16944    4     50000   2  2003.0   동일로144길 74      NaN  중개거래  서울 송파구, 서울 중랑구  \n",
       "16945    9     49900   7  2003.0   동일로144길 74      NaN  중개거래          서울 중랑구  \n",
       "16946   23     53000   6  2007.0  봉화산로27가길 19      NaN  중개거래          서울 중랑구  \n",
       "\n",
       "[16947 rows x 15 columns]"
      ]
     },
     "execution_count": 131,
     "metadata": {},
     "output_type": "execute_result"
    }
   ],
   "source": [
    "# 아파트 실거래데이터 읽기\n",
    "import pandas as pd\n",
    "apt_price = pd.read_csv(\n",
    "    \"./apt_price_2022.csv\",\n",
    "    encoding='cp949',\n",
    "    skiprows=15,\n",
    "    thousands=','\n",
    ")\n",
    "apt_price"
   ]
  },
  {
   "cell_type": "code",
   "execution_count": 132,
   "id": "ef4429f6",
   "metadata": {},
   "outputs": [
    {
     "data": {
      "text/plain": [
       "((16947, 15), 254205)"
      ]
     },
     "execution_count": 132,
     "metadata": {},
     "output_type": "execute_result"
    }
   ],
   "source": [
    "apt_price.shape, apt_price.size"
   ]
  },
  {
   "cell_type": "code",
   "execution_count": 133,
   "id": "106947b4",
   "metadata": {},
   "outputs": [],
   "source": [
    "평 = apt_price['전용면적(㎡)']/3.03"
   ]
  },
  {
   "cell_type": "code",
   "execution_count": 134,
   "id": "55f0c49a",
   "metadata": {
    "scrolled": false
   },
   "outputs": [
    {
     "data": {
      "text/plain": [
       "0        8335.625860\n",
       "1        8146.179817\n",
       "2        8335.625860\n",
       "3        8335.625860\n",
       "4        8184.069026\n",
       "            ...     \n",
       "16942    3752.008032\n",
       "16943    3299.357372\n",
       "16944    1788.877081\n",
       "16945    1785.299327\n",
       "16946    2101.138296\n",
       "Length: 16947, dtype: float64"
      ]
     },
     "execution_count": 134,
     "metadata": {},
     "output_type": "execute_result"
    }
   ],
   "source": [
    "apt_price['거래금액(만원)']/평"
   ]
  },
  {
   "cell_type": "code",
   "execution_count": 135,
   "id": "6e186b6f",
   "metadata": {
    "scrolled": true
   },
   "outputs": [
    {
     "name": "stdout",
     "output_type": "stream",
     "text": [
      "Variable    Type         Data/Info\n",
      "----------------------------------\n",
      "apt_price   DataFrame                     시군구     <...>[16947 rows x 15 columns]\n",
      "arr1        ndarray      4: 4 elems, type `int32`, 16 bytes\n",
      "arr2        ndarray      2x3: 6 elems, type `int32`, 24 bytes\n",
      "arr3        ndarray      2x2x3: 12 elems, type `int32`, 48 bytes\n",
      "arr4        ndarray      16: 16 elems, type `int32`, 64 bytes\n",
      "my_list     list         n=4\n",
      "my_list2    list         n=2\n",
      "np          module       <module 'numpy' from 'C:\\<...>ges\\\\numpy\\\\__init__.py'>\n",
      "pd          module       <module 'pandas' from 'C:<...>es\\\\pandas\\\\__init__.py'>\n",
      "평           Series       0        26.392739\\n1    <...>th: 16947, dtype: float64\n"
     ]
    }
   ],
   "source": [
    "%whos"
   ]
  },
  {
   "cell_type": "code",
   "execution_count": 137,
   "id": "e786f2f8",
   "metadata": {},
   "outputs": [
    {
     "data": {
      "text/plain": [
       "array([[0, 1, 2],\n",
       "       [3, 4, 5],\n",
       "       [6, 7, 8]])"
      ]
     },
     "execution_count": 137,
     "metadata": {},
     "output_type": "execute_result"
    }
   ],
   "source": [
    "arr5 = np.arange(9).reshape(3,3)\n",
    "arr5"
   ]
  },
  {
   "cell_type": "code",
   "execution_count": 143,
   "id": "67cb33bb",
   "metadata": {},
   "outputs": [
    {
     "data": {
      "text/plain": [
       "4"
      ]
     },
     "execution_count": 143,
     "metadata": {},
     "output_type": "execute_result"
    }
   ],
   "source": [
    "arr5[1][1]\n",
    "arr5[1,1]"
   ]
  },
  {
   "cell_type": "code",
   "execution_count": 138,
   "id": "9c2d729b",
   "metadata": {},
   "outputs": [
    {
     "data": {
      "text/plain": [
       "array([0, 1, 2, 3, 4, 5, 6, 7, 8])"
      ]
     },
     "execution_count": 138,
     "metadata": {},
     "output_type": "execute_result"
    }
   ],
   "source": [
    "arr6 = np.arange(9)\n",
    "arr6"
   ]
  },
  {
   "cell_type": "code",
   "execution_count": 139,
   "id": "7bc02c02",
   "metadata": {},
   "outputs": [
    {
     "data": {
      "text/plain": [
       "1"
      ]
     },
     "execution_count": 139,
     "metadata": {},
     "output_type": "execute_result"
    }
   ],
   "source": [
    "arr6[1]"
   ]
  },
  {
   "cell_type": "code",
   "execution_count": 147,
   "id": "e93fcf7d",
   "metadata": {},
   "outputs": [
    {
     "data": {
      "text/plain": [
       "array([[ True, False,  True],\n",
       "       [False,  True, False],\n",
       "       [ True, False,  True]])"
      ]
     },
     "execution_count": 147,
     "metadata": {},
     "output_type": "execute_result"
    }
   ],
   "source": [
    "bidx = arr5 % 2 ==0\n",
    "bidx"
   ]
  },
  {
   "cell_type": "code",
   "execution_count": 148,
   "id": "d50c3989",
   "metadata": {},
   "outputs": [
    {
     "data": {
      "text/plain": [
       "array([0, 2, 4, 6, 8])"
      ]
     },
     "execution_count": 148,
     "metadata": {},
     "output_type": "execute_result"
    }
   ],
   "source": [
    "arr5[bidx] # True에 위치한 값을 추출, 1차원 반환"
   ]
  },
  {
   "cell_type": "code",
   "execution_count": 150,
   "id": "a0de6938",
   "metadata": {},
   "outputs": [
    {
     "data": {
      "text/plain": [
       "array([0, 2, 4, 6, 8])"
      ]
     },
     "execution_count": 150,
     "metadata": {},
     "output_type": "execute_result"
    }
   ],
   "source": [
    "arr5[arr5 % 2 == 0]"
   ]
  },
  {
   "cell_type": "code",
   "execution_count": 154,
   "id": "1855d115",
   "metadata": {
    "scrolled": false
   },
   "outputs": [
    {
     "data": {
      "text/html": [
       "<div>\n",
       "<style scoped>\n",
       "    .dataframe tbody tr th:only-of-type {\n",
       "        vertical-align: middle;\n",
       "    }\n",
       "\n",
       "    .dataframe tbody tr th {\n",
       "        vertical-align: top;\n",
       "    }\n",
       "\n",
       "    .dataframe thead th {\n",
       "        text-align: right;\n",
       "    }\n",
       "</style>\n",
       "<table border=\"1\" class=\"dataframe\">\n",
       "  <thead>\n",
       "    <tr style=\"text-align: right;\">\n",
       "      <th></th>\n",
       "      <th>시군구</th>\n",
       "      <th>번지</th>\n",
       "      <th>본번</th>\n",
       "      <th>부번</th>\n",
       "      <th>단지명</th>\n",
       "      <th>전용면적(㎡)</th>\n",
       "      <th>계약년월</th>\n",
       "      <th>계약일</th>\n",
       "      <th>거래금액(만원)</th>\n",
       "      <th>층</th>\n",
       "      <th>건축년도</th>\n",
       "      <th>도로명</th>\n",
       "      <th>해제사유발생일</th>\n",
       "      <th>거래유형</th>\n",
       "      <th>중개사소재지</th>\n",
       "    </tr>\n",
       "  </thead>\n",
       "  <tbody>\n",
       "    <tr>\n",
       "      <th>0</th>\n",
       "      <td>서울특별시 강남구 개포동</td>\n",
       "      <td>658-1</td>\n",
       "      <td>658.0</td>\n",
       "      <td>1.0</td>\n",
       "      <td>개포6차우성아파트1동~8동</td>\n",
       "      <td>79.97</td>\n",
       "      <td>202109</td>\n",
       "      <td>2</td>\n",
       "      <td>220000</td>\n",
       "      <td>2</td>\n",
       "      <td>1987.0</td>\n",
       "      <td>언주로 3</td>\n",
       "      <td>NaN</td>\n",
       "      <td>-</td>\n",
       "      <td>-</td>\n",
       "    </tr>\n",
       "    <tr>\n",
       "      <th>3</th>\n",
       "      <td>서울특별시 강남구 개포동</td>\n",
       "      <td>658-1</td>\n",
       "      <td>658.0</td>\n",
       "      <td>1.0</td>\n",
       "      <td>개포6차우성아파트1동~8동</td>\n",
       "      <td>79.97</td>\n",
       "      <td>202204</td>\n",
       "      <td>21</td>\n",
       "      <td>220000</td>\n",
       "      <td>2</td>\n",
       "      <td>1987.0</td>\n",
       "      <td>언주로 3</td>\n",
       "      <td>NaN</td>\n",
       "      <td>중개거래</td>\n",
       "      <td>서울 강남구</td>\n",
       "    </tr>\n",
       "    <tr>\n",
       "      <th>4</th>\n",
       "      <td>서울특별시 강남구 개포동</td>\n",
       "      <td>658-1</td>\n",
       "      <td>658.0</td>\n",
       "      <td>1.0</td>\n",
       "      <td>개포6차우성아파트1동~8동</td>\n",
       "      <td>79.97</td>\n",
       "      <td>202205</td>\n",
       "      <td>27</td>\n",
       "      <td>216000</td>\n",
       "      <td>2</td>\n",
       "      <td>1987.0</td>\n",
       "      <td>언주로 3</td>\n",
       "      <td>NaN</td>\n",
       "      <td>중개거래</td>\n",
       "      <td>서울 강남구</td>\n",
       "    </tr>\n",
       "    <tr>\n",
       "      <th>7</th>\n",
       "      <td>서울특별시 강남구 개포동</td>\n",
       "      <td>1282</td>\n",
       "      <td>1282.0</td>\n",
       "      <td>0.0</td>\n",
       "      <td>개포래미안포레스트</td>\n",
       "      <td>74.66</td>\n",
       "      <td>202109</td>\n",
       "      <td>16</td>\n",
       "      <td>253000</td>\n",
       "      <td>2</td>\n",
       "      <td>2020.0</td>\n",
       "      <td>개포로 264</td>\n",
       "      <td>NaN</td>\n",
       "      <td>-</td>\n",
       "      <td>-</td>\n",
       "    </tr>\n",
       "    <tr>\n",
       "      <th>19</th>\n",
       "      <td>서울특별시 강남구 개포동</td>\n",
       "      <td>12-2</td>\n",
       "      <td>12.0</td>\n",
       "      <td>2.0</td>\n",
       "      <td>개포자이(12-2)</td>\n",
       "      <td>168.42</td>\n",
       "      <td>202202</td>\n",
       "      <td>7</td>\n",
       "      <td>246000</td>\n",
       "      <td>2</td>\n",
       "      <td>2004.0</td>\n",
       "      <td>개포로109길 69</td>\n",
       "      <td>NaN</td>\n",
       "      <td>중개거래</td>\n",
       "      <td>서울 강남구</td>\n",
       "    </tr>\n",
       "    <tr>\n",
       "      <th>...</th>\n",
       "      <td>...</td>\n",
       "      <td>...</td>\n",
       "      <td>...</td>\n",
       "      <td>...</td>\n",
       "      <td>...</td>\n",
       "      <td>...</td>\n",
       "      <td>...</td>\n",
       "      <td>...</td>\n",
       "      <td>...</td>\n",
       "      <td>...</td>\n",
       "      <td>...</td>\n",
       "      <td>...</td>\n",
       "      <td>...</td>\n",
       "      <td>...</td>\n",
       "      <td>...</td>\n",
       "    </tr>\n",
       "    <tr>\n",
       "      <th>16900</th>\n",
       "      <td>서울특별시 중랑구 신내동</td>\n",
       "      <td>654</td>\n",
       "      <td>654.0</td>\n",
       "      <td>0.0</td>\n",
       "      <td>진로아파트</td>\n",
       "      <td>134.37</td>\n",
       "      <td>202205</td>\n",
       "      <td>30</td>\n",
       "      <td>109000</td>\n",
       "      <td>2</td>\n",
       "      <td>1995.0</td>\n",
       "      <td>신내로17길 41</td>\n",
       "      <td>NaN</td>\n",
       "      <td>중개거래</td>\n",
       "      <td>서울 중랑구</td>\n",
       "    </tr>\n",
       "    <tr>\n",
       "      <th>16901</th>\n",
       "      <td>서울특별시 중랑구 신내동</td>\n",
       "      <td>654</td>\n",
       "      <td>654.0</td>\n",
       "      <td>0.0</td>\n",
       "      <td>진로아파트</td>\n",
       "      <td>134.37</td>\n",
       "      <td>202206</td>\n",
       "      <td>8</td>\n",
       "      <td>110000</td>\n",
       "      <td>2</td>\n",
       "      <td>1995.0</td>\n",
       "      <td>신내로17길 41</td>\n",
       "      <td>NaN</td>\n",
       "      <td>중개거래</td>\n",
       "      <td>서울 중랑구</td>\n",
       "    </tr>\n",
       "    <tr>\n",
       "      <th>16907</th>\n",
       "      <td>서울특별시 중랑구 신내동</td>\n",
       "      <td>656</td>\n",
       "      <td>656.0</td>\n",
       "      <td>0.0</td>\n",
       "      <td>화성.두산아파트</td>\n",
       "      <td>66.96</td>\n",
       "      <td>202203</td>\n",
       "      <td>12</td>\n",
       "      <td>71000</td>\n",
       "      <td>2</td>\n",
       "      <td>1995.0</td>\n",
       "      <td>신내로 155</td>\n",
       "      <td>NaN</td>\n",
       "      <td>중개거래</td>\n",
       "      <td>서울 송파구, 서울 중랑구</td>\n",
       "    </tr>\n",
       "    <tr>\n",
       "      <th>16909</th>\n",
       "      <td>서울특별시 중랑구 신내동</td>\n",
       "      <td>656</td>\n",
       "      <td>656.0</td>\n",
       "      <td>0.0</td>\n",
       "      <td>화성.두산아파트</td>\n",
       "      <td>66.96</td>\n",
       "      <td>202205</td>\n",
       "      <td>9</td>\n",
       "      <td>69000</td>\n",
       "      <td>2</td>\n",
       "      <td>1995.0</td>\n",
       "      <td>신내로 155</td>\n",
       "      <td>NaN</td>\n",
       "      <td>중개거래</td>\n",
       "      <td>서울 송파구, 서울 중랑구</td>\n",
       "    </tr>\n",
       "    <tr>\n",
       "      <th>16944</th>\n",
       "      <td>서울특별시 중랑구 중화동</td>\n",
       "      <td>274-51</td>\n",
       "      <td>274.0</td>\n",
       "      <td>51.0</td>\n",
       "      <td>한영(101)</td>\n",
       "      <td>84.69</td>\n",
       "      <td>202111</td>\n",
       "      <td>4</td>\n",
       "      <td>50000</td>\n",
       "      <td>2</td>\n",
       "      <td>2003.0</td>\n",
       "      <td>동일로144길 74</td>\n",
       "      <td>NaN</td>\n",
       "      <td>중개거래</td>\n",
       "      <td>서울 송파구, 서울 중랑구</td>\n",
       "    </tr>\n",
       "  </tbody>\n",
       "</table>\n",
       "<p>1019 rows × 15 columns</p>\n",
       "</div>"
      ],
      "text/plain": [
       "                 시군구      번지      본번    부번             단지명  전용면적(㎡)    계약년월  \\\n",
       "0      서울특별시 강남구 개포동   658-1   658.0   1.0  개포6차우성아파트1동~8동    79.97  202109   \n",
       "3      서울특별시 강남구 개포동   658-1   658.0   1.0  개포6차우성아파트1동~8동    79.97  202204   \n",
       "4      서울특별시 강남구 개포동   658-1   658.0   1.0  개포6차우성아파트1동~8동    79.97  202205   \n",
       "7      서울특별시 강남구 개포동    1282  1282.0   0.0       개포래미안포레스트    74.66  202109   \n",
       "19     서울특별시 강남구 개포동    12-2    12.0   2.0      개포자이(12-2)   168.42  202202   \n",
       "...              ...     ...     ...   ...             ...      ...     ...   \n",
       "16900  서울특별시 중랑구 신내동     654   654.0   0.0           진로아파트   134.37  202205   \n",
       "16901  서울특별시 중랑구 신내동     654   654.0   0.0           진로아파트   134.37  202206   \n",
       "16907  서울특별시 중랑구 신내동     656   656.0   0.0        화성.두산아파트    66.96  202203   \n",
       "16909  서울특별시 중랑구 신내동     656   656.0   0.0        화성.두산아파트    66.96  202205   \n",
       "16944  서울특별시 중랑구 중화동  274-51   274.0  51.0         한영(101)    84.69  202111   \n",
       "\n",
       "       계약일  거래금액(만원)  층    건축년도         도로명  해제사유발생일  거래유형          중개사소재지  \n",
       "0        2    220000  2  1987.0       언주로 3      NaN     -               -  \n",
       "3       21    220000  2  1987.0       언주로 3      NaN  중개거래          서울 강남구  \n",
       "4       27    216000  2  1987.0       언주로 3      NaN  중개거래          서울 강남구  \n",
       "7       16    253000  2  2020.0     개포로 264      NaN     -               -  \n",
       "19       7    246000  2  2004.0  개포로109길 69      NaN  중개거래          서울 강남구  \n",
       "...    ...       ... ..     ...         ...      ...   ...             ...  \n",
       "16900   30    109000  2  1995.0   신내로17길 41      NaN  중개거래          서울 중랑구  \n",
       "16901    8    110000  2  1995.0   신내로17길 41      NaN  중개거래          서울 중랑구  \n",
       "16907   12     71000  2  1995.0     신내로 155      NaN  중개거래  서울 송파구, 서울 중랑구  \n",
       "16909    9     69000  2  1995.0     신내로 155      NaN  중개거래  서울 송파구, 서울 중랑구  \n",
       "16944    4     50000  2  2003.0  동일로144길 74      NaN  중개거래  서울 송파구, 서울 중랑구  \n",
       "\n",
       "[1019 rows x 15 columns]"
      ]
     },
     "execution_count": 154,
     "metadata": {},
     "output_type": "execute_result"
    }
   ],
   "source": [
    "apt_price[apt_price['층'] == 2]"
   ]
  },
  {
   "cell_type": "code",
   "execution_count": 167,
   "id": "1daaa334",
   "metadata": {},
   "outputs": [
    {
     "data": {
      "text/plain": [
       "78"
      ]
     },
     "execution_count": 167,
     "metadata": {},
     "output_type": "execute_result"
    }
   ],
   "source": [
    "# 서울특별시 강동구 암사동 거래정보만 추출\n",
    "bidx = apt_price['시군구'] == '서울특별시 강동구 암사동'\n",
    "sum(bidx) # True -> 1, False -> 0"
   ]
  },
  {
   "cell_type": "code",
   "execution_count": 166,
   "id": "c7ffeda5",
   "metadata": {
    "scrolled": true
   },
   "outputs": [
    {
     "data": {
      "text/html": [
       "<div>\n",
       "<style scoped>\n",
       "    .dataframe tbody tr th:only-of-type {\n",
       "        vertical-align: middle;\n",
       "    }\n",
       "\n",
       "    .dataframe tbody tr th {\n",
       "        vertical-align: top;\n",
       "    }\n",
       "\n",
       "    .dataframe thead th {\n",
       "        text-align: right;\n",
       "    }\n",
       "</style>\n",
       "<table border=\"1\" class=\"dataframe\">\n",
       "  <thead>\n",
       "    <tr style=\"text-align: right;\">\n",
       "      <th></th>\n",
       "      <th>시군구</th>\n",
       "      <th>번지</th>\n",
       "      <th>본번</th>\n",
       "      <th>부번</th>\n",
       "      <th>단지명</th>\n",
       "      <th>전용면적(㎡)</th>\n",
       "      <th>계약년월</th>\n",
       "      <th>계약일</th>\n",
       "      <th>거래금액(만원)</th>\n",
       "      <th>층</th>\n",
       "      <th>건축년도</th>\n",
       "      <th>도로명</th>\n",
       "      <th>해제사유발생일</th>\n",
       "      <th>거래유형</th>\n",
       "      <th>중개사소재지</th>\n",
       "    </tr>\n",
       "  </thead>\n",
       "  <tbody>\n",
       "    <tr>\n",
       "      <th>1625</th>\n",
       "      <td>서울특별시 강동구 암사동</td>\n",
       "      <td>466-3</td>\n",
       "      <td>466.0</td>\n",
       "      <td>3.0</td>\n",
       "      <td>내일쎄닛빌</td>\n",
       "      <td>111.4000</td>\n",
       "      <td>202205</td>\n",
       "      <td>11</td>\n",
       "      <td>72000</td>\n",
       "      <td>9</td>\n",
       "      <td>2007.0</td>\n",
       "      <td>고덕로20나길 49</td>\n",
       "      <td>NaN</td>\n",
       "      <td>직거래</td>\n",
       "      <td>-</td>\n",
       "    </tr>\n",
       "    <tr>\n",
       "      <th>1626</th>\n",
       "      <td>서울특별시 강동구 암사동</td>\n",
       "      <td>461</td>\n",
       "      <td>461.0</td>\n",
       "      <td>0.0</td>\n",
       "      <td>대원</td>\n",
       "      <td>59.9000</td>\n",
       "      <td>202201</td>\n",
       "      <td>17</td>\n",
       "      <td>72500</td>\n",
       "      <td>12</td>\n",
       "      <td>1998.0</td>\n",
       "      <td>고덕로 52</td>\n",
       "      <td>NaN</td>\n",
       "      <td>중개거래</td>\n",
       "      <td>서울 강남구, 서울 강동구</td>\n",
       "    </tr>\n",
       "    <tr>\n",
       "      <th>1627</th>\n",
       "      <td>서울특별시 강동구 암사동</td>\n",
       "      <td>501-4</td>\n",
       "      <td>501.0</td>\n",
       "      <td>4.0</td>\n",
       "      <td>동양넥스빌</td>\n",
       "      <td>84.6800</td>\n",
       "      <td>202205</td>\n",
       "      <td>10</td>\n",
       "      <td>80000</td>\n",
       "      <td>10</td>\n",
       "      <td>1999.0</td>\n",
       "      <td>상암로 41</td>\n",
       "      <td>NaN</td>\n",
       "      <td>중개거래</td>\n",
       "      <td>서울 강동구</td>\n",
       "    </tr>\n",
       "    <tr>\n",
       "      <th>1628</th>\n",
       "      <td>서울특별시 강동구 암사동</td>\n",
       "      <td>414-2</td>\n",
       "      <td>414.0</td>\n",
       "      <td>2.0</td>\n",
       "      <td>롯데캐슬퍼스트</td>\n",
       "      <td>59.9900</td>\n",
       "      <td>202109</td>\n",
       "      <td>8</td>\n",
       "      <td>129700</td>\n",
       "      <td>18</td>\n",
       "      <td>2008.0</td>\n",
       "      <td>고덕로 131</td>\n",
       "      <td>NaN</td>\n",
       "      <td>-</td>\n",
       "      <td>-</td>\n",
       "    </tr>\n",
       "    <tr>\n",
       "      <th>1629</th>\n",
       "      <td>서울특별시 강동구 암사동</td>\n",
       "      <td>414-2</td>\n",
       "      <td>414.0</td>\n",
       "      <td>2.0</td>\n",
       "      <td>롯데캐슬퍼스트</td>\n",
       "      <td>59.9900</td>\n",
       "      <td>202109</td>\n",
       "      <td>11</td>\n",
       "      <td>125500</td>\n",
       "      <td>3</td>\n",
       "      <td>2008.0</td>\n",
       "      <td>고덕로 131</td>\n",
       "      <td>NaN</td>\n",
       "      <td>-</td>\n",
       "      <td>-</td>\n",
       "    </tr>\n",
       "    <tr>\n",
       "      <th>...</th>\n",
       "      <td>...</td>\n",
       "      <td>...</td>\n",
       "      <td>...</td>\n",
       "      <td>...</td>\n",
       "      <td>...</td>\n",
       "      <td>...</td>\n",
       "      <td>...</td>\n",
       "      <td>...</td>\n",
       "      <td>...</td>\n",
       "      <td>...</td>\n",
       "      <td>...</td>\n",
       "      <td>...</td>\n",
       "      <td>...</td>\n",
       "      <td>...</td>\n",
       "      <td>...</td>\n",
       "    </tr>\n",
       "    <tr>\n",
       "      <th>1698</th>\n",
       "      <td>서울특별시 강동구 암사동</td>\n",
       "      <td>400</td>\n",
       "      <td>400.0</td>\n",
       "      <td>0.0</td>\n",
       "      <td>현대홈타운</td>\n",
       "      <td>84.9800</td>\n",
       "      <td>202204</td>\n",
       "      <td>20</td>\n",
       "      <td>137500</td>\n",
       "      <td>18</td>\n",
       "      <td>2004.0</td>\n",
       "      <td>고덕로27길 36</td>\n",
       "      <td>NaN</td>\n",
       "      <td>중개거래</td>\n",
       "      <td>서울 강동구</td>\n",
       "    </tr>\n",
       "    <tr>\n",
       "      <th>1699</th>\n",
       "      <td>서울특별시 강동구 암사동</td>\n",
       "      <td>400</td>\n",
       "      <td>400.0</td>\n",
       "      <td>0.0</td>\n",
       "      <td>현대홈타운</td>\n",
       "      <td>114.0700</td>\n",
       "      <td>202205</td>\n",
       "      <td>30</td>\n",
       "      <td>155000</td>\n",
       "      <td>11</td>\n",
       "      <td>2004.0</td>\n",
       "      <td>고덕로27길 36</td>\n",
       "      <td>NaN</td>\n",
       "      <td>중개거래</td>\n",
       "      <td>서울 강동구</td>\n",
       "    </tr>\n",
       "    <tr>\n",
       "      <th>1700</th>\n",
       "      <td>서울특별시 강동구 암사동</td>\n",
       "      <td>675</td>\n",
       "      <td>675.0</td>\n",
       "      <td>0.0</td>\n",
       "      <td>힐스테이트 강동 리버뷰</td>\n",
       "      <td>84.9979</td>\n",
       "      <td>202203</td>\n",
       "      <td>29</td>\n",
       "      <td>130000</td>\n",
       "      <td>4</td>\n",
       "      <td>2019.0</td>\n",
       "      <td>올림픽로91길 30</td>\n",
       "      <td>NaN</td>\n",
       "      <td>중개거래</td>\n",
       "      <td>서울 강동구</td>\n",
       "    </tr>\n",
       "    <tr>\n",
       "      <th>1701</th>\n",
       "      <td>서울특별시 강동구 암사동</td>\n",
       "      <td>675</td>\n",
       "      <td>675.0</td>\n",
       "      <td>0.0</td>\n",
       "      <td>힐스테이트 강동 리버뷰</td>\n",
       "      <td>84.9921</td>\n",
       "      <td>202204</td>\n",
       "      <td>1</td>\n",
       "      <td>164000</td>\n",
       "      <td>23</td>\n",
       "      <td>2019.0</td>\n",
       "      <td>올림픽로91길 30</td>\n",
       "      <td>NaN</td>\n",
       "      <td>중개거래</td>\n",
       "      <td>서울 강동구</td>\n",
       "    </tr>\n",
       "    <tr>\n",
       "      <th>1702</th>\n",
       "      <td>서울특별시 강동구 암사동</td>\n",
       "      <td>675</td>\n",
       "      <td>675.0</td>\n",
       "      <td>0.0</td>\n",
       "      <td>힐스테이트 강동 리버뷰</td>\n",
       "      <td>84.9628</td>\n",
       "      <td>202205</td>\n",
       "      <td>6</td>\n",
       "      <td>152000</td>\n",
       "      <td>7</td>\n",
       "      <td>2019.0</td>\n",
       "      <td>올림픽로91길 30</td>\n",
       "      <td>NaN</td>\n",
       "      <td>중개거래</td>\n",
       "      <td>경기 성남분당구</td>\n",
       "    </tr>\n",
       "  </tbody>\n",
       "</table>\n",
       "<p>78 rows × 15 columns</p>\n",
       "</div>"
      ],
      "text/plain": [
       "                시군구     번지     본번   부번           단지명   전용면적(㎡)    계약년월  계약일  \\\n",
       "1625  서울특별시 강동구 암사동  466-3  466.0  3.0         내일쎄닛빌  111.4000  202205   11   \n",
       "1626  서울특별시 강동구 암사동    461  461.0  0.0            대원   59.9000  202201   17   \n",
       "1627  서울특별시 강동구 암사동  501-4  501.0  4.0         동양넥스빌   84.6800  202205   10   \n",
       "1628  서울특별시 강동구 암사동  414-2  414.0  2.0       롯데캐슬퍼스트   59.9900  202109    8   \n",
       "1629  서울특별시 강동구 암사동  414-2  414.0  2.0       롯데캐슬퍼스트   59.9900  202109   11   \n",
       "...             ...    ...    ...  ...           ...       ...     ...  ...   \n",
       "1698  서울특별시 강동구 암사동    400  400.0  0.0         현대홈타운   84.9800  202204   20   \n",
       "1699  서울특별시 강동구 암사동    400  400.0  0.0         현대홈타운  114.0700  202205   30   \n",
       "1700  서울특별시 강동구 암사동    675  675.0  0.0  힐스테이트 강동 리버뷰   84.9979  202203   29   \n",
       "1701  서울특별시 강동구 암사동    675  675.0  0.0  힐스테이트 강동 리버뷰   84.9921  202204    1   \n",
       "1702  서울특별시 강동구 암사동    675  675.0  0.0  힐스테이트 강동 리버뷰   84.9628  202205    6   \n",
       "\n",
       "      거래금액(만원)   층    건축년도         도로명  해제사유발생일  거래유형          중개사소재지  \n",
       "1625     72000   9  2007.0  고덕로20나길 49      NaN   직거래               -  \n",
       "1626     72500  12  1998.0      고덕로 52      NaN  중개거래  서울 강남구, 서울 강동구  \n",
       "1627     80000  10  1999.0      상암로 41      NaN  중개거래          서울 강동구  \n",
       "1628    129700  18  2008.0     고덕로 131      NaN     -               -  \n",
       "1629    125500   3  2008.0     고덕로 131      NaN     -               -  \n",
       "...        ...  ..     ...         ...      ...   ...             ...  \n",
       "1698    137500  18  2004.0   고덕로27길 36      NaN  중개거래          서울 강동구  \n",
       "1699    155000  11  2004.0   고덕로27길 36      NaN  중개거래          서울 강동구  \n",
       "1700    130000   4  2019.0  올림픽로91길 30      NaN  중개거래          서울 강동구  \n",
       "1701    164000  23  2019.0  올림픽로91길 30      NaN  중개거래          서울 강동구  \n",
       "1702    152000   7  2019.0  올림픽로91길 30      NaN  중개거래        경기 성남분당구  \n",
       "\n",
       "[78 rows x 15 columns]"
      ]
     },
     "execution_count": 166,
     "metadata": {},
     "output_type": "execute_result"
    }
   ],
   "source": [
    "apt_price[bidx] #True에 위치하는 행들만 추출"
   ]
  },
  {
   "cell_type": "code",
   "execution_count": 172,
   "id": "5a72220e",
   "metadata": {},
   "outputs": [
    {
     "data": {
      "text/plain": [
       "(2, 4)"
      ]
     },
     "execution_count": 172,
     "metadata": {},
     "output_type": "execute_result"
    }
   ],
   "source": [
    "arr5[0,2],arr5[1,1]"
   ]
  },
  {
   "cell_type": "code",
   "execution_count": 175,
   "id": "d3a4f717",
   "metadata": {},
   "outputs": [
    {
     "data": {
      "text/plain": [
       "array([2, 4])"
      ]
     },
     "execution_count": 175,
     "metadata": {},
     "output_type": "execute_result"
    }
   ],
   "source": [
    "arr5[ [0,1], [2,1]]"
   ]
  },
  {
   "cell_type": "code",
   "execution_count": 176,
   "id": "4654976a",
   "metadata": {},
   "outputs": [
    {
     "data": {
      "text/plain": [
       "array([0, 1, 2])"
      ]
     },
     "execution_count": 176,
     "metadata": {},
     "output_type": "execute_result"
    }
   ],
   "source": [
    "arr5[0,:]"
   ]
  },
  {
   "cell_type": "code",
   "execution_count": 177,
   "id": "614ef5e0",
   "metadata": {},
   "outputs": [
    {
     "data": {
      "text/plain": [
       "array([0, 3, 6])"
      ]
     },
     "execution_count": 177,
     "metadata": {},
     "output_type": "execute_result"
    }
   ],
   "source": [
    "arr5[:,0]"
   ]
  },
  {
   "cell_type": "code",
   "execution_count": 215,
   "id": "52827421",
   "metadata": {},
   "outputs": [
    {
     "data": {
      "text/plain": [
       "array([[0, 1, 2],\n",
       "       [3, 4, 5],\n",
       "       [6, 7, 8]])"
      ]
     },
     "execution_count": 215,
     "metadata": {},
     "output_type": "execute_result"
    }
   ],
   "source": [
    "arr5"
   ]
  },
  {
   "cell_type": "code",
   "execution_count": 208,
   "id": "3fdae12d",
   "metadata": {},
   "outputs": [
    {
     "data": {
      "text/plain": [
       "array([[0, 1, 2],\n",
       "       [6, 7, 8]])"
      ]
     },
     "execution_count": 208,
     "metadata": {},
     "output_type": "execute_result"
    }
   ],
   "source": [
    "arr5[[0,2]\n",
    "     [:2]]"
   ]
  },
  {
   "cell_type": "code",
   "execution_count": 214,
   "id": "82cb3644",
   "metadata": {},
   "outputs": [
    {
     "data": {
      "text/plain": [
       "array([1, 4, 7])"
      ]
     },
     "execution_count": 214,
     "metadata": {},
     "output_type": "execute_result"
    }
   ],
   "source": [
    "b = arr5[:,1]\n",
    "b"
   ]
  },
  {
   "cell_type": "code",
   "execution_count": 216,
   "id": "e156d11e",
   "metadata": {},
   "outputs": [
    {
     "data": {
      "text/plain": [
       "array([[ 0, 10,  2],\n",
       "       [ 3,  4,  5],\n",
       "       [ 6,  7,  8]])"
      ]
     },
     "execution_count": 216,
     "metadata": {},
     "output_type": "execute_result"
    }
   ],
   "source": [
    "b[0]=10\n",
    "arr5"
   ]
  },
  {
   "cell_type": "code",
   "execution_count": 217,
   "id": "118eecbb",
   "metadata": {},
   "outputs": [
    {
     "data": {
      "text/plain": [
       "array([10,  4,  7])"
      ]
     },
     "execution_count": 217,
     "metadata": {},
     "output_type": "execute_result"
    }
   ],
   "source": [
    "b = arr5[:,1].copy() # 복사본\n",
    "b"
   ]
  },
  {
   "cell_type": "code",
   "execution_count": 218,
   "id": "a8d715a5",
   "metadata": {},
   "outputs": [
    {
     "data": {
      "text/plain": [
       "array([[ 0, 10,  2],\n",
       "       [ 3,  4,  5],\n",
       "       [ 6,  7,  8]])"
      ]
     },
     "execution_count": 218,
     "metadata": {},
     "output_type": "execute_result"
    }
   ],
   "source": [
    "b[0] = 1\n",
    "arr5"
   ]
  },
  {
   "cell_type": "code",
   "execution_count": 219,
   "id": "322f69e4",
   "metadata": {},
   "outputs": [
    {
     "data": {
      "text/plain": [
       "(array([0, 0, 0, 1, 2, 2], dtype=int64),\n",
       " array([0, 1, 2, 1, 0, 2], dtype=int64))"
      ]
     },
     "execution_count": 219,
     "metadata": {},
     "output_type": "execute_result"
    }
   ],
   "source": [
    "np.where(arr5 % 2 == 0)"
   ]
  },
  {
   "cell_type": "code",
   "execution_count": 220,
   "id": "4b90ec24",
   "metadata": {},
   "outputs": [
    {
     "data": {
      "text/plain": [
       "array([['짝수', '짝수', '짝수'],\n",
       "       ['홀수', '짝수', '홀수'],\n",
       "       ['짝수', '홀수', '짝수']], dtype='<U2')"
      ]
     },
     "execution_count": 220,
     "metadata": {},
     "output_type": "execute_result"
    }
   ],
   "source": [
    "np.where(arr5 % 2 == 0,'짝수','홀수')"
   ]
  },
  {
   "cell_type": "code",
   "execution_count": 224,
   "id": "ea3d3a57",
   "metadata": {},
   "outputs": [
    {
     "data": {
      "text/plain": [
       "array([['짝수', '짝수', '짝수'],\n",
       "       ['3', '짝수', '5'],\n",
       "       ['짝수', '7', '짝수']], dtype='<U11')"
      ]
     },
     "execution_count": 224,
     "metadata": {},
     "output_type": "execute_result"
    }
   ],
   "source": [
    "# 조건에 맞는 항목은 \"짝수\", 아닐 경우 원래값 유지\n",
    "np.where(arr5 % 2 == 0 ,'짝수',arr5)"
   ]
  },
  {
   "cell_type": "code",
   "execution_count": 231,
   "id": "9b5f636f",
   "metadata": {},
   "outputs": [
    {
     "data": {
      "text/plain": [
       "45"
      ]
     },
     "execution_count": 231,
     "metadata": {},
     "output_type": "execute_result"
    }
   ],
   "source": [
    "arr5.sum()"
   ]
  },
  {
   "cell_type": "code",
   "execution_count": null,
   "id": "cf78fc3b",
   "metadata": {},
   "outputs": [],
   "source": [
    "arr5.sum(axis=0) # column 별 통계\n",
    "arr5.sum(axis=1) # row 별 통계"
   ]
  }
 ],
 "metadata": {
  "kernelspec": {
   "display_name": "Python 3 (ipykernel)",
   "language": "python",
   "name": "python3"
  },
  "language_info": {
   "codemirror_mode": {
    "name": "ipython",
    "version": 3
   },
   "file_extension": ".py",
   "mimetype": "text/x-python",
   "name": "python",
   "nbconvert_exporter": "python",
   "pygments_lexer": "ipython3",
   "version": "3.9.12"
  }
 },
 "nbformat": 4,
 "nbformat_minor": 5
}
