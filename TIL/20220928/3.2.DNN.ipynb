{
 "cells": [
  {
   "cell_type": "markdown",
   "metadata": {
    "id": "WGpzID5HMAUV"
   },
   "source": [
    "# DNN"
   ]
  },
  {
   "cell_type": "markdown",
   "metadata": {
    "id": "wSqd_Gh1MAUp"
   },
   "source": [
    "### 상수 값으로 풀어보는 XOR  예제\n",
    "\n",
    "![xor_nn_1](https://user-images.githubusercontent.com/661959/54298177-9e82f080-45fb-11e9-8bdd-1f86718c6f5d.png)\n",
    "\n",
    "\n"
   ]
  },
  {
   "cell_type": "code",
   "execution_count": 1,
   "metadata": {
    "colab": {
     "base_uri": "https://localhost:8080/"
    },
    "executionInfo": {
     "elapsed": 342,
     "status": "ok",
     "timestamp": 1630192846719,
     "user": {
      "displayName": "김영환",
      "photoUrl": "",
      "userId": "13327260190601243889"
     },
     "user_tz": -540
    },
    "id": "eGgTVZ6nMAUu",
    "outputId": "95d5865d-e4e6-4afc-d773-408a679b38e2"
   },
   "outputs": [
    {
     "name": "stdout",
     "output_type": "stream",
     "text": [
      "\n",
      "Hypothesis:\n",
      "[[0.01118422]\n",
      " [0.99493575]\n",
      " [0.99493575]\n",
      " [0.02438851]] \n",
      "Predicted:\n",
      "[[0.]\n",
      " [1.]\n",
      " [1.]\n",
      " [0.]] \n",
      "Accuracy:\n",
      "1.0\n"
     ]
    }
   ],
   "source": [
    "import tensorflow as tf\n",
    "import numpy as np\n",
    "\n",
    "X = np.array([[0, 0], [0, 1], [1, 0], [1, 1]], dtype=np.float32)\n",
    "Y = np.array([[0], [1], [1], [0]], dtype=np.float32)\n",
    "\n",
    "\n",
    "W1 = tf.Variable(np.array([[5,-7], [5,-7]], dtype=np.float32), name='weight1')\n",
    "b1 = tf.Variable(np.array([[-8, 3]], dtype=np.float32), name='bias1')\n",
    "L1 = tf.sigmoid(tf.matmul(X, W1) + b1)\n",
    "\n",
    "W2 = tf.Variable(np.array([[-11],[-11]], dtype=np.float32), name='weight2')\n",
    "b2 = tf.Variable(np.array([6], dtype=np.float32), name='bias2')\n",
    "hypothesis = tf.sigmoid(tf.matmul(L1, W2) + b2)\n",
    "\n",
    "predicted = tf.cast(hypothesis > 0.5, dtype=tf.float32)\n",
    "accuracy = np.mean(predicted == Y)\n",
    "\n",
    "print(f\"\\nHypothesis:\\n{hypothesis} \\nPredicted:\\n{predicted} \\nAccuracy:\\n{accuracy}\")"
   ]
  },
  {
   "cell_type": "markdown",
   "metadata": {
    "id": "6nPpOeAsMAUz"
   },
   "source": [
    "#### XOR 문제 MLP 학습 예제\n",
    "* 앞서 상수로 풀었던 XOR 문제를 MLP 학습으로 해결"
   ]
  },
  {
   "cell_type": "code",
   "execution_count": 2,
   "metadata": {
    "id": "NYHvcSBDMAU1",
    "outputId": "3c937f04-7ded-4b6a-d1f0-c2ab0d55d6f5"
   },
   "outputs": [
    {
     "name": "stdout",
     "output_type": "stream",
     "text": [
      "step:0,\t cost:0.694770336151123\n",
      "step:500,\t cost:0.6929008960723877\n",
      "step:1000,\t cost:0.6907983422279358\n",
      "step:1500,\t cost:0.685660719871521\n",
      "step:2000,\t cost:0.6681322455406189\n",
      "step:2500,\t cost:0.6143726110458374\n",
      "step:3000,\t cost:0.5017193555831909\n",
      "step:3500,\t cost:0.30418744683265686\n",
      "step:4000,\t cost:0.16250857710838318\n",
      "step:4500,\t cost:0.10023446381092072\n",
      "step:5000,\t cost:0.07013193517923355\n",
      "step:5500,\t cost:0.053208690136671066\n",
      "step:6000,\t cost:0.042575158178806305\n",
      "step:6500,\t cost:0.03534673899412155\n",
      "step:7000,\t cost:0.030143622308969498\n",
      "step:7500,\t cost:0.0262334942817688\n",
      "step:8000,\t cost:0.023195087909698486\n",
      "step:8500,\t cost:0.02077030949294567\n",
      "step:9000,\t cost:0.018792884424328804\n",
      "step:9500,\t cost:0.01715102791786194\n",
      "step:10000,\t cost:0.015767036005854607\n",
      "Hypothesis:[[0.01526494]\n",
      " [0.97919655]\n",
      " [0.9864208 ]\n",
      " [0.01290687]] \n",
      "Predicted:[[0.]\n",
      " [1.]\n",
      " [1.]\n",
      " [0.]] \n",
      "Accuracy:1.0\n",
      "w1:[[ 6.0491767  6.1225863]\n",
      " [-5.7602525 -6.277827 ]], b1:[ 2.8576002 -3.3210492], w2:[[-9.3568  ]\n",
      " [ 9.868228]], b2[4.3378754]\n"
     ]
    }
   ],
   "source": [
    "import tensorflow as tf\n",
    "import numpy as np\n",
    "tf.random.set_seed(777)\n",
    "\n",
    "X = np.array([[0, 0], [0, 1], [1, 0], [1, 1]], dtype=np.float32)\n",
    "y = np.array([[0], [1], [1], [0]], dtype=np.float32)\n",
    "\n",
    "W1 = tf.Variable(tf.random.normal([2, 2], seed=0))\n",
    "b1 = tf.Variable(tf.random.normal([2], seed=0))\n",
    "\n",
    "W2 = tf.Variable(tf.random.normal([2, 1], seed=0))\n",
    "b2 = tf.Variable(tf.random.normal([1], seed=0))\n",
    "\n",
    "lr = 0.1\n",
    "for step in range(10001):\n",
    "    with tf.GradientTape() as tape:\n",
    "        layer1 = tf.sigmoid(tf.matmul(X, W1) + b1)\n",
    "        hypothesis = tf.sigmoid(tf.matmul(layer1, W2) + b2)\n",
    "        cost = tf.reduce_mean(tf.keras.losses.binary_crossentropy(y, hypothesis))\n",
    "        d_W1, d_b1, d_W2, d_b2 = tape.gradient(cost, [W1, b1, W2, b2] )\n",
    "        W1.assign_sub(d_W1 * lr)\n",
    "        b1.assign_sub(d_b1 * lr)\n",
    "        W2.assign_sub(d_W2 * lr)\n",
    "        b2.assign_sub(d_b2 * lr)\n",
    "        if step % 500 == 0:\n",
    "            print(f\"step:{step},\\t cost:{cost}\")\n",
    "\n",
    "predicted = tf.cast(hypothesis > 0.5, dtype=tf.float32)\n",
    "accuracy = np.mean(predicted == Y)\n",
    "\n",
    "print(f\"Hypothesis:{hypothesis} \\nPredicted:{predicted} \\nAccuracy:{accuracy}\")\n",
    "print(f\"w1:{W1.numpy()}, b1:{b1.numpy()}, w2:{W2.numpy()}, b2{b2.numpy()}\")\n"
   ]
  },
  {
   "cell_type": "markdown",
   "metadata": {
    "id": "JRULTT9xMAU7"
   },
   "source": [
    "### Optimizer 적용"
   ]
  },
  {
   "cell_type": "code",
   "execution_count": 3,
   "metadata": {
    "id": "S1pom6zZMAU-",
    "outputId": "ff8b2e6f-a670-4856-fa7f-17f759700d42"
   },
   "outputs": [
    {
     "name": "stdout",
     "output_type": "stream",
     "text": [
      "step:0,\t cost:0.694770336151123\n",
      "step:500,\t cost:0.6866353750228882\n",
      "step:1000,\t cost:0.6217808723449707\n",
      "step:1500,\t cost:0.471737265586853\n",
      "step:2000,\t cost:0.352585107088089\n",
      "step:2500,\t cost:0.2675662338733673\n",
      "step:3000,\t cost:0.2067776322364807\n",
      "step:3500,\t cost:0.1624653935432434\n",
      "step:4000,\t cost:0.12943843007087708\n",
      "step:4500,\t cost:0.10430711507797241\n",
      "step:5000,\t cost:0.08483588695526123\n",
      "Hypothesis:[[0.08504654]\n",
      " [0.9485382 ]\n",
      " [0.8875339 ]\n",
      " [0.07533169]] \n",
      "Predicted:[[0.]\n",
      " [1.]\n",
      " [1.]\n",
      " [0.]] \n",
      "Accuracy:1.0\n",
      "w1:[[ 4.9851465  5.509847 ]\n",
      " [-4.804453  -5.8524785]], b1:[ 3.0071902 -2.8788586], w2:[[-6.8803034]\n",
      " [ 5.4160385]], b2[3.8919454]\n"
     ]
    }
   ],
   "source": [
    "import tensorflow as tf\n",
    "import numpy as np\n",
    "tf.random.set_seed(777)\n",
    "\n",
    "X = np.array([[0, 0], [0, 1], [1, 0], [1, 1]], dtype=np.float32)\n",
    "y = np.array([[0], [1], [1], [0]], dtype=np.float32)\n",
    "\n",
    "W1 = tf.Variable(tf.random.normal([2, 2], seed=0))\n",
    "b1 = tf.Variable(tf.random.normal([2], seed=0))\n",
    "\n",
    "W2 = tf.Variable(tf.random.normal([2, 1], seed=0))\n",
    "b2 = tf.Variable(tf.random.normal([1], seed=0))\n",
    "\n",
    "lr = 0.001\n",
    "opt = tf.keras.optimizers.Adam(lr)\n",
    "for step in range(5001):\n",
    "    with tf.GradientTape() as tape:\n",
    "        layer1 = tf.sigmoid(tf.matmul(X, W1) + b1)\n",
    "        hypothesis = tf.sigmoid(tf.matmul(layer1, W2) + b2)\n",
    "        cost = tf.reduce_mean(tf.keras.losses.binary_crossentropy(y, hypothesis))\n",
    "        d_W1, d_b1, d_W2, d_b2 = tape.gradient(cost, [W1, b1, W2, b2] )\n",
    "        \n",
    "        opt.apply_gradients(zip([d_W1, d_b1, d_W2, d_b2], [W1, b1, W2, b2]))\n",
    "        if step % 500 == 0:\n",
    "            print(f\"step:{step},\\t cost:{cost}\")\n",
    "\n",
    "predicted = tf.cast(hypothesis > 0.5, dtype=tf.float32)\n",
    "accuracy = np.mean(predicted == Y)\n",
    "\n",
    "print(f\"Hypothesis:{hypothesis} \\nPredicted:{predicted} \\nAccuracy:{accuracy}\")\n",
    "print(f\"w1:{W1.numpy()}, b1:{b1.numpy()}, w2:{W2.numpy()}, b2{b2.numpy()}\")\n"
   ]
  },
  {
   "cell_type": "markdown",
   "metadata": {
    "id": "hhYV-QFlMAVH"
   },
   "source": [
    "## Keras로 XOR 문제 해결하기\n"
   ]
  },
  {
   "cell_type": "code",
   "execution_count": 4,
   "metadata": {
    "colab": {
     "base_uri": "https://localhost:8080/"
    },
    "executionInfo": {
     "elapsed": 13857,
     "status": "ok",
     "timestamp": 1630173654365,
     "user": {
      "displayName": "김영환",
      "photoUrl": "",
      "userId": "13327260190601243889"
     },
     "user_tz": -540
    },
    "id": "S-F0awMyMAVO",
    "outputId": "009a7367-566d-4a55-ba05-c68e10c93bd9"
   },
   "outputs": [
    {
     "name": "stdout",
     "output_type": "stream",
     "text": [
      "Model: \"sequential\"\n",
      "_________________________________________________________________\n",
      " Layer (type)                Output Shape              Param #   \n",
      "=================================================================\n",
      " dense (Dense)               (None, 2)                 6         \n",
      "                                                                 \n",
      " dense_1 (Dense)             (None, 1)                 3         \n",
      "                                                                 \n",
      "=================================================================\n",
      "Total params: 9\n",
      "Trainable params: 9\n",
      "Non-trainable params: 0\n",
      "_________________________________________________________________\n",
      "1/1 [==============================] - 0s 143ms/step - loss: 0.2212 - binary_accuracy: 1.0000\n"
     ]
    },
    {
     "data": {
      "text/plain": [
       "[0.22117459774017334, 1.0]"
      ]
     },
     "execution_count": 4,
     "metadata": {},
     "output_type": "execute_result"
    }
   ],
   "source": [
    "import tensorflow as tf\n",
    "import numpy as np\n",
    "tf.random.set_seed(777)\n",
    "\n",
    "X = np.array([[0, 0], [0, 1], [1, 0], [1, 1]], dtype=np.float32)\n",
    "y = np.array([0, 1, 1, 0], dtype=np.float32)\n",
    "\n",
    "model = tf.keras.Sequential([\n",
    "    tf.keras.layers.Dense(2, activation=tf.sigmoid, input_shape=(2,)),\n",
    "    tf.keras.layers.Dense(1, activation=tf.sigmoid)\n",
    "])\n",
    "model.summary()\n",
    "opt = tf.keras.optimizers.Adam()\n",
    "model.compile(loss=tf.keras.losses.binary_crossentropy,\n",
    "              optimizer=opt,\n",
    "              metrics=[tf.keras.metrics.BinaryAccuracy()])\n",
    "model.fit(X, y, epochs=5000, verbose=0)\n",
    "model.evaluate(X, y)"
   ]
  },
  {
   "cell_type": "markdown",
   "metadata": {
    "id": "r3nFFoobMAVW"
   },
   "source": [
    "### Keras 문자열 설정 실습 – XOR 문제"
   ]
  },
  {
   "cell_type": "code",
   "execution_count": 1,
   "metadata": {
    "colab": {
     "base_uri": "https://localhost:8080/"
    },
    "executionInfo": {
     "elapsed": 9333,
     "status": "ok",
     "timestamp": 1630173727513,
     "user": {
      "displayName": "김영환",
      "photoUrl": "",
      "userId": "13327260190601243889"
     },
     "user_tz": -540
    },
    "id": "dpqSvsseMAVX",
    "outputId": "a0e4b428-b5c1-4729-ee6b-59bf15f29247"
   },
   "outputs": [
    {
     "name": "stdout",
     "output_type": "stream",
     "text": [
      "Model: \"sequential\"\n",
      "_________________________________________________________________\n",
      "Layer (type)                 Output Shape              Param #   \n",
      "=================================================================\n",
      "dense (Dense)                (None, 2)                 6         \n",
      "_________________________________________________________________\n",
      "dense_1 (Dense)              (None, 1)                 3         \n",
      "=================================================================\n",
      "Total params: 9\n",
      "Trainable params: 9\n",
      "Non-trainable params: 0\n",
      "_________________________________________________________________\n",
      "1/1 [==============================] - 0s 111ms/step - loss: 0.0965 - accuracy: 1.0000\n"
     ]
    },
    {
     "data": {
      "text/plain": [
       "[0.0964551568031311, 1.0]"
      ]
     },
     "execution_count": 1,
     "metadata": {},
     "output_type": "execute_result"
    }
   ],
   "source": [
    "import tensorflow as tf\n",
    "import numpy as np\n",
    "tf.random.set_seed(777)\n",
    "\n",
    "X = np.array([[0, 0], [0, 1], [1, 0], [1, 1]], dtype=np.float32)\n",
    "y = np.array([0, 1, 1, 0], dtype=np.float32)\n",
    "\n",
    "model = tf.keras.Sequential([\n",
    "    tf.keras.layers.Dense(2, activation='sigmoid', input_shape=(2,)),\n",
    "    tf.keras.layers.Dense(1, activation='sigmoid')\n",
    "])\n",
    "model.summary()\n",
    "model.compile(loss='binary_crossentropy', optimizer='Adam', metrics=['accuracy'])\n",
    "model.fit(X, y, epochs=5000, verbose=0)\n",
    "model.evaluate(X, y)"
   ]
  },
  {
   "cell_type": "code",
   "execution_count": 6,
   "metadata": {
    "colab": {
     "base_uri": "https://localhost:8080/"
    },
    "executionInfo": {
     "elapsed": 273,
     "status": "ok",
     "timestamp": 1630173737364,
     "user": {
      "displayName": "김영환",
      "photoUrl": "",
      "userId": "13327260190601243889"
     },
     "user_tz": -540
    },
    "id": "5_zRxPYg7PTl",
    "outputId": "483c9a8b-4ae2-4415-d319-242804bd49c1"
   },
   "outputs": [
    {
     "data": {
      "text/plain": [
       "[<tf.Variable 'dense_2/kernel:0' shape=(2, 2) dtype=float32, numpy=\n",
       " array([[-5.2121153, -5.172902 ],\n",
       "        [ 4.3940635,  4.151123 ]], dtype=float32)>,\n",
       " <tf.Variable 'dense_2/bias:0' shape=(2,) dtype=float32, numpy=array([-3.5406406, -3.449092 ], dtype=float32)>,\n",
       " <tf.Variable 'dense_3/kernel:0' shape=(2, 1) dtype=float32, numpy=\n",
       " array([[2.7173622],\n",
       "        [2.9893687]], dtype=float32)>,\n",
       " <tf.Variable 'dense_3/bias:0' shape=(1,) dtype=float32, numpy=array([-0.71435183], dtype=float32)>]"
      ]
     },
     "execution_count": 6,
     "metadata": {},
     "output_type": "execute_result"
    }
   ],
   "source": [
    "model.weights"
   ]
  },
  {
   "cell_type": "markdown",
   "metadata": {
    "id": "vSMXxFC2MAVY"
   },
   "source": [
    "## 회귀 문제 실습 – 보스턴 주택 가격"
   ]
  },
  {
   "cell_type": "code",
   "execution_count": 14,
   "metadata": {
    "colab": {
     "base_uri": "https://localhost:8080/"
    },
    "executionInfo": {
     "elapsed": 2917,
     "status": "ok",
     "timestamp": 1630192224114,
     "user": {
      "displayName": "김영환",
      "photoUrl": "",
      "userId": "13327260190601243889"
     },
     "user_tz": -540
    },
    "id": "gsZKCqeyMAVb",
    "outputId": "0b72678c-eeb3-40ec-bafa-0f82774fa924",
    "scrolled": true
   },
   "outputs": [
    {
     "name": "stdout",
     "output_type": "stream",
     "text": [
      "(404, 13) (102, 13)\n",
      "[  1.23247   0.        8.14      0.        0.538     6.142    91.7\n",
      "   3.9769    4.      307.       21.      396.9      18.72   ]\n",
      "[-0.27224633 -0.48361547 -0.43576161 -0.25683275 -0.1652266  -0.1764426\n",
      "  0.81306188  0.1166983  -0.62624905 -0.59517003  1.14850044  0.44807713\n",
      "  0.8252202 ]\n",
      "Epoch 1/50\n",
      "7/7 [==============================] - 1s 25ms/step - loss: 545.4971 - mae: 21.4531 - val_loss: 586.9987 - val_mae: 22.3739\n",
      "Epoch 2/50\n",
      "7/7 [==============================] - 0s 9ms/step - loss: 502.0697 - mae: 20.3607 - val_loss: 543.4505 - val_mae: 21.3564\n",
      "Epoch 3/50\n",
      "7/7 [==============================] - 0s 8ms/step - loss: 460.0361 - mae: 19.2891 - val_loss: 496.8575 - val_mae: 20.2411\n",
      "Epoch 4/50\n",
      "7/7 [==============================] - 0s 8ms/step - loss: 415.1350 - mae: 18.0995 - val_loss: 445.7097 - val_mae: 18.9819\n",
      "Epoch 5/50\n",
      "7/7 [==============================] - 0s 8ms/step - loss: 366.2819 - mae: 16.7552 - val_loss: 390.9045 - val_mae: 17.5726\n",
      "Epoch 6/50\n",
      "7/7 [==============================] - 0s 8ms/step - loss: 314.8718 - mae: 15.3621 - val_loss: 334.9512 - val_mae: 16.0008\n",
      "Epoch 7/50\n",
      "7/7 [==============================] - 0s 9ms/step - loss: 263.2692 - mae: 13.8384 - val_loss: 277.6808 - val_mae: 14.3155\n",
      "Epoch 8/50\n",
      "7/7 [==============================] - 0s 8ms/step - loss: 212.7897 - mae: 12.2662 - val_loss: 223.5581 - val_mae: 12.6887\n",
      "Epoch 9/50\n",
      "7/7 [==============================] - 0s 8ms/step - loss: 165.9523 - mae: 10.6496 - val_loss: 175.8597 - val_mae: 11.0393\n",
      "Epoch 10/50\n",
      "7/7 [==============================] - 0s 8ms/step - loss: 126.2802 - mae: 9.1164 - val_loss: 133.5211 - val_mae: 9.2726\n",
      "Epoch 11/50\n",
      "7/7 [==============================] - 0s 8ms/step - loss: 93.7140 - mae: 7.6828 - val_loss: 102.3081 - val_mae: 7.8673\n",
      "Epoch 12/50\n",
      "7/7 [==============================] - 0s 8ms/step - loss: 71.1781 - mae: 6.5517 - val_loss: 79.1718 - val_mae: 6.7264\n",
      "Epoch 13/50\n",
      "7/7 [==============================] - 0s 8ms/step - loss: 55.4347 - mae: 5.6683 - val_loss: 63.4023 - val_mae: 5.9685\n",
      "Epoch 14/50\n",
      "7/7 [==============================] - 0s 8ms/step - loss: 45.5264 - mae: 5.0833 - val_loss: 53.2690 - val_mae: 5.4563\n",
      "Epoch 15/50\n",
      "7/7 [==============================] - 0s 8ms/step - loss: 38.5292 - mae: 4.6284 - val_loss: 45.3670 - val_mae: 5.0709\n",
      "Epoch 16/50\n",
      "7/7 [==============================] - 0s 8ms/step - loss: 34.0582 - mae: 4.2813 - val_loss: 40.3734 - val_mae: 4.7723\n",
      "Epoch 17/50\n",
      "7/7 [==============================] - 0s 8ms/step - loss: 30.1069 - mae: 3.9810 - val_loss: 35.9623 - val_mae: 4.4838\n",
      "Epoch 18/50\n",
      "7/7 [==============================] - 0s 8ms/step - loss: 27.1967 - mae: 3.7147 - val_loss: 32.3746 - val_mae: 4.2638\n",
      "Epoch 19/50\n",
      "7/7 [==============================] - 0s 8ms/step - loss: 24.8622 - mae: 3.5444 - val_loss: 29.8613 - val_mae: 4.0926\n",
      "Epoch 20/50\n",
      "7/7 [==============================] - 0s 8ms/step - loss: 23.1651 - mae: 3.4233 - val_loss: 27.9253 - val_mae: 3.9621\n",
      "Epoch 21/50\n",
      "7/7 [==============================] - 0s 8ms/step - loss: 21.5863 - mae: 3.2856 - val_loss: 25.7206 - val_mae: 3.8085\n",
      "Epoch 22/50\n",
      "7/7 [==============================] - 0s 8ms/step - loss: 20.2606 - mae: 3.1444 - val_loss: 24.4048 - val_mae: 3.6996\n",
      "Epoch 23/50\n",
      "7/7 [==============================] - 0s 7ms/step - loss: 19.4836 - mae: 3.0779 - val_loss: 23.4576 - val_mae: 3.6554\n",
      "Epoch 24/50\n",
      "7/7 [==============================] - 0s 7ms/step - loss: 18.5614 - mae: 2.9770 - val_loss: 22.6596 - val_mae: 3.6157\n",
      "Epoch 25/50\n",
      "7/7 [==============================] - 0s 7ms/step - loss: 17.9363 - mae: 2.9366 - val_loss: 21.1312 - val_mae: 3.4521\n",
      "Epoch 26/50\n",
      "7/7 [==============================] - 0s 7ms/step - loss: 17.0645 - mae: 2.8527 - val_loss: 20.4796 - val_mae: 3.3722\n",
      "Epoch 27/50\n",
      "7/7 [==============================] - 0s 7ms/step - loss: 16.1670 - mae: 2.7605 - val_loss: 19.6854 - val_mae: 3.2978\n",
      "Epoch 28/50\n",
      "7/7 [==============================] - 0s 7ms/step - loss: 15.7672 - mae: 2.7295 - val_loss: 19.0468 - val_mae: 3.2351\n",
      "Epoch 29/50\n",
      "7/7 [==============================] - 0s 7ms/step - loss: 15.0286 - mae: 2.6686 - val_loss: 18.0700 - val_mae: 3.1442\n",
      "Epoch 30/50\n",
      "7/7 [==============================] - 0s 7ms/step - loss: 14.4194 - mae: 2.6176 - val_loss: 17.7925 - val_mae: 3.0779\n",
      "Epoch 31/50\n",
      "7/7 [==============================] - 0s 7ms/step - loss: 14.0800 - mae: 2.5943 - val_loss: 17.0360 - val_mae: 3.0818\n",
      "Epoch 32/50\n",
      "7/7 [==============================] - 0s 7ms/step - loss: 13.7764 - mae: 2.5748 - val_loss: 16.5338 - val_mae: 2.9759\n",
      "Epoch 33/50\n",
      "7/7 [==============================] - 0s 7ms/step - loss: 13.0402 - mae: 2.4730 - val_loss: 17.4587 - val_mae: 3.1854\n",
      "Epoch 34/50\n",
      "7/7 [==============================] - 0s 7ms/step - loss: 12.8601 - mae: 2.4913 - val_loss: 16.0643 - val_mae: 2.9947\n",
      "Epoch 35/50\n",
      "7/7 [==============================] - 0s 7ms/step - loss: 12.5515 - mae: 2.4382 - val_loss: 15.5395 - val_mae: 2.9387\n",
      "Epoch 36/50\n",
      "7/7 [==============================] - 0s 7ms/step - loss: 12.1490 - mae: 2.3961 - val_loss: 15.4809 - val_mae: 2.9042\n",
      "Epoch 37/50\n",
      "7/7 [==============================] - 0s 7ms/step - loss: 12.0630 - mae: 2.4363 - val_loss: 15.2619 - val_mae: 2.8846\n",
      "Epoch 38/50\n",
      "7/7 [==============================] - 0s 7ms/step - loss: 11.7249 - mae: 2.3913 - val_loss: 14.9623 - val_mae: 2.9334\n",
      "Epoch 39/50\n",
      "7/7 [==============================] - 0s 7ms/step - loss: 11.4767 - mae: 2.3375 - val_loss: 14.9676 - val_mae: 2.9107\n",
      "Epoch 40/50\n",
      "7/7 [==============================] - 0s 7ms/step - loss: 11.2422 - mae: 2.3096 - val_loss: 17.2425 - val_mae: 3.1391\n",
      "Epoch 41/50\n",
      "7/7 [==============================] - 0s 7ms/step - loss: 11.2606 - mae: 2.3590 - val_loss: 14.7414 - val_mae: 2.9534\n",
      "Epoch 42/50\n",
      "7/7 [==============================] - 0s 7ms/step - loss: 10.7390 - mae: 2.2584 - val_loss: 15.8768 - val_mae: 2.9832\n",
      "Epoch 43/50\n",
      "7/7 [==============================] - 0s 7ms/step - loss: 10.8582 - mae: 2.3044 - val_loss: 14.3151 - val_mae: 2.8147\n",
      "Epoch 44/50\n",
      "7/7 [==============================] - 0s 7ms/step - loss: 10.4333 - mae: 2.2519 - val_loss: 15.1963 - val_mae: 2.9608\n",
      "Epoch 45/50\n",
      "7/7 [==============================] - 0s 7ms/step - loss: 10.5271 - mae: 2.2493 - val_loss: 14.1275 - val_mae: 2.7678\n",
      "Epoch 46/50\n",
      "7/7 [==============================] - 0s 7ms/step - loss: 10.2163 - mae: 2.2258 - val_loss: 14.0386 - val_mae: 2.8176\n",
      "Epoch 47/50\n",
      "7/7 [==============================] - 0s 7ms/step - loss: 9.9743 - mae: 2.1783 - val_loss: 13.9252 - val_mae: 2.7532\n",
      "Epoch 48/50\n",
      "7/7 [==============================] - 0s 7ms/step - loss: 9.9445 - mae: 2.2106 - val_loss: 13.5307 - val_mae: 2.7965\n",
      "Epoch 49/50\n",
      "7/7 [==============================] - 0s 7ms/step - loss: 9.8396 - mae: 2.1699 - val_loss: 14.0391 - val_mae: 2.8719\n",
      "Epoch 50/50\n",
      "7/7 [==============================] - 0s 7ms/step - loss: 9.6877 - mae: 2.1500 - val_loss: 14.4764 - val_mae: 2.9195\n",
      "4/4 [==============================] - 0s 2ms/step - loss: 22.6621 - mae: 3.1139\n"
     ]
    },
    {
     "data": {
      "text/plain": [
       "[22.662094116210938, 3.113893747329712]"
      ]
     },
     "execution_count": 14,
     "metadata": {},
     "output_type": "execute_result"
    }
   ],
   "source": [
    "from tensorflow.keras.datasets import boston_housing\n",
    "from tensorflow.keras import models, layers\n",
    "\n",
    "(X_train, y_train), (X_test, y_test) = boston_housing.load_data()\n",
    "print(X_train.shape, X_test.shape)\n",
    "print(X_train[0])\n",
    "\n",
    "mean = X_train.mean(axis=0)\n",
    "X_train -= mean\n",
    "std = X_train.std(axis=0)\n",
    "X_train /= std \n",
    "\n",
    "X_test -=mean \n",
    "X_test /=std\n",
    "print(X_train[0])\n",
    "\n",
    "model = models.Sequential()\n",
    "model.add(layers.Dense(64, activation='relu'\n",
    "               , input_shape=(X_train.shape[1],)))\n",
    "model.add(layers.Dense(64, activation='relu'))\n",
    "model.add(layers.Dense(1))\n",
    "model.compile(optimizer='rmsprop', loss='mse',metrics=['mae'])\n",
    "\n",
    "history = model.fit(X_train, y_train ,epochs =50, batch_size=50, validation_split=0.2)\n",
    "model.evaluate(X_test, y_test)"
   ]
  },
  {
   "cell_type": "code",
   "execution_count": 15,
   "metadata": {},
   "outputs": [
    {
     "data": {
      "text/plain": [
       "array([[15.546822]], dtype=float32)"
      ]
     },
     "execution_count": 15,
     "metadata": {},
     "output_type": "execute_result"
    }
   ],
   "source": [
    "model.predict([[-0.27224633, -0.48361547, -0.43576161, -0.25683275, -0.1652266,  -0.1764426,\n",
    "  0.81306188,  0.1166983,  -0.62624905, -0.59517003,  1.14850044,  0.44807713,\n",
    "  0.8252202 ]])"
   ]
  },
  {
   "cell_type": "code",
   "execution_count": 11,
   "metadata": {},
   "outputs": [
    {
     "name": "stdout",
     "output_type": "stream",
     "text": [
      "15.2\n"
     ]
    }
   ],
   "source": [
    "print(y_train[0])"
   ]
  },
  {
   "cell_type": "code",
   "execution_count": 8,
   "metadata": {
    "colab": {
     "base_uri": "https://localhost:8080/",
     "height": 608
    },
    "executionInfo": {
     "elapsed": 934,
     "status": "ok",
     "timestamp": 1630192538425,
     "user": {
      "displayName": "김영환",
      "photoUrl": "",
      "userId": "13327260190601243889"
     },
     "user_tz": -540
    },
    "id": "iXvRj_p2MAVf",
    "outputId": "925bb3d7-fb85-4ffd-eba6-6454a114db32"
   },
   "outputs": [
    {
     "name": "stdout",
     "output_type": "stream",
     "text": [
      "dict_keys(['loss', 'mae', 'val_loss', 'val_mae'])\n"
     ]
    },
    {
     "data": {
      "image/png": "[encoded data removed]",
      "text/plain": [
       "<Figure size 432x288 with 1 Axes>"
      ]
     },
     "metadata": {
      "needs_background": "light"
     },
     "output_type": "display_data"
    },
    {
     "data": {
      "text/plain": [
       "<matplotlib.legend.Legend at 0x1e367127f40>"
      ]
     },
     "execution_count": 8,
     "metadata": {},
     "output_type": "execute_result"
    },
    {
     "data": {
      "image/png": "[encoded data removed]",
      "text/plain": [
       "<Figure size 432x288 with 1 Axes>"
      ]
     },
     "metadata": {
      "needs_background": "light"
     },
     "output_type": "display_data"
    }
   ],
   "source": [
    "import matplotlib.pyplot as plt\n",
    "\n",
    "print(history.history.keys())\n",
    "mae = history.history['mae']\n",
    "val_mae = history.history['val_mae']\n",
    "loss = history.history['loss']\n",
    "val_loss = history.history['val_loss']\n",
    "\n",
    "epochs = range(1, len(mae) + 1)\n",
    "\n",
    "plt.plot(epochs, loss, label='Training loss')\n",
    "plt.plot(epochs, val_loss, label='Validation loss')\n",
    "plt.title('Training and validation loss')\n",
    "plt.xlabel('Epochs')\n",
    "plt.ylabel('Loss')\n",
    "plt.legend()\n",
    "plt.show()\n",
    "plt.plot(epochs, mae, label='Training mae')\n",
    "plt.plot(epochs, val_mae, label='Validation mae')\n",
    "plt.title('Training and validation mae')\n",
    "plt.xlabel('Epochs')\n",
    "plt.ylabel('Loss')\n",
    "plt.legend()"
   ]
  },
  {
   "cell_type": "markdown",
   "metadata": {
    "id": "GvKo2jOgMAVl"
   },
   "source": [
    "### 이진분류 실습 -  IMDB"
   ]
  },
  {
   "cell_type": "code",
   "execution_count": 9,
   "metadata": {
    "colab": {
     "base_uri": "https://localhost:8080/"
    },
    "executionInfo": {
     "elapsed": 5632,
     "status": "ok",
     "timestamp": 1630192550403,
     "user": {
      "displayName": "김영환",
      "photoUrl": "",
      "userId": "13327260190601243889"
     },
     "user_tz": -540
    },
    "id": "Hjq3IEvdMAVm",
    "outputId": "2fa3df87-999c-40c3-a09b-ad7a20602db6"
   },
   "outputs": [
    {
     "name": "stdout",
     "output_type": "stream",
     "text": [
      "Downloading data from https://storage.googleapis.com/tensorflow/tf-keras-datasets/imdb.npz\n",
      "17464789/17464789 [==============================] - 1s 0us/step\n",
      "(25000,) (25000,)\n"
     ]
    }
   ],
   "source": [
    "from tensorflow.keras.datasets import imdb\n",
    "\n",
    "(train_data, y_train), (test_data, y_test) = imdb.load_data(num_words = 10000)\n",
    "print(train_data.shape, test_data.shape)"
   ]
  },
  {
   "cell_type": "code",
   "execution_count": 10,
   "metadata": {
    "colab": {
     "base_uri": "https://localhost:8080/"
    },
    "executionInfo": {
     "elapsed": 256,
     "status": "ok",
     "timestamp": 1630192552819,
     "user": {
      "displayName": "김영환",
      "photoUrl": "",
      "userId": "13327260190601243889"
     },
     "user_tz": -540
    },
    "id": "j4FPNA6jMAVn",
    "outputId": "8370ce32-7673-4d96-c3ee-198aa494780a"
   },
   "outputs": [
    {
     "name": "stdout",
     "output_type": "stream",
     "text": [
      "[list([1, 14, 22, 16, 43, 530, 973, 1622, 1385, 65, 458, 4468, 66, 3941, 4, 173, 36, 256, 5, 25, 100, 43, 838, 112, 50, 670, 2, 9, 35, 480, 284, 5, 150, 4, 172, 112, 167, 2, 336, 385, 39, 4, 172, 4536, 1111, 17, 546, 38, 13, 447, 4, 192, 50, 16, 6, 147, 2025, 19, 14, 22, 4, 1920, 4613, 469, 4, 22, 71, 87, 12, 16, 43, 530, 38, 76, 15, 13, 1247, 4, 22, 17, 515, 17, 12, 16, 626, 18, 2, 5, 62, 386, 12, 8, 316, 8, 106, 5, 4, 2223, 5244, 16, 480, 66, 3785, 33, 4, 130, 12, 16, 38, 619, 5, 25, 124, 51, 36, 135, 48, 25, 1415, 33, 6, 22, 12, 215, 28, 77, 52, 5, 14, 407, 16, 82, 2, 8, 4, 107, 117, 5952, 15, 256, 4, 2, 7, 3766, 5, 723, 36, 71, 43, 530, 476, 26, 400, 317, 46, 7, 4, 2, 1029, 13, 104, 88, 4, 381, 15, 297, 98, 32, 2071, 56, 26, 141, 6, 194, 7486, 18, 4, 226, 22, 21, 134, 476, 26, 480, 5, 144, 30, 5535, 18, 51, 36, 28, 224, 92, 25, 104, 4, 226, 65, 16, 38, 1334, 88, 12, 16, 283, 5, 16, 4472, 113, 103, 32, 15, 16, 5345, 19, 178, 32])\n",
      " list([1, 194, 1153, 194, 8255, 78, 228, 5, 6, 1463, 4369, 5012, 134, 26, 4, 715, 8, 118, 1634, 14, 394, 20, 13, 119, 954, 189, 102, 5, 207, 110, 3103, 21, 14, 69, 188, 8, 30, 23, 7, 4, 249, 126, 93, 4, 114, 9, 2300, 1523, 5, 647, 4, 116, 9, 35, 8163, 4, 229, 9, 340, 1322, 4, 118, 9, 4, 130, 4901, 19, 4, 1002, 5, 89, 29, 952, 46, 37, 4, 455, 9, 45, 43, 38, 1543, 1905, 398, 4, 1649, 26, 6853, 5, 163, 11, 3215, 2, 4, 1153, 9, 194, 775, 7, 8255, 2, 349, 2637, 148, 605, 2, 8003, 15, 123, 125, 68, 2, 6853, 15, 349, 165, 4362, 98, 5, 4, 228, 9, 43, 2, 1157, 15, 299, 120, 5, 120, 174, 11, 220, 175, 136, 50, 9, 4373, 228, 8255, 5, 2, 656, 245, 2350, 5, 4, 9837, 131, 152, 491, 18, 2, 32, 7464, 1212, 14, 9, 6, 371, 78, 22, 625, 64, 1382, 9, 8, 168, 145, 23, 4, 1690, 15, 16, 4, 1355, 5, 28, 6, 52, 154, 462, 33, 89, 78, 285, 16, 145, 95])]\n",
      "[1 0]\n"
     ]
    }
   ],
   "source": [
    "print(train_data[:2])\n",
    "print(y_train[:2])"
   ]
  },
  {
   "cell_type": "code",
   "execution_count": 11,
   "metadata": {
    "colab": {
     "base_uri": "https://localhost:8080/",
     "height": 178
    },
    "executionInfo": {
     "elapsed": 254,
     "status": "ok",
     "timestamp": 1630192556671,
     "user": {
      "displayName": "김영환",
      "photoUrl": "",
      "userId": "13327260190601243889"
     },
     "user_tz": -540
    },
    "id": "iBEEk4gWMAVq",
    "outputId": "e6e1d7fe-8c6c-490c-c06b-240d5a7d2d52"
   },
   "outputs": [
    {
     "name": "stdout",
     "output_type": "stream",
     "text": [
      "Downloading data from https://storage.googleapis.com/tensorflow/tf-keras-datasets/imdb_word_index.json\n",
      "1641221/1641221 [==============================] - 0s 0us/step\n"
     ]
    },
    {
     "data": {
      "text/plain": [
       "\"? this film was just brilliant casting location scenery story direction everyone's really suited the part they played and you could just imagine being there robert ? is an amazing actor and now the same being director ? father came from the same scottish island as myself so i loved the fact there was a real connection with this film the witty remarks throughout the film were great it was just brilliant so much that i bought the film as soon as it was released for ? and would recommend it to everyone to watch and the fly fishing was amazing really cried at the end it was so sad and you know what they say if you cry at a film it must have been good and this definitely was also ? to the two little boy's that played the ? of norman and paul they were just brilliant children are often left out of the ? list i think because the stars that play them all grown up are such a big profile for the whole film but these children are amazing and should be praised for what they have done don't you think the whole story was so lovely because it was true and was someone's life after all that was shared with us all\""
      ]
     },
     "execution_count": 11,
     "metadata": {},
     "output_type": "execute_result"
    }
   ],
   "source": [
    "word_index = imdb.get_word_index()\n",
    "reverse_word_index = dict([(value, key) for (key, value) in word_index.items()])\n",
    "decoded_review = ' '.join([reverse_word_index.get(i -3, '?') for i in train_data[0]])\n",
    "decoded_review"
   ]
  },
  {
   "cell_type": "code",
   "execution_count": 12,
   "metadata": {
    "colab": {
     "base_uri": "https://localhost:8080/"
    },
    "executionInfo": {
     "elapsed": 3902,
     "status": "ok",
     "timestamp": 1630192569900,
     "user": {
      "displayName": "김영환",
      "photoUrl": "",
      "userId": "13327260190601243889"
     },
     "user_tz": -540
    },
    "id": "JDOR8R6PMAVt",
    "outputId": "882b0f77-b151-48d9-eee6-356819881eb4"
   },
   "outputs": [
    {
     "data": {
      "text/plain": [
       "array([[0., 1., 1., ..., 0., 0., 0.],\n",
       "       [0., 1., 1., ..., 0., 0., 0.],\n",
       "       [0., 1., 1., ..., 0., 0., 0.],\n",
       "       ...,\n",
       "       [0., 1., 1., ..., 0., 0., 0.],\n",
       "       [0., 1., 1., ..., 0., 0., 0.],\n",
       "       [0., 1., 1., ..., 0., 0., 0.]])"
      ]
     },
     "execution_count": 12,
     "metadata": {},
     "output_type": "execute_result"
    }
   ],
   "source": [
    "import numpy as np\n",
    "\n",
    "# 10000개의 단어 중에 review sample에서 사용한 단어만 1로 채우기\n",
    "def vectorize_sequences(sequences, dimension=10000):\n",
    "    results = np.zeros((len(sequences), dimension))\n",
    "    for i, sequence in enumerate(sequences):\n",
    "        results[i, sequence] = 1.\n",
    "    return results\n",
    "\n",
    "X_train = vectorize_sequences(train_data)\n",
    "X_test = vectorize_sequences(test_data)\n",
    "X_train"
   ]
  },
  {
   "cell_type": "code",
   "execution_count": 13,
   "metadata": {
    "colab": {
     "base_uri": "https://localhost:8080/"
    },
    "executionInfo": {
     "elapsed": 42322,
     "status": "ok",
     "timestamp": 1630192645658,
     "user": {
      "displayName": "김영환",
      "photoUrl": "",
      "userId": "13327260190601243889"
     },
     "user_tz": -540
    },
    "id": "RUNTwrwOMAVv",
    "outputId": "07c1bc04-7627-4e63-c2de-d64a2ebad710"
   },
   "outputs": [
    {
     "name": "stdout",
     "output_type": "stream",
     "text": [
      "Model: \"sequential_3\"\n",
      "_________________________________________________________________\n",
      " Layer (type)                Output Shape              Param #   \n",
      "=================================================================\n",
      " dense_7 (Dense)             (None, 16)                160016    \n",
      "                                                                 \n",
      " dense_8 (Dense)             (None, 16)                272       \n",
      "                                                                 \n",
      " dense_9 (Dense)             (None, 1)                 17        \n",
      "                                                                 \n",
      "=================================================================\n",
      "Total params: 160,305\n",
      "Trainable params: 160,305\n",
      "Non-trainable params: 0\n",
      "_________________________________________________________________\n",
      "Epoch 1/20\n",
      "40/40 [==============================] - 2s 23ms/step - loss: 0.4813 - accuracy: 0.8063 - val_loss: 0.3918 - val_accuracy: 0.8492\n",
      "Epoch 2/20\n",
      "40/40 [==============================] - 1s 15ms/step - loss: 0.2856 - accuracy: 0.9073 - val_loss: 0.3175 - val_accuracy: 0.8720\n",
      "Epoch 3/20\n",
      "40/40 [==============================] - 1s 15ms/step - loss: 0.2141 - accuracy: 0.9280 - val_loss: 0.2780 - val_accuracy: 0.8898\n",
      "Epoch 4/20\n",
      "40/40 [==============================] - 1s 16ms/step - loss: 0.1736 - accuracy: 0.9406 - val_loss: 0.2728 - val_accuracy: 0.8958\n",
      "Epoch 5/20\n",
      "40/40 [==============================] - 1s 15ms/step - loss: 0.1463 - accuracy: 0.9509 - val_loss: 0.2833 - val_accuracy: 0.8918\n",
      "Epoch 6/20\n",
      "40/40 [==============================] - 1s 14ms/step - loss: 0.1247 - accuracy: 0.9591 - val_loss: 0.3402 - val_accuracy: 0.8750\n",
      "Epoch 7/20\n",
      "40/40 [==============================] - 1s 15ms/step - loss: 0.1085 - accuracy: 0.9636 - val_loss: 0.3174 - val_accuracy: 0.8854\n",
      "Epoch 8/20\n",
      "40/40 [==============================] - 1s 16ms/step - loss: 0.0908 - accuracy: 0.9711 - val_loss: 0.3367 - val_accuracy: 0.8844\n",
      "Epoch 9/20\n",
      "40/40 [==============================] - 1s 14ms/step - loss: 0.0788 - accuracy: 0.9758 - val_loss: 0.3625 - val_accuracy: 0.8832\n",
      "Epoch 10/20\n",
      "40/40 [==============================] - 1s 15ms/step - loss: 0.0651 - accuracy: 0.9807 - val_loss: 0.3911 - val_accuracy: 0.8796\n",
      "Epoch 11/20\n",
      "40/40 [==============================] - 1s 15ms/step - loss: 0.0553 - accuracy: 0.9844 - val_loss: 0.4260 - val_accuracy: 0.8766\n",
      "Epoch 12/20\n",
      "40/40 [==============================] - 1s 16ms/step - loss: 0.0437 - accuracy: 0.9890 - val_loss: 0.4499 - val_accuracy: 0.8750\n",
      "Epoch 13/20\n",
      "40/40 [==============================] - 1s 17ms/step - loss: 0.0391 - accuracy: 0.9897 - val_loss: 0.4849 - val_accuracy: 0.8734\n",
      "Epoch 14/20\n",
      "40/40 [==============================] - 1s 19ms/step - loss: 0.0301 - accuracy: 0.9935 - val_loss: 0.5078 - val_accuracy: 0.8730\n",
      "Epoch 15/20\n",
      "40/40 [==============================] - 1s 18ms/step - loss: 0.0250 - accuracy: 0.9943 - val_loss: 0.5609 - val_accuracy: 0.8734\n",
      "Epoch 16/20\n",
      "40/40 [==============================] - 1s 17ms/step - loss: 0.0208 - accuracy: 0.9952 - val_loss: 0.5796 - val_accuracy: 0.8700\n",
      "Epoch 17/20\n",
      "40/40 [==============================] - 1s 18ms/step - loss: 0.0151 - accuracy: 0.9976 - val_loss: 0.6223 - val_accuracy: 0.8680\n",
      "Epoch 18/20\n",
      "40/40 [==============================] - 1s 17ms/step - loss: 0.0127 - accuracy: 0.9977 - val_loss: 0.6531 - val_accuracy: 0.8686\n",
      "Epoch 19/20\n",
      "40/40 [==============================] - 1s 16ms/step - loss: 0.0105 - accuracy: 0.9980 - val_loss: 0.6943 - val_accuracy: 0.8676\n",
      "Epoch 20/20\n",
      "40/40 [==============================] - 1s 14ms/step - loss: 0.0095 - accuracy: 0.9980 - val_loss: 0.7151 - val_accuracy: 0.8700\n"
     ]
    }
   ],
   "source": [
    "from tensorflow.keras import models\n",
    "from tensorflow.keras import layers\n",
    "\n",
    "model = models.Sequential()\n",
    "model.add(layers.Dense(16, activation='relu', input_shape=(10000,)))\n",
    "model.add(layers.Dense(16, activation='relu'))\n",
    "model.add(layers.Dense(1, activation='sigmoid'))\n",
    "model.compile(optimizer = 'rmsprop',\n",
    "             loss='binary_crossentropy',\n",
    "             metrics=['accuracy'])\n",
    "model.summary()\n",
    "history = model.fit(X_train, y_train,\n",
    "                   epochs=20, batch_size=512,\n",
    "                   validation_split=0.2)"
   ]
  },
  {
   "cell_type": "code",
   "execution_count": 14,
   "metadata": {
    "colab": {
     "base_uri": "https://localhost:8080/"
    },
    "executionInfo": {
     "elapsed": 308,
     "status": "ok",
     "timestamp": 1630192813349,
     "user": {
      "displayName": "김영환",
      "photoUrl": "",
      "userId": "13327260190601243889"
     },
     "user_tz": -540
    },
    "id": "GyD4t49mMAVw",
    "outputId": "7c8bfca9-cc99-45f2-8911-382314795808"
   },
   "outputs": [
    {
     "data": {
      "text/plain": [
       "dict_keys(['loss', 'accuracy', 'val_loss', 'val_accuracy'])"
      ]
     },
     "execution_count": 14,
     "metadata": {},
     "output_type": "execute_result"
    }
   ],
   "source": [
    "history_dict = history.history\n",
    "history_dict.keys()"
   ]
  },
  {
   "cell_type": "markdown",
   "metadata": {
    "id": "jcdpRWJgMAVw"
   },
   "source": [
    "#### 시각화로 과적합 확인"
   ]
  },
  {
   "cell_type": "code",
   "execution_count": 15,
   "metadata": {
    "colab": {
     "base_uri": "https://localhost:8080/",
     "height": 573
    },
    "executionInfo": {
     "elapsed": 878,
     "status": "ok",
     "timestamp": 1630192815935,
     "user": {
      "displayName": "김영환",
      "photoUrl": "",
      "userId": "13327260190601243889"
     },
     "user_tz": -540
    },
    "id": "wN3RIxxhMAVx",
    "outputId": "ff4edb80-8cee-4a5f-c0dc-7b3f3ee07ffc"
   },
   "outputs": [
    {
     "data": {
      "image/png": "[encoded data removed]",
      "text/plain": [
       "<Figure size 432x288 with 1 Axes>"
      ]
     },
     "metadata": {
      "needs_background": "light"
     },
     "output_type": "display_data"
    },
    {
     "data": {
      "image/png": "[encoded data removed]",
      "text/plain": [
       "<Figure size 432x288 with 1 Axes>"
      ]
     },
     "metadata": {
      "needs_background": "light"
     },
     "output_type": "display_data"
    }
   ],
   "source": [
    "import matplotlib.pyplot as plt\n",
    "\n",
    "acc = history.history['accuracy']\n",
    "val_acc = history.history['val_accuracy']\n",
    "loss = history.history['loss']\n",
    "val_loss = history.history['val_loss']\n",
    "\n",
    "epochs = range(1, len(acc) + 1)\n",
    "\n",
    "plt.plot(epochs, loss, label='Training loss')\n",
    "plt.plot(epochs, val_loss, label='Validation loss')\n",
    "plt.title('Training and validation loss')\n",
    "plt.xlabel('Epochs')\n",
    "plt.ylabel('Loss')\n",
    "plt.legend()\n",
    "plt.show()\n",
    "\n",
    "plt.plot(epochs, acc, label='Training acc')\n",
    "plt.plot(epochs, val_acc, label='Validation acc')\n",
    "plt.title('Training and validation accuracy')\n",
    "plt.xlabel('Epochs')\n",
    "plt.ylabel('Accuracy')\n",
    "plt.legend()\n",
    "plt.show()"
   ]
  },
  {
   "cell_type": "markdown",
   "metadata": {
    "id": "yzpcCVWHMAVx"
   },
   "source": [
    "#### Callback"
   ]
  },
  {
   "cell_type": "code",
   "execution_count": 16,
   "metadata": {
    "colab": {
     "base_uri": "https://localhost:8080/"
    },
    "executionInfo": {
     "elapsed": 863,
     "status": "ok",
     "timestamp": 1630192858306,
     "user": {
      "displayName": "김영환",
      "photoUrl": "",
      "userId": "13327260190601243889"
     },
     "user_tz": -540
    },
    "id": "E-UHbzzVMAVy",
    "outputId": "fa8c963b-dc96-42ce-9d91-2b379deab26d"
   },
   "outputs": [
    {
     "name": "stdout",
     "output_type": "stream",
     "text": [
      "Training: batch 0 begins at 08:23:49.382225\n",
      "Training: batch 0 ends at 08:23:50.175849\n",
      "1/1 [==============================] - 1s 796ms/step - loss: 108.4596\n",
      "Evaluating: batch 0 begins at 08:23:50.244340\n",
      "Evaluating: batch 0 ends at 08:23:50.323175\n",
      "1/1 [==============================] - 0s 98ms/step - loss: 108.1755\n"
     ]
    },
    {
     "data": {
      "text/plain": [
       "108.17546081542969"
      ]
     },
     "execution_count": 16,
     "metadata": {},
     "output_type": "execute_result"
    }
   ],
   "source": [
    "import datetime\n",
    "class MyCustomCallback(tf.keras.callbacks.Callback):\n",
    "    def on_train_batch_begin(self, batch, logs=None):\n",
    "        print('Training: batch {} begins at {}'.format(batch, datetime.datetime.now().time()))\n",
    "\n",
    "    def on_train_batch_end(self, batch, logs=None):\n",
    "        print('Training: batch {} ends at {}'.format(batch, datetime.datetime.now().time()))\n",
    "\n",
    "    def on_test_batch_begin(self, batch, logs=None):\n",
    "        print('Evaluating: batch {} begins at {}'.format(batch, datetime.datetime.now().time()))\n",
    "\n",
    "    def on_test_batch_end(self, batch, logs=None):\n",
    "        print('Evaluating: batch {} ends at {}'.format(batch, datetime.datetime.now().time()))\n",
    "\n",
    "cb = MyCustomCallback()\n",
    "x = np.arange(10)\n",
    "y = x * 2\n",
    "    \n",
    "model = tf.keras.Sequential([\n",
    "    tf.keras.layers.Dense(10, input_shape=(1,), activation='relu'),\n",
    "    tf.keras.layers.Dense(1, activation='sigmoid')\n",
    "])\n",
    "model.compile(loss='mse')    \n",
    "model.fit(x,y, callbacks=[cb])\n",
    "model.evaluate(x,y, callbacks=[cb])"
   ]
  },
  {
   "cell_type": "markdown",
   "metadata": {
    "id": "-s-Qy2WzMAVy"
   },
   "source": [
    "#### EarlyStopping Callback 적용"
   ]
  },
  {
   "cell_type": "code",
   "execution_count": 17,
   "metadata": {
    "colab": {
     "base_uri": "https://localhost:8080/"
    },
    "executionInfo": {
     "elapsed": 12876,
     "status": "ok",
     "timestamp": 1630192885014,
     "user": {
      "displayName": "김영환",
      "photoUrl": "",
      "userId": "13327260190601243889"
     },
     "user_tz": -540
    },
    "id": "wLmyLZliMAV0",
    "outputId": "d3a5e055-6f71-45e6-eab7-a6ef2612ca9c",
    "scrolled": false
   },
   "outputs": [
    {
     "name": "stdout",
     "output_type": "stream",
     "text": [
      "Epoch 1/20\n",
      "40/40 [==============================] - 2s 32ms/step - loss: 0.4853 - accuracy: 0.7831 - val_loss: 0.3169 - val_accuracy: 0.8858\n",
      "Epoch 2/20\n",
      "40/40 [==============================] - 1s 29ms/step - loss: 0.2684 - accuracy: 0.8980 - val_loss: 0.3222 - val_accuracy: 0.8738\n",
      "Epoch 3/20\n",
      "40/40 [==============================] - 1s 28ms/step - loss: 0.2037 - accuracy: 0.9227 - val_loss: 0.2848 - val_accuracy: 0.8930\n",
      "Epoch 4/20\n",
      "40/40 [==============================] - 1s 26ms/step - loss: 0.1566 - accuracy: 0.9434 - val_loss: 0.3086 - val_accuracy: 0.8840\n",
      "Epoch 5/20\n",
      "40/40 [==============================] - 1s 30ms/step - loss: 0.1284 - accuracy: 0.9527 - val_loss: 0.3315 - val_accuracy: 0.8812\n",
      "782/782 [==============================] - 2s 2ms/step - loss: 0.3718 - accuracy: 0.8634\n"
     ]
    }
   ],
   "source": [
    "model = models.Sequential()\n",
    "model.add(layers.Dense(64, activation='relu', input_shape=(10000,)))\n",
    "model.add(layers.Dense(32, activation='relu'))\n",
    "model.add(layers.Dense(16, activation='relu'))\n",
    "model.add(layers.Dense(1, activation='sigmoid'))\n",
    "model.compile(optimizer='rmsprop', loss='binary_crossentropy',\n",
    "             metrics=['accuracy'])\n",
    "cb = tf.keras.callbacks.EarlyStopping(monitor='val_loss', patience=2)\n",
    "model.fit(X_train, y_train, epochs=20, batch_size=512, callbacks=[cb],  validation_split=0.2)\n",
    "results = model.evaluate(X_test, y_test)"
   ]
  },
  {
   "cell_type": "markdown",
   "metadata": {
    "id": "B29LJOBxMAV3"
   },
   "source": [
    "### 다항 분류 실습 -  MNIST 손글씨\n",
    "#### Data loading"
   ]
  },
  {
   "cell_type": "code",
   "execution_count": 1,
   "metadata": {
    "colab": {
     "base_uri": "https://localhost:8080/",
     "height": 232
    },
    "executionInfo": {
     "elapsed": 1552,
     "status": "ok",
     "timestamp": 1630192962954,
     "user": {
      "displayName": "김영환",
      "photoUrl": "",
      "userId": "13327260190601243889"
     },
     "user_tz": -540
    },
    "id": "lomj2pjBMAV4",
    "outputId": "8236aee3-c4ca-464c-89db-4b4af0bc6d13",
    "scrolled": true
   },
   "outputs": [
    {
     "name": "stdout",
     "output_type": "stream",
     "text": [
      "<class 'tuple'> 2\n",
      "(60000, 28, 28) (60000,)\n",
      "(10000, 28, 28) (10000,)\n",
      "[5 0 4 1 9]\n"
     ]
    },
    {
     "data": {
      "image/png": "[encoded data removed]",
      "text/plain": [
       "<Figure size 640x480 with 5 Axes>"
      ]
     },
     "metadata": {},
     "output_type": "display_data"
    }
   ],
   "source": [
    "import tensorflow as tf\n",
    "import matplotlib.pyplot as plt\n",
    "import numpy as np\n",
    "\n",
    "mnist = tf.keras.datasets.mnist.load_data()\n",
    "print(type(mnist), len(mnist))\n",
    "\n",
    "(X_train, y_train), (X_test, y_test) = mnist\n",
    "print(X_train.shape, y_train.shape)\n",
    "print(X_test.shape, y_test.shape)\n",
    "\n",
    "print(y_train[:5])\n",
    "for i in range(5):\n",
    "    plt.subplot(1,5,i+1)\n",
    "    plt.imshow(X_train[i], cmap=\"gray\")\n"
   ]
  },
  {
   "cell_type": "code",
   "execution_count": 2,
   "metadata": {},
   "outputs": [
    {
     "data": {
      "text/plain": [
       "5"
      ]
     },
     "execution_count": 2,
     "metadata": {},
     "output_type": "execute_result"
    }
   ],
   "source": [
    "y_train[0]"
   ]
  },
  {
   "cell_type": "code",
   "execution_count": 11,
   "metadata": {},
   "outputs": [
    {
     "data": {
      "text/plain": [
       "array([[0, 0, 0, ..., 0, 0, 0],\n",
       "       [0, 0, 0, ..., 0, 0, 0],\n",
       "       [0, 0, 0, ..., 0, 0, 0],\n",
       "       ...,\n",
       "       [0, 0, 0, ..., 0, 0, 0],\n",
       "       [0, 0, 0, ..., 0, 0, 0],\n",
       "       [0, 0, 0, ..., 0, 0, 0]], dtype=uint8)"
      ]
     },
     "metadata": {},
     "output_type": "display_data"
    }
   ],
   "source": [
    "X_train.reshape(X_train.shape[0],784)"
   ]
  },
  {
   "cell_type": "markdown",
   "metadata": {
    "id": "-WruGEdkMAV4"
   },
   "source": [
    "#### Data preprocessing\n",
    "* 정규화(Normalization)\n",
    "    * 픽셀 데이타 : 0 ~ 255\n",
    "    * 정규화 데이타 : 0 ~ 1  \n",
    "* 2차원 이미지를 1차원으로 변경\n",
    "    * (28,28)\n",
    "    * (784)"
   ]
  },
  {
   "cell_type": "code",
   "execution_count": 4,
   "metadata": {
    "executionInfo": {
     "elapsed": 635,
     "status": "ok",
     "timestamp": 1630192988697,
     "user": {
      "displayName": "김영환",
      "photoUrl": "",
      "userId": "13327260190601243889"
     },
     "user_tz": -540
    },
    "id": "ipZiXZnAMAV5"
   },
   "outputs": [],
   "source": [
    "(X_train, y_train), (X_test, y_test) = tf.keras.datasets.mnist.load_data()\n",
    "(X_train, X_test) = (np.float32(X_train)/255, np.float32(X_test)/255)\n",
    "\n",
    "n_input = 28*28\n",
    "(X_train, X_test) = (X_train.reshape(-1, n_input), X_test.reshape(-1, n_input))"
   ]
  },
  {
   "cell_type": "markdown",
   "metadata": {
    "id": "tcJ9f75TMAV5"
   },
   "source": [
    "#### Neural Net 설계\n",
    "* 입력 : 28*28\n",
    "* layer1 : 300\n",
    "* layer2 : 100\n",
    "* 출력 : 10"
   ]
  },
  {
   "cell_type": "code",
   "execution_count": 6,
   "metadata": {
    "colab": {
     "base_uri": "https://localhost:8080/"
    },
    "executionInfo": {
     "elapsed": 42530,
     "status": "ok",
     "timestamp": 1630193146266,
     "user": {
      "displayName": "김영환",
      "photoUrl": "",
      "userId": "13327260190601243889"
     },
     "user_tz": -540
    },
    "id": "AxdvctpxMAV6",
    "outputId": "05fcd60f-ecf1-4cc4-d339-e7db782f9c5e",
    "scrolled": true
   },
   "outputs": [
    {
     "name": "stdout",
     "output_type": "stream",
     "text": [
      "Model: \"sequential\"\n",
      "_________________________________________________________________\n",
      "Layer (type)                 Output Shape              Param #   \n",
      "=================================================================\n",
      "dense (Dense)                (None, 300)               235500    \n",
      "_________________________________________________________________\n",
      "dense_1 (Dense)              (None, 100)               30100     \n",
      "_________________________________________________________________\n",
      "dropout (Dropout)            (None, 100)               0         \n",
      "_________________________________________________________________\n",
      "dense_2 (Dense)              (None, 10)                1010      \n",
      "=================================================================\n",
      "Total params: 266,610\n",
      "Trainable params: 266,610\n",
      "Non-trainable params: 0\n",
      "_________________________________________________________________\n",
      "Epoch 1/10\n",
      "480/480 [==============================] - 2s 3ms/step - loss: 0.4026 - accuracy: 0.8816 - val_loss: 0.1452 - val_accuracy: 0.9572\n",
      "Epoch 2/10\n",
      "480/480 [==============================] - 1s 2ms/step - loss: 0.1645 - accuracy: 0.9535 - val_loss: 0.1043 - val_accuracy: 0.9674\n",
      "Epoch 3/10\n",
      "480/480 [==============================] - 1s 2ms/step - loss: 0.1134 - accuracy: 0.9679 - val_loss: 0.0863 - val_accuracy: 0.9743\n",
      "Epoch 4/10\n",
      "480/480 [==============================] - 1s 2ms/step - loss: 0.0867 - accuracy: 0.9750 - val_loss: 0.0832 - val_accuracy: 0.9751\n",
      "Epoch 5/10\n",
      "480/480 [==============================] - 1s 2ms/step - loss: 0.0685 - accuracy: 0.9791 - val_loss: 0.0817 - val_accuracy: 0.9753\n",
      "Epoch 6/10\n",
      "480/480 [==============================] - 1s 2ms/step - loss: 0.0572 - accuracy: 0.9824 - val_loss: 0.0774 - val_accuracy: 0.9782\n",
      "Epoch 7/10\n",
      "480/480 [==============================] - 1s 2ms/step - loss: 0.0472 - accuracy: 0.9860 - val_loss: 0.0796 - val_accuracy: 0.9790\n",
      "Epoch 8/10\n",
      "480/480 [==============================] - 1s 3ms/step - loss: 0.0367 - accuracy: 0.9894 - val_loss: 0.0856 - val_accuracy: 0.9762\n",
      "Epoch 9/10\n",
      "480/480 [==============================] - 1s 3ms/step - loss: 0.0362 - accuracy: 0.9884 - val_loss: 0.0880 - val_accuracy: 0.9781\n",
      "Epoch 10/10\n",
      "480/480 [==============================] - 1s 3ms/step - loss: 0.0297 - accuracy: 0.9907 - val_loss: 0.0904 - val_accuracy: 0.9763\n",
      "313/313 - 1s - loss: 0.0803 - accuracy: 0.9781\n",
      "Test loss: 0.08032339811325073\n",
      "Test accuracy: 0.9781000018119812\n"
     ]
    }
   ],
   "source": [
    "model = tf.keras.Sequential([\n",
    "    tf.keras.layers.Dense(300, activation='relu', input_shape=(28*28,)),\n",
    "    tf.keras.layers.Dense(100, activation='relu'),\n",
    "    tf.keras.layers.Dropout(0.5),\n",
    "    tf.keras.layers.Dense(10, activation='softmax')])\n",
    "model.summary()\n",
    "model.compile(loss='sparse_categorical_crossentropy',\n",
    "              optimizer='adam',\n",
    "              metrics=['accuracy'])\n",
    "\n",
    "history = model.fit(X_train, y_train,\n",
    "                    batch_size=100,\n",
    "                    epochs=10,\n",
    "                    validation_split=0.2)\n",
    "\n",
    "test_scores = model.evaluate(X_test, y_test, verbose=2)\n",
    "print('Test loss:', test_scores[0])\n",
    "print('Test accuracy:', test_scores[1])"
   ]
  },
  {
   "cell_type": "markdown",
   "metadata": {
    "id": "TX6Z4TNPMAV7"
   },
   "source": [
    "#### 직접 쓴 숫자 prediction"
   ]
  },
  {
   "cell_type": "code",
   "execution_count": 8,
   "metadata": {
    "colab": {
     "base_uri": "https://localhost:8080/",
     "height": 462
    },
    "executionInfo": {
     "elapsed": 1360,
     "status": "ok",
     "timestamp": 1630193656124,
     "user": {
      "displayName": "김영환",
      "photoUrl": "",
      "userId": "13327260190601243889"
     },
     "user_tz": -540
    },
    "id": "NteXiL47MAV7",
    "outputId": "7ef191b4-e826-4d87-b085-7e6bcdf1c1b3",
    "scrolled": true
   },
   "outputs": [
    {
     "data": {
      "image/png": "[encoded data removed]",
      "text/plain": [
       "<Figure size 640x480 with 1 Axes>"
      ]
     },
     "metadata": {},
     "output_type": "display_data"
    },
    {
     "name": "stdout",
     "output_type": "stream",
     "text": [
      "[[6.4460459e-05 2.7792333e-02 2.6543808e-01 7.0565850e-01 1.6668539e-04\n",
      "  1.1371662e-04 2.8634520e-06 5.2286749e-04 1.8097633e-04 5.9522899e-05]] [3]\n",
      "[[2.8429963e-07 3.2517186e-05 7.8539770e-06 1.7820647e-02 3.2604068e-05\n",
      "  9.6703523e-01 3.4253387e-06 2.0634912e-05 5.3455320e-04 1.4512169e-02]] [5]\n",
      "[[8.0508278e-10 5.1018862e-05 7.4155187e-06 9.9957937e-01 3.1842157e-07\n",
      "  3.1475438e-04 1.5910825e-09 4.8096945e-06 3.2275322e-05 1.0037725e-05]] [3]\n",
      "[[0.00161795 0.86471367 0.00873864 0.00819741 0.01171354 0.00653025\n",
      "  0.00559463 0.02904838 0.05787436 0.00597112]] [1]\n"
     ]
    },
    {
     "data": {
      "image/png": "[encoded data removed]",
      "text/plain": [
       "<Figure size 640x480 with 4 Axes>"
      ]
     },
     "metadata": {},
     "output_type": "display_data"
    }
   ],
   "source": [
    "import numpy as np\n",
    "import cv2\n",
    "import img2data\n",
    "\n",
    "img_path = './1352.png'\n",
    "\n",
    "image = cv2.imread(img_path)\n",
    "plt.imshow(image)\n",
    "plt.show()\n",
    "\n",
    "numbers = img2data.img2digits(image, (28,28), border=4)\n",
    "for i, n in enumerate(numbers):\n",
    "    pred = model.predict(n.astype(np.float32)/255.0)\n",
    "    pred_label = np.argmax(pred, axis=1)\n",
    "    print(pred, pred_label)\n",
    "    plt.subplot(1, len(numbers), i+1)\n",
    "    plt.title(str(pred_label))\n",
    "    plt.imshow(n.reshape(28,28), cmap=\"gray\")"
   ]
  },
  {
   "cell_type": "code",
   "execution_count": null,
   "metadata": {},
   "outputs": [],
   "source": []
  }
 ],
 "metadata": {
  "colab": {
   "collapsed_sections": [],
   "name": "3.2.DNN.ipynb",
   "provenance": []
  },
  "kernelspec": {
   "display_name": "KB",
   "language": "python",
   "name": "kb"
  },
  "language_info": {
   "codemirror_mode": {
    "name": "ipython",
    "version": 3
   },
   "file_extension": ".py",
   "mimetype": "text/x-python",
   "name": "python",
   "nbconvert_exporter": "python",
   "pygments_lexer": "ipython3",
   "version": "3.9.12"
  },
  "toc": {
   "base_numbering": 1,
   "nav_menu": {},
   "number_sections": true,
   "sideBar": true,
   "skip_h1_title": false,
   "title_cell": "Table of Contents",
   "title_sidebar": "Contents",
   "toc_cell": false,
   "toc_position": {},
   "toc_section_display": true,
   "toc_window_display": false
  }
 },
 "nbformat": 4,
 "nbformat_minor": 1
}
