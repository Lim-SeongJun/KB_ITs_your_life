{
 "cells": [
  {
   "cell_type": "markdown",
   "id": "d2ff729a",
   "metadata": {},
   "source": [
    "## 타이타닉 생존율 예측"
   ]
  },
  {
   "cell_type": "code",
   "execution_count": 1,
   "id": "54b8e3af",
   "metadata": {},
   "outputs": [],
   "source": [
    "# 데이토로딩\n",
    "# X,y 정의\n",
    "# X의 결측치 처리\n",
    "# 훈련, 테스트데이터 분리\n",
    "\n",
    "# 모델 생성\n",
    "# 모델 훈련"
   ]
  },
  {
   "cell_type": "code",
   "execution_count": 6,
   "id": "fb46a4e4",
   "metadata": {},
   "outputs": [],
   "source": [
    "from tensorflow.keras import models, layers\n",
    "import seaborn as sns\n",
    "import numpy as np"
   ]
  },
  {
   "cell_type": "markdown",
   "id": "4563cd19",
   "metadata": {},
   "source": [
    "   * survivied : 생존여부 (1: 생존, 0:사망)  \n",
    "   * pclass : 좌석 등급(1등급, 2등급, 3등급)\n",
    "   * sex : 성별\n",
    "   * age : 나이\n",
    "   * sibsp : 형제 + 배우자 수\n",
    "   * parch : 부모 + 자녀 수\n",
    "   * fare : 좌석 요금\n",
    "   * embarked : 탑승 항구(S,C,Q)\n",
    "   * class : pclass와 동일\n",
    "   * who : 성별과 동일\n",
    "   * adult_male : 성인 남자 여부\n",
    "   * deck : 데크 번호(알파벳 + 숫자 혼용)\n",
    "   * embark_down : 탑승 항구 이름\n",
    "   * alive : 생존여부(yes,no)\n",
    "   * alone : 혼자 탑승 여부"
   ]
  },
  {
   "cell_type": "code",
   "execution_count": 36,
   "id": "b7ef8d30",
   "metadata": {
    "scrolled": true
   },
   "outputs": [
    {
     "name": "stdout",
     "output_type": "stream",
     "text": [
      "Index(['survived', 'pclass', 'sex', 'age', 'sibsp', 'parch', 'fare',\n",
      "       'embarked', 'class', 'who', 'adult_male', 'deck', 'embark_town',\n",
      "       'alive', 'alone'],\n",
      "      dtype='object')\n"
     ]
    },
    {
     "name": "stderr",
     "output_type": "stream",
     "text": [
      "C:\\Users\\dlatj\\AppData\\Local\\Temp\\ipykernel_17228\\117492864.py:7: SettingWithCopyWarning: \n",
      "A value is trying to be set on a copy of a slice from a DataFrame.\n",
      "Try using .loc[row_indexer,col_indexer] = value instead\n",
      "\n",
      "See the caveats in the documentation: https://pandas.pydata.org/pandas-docs/stable/user_guide/indexing.html#returning-a-view-versus-a-copy\n",
      "  X[\"age\"] = X[\"age\"].fillna(X[\"age\"].mean())\n"
     ]
    }
   ],
   "source": [
    "ti = sns.load_dataset(\"titanic\")\n",
    "print(ti.columns)\n",
    "# X,y 정의\n",
    "y = ti[\"survived\"]\n",
    "X = ti[[\"pclass\",\"age\",\"sibsp\",\"parch\"]]\n",
    "# X의 결측치 처리\n",
    "X[\"age\"] = X[\"age\"].fillna(X[\"age\"].mean())"
   ]
  },
  {
   "cell_type": "code",
   "execution_count": 38,
   "id": "6aeb236c",
   "metadata": {},
   "outputs": [
    {
     "name": "stdout",
     "output_type": "stream",
     "text": [
      "7/7 [==============================] - 0s 3ms/step - loss: 0.6249 - accuracy: 0.6906\n"
     ]
    },
    {
     "data": {
      "text/plain": [
       "[0.6248809695243835, 0.6905829310417175]"
      ]
     },
     "execution_count": 38,
     "metadata": {},
     "output_type": "execute_result"
    }
   ],
   "source": [
    "# 훈련, 테스트데이터 분리\n",
    "from sklearn.model_selection import train_test_split\n",
    "x_tr, x_te, y_tr, y_te = train_test_split(\n",
    "    X, y, random_state=100, stratify=y\n",
    ")\n",
    "# 모델 생성\n",
    "import tensorflow as tf\n",
    "model = tf.keras.Sequential([\n",
    "    tf.keras.layers.Dense(4, activation='relu', input_shape=(x_tr.shape[1],)),\n",
    "    tf.keras.layers.Dense(4, activation='relu'),\n",
    "    tf.keras.layers.Dense(1, activation='sigmoid')\n",
    "])\n",
    "# model.summary()\n",
    "model.compile(loss='binary_crossentropy', optimizer='Adam', metrics=['accuracy'])\n",
    "# 모델 훈련\n",
    "model.fit(x_tr, y_tr, epochs=5000, verbose=0)\n",
    "model.evaluate(x_te, y_te)"
   ]
  },
  {
   "cell_type": "code",
   "execution_count": null,
   "id": "6f0ac739",
   "metadata": {},
   "outputs": [],
   "source": []
  }
 ],
 "metadata": {
  "kernelspec": {
   "display_name": "KB",
   "language": "python",
   "name": "kb"
  },
  "language_info": {
   "codemirror_mode": {
    "name": "ipython",
    "version": 3
   },
   "file_extension": ".py",
   "mimetype": "text/x-python",
   "name": "python",
   "nbconvert_exporter": "python",
   "pygments_lexer": "ipython3",
   "version": "3.9.12"
  }
 },
 "nbformat": 4,
 "nbformat_minor": 5
}
