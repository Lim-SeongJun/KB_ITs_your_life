{
 "cells": [
  {
   "cell_type": "code",
   "execution_count": 3,
   "id": "a4b0492c",
   "metadata": {},
   "outputs": [
    {
     "name": "stdout",
     "output_type": "stream",
     "text": [
      "None\n"
     ]
    }
   ],
   "source": [
    "# 파라미터 전달\n",
    "def my_prn():\n",
    "    a = 3\n",
    "    \n",
    "ans = my_prn() # 반환값이 없는 함수호출. None 반환\n",
    "print(ans)"
   ]
  },
  {
   "cell_type": "code",
   "execution_count": 4,
   "id": "7e2e4565",
   "metadata": {},
   "outputs": [
    {
     "ename": "TypeError",
     "evalue": "my_minus() got an unexpected keyword argument 'num3'",
     "output_type": "error",
     "traceback": [
      "\u001b[1;31m---------------------------------------------------------------------------\u001b[0m",
      "\u001b[1;31mTypeError\u001b[0m                                 Traceback (most recent call last)",
      "Input \u001b[1;32mIn [4]\u001b[0m, in \u001b[0;36m<cell line: 3>\u001b[1;34m()\u001b[0m\n\u001b[0;32m      1\u001b[0m \u001b[38;5;28;01mdef\u001b[39;00m \u001b[38;5;21mmy_minus\u001b[39m(num1,num2):\n\u001b[0;32m      2\u001b[0m     \u001b[38;5;28;01mreturn\u001b[39;00m num1\u001b[38;5;241m-\u001b[39mnum2\n\u001b[1;32m----> 3\u001b[0m \u001b[43mmy_minus\u001b[49m\u001b[43m(\u001b[49m\u001b[43mnum2\u001b[49m\u001b[38;5;241;43m=\u001b[39;49m\u001b[38;5;241;43m100\u001b[39;49m\u001b[43m,\u001b[49m\u001b[43mnum3\u001b[49m\u001b[38;5;241;43m=\u001b[39;49m\u001b[38;5;241;43m200\u001b[39;49m\u001b[43m)\u001b[49m\n",
      "\u001b[1;31mTypeError\u001b[0m: my_minus() got an unexpected keyword argument 'num3'"
     ]
    }
   ],
   "source": [
    "def my_minus(num1,num2):\n",
    "    return num1-num2\n",
    "my_minus(num2=100,num3=200)"
   ]
  },
  {
   "cell_type": "code",
   "execution_count": 9,
   "id": "42a110e5",
   "metadata": {},
   "outputs": [
    {
     "data": {
      "text/plain": [
       "15"
      ]
     },
     "execution_count": 9,
     "metadata": {},
     "output_type": "execute_result"
    }
   ],
   "source": [
    "def calc_many(choice,*args):\n",
    "    if choice == 'sum':\n",
    "        return sum(args)\n",
    "    else:\n",
    "        mul=1\n",
    "        for i in args:\n",
    "            mul *= i\n",
    "        return mul\n",
    "calc_many('mul',3,5,7)\n",
    "calc_many('sum',3,5,7)"
   ]
  },
  {
   "cell_type": "code",
   "execution_count": 12,
   "id": "1cf26b94",
   "metadata": {},
   "outputs": [
    {
     "data": {
      "text/plain": [
       "70.0"
      ]
     },
     "execution_count": 12,
     "metadata": {},
     "output_type": "execute_result"
    }
   ],
   "source": [
    "# 클래스 사용하지 않고 학생정보관리\n",
    "\n",
    "names = ['홍','김','박']\n",
    "eng_scores = [70,80,60]\n",
    "\n",
    "def calc_avg():\n",
    "    return sum(eng_scores)/ len(names)\n",
    "\n",
    "calc_avg()"
   ]
  },
  {
   "cell_type": "code",
   "execution_count": 16,
   "id": "dc6cc3d3",
   "metadata": {},
   "outputs": [
    {
     "data": {
      "text/plain": [
       "70.0"
      ]
     },
     "execution_count": 16,
     "metadata": {},
     "output_type": "execute_result"
    }
   ],
   "source": [
    "# 클래스 사용하는 학색정보 관리\n",
    "\n",
    "class StudentManager():\n",
    "    def __init__(self):\n",
    "        self.names = ['홍','김','박']\n",
    "        self.eng_scores = [70,80,60]\n",
    "    def calc_avg(self):\n",
    "        return sum(self.eng_scores)/ len(self.names)\n",
    "        \n",
    "sm = StudentManager() # 객체 생성\n",
    "sm.calc_avg()"
   ]
  },
  {
   "cell_type": "code",
   "execution_count": 20,
   "id": "c924b1ad",
   "metadata": {},
   "outputs": [
    {
     "data": {
      "text/plain": [
       "16"
      ]
     },
     "execution_count": 20,
     "metadata": {},
     "output_type": "execute_result"
    }
   ],
   "source": [
    "import random\n",
    "random.randint(1,45) # 1~45난수 하나 생성"
   ]
  },
  {
   "cell_type": "code",
   "execution_count": 27,
   "id": "7d2dc76f",
   "metadata": {},
   "outputs": [
    {
     "data": {
      "text/plain": [
       "19"
      ]
     },
     "execution_count": 27,
     "metadata": {},
     "output_type": "execute_result"
    }
   ],
   "source": [
    "import random as rd # 모듈명의 별명\n",
    "rd.randint(1,45)"
   ]
  },
  {
   "cell_type": "code",
   "execution_count": 29,
   "id": "ba0d906c",
   "metadata": {},
   "outputs": [
    {
     "data": {
      "text/plain": [
       "30"
      ]
     },
     "execution_count": 29,
     "metadata": {},
     "output_type": "execute_result"
    }
   ],
   "source": [
    "from random import randint\n",
    "randint(1,45)"
   ]
  },
  {
   "cell_type": "code",
   "execution_count": 31,
   "id": "32cc3093",
   "metadata": {},
   "outputs": [
    {
     "data": {
      "text/plain": [
       "45"
      ]
     },
     "execution_count": 31,
     "metadata": {},
     "output_type": "execute_result"
    }
   ],
   "source": [
    "from random import randint as rdi\n",
    "rdi(1,45)"
   ]
  }
 ],
 "metadata": {
  "kernelspec": {
   "display_name": "Python 3 (ipykernel)",
   "language": "python",
   "name": "python3"
  },
  "language_info": {
   "codemirror_mode": {
    "name": "ipython",
    "version": 3
   },
   "file_extension": ".py",
   "mimetype": "text/x-python",
   "name": "python",
   "nbconvert_exporter": "python",
   "pygments_lexer": "ipython3",
   "version": "3.9.12"
  }
 },
 "nbformat": 4,
 "nbformat_minor": 5
}
