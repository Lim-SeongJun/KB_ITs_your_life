{
 "cells": [
  {
   "cell_type": "code",
   "execution_count": 1,
   "id": "4c2c46a9",
   "metadata": {},
   "outputs": [],
   "source": [
    "import pandas as pd"
   ]
  },
  {
   "cell_type": "code",
   "execution_count": 6,
   "id": "01248878",
   "metadata": {
    "scrolled": true
   },
   "outputs": [],
   "source": [
    "apt_price = pd.read_csv(\n",
    "    'apt_price_2022.csv',\n",
    "    encoding='cp949',\n",
    "    skiprows=15,\n",
    "    thousands=','\n",
    ")\n",
    "# apt_price['시군구'] 를 시, 구, 동으로 분할\n",
    "apt_price['구'] = apt_price['시군구'].str.split(' ').str[1]\n",
    "apt_price['동'] = apt_price['시군구'].str.split(' ').str[2]\n",
    "# 전용면적을 평 변환\n",
    "apt_price['평'] = round(apt_price['전용면적(㎡)'] / 3.03,1)\n",
    "# 거래금액 단위를 억원으로 변환\n",
    "apt_price['거래금액_억원'] = apt_price['거래금액(만원)'] / 10000\n",
    "# 계약년월 -> 계약년, 계약월로 분리\n",
    "apt_price['계약년'] = apt_price['계약년월'] // 100\n",
    "apt_price['계약월'] = apt_price['계약년월'] % 100\n",
    "# 평정보를 이용하여 평형정보 생성\n",
    "# 10평이하, 10평대, 20평대, 30평대, 40평대, 40평이상\n",
    "apt_price['평형']=pd.cut(\n",
    "    apt_price['평'],\n",
    "    bins=[0,10,20,30,40,50,1000],\n",
    "    labels='10평이하,10평대,20평대,30평대,40평대,40평이상'.split(',')\n",
    ")\n",
    "# 강남3구의 평형별 평균거래가와 그 외 지역 평형별 평균 거래가 비교\n",
    "cond_매매 = apt_price['구'].isin(['강남구','송파구','서초구'])\n",
    "강남3구_매매=apt_price[cond_매매].groupby('평형')[['거래금액_억원']].mean()\n",
    "강남3구_매매.rename(columns={'거래금액_억원':'평균매매가'},inplace=True)\n",
    "그외22구_매매=apt_price[~cond_매매].groupby('평형')[['거래금액_억원']].mean()\n",
    "그외22구_매매.rename(columns={'거래금액_억원':'평균매매가'},inplace=True)"
   ]
  },
  {
   "cell_type": "code",
   "execution_count": 7,
   "id": "4aa0b41f",
   "metadata": {},
   "outputs": [
    {
     "data": {
      "text/html": [
       "<div>\n",
       "<style scoped>\n",
       "    .dataframe tbody tr th:only-of-type {\n",
       "        vertical-align: middle;\n",
       "    }\n",
       "\n",
       "    .dataframe tbody tr th {\n",
       "        vertical-align: top;\n",
       "    }\n",
       "\n",
       "    .dataframe thead th {\n",
       "        text-align: right;\n",
       "    }\n",
       "</style>\n",
       "<table border=\"1\" class=\"dataframe\">\n",
       "  <thead>\n",
       "    <tr style=\"text-align: right;\">\n",
       "      <th></th>\n",
       "      <th>평균매매가</th>\n",
       "    </tr>\n",
       "    <tr>\n",
       "      <th>평형</th>\n",
       "      <th></th>\n",
       "    </tr>\n",
       "  </thead>\n",
       "  <tbody>\n",
       "    <tr>\n",
       "      <th>10평이하</th>\n",
       "      <td>3.868691</td>\n",
       "    </tr>\n",
       "    <tr>\n",
       "      <th>10평대</th>\n",
       "      <td>10.448434</td>\n",
       "    </tr>\n",
       "    <tr>\n",
       "      <th>20평대</th>\n",
       "      <td>21.872192</td>\n",
       "    </tr>\n",
       "    <tr>\n",
       "      <th>30평대</th>\n",
       "      <td>27.289838</td>\n",
       "    </tr>\n",
       "    <tr>\n",
       "      <th>40평대</th>\n",
       "      <td>32.071870</td>\n",
       "    </tr>\n",
       "    <tr>\n",
       "      <th>40평이상</th>\n",
       "      <td>37.298094</td>\n",
       "    </tr>\n",
       "  </tbody>\n",
       "</table>\n",
       "</div>"
      ],
      "text/plain": [
       "           평균매매가\n",
       "평형              \n",
       "10평이하   3.868691\n",
       "10평대   10.448434\n",
       "20평대   21.872192\n",
       "30평대   27.289838\n",
       "40평대   32.071870\n",
       "40평이상  37.298094"
      ]
     },
     "execution_count": 7,
     "metadata": {},
     "output_type": "execute_result"
    }
   ],
   "source": [
    "강남3구_매매"
   ]
  },
  {
   "cell_type": "code",
   "execution_count": null,
   "id": "f923eb01",
   "metadata": {
    "scrolled": true
   },
   "outputs": [],
   "source": [
    "apt_rent = pd.read_csv('apt_rent.csv',encoding='cp949',skiprows=15,thousands=',')\n",
    "# (50만원 x 12개월) / 4.75%(전월세전환율) = 약 126,315,000원에 기존 보증금 1,000만원을 더합니다.\n",
    "deposit =((apt_rent['월세(만원)']*12)*0.0475 +apt_rent['보증금(만원)'])/10000\n",
    "apt_rent['전세금_억원'] = round(deposit,2)\n",
    "# 보증금 및 월세를 전세금으로 전환 후 단위를 억원으로 변환\n",
    "deposit =((apt_rent['월세(만원)']*12)*0.0475 +apt_rent['보증금(만원)'])/10000\n",
    "apt_rent['전세금_억원'] = round(deposit,2)\n",
    "# apt_rent['시군구'] 를 시, 구, 동으로 분할\n",
    "apt_rent['구'] = apt_rent['시군구'].str.split(' ').str[1]\n",
    "apt_rent['동'] = apt_rent['시군구'].str.split(' ').str[2]\n",
    "# 전용면적을 평 변환\n",
    "apt_rent['평'] = round(apt_rent['전용면적(㎡)'] / 3.03,1)\n",
    "# 계약년월 -> 계약년, 계약월로 분리\n",
    "apt_rent['계약년'] = apt_rent['계약년월'] // 100\n",
    "apt_rent['계약월'] = apt_rent['계약년월'] % 100\n",
    "# 평정보를 이용하여 평형정보 생성\n",
    "# 10평이하, 10평대, 20평대, 30평대, 40평대, 40평이상\n",
    "apt_rent['평형']=pd.cut(\n",
    "    apt_rent['평'],\n",
    "    bins=[0,10,20,30,40,50,1000],\n",
    "    labels='10평이하,10평대,20평대,30평대,40평대,40평이상'.split(',')\n",
    ")\n",
    "cond_전세 = apt_rent['구'].isin(['강남구','송파구','서초구'])\n",
    "강남3구_전세 = apt_rent[cond_전세].groupby(['구','평형'])[['전세금_억원']].mean()\n",
    "그외22구_전세 = apt_rent[~cond_전세].groupby(['구','평형'])[['전세금_억원']].mean()\n",
    "전세종합=pd.concat([강남3구_전세,그외22구_전세])\n",
    "전세종합"
   ]
  },
  {
   "cell_type": "code",
   "execution_count": null,
   "id": "ea6b6e52",
   "metadata": {},
   "outputs": [],
   "source": [
    "pd.concat([매매종합,전세종합],axis=1)"
   ]
  }
 ],
 "metadata": {
  "kernelspec": {
   "display_name": "Python 3 (ipykernel)",
   "language": "python",
   "name": "python3"
  },
  "language_info": {
   "codemirror_mode": {
    "name": "ipython",
    "version": 3
   },
   "file_extension": ".py",
   "mimetype": "text/x-python",
   "name": "python",
   "nbconvert_exporter": "python",
   "pygments_lexer": "ipython3",
   "version": "3.9.12"
  }
 },
 "nbformat": 4,
 "nbformat_minor": 5
}
