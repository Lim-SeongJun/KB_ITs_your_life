{
 "cells": [
  {
   "cell_type": "code",
   "execution_count": 3,
   "id": "504ab0ec",
   "metadata": {},
   "outputs": [],
   "source": [
    "arr1 = [\n",
    "    [1,3,5],#1번행\n",
    "    [3,5,7],#2번행\n",
    "    [5,7,9] #3번행\n",
    "]"
   ]
  },
  {
   "cell_type": "code",
   "execution_count": 6,
   "id": "71990703",
   "metadata": {},
   "outputs": [
    {
     "data": {
      "text/plain": [
       "([1, 3, 5], [3, 5, 7], [5, 7, 9])"
      ]
     },
     "execution_count": 6,
     "metadata": {},
     "output_type": "execute_result"
    }
   ],
   "source": [
    "arr1[0], arr1[1], arr1[2]"
   ]
  },
  {
   "cell_type": "code",
   "execution_count": 9,
   "id": "96ca3a40",
   "metadata": {},
   "outputs": [
    {
     "data": {
      "text/plain": [
       "[[99, 3, 5], [3, 5, 7], [5, 7, 9]]"
      ]
     },
     "execution_count": 9,
     "metadata": {},
     "output_type": "execute_result"
    }
   ],
   "source": [
    "arr1[0][0] = 99\n",
    "arr1"
   ]
  },
  {
   "cell_type": "code",
   "execution_count": 24,
   "id": "64f1f90c",
   "metadata": {},
   "outputs": [
    {
     "data": {
      "text/plain": [
       "[24, 39, 12, 14, 35, 41]"
      ]
     },
     "execution_count": 24,
     "metadata": {},
     "output_type": "execute_result"
    }
   ],
   "source": [
    "# 로또번호 생성\n",
    "import random\n",
    "lotto = []\n",
    "lotto = [\n",
    "    random.randint(1,45),\n",
    "    random.randint(1,45),\n",
    "    random.randint(1,45),\n",
    "    random.randint(1,45),\n",
    "    random.randint(1,45),\n",
    "    random.randint(1,45)\n",
    "]\n",
    "\n",
    "lotto"
   ]
  },
  {
   "cell_type": "code",
   "execution_count": 32,
   "id": "f7063b96",
   "metadata": {},
   "outputs": [
    {
     "data": {
      "text/plain": [
       "[24, 20, 17, 22, 14, 37]"
      ]
     },
     "execution_count": 32,
     "metadata": {},
     "output_type": "execute_result"
    }
   ],
   "source": [
    "# 로또번호 생성\n",
    "import random\n",
    "lotto = []\n",
    "lotto.append(random.randint(1,45))\n",
    "lotto.append(random.randint(1,45))\n",
    "lotto.append(random.randint(1,45))\n",
    "lotto.append(random.randint(1,45))\n",
    "lotto.append(random.randint(1,45))\n",
    "lotto.append(random.randint(1,45))\n",
    "lotto"
   ]
  },
  {
   "cell_type": "code",
   "execution_count": 40,
   "id": "014b9e68",
   "metadata": {},
   "outputs": [
    {
     "data": {
      "text/plain": [
       "[1, 2, 3, 4]"
      ]
     },
     "execution_count": 40,
     "metadata": {},
     "output_type": "execute_result"
    }
   ],
   "source": [
    "arr2 =[1,2,3]\n",
    "arr2.insert(10,4) # 숫자가 아무리 커도 그냥 마지막에 추가함\n",
    "arr2"
   ]
  },
  {
   "cell_type": "code",
   "execution_count": 44,
   "id": "60316b9b",
   "metadata": {},
   "outputs": [
    {
     "data": {
      "text/plain": [
       "[14, 17, 20, 22, 24, 37]"
      ]
     },
     "execution_count": 44,
     "metadata": {},
     "output_type": "execute_result"
    }
   ],
   "source": [
    "lotto.sort(reverse=True) #내부정렬\n",
    "lotto.reverse()\n",
    "lotto"
   ]
  },
  {
   "cell_type": "code",
   "execution_count": 49,
   "id": "713e5ccd",
   "metadata": {},
   "outputs": [
    {
     "data": {
      "text/plain": [
       "20"
      ]
     },
     "execution_count": 49,
     "metadata": {},
     "output_type": "execute_result"
    }
   ],
   "source": [
    "lotto.pop(2)"
   ]
  },
  {
   "cell_type": "code",
   "execution_count": 50,
   "id": "f0a477d3",
   "metadata": {},
   "outputs": [
    {
     "data": {
      "text/plain": [
       "[14, 17, 22]"
      ]
     },
     "execution_count": 50,
     "metadata": {},
     "output_type": "execute_result"
    }
   ],
   "source": [
    "lotto"
   ]
  },
  {
   "cell_type": "code",
   "execution_count": 51,
   "id": "815f5e67",
   "metadata": {},
   "outputs": [
    {
     "data": {
      "text/plain": [
       "[14, 22]"
      ]
     },
     "execution_count": 51,
     "metadata": {},
     "output_type": "execute_result"
    }
   ],
   "source": [
    "lotto.remove(17)\n",
    "lotto"
   ]
  },
  {
   "cell_type": "markdown",
   "id": "17e78ee4",
   "metadata": {},
   "source": [
    "## 연습문제"
   ]
  },
  {
   "cell_type": "code",
   "execution_count": 57,
   "id": "f6a03ee5",
   "metadata": {},
   "outputs": [
    {
     "data": {
      "text/plain": [
       "[2, 4, 5, 3, 1]"
      ]
     },
     "execution_count": 57,
     "metadata": {},
     "output_type": "execute_result"
    }
   ],
   "source": [
    "lst1 = [1,3,5,4,2]\n",
    "# lst1[::-1]\n",
    "lst1.reverse()\n",
    "lst1"
   ]
  },
  {
   "cell_type": "code",
   "execution_count": 73,
   "id": "223343c1",
   "metadata": {},
   "outputs": [
    {
     "data": {
      "text/plain": [
       "'Python is too interesting'"
      ]
     },
     "execution_count": 73,
     "metadata": {},
     "output_type": "execute_result"
    }
   ],
   "source": [
    "lst2 = ['Python','is','too','interesting']\n",
    "# print(f\"{lst2[0]} {lst2[1]} {lst2[2]} {lst2[3]}\")\n",
    "\" \".join(lst2)"
   ]
  },
  {
   "cell_type": "code",
   "execution_count": 75,
   "id": "32ab6ae4",
   "metadata": {},
   "outputs": [
    {
     "data": {
      "text/plain": [
       "(1, 2)"
      ]
     },
     "execution_count": 75,
     "metadata": {},
     "output_type": "execute_result"
    }
   ],
   "source": [
    "1,2 #괄호 없이 ,로 숫자를 입력하면 자동으로 튜플로 인식한다"
   ]
  },
  {
   "cell_type": "code",
   "execution_count": 76,
   "id": "befa4f68",
   "metadata": {},
   "outputs": [
    {
     "data": {
      "text/plain": [
       "(1, 2, 3)"
      ]
     },
     "execution_count": 76,
     "metadata": {},
     "output_type": "execute_result"
    }
   ],
   "source": [
    "t1 = 1,2,3\n",
    "t1"
   ]
  },
  {
   "cell_type": "code",
   "execution_count": 78,
   "id": "1d7da4e8",
   "metadata": {},
   "outputs": [],
   "source": [
    "# t1[1] = 30 에러나옴 튜플은 수정이 불가능"
   ]
  },
  {
   "cell_type": "code",
   "execution_count": 79,
   "id": "e8776971",
   "metadata": {},
   "outputs": [
    {
     "data": {
      "text/plain": [
       "['l', 'o', 'v', 'e']"
      ]
     },
     "execution_count": 79,
     "metadata": {},
     "output_type": "execute_result"
    }
   ],
   "source": [
    "list(\"love\")"
   ]
  },
  {
   "cell_type": "code",
   "execution_count": 82,
   "id": "e131c602",
   "metadata": {},
   "outputs": [
    {
     "data": {
      "text/plain": [
       "{' 최길동', '김길동', '박길동', '이길동', '홍길동'}"
      ]
     },
     "execution_count": 82,
     "metadata": {},
     "output_type": "execute_result"
    }
   ],
   "source": [
    "참석자 = set()\n",
    "day1 = {'홍길동', '김길동', '이길동'}\n",
    "참석자.update(day1)\n",
    "day2 = {'박길동', '홍길동',' 최길동'}\n",
    "참석자.update(day2)\n",
    "참석자 #중복된 홍길동이 자동으로 배제됨"
   ]
  },
  {
   "cell_type": "code",
   "execution_count": 85,
   "id": "9f29d9b8",
   "metadata": {},
   "outputs": [
    {
     "ename": "KeyError",
     "evalue": "' 최길동'",
     "output_type": "error",
     "traceback": [
      "\u001b[1;31m---------------------------------------------------------------------------\u001b[0m",
      "\u001b[1;31mKeyError\u001b[0m                                  Traceback (most recent call last)",
      "Input \u001b[1;32mIn [85]\u001b[0m, in \u001b[0;36m<cell line: 1>\u001b[1;34m()\u001b[0m\n\u001b[1;32m----> 1\u001b[0m \u001b[43m참석자\u001b[49m\u001b[38;5;241;43m.\u001b[39;49m\u001b[43mremove\u001b[49m\u001b[43m(\u001b[49m\u001b[38;5;124;43m'\u001b[39;49m\u001b[38;5;124;43m 최길동\u001b[39;49m\u001b[38;5;124;43m'\u001b[39;49m\u001b[43m)\u001b[49m\n\u001b[0;32m      2\u001b[0m 참석자\n",
      "\u001b[1;31mKeyError\u001b[0m: ' 최길동'"
     ]
    }
   ],
   "source": [
    "참석자.remove(' 최길동')\n",
    "참석자"
   ]
  },
  {
   "cell_type": "code",
   "execution_count": 86,
   "id": "5541b91f",
   "metadata": {},
   "outputs": [
    {
     "data": {
      "text/plain": [
       "{'박길동'}"
      ]
     },
     "execution_count": 86,
     "metadata": {},
     "output_type": "execute_result"
    }
   ],
   "source": [
    "참석자 - day1"
   ]
  },
  {
   "cell_type": "code",
   "execution_count": 87,
   "id": "42ca6d9d",
   "metadata": {},
   "outputs": [
    {
     "data": {
      "text/plain": [
       "{'홍길동'}"
      ]
     },
     "execution_count": 87,
     "metadata": {},
     "output_type": "execute_result"
    }
   ],
   "source": [
    "day1 & day2"
   ]
  },
  {
   "cell_type": "code",
   "execution_count": 89,
   "id": "d679d015",
   "metadata": {},
   "outputs": [
    {
     "data": {
      "text/plain": [
       "{' 최길동', '김길동', '박길동', '이길동', '홍길동'}"
      ]
     },
     "execution_count": 89,
     "metadata": {},
     "output_type": "execute_result"
    }
   ],
   "source": [
    "day1 | day2"
   ]
  },
  {
   "cell_type": "code",
   "execution_count": 90,
   "id": "60c80491",
   "metadata": {},
   "outputs": [
    {
     "data": {
      "text/plain": [
       "{1, 2, 8, 20, 23, 25}"
      ]
     },
     "execution_count": 90,
     "metadata": {},
     "output_type": "execute_result"
    }
   ],
   "source": [
    "# 로또번호 생성\n",
    "import random\n",
    "lotto = set()\n",
    "lotto.add(random.randint(1,45))\n",
    "lotto.add(random.randint(1,45))\n",
    "lotto.add(random.randint(1,45))\n",
    "lotto.add(random.randint(1,45))\n",
    "lotto.add(random.randint(1,45))\n",
    "lotto.add(random.randint(1,45))\n",
    "lotto"
   ]
  },
  {
   "cell_type": "markdown",
   "id": "7af322a9",
   "metadata": {},
   "source": [
    "## 연습문제"
   ]
  },
  {
   "cell_type": "code",
   "execution_count": 104,
   "id": "df47c4ad",
   "metadata": {},
   "outputs": [
    {
     "data": {
      "text/plain": [
       "[7, 6, 5, 4, 3, 2, 1]"
      ]
     },
     "execution_count": 104,
     "metadata": {},
     "output_type": "execute_result"
    }
   ],
   "source": [
    "a= [1,1,2,2,3,4,4,5,6,7,2]\n",
    "a = list(set(a))\n",
    "a.sort(reverse=True)\n",
    "a"
   ]
  },
  {
   "cell_type": "code",
   "execution_count": 105,
   "id": "592bfbe0",
   "metadata": {},
   "outputs": [
    {
     "data": {
      "text/plain": [
       "{'홍': 70, '김': 90, '이': 80}"
      ]
     },
     "execution_count": 105,
     "metadata": {},
     "output_type": "execute_result"
    }
   ],
   "source": [
    "names = [\"홍\",\"김\",\"이\"]\n",
    "scores = [70,90,80]\n",
    "score_dict = {\"홍\":70, \"김\":90, \"이\":80}\n",
    "score_dict"
   ]
  },
  {
   "cell_type": "code",
   "execution_count": 107,
   "id": "085102ad",
   "metadata": {},
   "outputs": [
    {
     "data": {
      "text/plain": [
       "['홍', '김', '이']"
      ]
     },
     "execution_count": 107,
     "metadata": {},
     "output_type": "execute_result"
    }
   ],
   "source": [
    "list(score_dict.keys())"
   ]
  },
  {
   "cell_type": "code",
   "execution_count": 115,
   "id": "1b5404a1",
   "metadata": {},
   "outputs": [
    {
     "data": {
      "text/plain": [
       "80.0"
      ]
     },
     "execution_count": 115,
     "metadata": {},
     "output_type": "execute_result"
    }
   ],
   "source": [
    "v = list(score_dict.values())\n",
    "sum(v) / len(v) #평균"
   ]
  },
  {
   "cell_type": "code",
   "execution_count": 112,
   "id": "313ff984",
   "metadata": {},
   "outputs": [
    {
     "data": {
      "text/plain": [
       "[('홍', 70), ('김', 90), ('이', 80)]"
      ]
     },
     "execution_count": 112,
     "metadata": {},
     "output_type": "execute_result"
    }
   ],
   "source": [
    "list(score_dict.items()) #추후 반복문에서 사용하기 위해 리스트 형태로 변환"
   ]
  },
  {
   "cell_type": "code",
   "execution_count": 117,
   "id": "e9c39d91",
   "metadata": {},
   "outputs": [
    {
     "data": {
      "text/plain": [
       "False"
      ]
     },
     "execution_count": 117,
     "metadata": {},
     "output_type": "execute_result"
    }
   ],
   "source": [
    "\"강\" in list(score_dict.keys())"
   ]
  },
  {
   "cell_type": "markdown",
   "id": "eb1dc610",
   "metadata": {},
   "source": [
    "## 연습문제"
   ]
  },
  {
   "cell_type": "code",
   "execution_count": 172,
   "id": "7bfe8f85",
   "metadata": {},
   "outputs": [
    {
     "data": {
      "text/plain": [
       "{'a': 90, 'C': 70}"
      ]
     },
     "execution_count": 172,
     "metadata": {},
     "output_type": "execute_result"
    }
   ],
   "source": [
    "A = {'a':90, 'B':80, 'C':70}\n",
    "b = list(A.values())\n",
    "b[1]\n",
    "A.pop('B')\n",
    "A"
   ]
  },
  {
   "cell_type": "code",
   "execution_count": 131,
   "id": "6165c934",
   "metadata": {},
   "outputs": [
    {
     "name": "stdout",
     "output_type": "stream",
     "text": [
      "성별입력(MALE, FEMALE)MALE\n",
      "남성\n"
     ]
    }
   ],
   "source": [
    "ans = input(\"성별입력(MALE, FEMALE)\")\n",
    "if ans == 'MALE':\n",
    "    print('남성')\n",
    "else:\n",
    "    print('여성')"
   ]
  },
  {
   "cell_type": "markdown",
   "id": "f1af19b1",
   "metadata": {},
   "source": [
    "## 연습문제"
   ]
  },
  {
   "cell_type": "code",
   "execution_count": 133,
   "id": "95e3e0ef",
   "metadata": {},
   "outputs": [
    {
     "name": "stdout",
     "output_type": "stream",
     "text": [
      "키를 입력하세요: 155\n",
      "몸무게를 입력하세요: 60\n",
      "비만 수치는 5입니다.\n",
      "당신은 비만입니다.\n"
     ]
    }
   ],
   "source": [
    "height = input(\"키를 입력하세요: \")\n",
    "weight = input(\"몸무게를 입력하세요: \")\n",
    "a = int(weight) + 100 - int(height)\n",
    "if  a > 0 :\n",
    "    print(\"비만 수치는 %d입니다.\\n당신은 비만입니다.\"%a )"
   ]
  },
  {
   "cell_type": "code",
   "execution_count": 193,
   "id": "2b200dd8",
   "metadata": {},
   "outputs": [],
   "source": [
    "# 숫자맞추기 게임\n",
    "# 컴퓨터가 1~100사이 난수 생성\n",
    "# 시도한 횟수가 10회 넘으면 메시지: 당신은 바보입니까?\n",
    "import random\n",
    "com = random.randint(1,100)\n",
    "count = 0"
   ]
  },
  {
   "cell_type": "code",
   "execution_count": 207,
   "id": "b4246365",
   "metadata": {
    "scrolled": true
   },
   "outputs": [
    {
     "name": "stdout",
     "output_type": "stream",
     "text": [
      "14번째 시도\n",
      "낮춰주세요\n",
      "당신은 바보입니까?\n"
     ]
    }
   ],
   "source": [
    "count = count + 1\n",
    "correct = False\n",
    "user = 55\n",
    "print(f\"{count}번째 시도\")\n",
    "if com == user:\n",
    "    correct = True\n",
    "    print(\"정답입니다\")\n",
    "elif com < user:\n",
    "    print(\"낮춰주세요\")\n",
    "else:\n",
    "    print(\"높여주세요\")\n",
    "\n",
    "if correct == False and count > 10:\n",
    "    print(\"당신은 바보입니까?\")"
   ]
  },
  {
   "cell_type": "code",
   "execution_count": 213,
   "id": "0254063e",
   "metadata": {},
   "outputs": [
    {
     "data": {
      "text/plain": [
       "'A'"
      ]
     },
     "execution_count": 213,
     "metadata": {},
     "output_type": "execute_result"
    }
   ],
   "source": [
    "# 학점 판정 A:90이상 B:80이상 C:70이상 D:나머지\n",
    "score = 91\n",
    "grade = \"A\" if score > 90 else \"B\" if score > 80 else \"C\" if score> 70 else \"D\"\n",
    "\n",
    "grade"
   ]
  },
  {
   "cell_type": "code",
   "execution_count": 10,
   "id": "d698aa43",
   "metadata": {},
   "outputs": [],
   "source": [
    "#컴  1~100 난수 생성\n",
    "\n",
    "#시도한 횟수가 10회넘으면\n",
    "\n",
    "#메시지: 당신은 바보입니까?\n",
    "import random\n",
    "com = random.randint(1,100)\n",
    "try_count = 0 # 시도횟수\n"
   ]
  },
  {
   "cell_type": "code",
   "execution_count": 3,
   "id": "560fcf84",
   "metadata": {},
   "outputs": [
    {
     "name": "stdout",
     "output_type": "stream",
     "text": [
      "정답은?: 85\n",
      "낮춰주세요\n",
      "정답은?: 84\n",
      "낮춰주세요\n",
      "정답은?: 50\n",
      "높여주세요\n",
      "정답은?: 60\n",
      "높여주세요\n",
      "정답은?: 65\n",
      "높여주세요\n",
      "정답은?: 66\n",
      "높여주세요\n",
      "정답은?: 70\n",
      "높여주세요\n",
      "정답은?: 79\n",
      "낮춰주세요\n",
      "정답은?: 78\n",
      "낮춰주세요\n",
      "정답은?: 75\n",
      "낮춰주세요\n",
      "정답은?: 74\n",
      "낮춰주세요\n",
      "정답은?: 73\n",
      "낮춰주세요\n",
      "정답은?: 72\n",
      "낮춰주세요\n",
      "정답은?: 71\n",
      "낮춰주세요\n",
      "당신은 바보입니까?\n"
     ]
    }
   ],
   "source": [
    "correct = False #답 맞춤여부\n",
    "\n",
    "#반복조건. 숫자가 다른경우\n",
    "user = 0\n",
    "while user != com:\n",
    "    try_count += 1 # try_count = try_count + 1\n",
    "    user = input(\"1~100사이 숫자 입력 \")\n",
    "    user = int(user)\n",
    "    print( f\"{try_count}번째 시도\")\n",
    "    if com == user:\n",
    "        correct = True #정답\n",
    "        print(\"추카추카 정답입니다!!\")\n",
    "    elif com < user:\n",
    "        print(\"낮춰주세요\")\n",
    "    else:\n",
    "        print(\"높여주세요\")\n",
    "    if correct == False and try_count > 10:\n",
    "        print(\"당신은 바보입니까?\")"
   ]
  },
  {
   "cell_type": "code",
   "execution_count": 4,
   "id": "ab10742e",
   "metadata": {},
   "outputs": [
    {
     "name": "stdout",
     "output_type": "stream",
     "text": [
      "80.0\n"
     ]
    }
   ],
   "source": [
    "scores = [70,80,90]\n",
    "# 총합계산\n",
    "tot = 0\n",
    "for s in scores:\n",
    "    tot += s\n",
    "print(tot/len(scores))"
   ]
  },
  {
   "cell_type": "code",
   "execution_count": null,
   "id": "ce161c53",
   "metadata": {},
   "outputs": [],
   "source": [
    "#컴  1~100 난수 생성\n",
    "\n",
    "#시도한 횟수가 10회넘으면\n",
    "\n",
    "#메시지: 당신은 바보입니까?\n",
    "import random\n",
    "com = random.randint(1,100)\n",
    "try_count = 0 # 시도횟수\n",
    "\n",
    "correct = False\n",
    "for i in range(0,10):\n",
    "    try_count += 1 \n",
    "    user = input(\"1~100사이 숫자 입력 \")\n",
    "    user = int(user)\n",
    "    print( f\"{try_count}번째 시도\")\n",
    "    if com == user:\n",
    "        correct = True\n",
    "        print(\"추카추카 정답입니다!!\")\n",
    "        break;\n",
    "    elif com < user:\n",
    "        print(\"낮춰주세요\")\n",
    "    else:\n",
    "        print(\"높여주세요\")\n",
    "    if correct == False and try_count >= 10:\n",
    "        print(\"당신은 바보입니까?\")    "
   ]
  },
  {
   "cell_type": "code",
   "execution_count": 19,
   "id": "b19cde6a",
   "metadata": {},
   "outputs": [
    {
     "name": "stdout",
     "output_type": "stream",
     "text": [
      "5050\n"
     ]
    }
   ],
   "source": [
    "tot = 0\n",
    "for i in range(0,100):\n",
    "    tot+= i+1\n",
    "print(tot)"
   ]
  },
  {
   "cell_type": "code",
   "execution_count": 24,
   "id": "d70a9623",
   "metadata": {},
   "outputs": [
    {
     "name": "stdout",
     "output_type": "stream",
     "text": [
      "2*1 = 2\n",
      "2*2 = 4\n",
      "2*3 = 6\n",
      "2*4 = 8\n",
      "2*5 = 10\n",
      "2*6 = 12\n",
      "2*7 = 14\n",
      "2*8 = 16\n",
      "2*9 = 18\n",
      "3*1 = 3\n",
      "3*2 = 6\n",
      "3*3 = 9\n",
      "3*4 = 12\n",
      "3*5 = 15\n",
      "3*6 = 18\n",
      "3*7 = 21\n",
      "3*8 = 24\n",
      "3*9 = 27\n",
      "4*1 = 4\n",
      "4*2 = 8\n",
      "4*3 = 12\n",
      "4*4 = 16\n",
      "4*5 = 20\n",
      "4*6 = 24\n",
      "4*7 = 28\n",
      "4*8 = 32\n",
      "4*9 = 36\n",
      "5*1 = 5\n",
      "5*2 = 10\n",
      "5*3 = 15\n",
      "5*4 = 20\n",
      "5*5 = 25\n",
      "5*6 = 30\n",
      "5*7 = 35\n",
      "5*8 = 40\n",
      "5*9 = 45\n",
      "6*1 = 6\n",
      "6*2 = 12\n",
      "6*3 = 18\n",
      "6*4 = 24\n",
      "6*5 = 30\n",
      "6*6 = 36\n",
      "6*7 = 42\n",
      "6*8 = 48\n",
      "6*9 = 54\n",
      "7*1 = 7\n",
      "7*2 = 14\n",
      "7*3 = 21\n",
      "7*4 = 28\n",
      "7*5 = 35\n",
      "7*6 = 42\n",
      "7*7 = 49\n",
      "7*8 = 56\n",
      "7*9 = 63\n",
      "8*1 = 8\n",
      "8*2 = 16\n",
      "8*3 = 24\n",
      "8*4 = 32\n",
      "8*5 = 40\n",
      "8*6 = 48\n",
      "8*7 = 56\n",
      "8*8 = 64\n",
      "8*9 = 72\n",
      "9*1 = 9\n",
      "9*2 = 18\n",
      "9*3 = 27\n",
      "9*4 = 36\n",
      "9*5 = 45\n",
      "9*6 = 54\n",
      "9*7 = 63\n",
      "9*8 = 72\n",
      "9*9 = 81\n"
     ]
    }
   ],
   "source": [
    "# dan = 3\n",
    "for dan in range(2,10):\n",
    "    for i in range(1,10):\n",
    "        print(f\"{dan}*{i} = {dan*i}\")"
   ]
  },
  {
   "cell_type": "code",
   "execution_count": 38,
   "id": "b75c5077",
   "metadata": {},
   "outputs": [
    {
     "name": "stdout",
     "output_type": "stream",
     "text": [
      "1\n",
      "2\n",
      "3\n",
      "4\n",
      "5\n",
      "6\n",
      "7\n",
      "8\n",
      "9\n",
      "10\n"
     ]
    }
   ],
   "source": [
    "test2D = [[1,2,3],[4,5,6],[7,8,9,10]]\n",
    "for i in test2D:\n",
    "    for j in i:\n",
    "        print(j)"
   ]
  },
  {
   "cell_type": "code",
   "execution_count": null,
   "id": "993b118e",
   "metadata": {},
   "outputs": [],
   "source": [
    "cnt = 0\n",
    "for i in range(10):\n",
    "    #??? 중간에 채우는 것이 평가 문제로 나옴\n",
    "print(cnt) #결과물 20"
   ]
  },
  {
   "cell_type": "code",
   "execution_count": 39,
   "id": "e44b6fa0",
   "metadata": {},
   "outputs": [],
   "source": [
    "for i in range(10):\n",
    "    pass"
   ]
  },
  {
   "cell_type": "code",
   "execution_count": 42,
   "id": "35aee8dd",
   "metadata": {},
   "outputs": [
    {
     "name": "stdout",
     "output_type": "stream",
     "text": [
      "[True, False, False]\n",
      "[7.0, 8.0, 9.0]\n"
     ]
    },
    {
     "data": {
      "text/plain": [
       "'70-80-90'"
      ]
     },
     "execution_count": 42,
     "metadata": {},
     "output_type": "execute_result"
    }
   ],
   "source": [
    "scores = [70,80,90]\n",
    "print([True if s<80 else False for s in scores])\n",
    "print([s/10 for s in scores])\n",
    "scores = [str(s) for s in scores ]\n",
    "\"-\".join(scores)"
   ]
  },
  {
   "cell_type": "code",
   "execution_count": 100,
   "id": "4abef3ac",
   "metadata": {},
   "outputs": [
    {
     "data": {
      "text/plain": [
       "'보'"
      ]
     },
     "execution_count": 100,
     "metadata": {},
     "output_type": "execute_result"
    }
   ],
   "source": [
    "# 컴퓨터가 1,2,3 난수로 생성 -> 가위, 바위, 보로 출력\n",
    "# 단 if 사용하지 않고 // 조건문 없이 분기 가르는 방법\n",
    "# 리스트 혹은 딕셔너리 사용\n",
    "import random\n",
    "com = random.randint(1,3)\n",
    "game = {1:\"가위\",2:\"바위\",3:\"보\"}\n",
    "game[com]"
   ]
  },
  {
   "cell_type": "code",
   "execution_count": 101,
   "id": "24f3a337",
   "metadata": {
    "scrolled": true
   },
   "outputs": [
    {
     "data": {
      "text/plain": [
       "'보'"
      ]
     },
     "execution_count": 101,
     "metadata": {},
     "output_type": "execute_result"
    }
   ],
   "source": [
    "arr = [\"가위\",\"바위\",\"보\"]\n",
    "arr[com-1]"
   ]
  },
  {
   "cell_type": "code",
   "execution_count": 107,
   "id": "0826c20b",
   "metadata": {},
   "outputs": [
    {
     "name": "stdout",
     "output_type": "stream",
     "text": [
      "hello\n",
      "<function my_hello at 0x0000024AB9ACC160>\n"
     ]
    },
    {
     "data": {
      "text/plain": [
       "'hello'"
      ]
     },
     "execution_count": 107,
     "metadata": {},
     "output_type": "execute_result"
    }
   ],
   "source": [
    "def my_hello():\n",
    "    return (\"hello\") # 본문은 객체로 저장됨\n",
    "\n",
    "ans = my_hello() # -> hello\n",
    "print(ans)\n",
    "# my_hello(\"홍길동\") # -> hello 홍길동\n",
    "print(my_hello)\n",
    "aa = my_hello # 함수 my_hello의 주소값 복사\n",
    "aa() # my_hello()와 같은 주소를 가리키는 변수 aa"
   ]
  }
 ],
 "metadata": {
  "kernelspec": {
   "display_name": "Python 3 (ipykernel)",
   "language": "python",
   "name": "python3"
  },
  "language_info": {
   "codemirror_mode": {
    "name": "ipython",
    "version": 3
   },
   "file_extension": ".py",
   "mimetype": "text/x-python",
   "name": "python",
   "nbconvert_exporter": "python",
   "pygments_lexer": "ipython3",
   "version": "3.9.12"
  }
 },
 "nbformat": 4,
 "nbformat_minor": 5
}
