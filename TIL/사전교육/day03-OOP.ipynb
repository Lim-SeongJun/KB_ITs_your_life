{
 "cells": [
  {
   "cell_type": "code",
   "execution_count": 8,
   "id": "d362b6d5",
   "metadata": {},
   "outputs": [
    {
     "name": "stdout",
     "output_type": "stream",
     "text": [
      "ps5 300000\n",
      "냉장고 1000000\n"
     ]
    }
   ],
   "source": [
    "class Product:\n",
    "    def __init__(self,name, price):\n",
    "        self.name = name\n",
    "        self.price = price\n",
    "    \n",
    "    def print_info(self):\n",
    "        print(self.name,self.price)\n",
    "p1 = Product(\"ps5\",300000)\n",
    "p1.print_info()\n",
    "p2 = Product(\"냉장고\",1000000)\n",
    "p2.print_info()"
   ]
  },
  {
   "cell_type": "code",
   "execution_count": null,
   "id": "d9c319b0",
   "metadata": {},
   "outputs": [],
   "source": []
  }
 ],
 "metadata": {
  "kernelspec": {
   "display_name": "Python 3 (ipykernel)",
   "language": "python",
   "name": "python3"
  },
  "language_info": {
   "codemirror_mode": {
    "name": "ipython",
    "version": 3
   },
   "file_extension": ".py",
   "mimetype": "text/x-python",
   "name": "python",
   "nbconvert_exporter": "python",
   "pygments_lexer": "ipython3",
   "version": "3.9.12"
  }
 },
 "nbformat": 4,
 "nbformat_minor": 5
}
