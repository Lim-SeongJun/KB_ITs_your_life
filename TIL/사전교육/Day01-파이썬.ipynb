{
 "cells": [
  {
   "cell_type": "code",
   "execution_count": 6,
   "id": "e89777a5",
   "metadata": {},
   "outputs": [
    {
     "name": "stdout",
     "output_type": "stream",
     "text": [
      "100000000000000000000\n"
     ]
    },
    {
     "data": {
      "text/plain": [
       "10000000000000000000000000000000000000000"
      ]
     },
     "execution_count": 6,
     "metadata": {},
     "output_type": "execute_result"
    }
   ],
   "source": [
    "a = 10000\n",
    "b = a* 10000 * 10000 * 10000 * 10000\n",
    "print(b)\n",
    "b * b"
   ]
  },
  {
   "cell_type": "code",
   "execution_count": 8,
   "id": "a5821948",
   "metadata": {},
   "outputs": [
    {
     "data": {
      "text/plain": [
       "int"
      ]
     },
     "execution_count": 8,
     "metadata": {},
     "output_type": "execute_result"
    }
   ],
   "source": [
    "type(b)"
   ]
  },
  {
   "cell_type": "code",
   "execution_count": 11,
   "id": "be6303c7",
   "metadata": {},
   "outputs": [
    {
     "name": "stdout",
     "output_type": "stream",
     "text": [
      "김길동\n"
     ]
    }
   ],
   "source": [
    "이름 = \"김길동\"\n",
    "print(이름)"
   ]
  },
  {
   "cell_type": "code",
   "execution_count": 21,
   "id": "b4562d47",
   "metadata": {},
   "outputs": [],
   "source": [
    "i = 100\n",
    "j2 = 0b111\n",
    "j8 = 0o760\n",
    "j16 = 0x9abcdef"
   ]
  },
  {
   "cell_type": "code",
   "execution_count": 32,
   "id": "46f10cbf",
   "metadata": {},
   "outputs": [
    {
     "data": {
      "text/plain": [
       "(2022, 8, 1)"
      ]
     },
     "execution_count": 32,
     "metadata": {},
     "output_type": "execute_result"
    }
   ],
   "source": [
    "today = 20220801\n",
    "year = today//10000\n",
    "month = today % 10000 // 100\n",
    "day = today % 10000 % 100\n",
    "year, month, day"
   ]
  },
  {
   "cell_type": "code",
   "execution_count": 37,
   "id": "47c9f95a",
   "metadata": {},
   "outputs": [
    {
     "data": {
      "text/plain": [
       "'12'"
      ]
     },
     "execution_count": 37,
     "metadata": {},
     "output_type": "execute_result"
    }
   ],
   "source": [
    "\"1\" + \"2\""
   ]
  },
  {
   "cell_type": "code",
   "execution_count": 35,
   "id": "4ba00ec0",
   "metadata": {},
   "outputs": [
    {
     "data": {
      "text/plain": [
       "1"
      ]
     },
     "execution_count": 35,
     "metadata": {},
     "output_type": "execute_result"
    }
   ],
   "source": [
    "1"
   ]
  },
  {
   "cell_type": "code",
   "execution_count": 44,
   "id": "b2e62fd6",
   "metadata": {},
   "outputs": [
    {
     "data": {
      "text/plain": [
       "False"
      ]
     },
     "execution_count": 44,
     "metadata": {},
     "output_type": "execute_result"
    }
   ],
   "source": [
    "bool({})"
   ]
  },
  {
   "cell_type": "code",
   "execution_count": 45,
   "id": "1e7529f8",
   "metadata": {},
   "outputs": [
    {
     "data": {
      "text/plain": [
       "'홍'"
      ]
     },
     "execution_count": 45,
     "metadata": {},
     "output_type": "execute_result"
    }
   ],
   "source": [
    "s1 = \"홍\"\n",
    "s1"
   ]
  },
  {
   "cell_type": "code",
   "execution_count": 51,
   "id": "d1ebd64b",
   "metadata": {},
   "outputs": [
    {
     "data": {
      "text/plain": [
       "'구름에 달 가듯이 가는 나그네 길은 외줄기 남도삼백리'"
      ]
     },
     "execution_count": 51,
     "metadata": {},
     "output_type": "execute_result"
    }
   ],
   "source": [
    "poem = \"구름에 달 가듯이 가는 나그네 \\\n",
    "길은 외줄기 남도삼백리\"\n",
    "poem"
   ]
  },
  {
   "cell_type": "code",
   "execution_count": 53,
   "id": "fd036485",
   "metadata": {},
   "outputs": [
    {
     "data": {
      "text/plain": [
       "'구름에 달 가듯이 나그네 \\n길은 외줄기 남도삼백리\\n'"
      ]
     },
     "execution_count": 53,
     "metadata": {},
     "output_type": "execute_result"
    }
   ],
   "source": [
    "poem = \"\"\"구름에 달 가듯이 나그네 \n",
    "길은 외줄기 남도삼백리\n",
    "\"\"\"\n",
    "poem"
   ]
  },
  {
   "cell_type": "markdown",
   "id": "1981a8d6",
   "metadata": {},
   "source": [
    "# 연습문제1\n",
    "## 연습문제1"
   ]
  },
  {
   "cell_type": "code",
   "execution_count": 55,
   "id": "981f3277",
   "metadata": {},
   "outputs": [
    {
     "data": {
      "text/plain": [
       "'1'"
      ]
     },
     "execution_count": 55,
     "metadata": {},
     "output_type": "execute_result"
    }
   ],
   "source": [
    "a = '210101-1234567'\n",
    "b = a.split('-')\n",
    "c = b[1]\n",
    "c[0]"
   ]
  },
  {
   "cell_type": "markdown",
   "id": "908a1496",
   "metadata": {},
   "source": [
    "# 연습문제2"
   ]
  },
  {
   "cell_type": "code",
   "execution_count": 57,
   "id": "33539100",
   "metadata": {
    "scrolled": false
   },
   "outputs": [
    {
     "data": {
      "text/plain": [
       "('20210101', 'Sunny')"
      ]
     },
     "execution_count": 57,
     "metadata": {},
     "output_type": "execute_result"
    }
   ],
   "source": [
    "ab = '20210101Sunny'\n",
    "date = ab[:8]\n",
    "weather = ab[8:]\n",
    "date, weather"
   ]
  },
  {
   "cell_type": "code",
   "execution_count": 62,
   "id": "0c00e0ec",
   "metadata": {},
   "outputs": [
    {
     "name": "stdout",
     "output_type": "stream",
     "text": [
      "홍길동은 30살\n"
     ]
    }
   ],
   "source": [
    "name=\"홍길동\"\n",
    "age = 30\n",
    "print(name + '은 ' + str(age) + '살' )"
   ]
  },
  {
   "cell_type": "code",
   "execution_count": 66,
   "id": "755f7258",
   "metadata": {},
   "outputs": [
    {
     "name": "stdout",
     "output_type": "stream",
     "text": [
      "홍길동은 30살\n",
      "홍길동은 30살\n"
     ]
    }
   ],
   "source": [
    "print(\"%s은 %s살\"%(name, age))\n",
    "print(\"%s은 %d살\"%(name, age))"
   ]
  },
  {
   "cell_type": "code",
   "execution_count": 70,
   "id": "7f699310",
   "metadata": {},
   "outputs": [
    {
     "name": "stdout",
     "output_type": "stream",
     "text": [
      "홍길동은 30살. 홍길동은 젊어요.\n"
     ]
    }
   ],
   "source": [
    "print(\"{0}은 {1}살. {0}은 젊어요.\".format(name, age))"
   ]
  },
  {
   "cell_type": "code",
   "execution_count": 73,
   "id": "11db9445",
   "metadata": {},
   "outputs": [
    {
     "name": "stdout",
     "output_type": "stream",
     "text": [
      "홍길동은 30살. 1992년 생\n"
     ]
    }
   ],
   "source": [
    "print(f\"{name}은 {age}살. {2022-age}년 생\")"
   ]
  },
  {
   "cell_type": "code",
   "execution_count": 76,
   "id": "8c5db85a",
   "metadata": {},
   "outputs": [
    {
     "data": {
      "text/plain": [
       "'홍길동의 길이는 3'"
      ]
     },
     "execution_count": 76,
     "metadata": {},
     "output_type": "execute_result"
    }
   ],
   "source": [
    "f\"{name}의 길이는 {len(name)}\""
   ]
  },
  {
   "cell_type": "code",
   "execution_count": 81,
   "id": "21924d6c",
   "metadata": {},
   "outputs": [
    {
     "data": {
      "text/plain": [
       "False"
      ]
     },
     "execution_count": 81,
     "metadata": {},
     "output_type": "execute_result"
    }
   ],
   "source": [
    "\"홍길동.3\".isalnum()"
   ]
  },
  {
   "cell_type": "code",
   "execution_count": 84,
   "id": "1e2730e3",
   "metadata": {},
   "outputs": [
    {
     "data": {
      "text/plain": [
       "5"
      ]
     },
     "execution_count": 84,
     "metadata": {},
     "output_type": "execute_result"
    }
   ],
   "source": [
    "\"홍길동 김길동\".index(\"길동\",3)"
   ]
  },
  {
   "cell_type": "code",
   "execution_count": 87,
   "id": "35c979aa",
   "metadata": {},
   "outputs": [
    {
     "data": {
      "text/plain": [
       "False"
      ]
     },
     "execution_count": 87,
     "metadata": {},
     "output_type": "execute_result"
    }
   ],
   "source": [
    "\"홍길동\".startswith(\"김\")"
   ]
  },
  {
   "cell_type": "code",
   "execution_count": 90,
   "id": "c6061744",
   "metadata": {},
   "outputs": [
    {
     "data": {
      "text/plain": [
       "'abc def'"
      ]
     },
     "execution_count": 90,
     "metadata": {},
     "output_type": "execute_result"
    }
   ],
   "source": [
    "\"  abc def   \".strip()"
   ]
  },
  {
   "cell_type": "code",
   "execution_count": 91,
   "id": "04820f60",
   "metadata": {},
   "outputs": [],
   "source": [
    "print? #?를 붙이면 함수에 대한 설명을 볼 수 있음"
   ]
  },
  {
   "cell_type": "code",
   "execution_count": 96,
   "id": "665b7a2c",
   "metadata": {},
   "outputs": [
    {
     "name": "stdout",
     "output_type": "stream",
     "text": [
      "홍길동__30__210101-1234567\n"
     ]
    }
   ],
   "source": [
    "print(name,age,a, sep=\"__\") #기본값은 공백(\" \")"
   ]
  },
  {
   "cell_type": "code",
   "execution_count": 99,
   "id": "be556584",
   "metadata": {},
   "outputs": [
    {
     "name": "stdout",
     "output_type": "stream",
     "text": [
      "210101-1234567['210101', '1234567']\n"
     ]
    }
   ],
   "source": [
    "print(a, end=\"\") #기본값은 줄바꿈(\\n)\n",
    "print(b)"
   ]
  },
  {
   "cell_type": "code",
   "execution_count": 1,
   "id": "f3eddbf8",
   "metadata": {},
   "outputs": [
    {
     "name": "stdout",
     "output_type": "stream",
     "text": [
      "이름은? 김길동\n"
     ]
    }
   ],
   "source": [
    "ans = input(\"이름은? \")"
   ]
  },
  {
   "cell_type": "code",
   "execution_count": 3,
   "id": "b92e7969",
   "metadata": {},
   "outputs": [
    {
     "name": "stdout",
     "output_type": "stream",
     "text": [
      "김길동\n"
     ]
    }
   ],
   "source": [
    "print(ans)"
   ]
  },
  {
   "cell_type": "code",
   "execution_count": 4,
   "id": "eececdb7",
   "metadata": {},
   "outputs": [],
   "source": [
    "a = 90\n",
    "b = 70\n",
    "#리스트\n",
    "반1 = [70, 80, 90]"
   ]
  },
  {
   "cell_type": "code",
   "execution_count": 12,
   "id": "fc07515f",
   "metadata": {},
   "outputs": [
    {
     "data": {
      "text/plain": [
       "[11, 39, 7, 17, 28, 37]"
      ]
     },
     "execution_count": 12,
     "metadata": {},
     "output_type": "execute_result"
    }
   ],
   "source": [
    "import random\n",
    "lotto = [\n",
    "    random.randint(1,45),\n",
    "    random.randint(1,45),\n",
    "    random.randint(1,45),\n",
    "    random.randint(1,45),\n",
    "    random.randint(1,45),\n",
    "    random.randint(1,45)\n",
    "]\n",
    "lotto"
   ]
  },
  {
   "cell_type": "code",
   "execution_count": 13,
   "id": "2cee9677",
   "metadata": {},
   "outputs": [
    {
     "data": {
      "text/plain": [
       "6"
      ]
     },
     "execution_count": 13,
     "metadata": {},
     "output_type": "execute_result"
    }
   ],
   "source": [
    "len(lotto)"
   ]
  },
  {
   "cell_type": "code",
   "execution_count": 15,
   "id": "12d1efc6",
   "metadata": {},
   "outputs": [
    {
     "data": {
      "text/plain": [
       "[70, 80, 90, 80, 90, 60]"
      ]
     },
     "execution_count": 15,
     "metadata": {},
     "output_type": "execute_result"
    }
   ],
   "source": [
    "ar1 = [70,80,90]\n",
    "ar2 = [80,90,60]\n",
    "\n",
    "ar3 = ar1+ar2\n",
    "ar3"
   ]
  },
  {
   "cell_type": "code",
   "execution_count": 17,
   "id": "b2f733d4",
   "metadata": {},
   "outputs": [
    {
     "data": {
      "text/plain": [
       "[80]"
      ]
     },
     "execution_count": 17,
     "metadata": {},
     "output_type": "execute_result"
    }
   ],
   "source": [
    "ar3[1:2]"
   ]
  },
  {
   "cell_type": "code",
   "execution_count": 18,
   "id": "ce46a007",
   "metadata": {},
   "outputs": [
    {
     "data": {
      "text/plain": [
       "[70, 88, 90, 80, 90, 60]"
      ]
     },
     "execution_count": 18,
     "metadata": {},
     "output_type": "execute_result"
    }
   ],
   "source": [
    "ar3[1]= 88\n",
    "ar3"
   ]
  },
  {
   "cell_type": "code",
   "execution_count": null,
   "id": "1dd92ad9",
   "metadata": {},
   "outputs": [],
   "source": []
  }
 ],
 "metadata": {
  "kernelspec": {
   "display_name": "Python 3 (ipykernel)",
   "language": "python",
   "name": "python3"
  },
  "language_info": {
   "codemirror_mode": {
    "name": "ipython",
    "version": 3
   },
   "file_extension": ".py",
   "mimetype": "text/x-python",
   "name": "python",
   "nbconvert_exporter": "python",
   "pygments_lexer": "ipython3",
   "version": "3.9.12"
  }
 },
 "nbformat": 4,
 "nbformat_minor": 5
}
