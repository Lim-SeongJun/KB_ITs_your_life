{
 "cells": [
  {
   "cell_type": "code",
   "execution_count": 1,
   "id": "82f42c8d",
   "metadata": {},
   "outputs": [
    {
     "name": "stdout",
     "output_type": "stream",
     "text": [
      "ans=  Hello 홍길동\n"
     ]
    }
   ],
   "source": [
    "def hello(name):\n",
    "    return \"Hello \"+name\n",
    "\n",
    "# ans = hello() # -> Hello\n",
    "# print(\"ans=\", ans)\n",
    "ans = hello(\"홍길동\") # -> Hello 홍길동\n",
    "print(\"ans= \", ans)"
   ]
  },
  {
   "cell_type": "code",
   "execution_count": 2,
   "id": "7a3e625c",
   "metadata": {},
   "outputs": [
    {
     "name": "stdout",
     "output_type": "stream",
     "text": [
      "<function hello at 0x000001B381F199D0>\n",
      "<function hello at 0x000001B381F199D0>\n"
     ]
    },
    {
     "data": {
      "text/plain": [
       "'Hello 김길동'"
      ]
     },
     "execution_count": 2,
     "metadata": {},
     "output_type": "execute_result"
    }
   ],
   "source": [
    "print(hello)\n",
    "aa = hello\n",
    "print(aa)\n",
    "aa(\"김길동\")"
   ]
  },
  {
   "cell_type": "code",
   "execution_count": 3,
   "id": "bc378c2b",
   "metadata": {},
   "outputs": [
    {
     "ename": "TypeError",
     "evalue": "hello() missing 1 required positional argument: 'name'",
     "output_type": "error",
     "traceback": [
      "\u001b[1;31m---------------------------------------------------------------------------\u001b[0m",
      "\u001b[1;31mTypeError\u001b[0m                                 Traceback (most recent call last)",
      "Input \u001b[1;32mIn [3]\u001b[0m, in \u001b[0;36m<cell line: 2>\u001b[1;34m()\u001b[0m\n\u001b[0;32m      1\u001b[0m \u001b[38;5;66;03m# hello = 100\u001b[39;00m\n\u001b[1;32m----> 2\u001b[0m \u001b[43mhello\u001b[49m\u001b[43m(\u001b[49m\u001b[43m)\u001b[49m\n",
      "\u001b[1;31mTypeError\u001b[0m: hello() missing 1 required positional argument: 'name'"
     ]
    }
   ],
   "source": [
    "# hello = 100\n",
    "hello()"
   ]
  },
  {
   "cell_type": "code",
   "execution_count": 6,
   "id": "fa07b492",
   "metadata": {},
   "outputs": [
    {
     "ename": "TypeError",
     "evalue": "calc_minus() takes 2 positional arguments but 3 were given",
     "output_type": "error",
     "traceback": [
      "\u001b[1;31m---------------------------------------------------------------------------\u001b[0m",
      "\u001b[1;31mTypeError\u001b[0m                                 Traceback (most recent call last)",
      "Input \u001b[1;32mIn [6]\u001b[0m, in \u001b[0;36m<cell line: 3>\u001b[1;34m()\u001b[0m\n\u001b[0;32m      1\u001b[0m \u001b[38;5;28;01mdef\u001b[39;00m \u001b[38;5;21mcalc_minus\u001b[39m(n1,n2):\n\u001b[0;32m      2\u001b[0m     \u001b[38;5;28;01mreturn\u001b[39;00m n1 \u001b[38;5;241m-\u001b[39mn2\n\u001b[1;32m----> 3\u001b[0m \u001b[43mcalc_minus\u001b[49m\u001b[43m(\u001b[49m\u001b[38;5;241;43m4\u001b[39;49m\u001b[43m,\u001b[49m\u001b[38;5;241;43m3\u001b[39;49m\u001b[43m,\u001b[49m\u001b[38;5;241;43m2\u001b[39;49m\u001b[43m)\u001b[49m\n",
      "\u001b[1;31mTypeError\u001b[0m: calc_minus() takes 2 positional arguments but 3 were given"
     ]
    }
   ],
   "source": [
    "def calc_minus(n1,n2):\n",
    "    return n1 -n2\n",
    "calc_minus(4,3,2)"
   ]
  },
  {
   "cell_type": "code",
   "execution_count": 5,
   "id": "d2a425a5",
   "metadata": {},
   "outputs": [
    {
     "name": "stdout",
     "output_type": "stream",
     "text": [
      "2 4 6 8 10 12 14 16 18 \n",
      "3 6 9 12 15 18 21 24 27 \n",
      "3 6 9 12 15 18 21 24 27 \n",
      "4 8 12 16 20 24 28 32 36 \n",
      "5 10 15 20 25 30 35 40 45 \n"
     ]
    }
   ],
   "source": [
    "# 구구단출력 함수\n",
    "def gugudan(dan=2, a = 0):\n",
    "    while(True):\n",
    "        for  i in range(1, 10):\n",
    "            print(f\"{dan*i}\",end=\" \")\n",
    "        print()\n",
    "        dan+=1\n",
    "        if a==0 or dan == a+1:\n",
    "            break\n",
    "gugudan() # 2단 구구단 출력\n",
    "gugudan(3) # 3단 구구단 출력\n",
    "gugudan(3,5) # 3단~5단 까지 출력"
   ]
  },
  {
   "cell_type": "code",
   "execution_count": 12,
   "id": "1c498cfd",
   "metadata": {},
   "outputs": [
    {
     "name": "stdout",
     "output_type": "stream",
     "text": [
      "2 4 6 8 10 12 14 16 18 \n",
      "3 6 9 12 15 18 21 24 27 \n",
      "3 6 9 12 15 18 21 24 27 \n",
      "4 8 12 16 20 24 28 32 36 \n",
      "5 10 15 20 25 30 35 40 45 \n"
     ]
    }
   ],
   "source": [
    "# 구구단출력 함수\n",
    "def gugudan(dan=2, dan2 = 0):\n",
    "    \"\"\"구구단 출력함수\n",
    "    \"\"\"\n",
    "    if dan2 == 0:\n",
    "        dan2 = dan\n",
    "    for d in range(dan, dan2+1):\n",
    "        for i in range(1,10):\n",
    "            print(f\"{d*i}\", end=\" \")\n",
    "        print()\n",
    "gugudan() # 2단 구구단 출력\n",
    "gugudan(3) # 3단 구구단 출력\n",
    "gugudan(3,5) # 3단~5단 까지 출력"
   ]
  },
  {
   "cell_type": "code",
   "execution_count": 20,
   "id": "670cf02f",
   "metadata": {},
   "outputs": [
    {
     "name": "stdout",
     "output_type": "stream",
     "text": [
      "['홍길동']\n",
      "['홍길동']\n"
     ]
    }
   ],
   "source": [
    "# 회원등록함수\n",
    "members = [] #전역변수 global variable\n",
    "count = 0\n",
    "def add_member(*mems):\n",
    "    global count # count는 전역변수를 쓰세요\n",
    "    members.extend(mems) # = mems\n",
    "    print(members)\n",
    "    count = count + len(mems)\n",
    "    \n",
    "add_member(\"홍길동\")\n",
    "print(members)\n",
    "# add_member(\"홍길동\",\"김길동\")\n",
    "# add_member(\"박길동\",\"최길동\",\"강길동\")"
   ]
  },
  {
   "cell_type": "code",
   "execution_count": 25,
   "id": "c759e441",
   "metadata": {},
   "outputs": [
    {
     "name": "stdout",
     "output_type": "stream",
     "text": [
      "count= 3\n"
     ]
    }
   ],
   "source": [
    "# 회원등록함수 - 클로저(Closure)\n",
    "# 한번 돌고 사라지는 함수를 함수 안의 함수로써 사라지지 않게 잡아두고 그안의 변수들을 사용 할 수 있게 함\n",
    "# 시험에 나오지는 않지만 유용한 정보\n",
    "def add_member():\n",
    "    members = [] #전역변수 global variable\n",
    "    count = 0\n",
    "    def add(*mems):\n",
    "        nonlocal count # 로컬도 전역도 아닌 중간에 끼어있는 변수라는 것을 알려줌\n",
    "        members.extend(mems) # = mems\n",
    "        count = count + len(mems)\n",
    "    def print_info():\n",
    "        print(\"count=\", count)\n",
    "    return add, print_info \n",
    "\n",
    "    \n",
    "a, p = add_member()\n",
    "a(\"홍길동\")\n",
    "a(\"홍길동\",\"김길동\")\n",
    "p()\n",
    "#p = add_member(\"홍길동\",\"김길동\")\n",
    "#p()\n",
    "# add_member(\"박길동\",\"최길동\",\"강길동\")"
   ]
  },
  {
   "cell_type": "code",
   "execution_count": 26,
   "id": "79447ddb",
   "metadata": {},
   "outputs": [
    {
     "name": "stdout",
     "output_type": "stream",
     "text": [
      "(10, 20, 30)\n"
     ]
    }
   ],
   "source": [
    "def my_plus(a, *args):\n",
    "    print(args)\n",
    "my_plus(10,20,30)"
   ]
  },
  {
   "cell_type": "code",
   "execution_count": 32,
   "id": "546ae2d4",
   "metadata": {},
   "outputs": [
    {
     "name": "stdout",
     "output_type": "stream",
     "text": [
      "100\n",
      "120\n"
     ]
    }
   ],
   "source": [
    "def calc_many(choice, *args):\n",
    "    a = 0\n",
    "    if choice == 'sum':\n",
    "        return sum(args)\n",
    "    if choice == 'mul':\n",
    "        tot = 1\n",
    "        for i in args:\n",
    "            tot *= i\n",
    "        return tot\n",
    "print(calc_many(\"sum\",10,20,30,40))\n",
    "print(calc_many(\"mul\",2,3,4,5))"
   ]
  },
  {
   "cell_type": "code",
   "execution_count": 35,
   "id": "96de706a",
   "metadata": {
    "scrolled": true
   },
   "outputs": [
    {
     "data": {
      "text/plain": [
       "['ArithmeticError',\n",
       " 'AssertionError',\n",
       " 'AttributeError',\n",
       " 'BaseException',\n",
       " 'BlockingIOError',\n",
       " 'BrokenPipeError',\n",
       " 'BufferError',\n",
       " 'BytesWarning',\n",
       " 'ChildProcessError',\n",
       " 'ConnectionAbortedError',\n",
       " 'ConnectionError',\n",
       " 'ConnectionRefusedError',\n",
       " 'ConnectionResetError',\n",
       " 'DeprecationWarning',\n",
       " 'EOFError',\n",
       " 'Ellipsis',\n",
       " 'EnvironmentError',\n",
       " 'Exception',\n",
       " 'False',\n",
       " 'FileExistsError',\n",
       " 'FileNotFoundError',\n",
       " 'FloatingPointError',\n",
       " 'FutureWarning',\n",
       " 'GeneratorExit',\n",
       " 'IOError',\n",
       " 'ImportError',\n",
       " 'ImportWarning',\n",
       " 'IndentationError',\n",
       " 'IndexError',\n",
       " 'InterruptedError',\n",
       " 'IsADirectoryError',\n",
       " 'KeyError',\n",
       " 'KeyboardInterrupt',\n",
       " 'LookupError',\n",
       " 'MemoryError',\n",
       " 'ModuleNotFoundError',\n",
       " 'NameError',\n",
       " 'None',\n",
       " 'NotADirectoryError',\n",
       " 'NotImplemented',\n",
       " 'NotImplementedError',\n",
       " 'OSError',\n",
       " 'OverflowError',\n",
       " 'PendingDeprecationWarning',\n",
       " 'PermissionError',\n",
       " 'ProcessLookupError',\n",
       " 'RecursionError',\n",
       " 'ReferenceError',\n",
       " 'ResourceWarning',\n",
       " 'RuntimeError',\n",
       " 'RuntimeWarning',\n",
       " 'StopAsyncIteration',\n",
       " 'StopIteration',\n",
       " 'SyntaxError',\n",
       " 'SyntaxWarning',\n",
       " 'SystemError',\n",
       " 'SystemExit',\n",
       " 'TabError',\n",
       " 'TimeoutError',\n",
       " 'True',\n",
       " 'TypeError',\n",
       " 'UnboundLocalError',\n",
       " 'UnicodeDecodeError',\n",
       " 'UnicodeEncodeError',\n",
       " 'UnicodeError',\n",
       " 'UnicodeTranslateError',\n",
       " 'UnicodeWarning',\n",
       " 'UserWarning',\n",
       " 'ValueError',\n",
       " 'Warning',\n",
       " 'WindowsError',\n",
       " 'ZeroDivisionError',\n",
       " '__IPYTHON__',\n",
       " '__build_class__',\n",
       " '__debug__',\n",
       " '__doc__',\n",
       " '__import__',\n",
       " '__loader__',\n",
       " '__name__',\n",
       " '__package__',\n",
       " '__spec__',\n",
       " 'abs',\n",
       " 'all',\n",
       " 'any',\n",
       " 'ascii',\n",
       " 'bin',\n",
       " 'bool',\n",
       " 'breakpoint',\n",
       " 'bytearray',\n",
       " 'bytes',\n",
       " 'callable',\n",
       " 'chr',\n",
       " 'classmethod',\n",
       " 'compile',\n",
       " 'complex',\n",
       " 'copyright',\n",
       " 'credits',\n",
       " 'delattr',\n",
       " 'dict',\n",
       " 'dir',\n",
       " 'display',\n",
       " 'divmod',\n",
       " 'enumerate',\n",
       " 'eval',\n",
       " 'exec',\n",
       " 'execfile',\n",
       " 'filter',\n",
       " 'float',\n",
       " 'format',\n",
       " 'frozenset',\n",
       " 'get_ipython',\n",
       " 'getattr',\n",
       " 'globals',\n",
       " 'hasattr',\n",
       " 'hash',\n",
       " 'help',\n",
       " 'hex',\n",
       " 'id',\n",
       " 'input',\n",
       " 'int',\n",
       " 'isinstance',\n",
       " 'issubclass',\n",
       " 'iter',\n",
       " 'len',\n",
       " 'license',\n",
       " 'list',\n",
       " 'locals',\n",
       " 'map',\n",
       " 'max',\n",
       " 'memoryview',\n",
       " 'min',\n",
       " 'next',\n",
       " 'object',\n",
       " 'oct',\n",
       " 'open',\n",
       " 'ord',\n",
       " 'pow',\n",
       " 'print',\n",
       " 'property',\n",
       " 'range',\n",
       " 'repr',\n",
       " 'reversed',\n",
       " 'round',\n",
       " 'runfile',\n",
       " 'set',\n",
       " 'setattr',\n",
       " 'slice',\n",
       " 'sorted',\n",
       " 'staticmethod',\n",
       " 'str',\n",
       " 'sum',\n",
       " 'super',\n",
       " 'tuple',\n",
       " 'type',\n",
       " 'vars',\n",
       " 'zip']"
      ]
     },
     "execution_count": 35,
     "metadata": {},
     "output_type": "execute_result"
    }
   ],
   "source": [
    "dir(__builtin__)"
   ]
  },
  {
   "cell_type": "code",
   "execution_count": 3,
   "id": "a34d329e",
   "metadata": {},
   "outputs": [
    {
     "name": "stdout",
     "output_type": "stream",
     "text": [
      "0 a\n",
      "1 b\n",
      "2 c\n"
     ]
    }
   ],
   "source": [
    "aa = ['a','b','c']\n",
    "for i,v in enumerate(aa,start=0):\n",
    "    print(i,v)"
   ]
  },
  {
   "cell_type": "code",
   "execution_count": 41,
   "id": "3fd7dbd8",
   "metadata": {},
   "outputs": [
    {
     "name": "stdout",
     "output_type": "stream",
     "text": [
      "홍 70 80\n",
      "김 80 90\n",
      "이 90 70\n"
     ]
    }
   ],
   "source": [
    "names = [\"홍\",\"김\",\"이\"]\n",
    "scores_eng = [70,80,90]\n",
    "scores_math = [80,90,70]\n",
    "for n, s, m in zip(names,scores_eng,scores_math):\n",
    "    print(n,s, m)"
   ]
  },
  {
   "cell_type": "code",
   "execution_count": 1,
   "id": "40b61d2e",
   "metadata": {},
   "outputs": [
    {
     "data": {
      "text/plain": [
       "[1, 4, 9, 16]"
      ]
     },
     "execution_count": 1,
     "metadata": {},
     "output_type": "execute_result"
    }
   ],
   "source": [
    "a = [1,2,3,4]\n",
    "list(map(lambda x: x**2,a))"
   ]
  },
  {
   "cell_type": "code",
   "execution_count": 9,
   "id": "157a3e2e",
   "metadata": {},
   "outputs": [
    {
     "data": {
      "text/plain": [
       "[1, 3, 5, 7, 9]"
      ]
     },
     "execution_count": 9,
     "metadata": {},
     "output_type": "execute_result"
    }
   ],
   "source": [
    "a = range(1,11)\n",
    "def is_even(x):\n",
    "    return x%2 == 0\n",
    "list(filter(is_even,a))\n",
    "# false 인 경우 0, None, 빈 시퀀스들 ('',(),[])"
   ]
  },
  {
   "cell_type": "code",
   "execution_count": 74,
   "id": "85156d2f",
   "metadata": {
    "scrolled": true
   },
   "outputs": [
    {
     "name": "stdout",
     "output_type": "stream",
     "text": [
      "행좌표 입력(0~9) 0\n",
      "열좌표 입력(0~9) 0\n"
     ]
    },
    {
     "data": {
      "text/plain": [
       "[[1, 1, 1, 0, 0, 0, 0, 0, 0, 0],\n",
       " [2, 10, 2, 0, 0, 0, 0, 0, 0, 0],\n",
       " [2, 9, 3, 1, 0, 0, 0, 1, 1, 1],\n",
       " [1, 2, 10, 1, 0, 0, 1, 2, 9, 1],\n",
       " [0, 1, 1, 1, 0, 0, 2, 11, 3, 1],\n",
       " [0, 0, 1, 1, 1, 0, 2, 9, 2, 0],\n",
       " [0, 0, 1, 9, 1, 0, 1, 2, 2, 1],\n",
       " [0, 0, 1, 1, 1, 0, 0, 1, 9, 1],\n",
       " [1, 1, 0, 0, 0, 0, 0, 1, 2, 2],\n",
       " [9, 1, 0, 0, 0, 0, 0, 0, 1, 9]]"
      ]
     },
     "metadata": {},
     "output_type": "display_data"
    },
    {
     "data": {
      "text/plain": [
       "[['1', '-', '-', '-', '-', '-', '-', '-', '-', '-'],\n",
       " ['-', '-', '-', '-', '-', '-', '-', '-', '-', '-'],\n",
       " ['-', '-', '-', '-', '-', '-', '-', '-', '-', '-'],\n",
       " ['-', '-', '-', '-', '-', '-', '-', '-', '-', '-'],\n",
       " ['-', '-', '-', '-', '-', '-', '-', '-', '-', '-'],\n",
       " ['-', '-', '-', '-', '-', '-', '-', '-', '-', '-'],\n",
       " ['-', '-', '-', '-', '-', '-', '-', '-', '-', '-'],\n",
       " ['-', '-', '-', '-', '-', '-', '-', '-', '-', '-'],\n",
       " ['-', '-', '-', '-', '-', '-', '-', '-', '-', '-'],\n",
       " ['-', '-', '-', '-', '-', '-', '-', '-', '-', '-']]"
      ]
     },
     "metadata": {},
     "output_type": "display_data"
    },
    {
     "name": "stdout",
     "output_type": "stream",
     "text": [
      "행좌표 입력(0~9) 1\n",
      "열좌표 입력(0~9) 2\n"
     ]
    },
    {
     "data": {
      "text/plain": [
       "[[1, 1, 1, 0, 0, 0, 0, 0, 0, 0],\n",
       " [2, 10, 2, 0, 0, 0, 0, 0, 0, 0],\n",
       " [2, 9, 3, 1, 0, 0, 0, 1, 1, 1],\n",
       " [1, 2, 10, 1, 0, 0, 1, 2, 9, 1],\n",
       " [0, 1, 1, 1, 0, 0, 2, 11, 3, 1],\n",
       " [0, 0, 1, 1, 1, 0, 2, 9, 2, 0],\n",
       " [0, 0, 1, 9, 1, 0, 1, 2, 2, 1],\n",
       " [0, 0, 1, 1, 1, 0, 0, 1, 9, 1],\n",
       " [1, 1, 0, 0, 0, 0, 0, 1, 2, 2],\n",
       " [9, 1, 0, 0, 0, 0, 0, 0, 1, 9]]"
      ]
     },
     "metadata": {},
     "output_type": "display_data"
    },
    {
     "data": {
      "text/plain": [
       "[['1', '-', '-', '-', '-', '-', '-', '-', '-', '-'],\n",
       " ['-', '-', '2', '-', '-', '-', '-', '-', '-', '-'],\n",
       " ['-', '-', '-', '-', '-', '-', '-', '-', '-', '-'],\n",
       " ['-', '-', '-', '-', '-', '-', '-', '-', '-', '-'],\n",
       " ['-', '-', '-', '-', '-', '-', '-', '-', '-', '-'],\n",
       " ['-', '-', '-', '-', '-', '-', '-', '-', '-', '-'],\n",
       " ['-', '-', '-', '-', '-', '-', '-', '-', '-', '-'],\n",
       " ['-', '-', '-', '-', '-', '-', '-', '-', '-', '-'],\n",
       " ['-', '-', '-', '-', '-', '-', '-', '-', '-', '-'],\n",
       " ['-', '-', '-', '-', '-', '-', '-', '-', '-', '-']]"
      ]
     },
     "metadata": {},
     "output_type": "display_data"
    },
    {
     "name": "stdout",
     "output_type": "stream",
     "text": [
      "행좌표 입력(0~9) 1\n",
      "열좌표 입력(0~9) 1\n",
      "지뢰의 개수는  9\n"
     ]
    },
    {
     "data": {
      "text/plain": [
       "[[1, 1, 1, 0, 0, 0, 0, 0, 0, 0],\n",
       " [2, 10, 2, 0, 0, 0, 0, 0, 0, 0],\n",
       " [2, 9, 3, 1, 0, 0, 0, 1, 1, 1],\n",
       " [1, 2, 10, 1, 0, 0, 1, 2, 9, 1],\n",
       " [0, 1, 1, 1, 0, 0, 2, 11, 3, 1],\n",
       " [0, 0, 1, 1, 1, 0, 2, 9, 2, 0],\n",
       " [0, 0, 1, 9, 1, 0, 1, 2, 2, 1],\n",
       " [0, 0, 1, 1, 1, 0, 0, 1, 9, 1],\n",
       " [1, 1, 0, 0, 0, 0, 0, 1, 2, 2],\n",
       " [9, 1, 0, 0, 0, 0, 0, 0, 1, 9]]"
      ]
     },
     "metadata": {},
     "output_type": "display_data"
    },
    {
     "data": {
      "text/plain": [
       "[['1', '-', '-', '-', '-', '-', '-', '-', '-', '-'],\n",
       " ['-', '10', '2', '-', '-', '-', '-', '-', '-', '-'],\n",
       " ['-', '-', '-', '-', '-', '-', '-', '-', '-', '-'],\n",
       " ['-', '-', '-', '-', '-', '-', '-', '-', '-', '-'],\n",
       " ['-', '-', '-', '-', '-', '-', '-', '-', '-', '-'],\n",
       " ['-', '-', '-', '-', '-', '-', '-', '-', '-', '-'],\n",
       " ['-', '-', '-', '-', '-', '-', '-', '-', '-', '-'],\n",
       " ['-', '-', '-', '-', '-', '-', '-', '-', '-', '-'],\n",
       " ['-', '-', '-', '-', '-', '-', '-', '-', '-', '-'],\n",
       " ['-', '-', '-', '-', '-', '-', '-', '-', '-', '-']]"
      ]
     },
     "metadata": {},
     "output_type": "display_data"
    },
    {
     "name": "stdout",
     "output_type": "stream",
     "text": [
      "행좌표 입력(0~9) 2\n",
      "열좌표 입력(0~9) 1\n",
      "지뢰의 개수는  8\n"
     ]
    },
    {
     "data": {
      "text/plain": [
       "[[1, 1, 1, 0, 0, 0, 0, 0, 0, 0],\n",
       " [2, 10, 2, 0, 0, 0, 0, 0, 0, 0],\n",
       " [2, 9, 3, 1, 0, 0, 0, 1, 1, 1],\n",
       " [1, 2, 10, 1, 0, 0, 1, 2, 9, 1],\n",
       " [0, 1, 1, 1, 0, 0, 2, 11, 3, 1],\n",
       " [0, 0, 1, 1, 1, 0, 2, 9, 2, 0],\n",
       " [0, 0, 1, 9, 1, 0, 1, 2, 2, 1],\n",
       " [0, 0, 1, 1, 1, 0, 0, 1, 9, 1],\n",
       " [1, 1, 0, 0, 0, 0, 0, 1, 2, 2],\n",
       " [9, 1, 0, 0, 0, 0, 0, 0, 1, 9]]"
      ]
     },
     "metadata": {},
     "output_type": "display_data"
    },
    {
     "data": {
      "text/plain": [
       "[['1', '-', '-', '-', '-', '-', '-', '-', '-', '-'],\n",
       " ['-', '10', '2', '-', '-', '-', '-', '-', '-', '-'],\n",
       " ['-', '9', '-', '-', '-', '-', '-', '-', '-', '-'],\n",
       " ['-', '-', '-', '-', '-', '-', '-', '-', '-', '-'],\n",
       " ['-', '-', '-', '-', '-', '-', '-', '-', '-', '-'],\n",
       " ['-', '-', '-', '-', '-', '-', '-', '-', '-', '-'],\n",
       " ['-', '-', '-', '-', '-', '-', '-', '-', '-', '-'],\n",
       " ['-', '-', '-', '-', '-', '-', '-', '-', '-', '-'],\n",
       " ['-', '-', '-', '-', '-', '-', '-', '-', '-', '-'],\n",
       " ['-', '-', '-', '-', '-', '-', '-', '-', '-', '-']]"
      ]
     },
     "metadata": {},
     "output_type": "display_data"
    },
    {
     "name": "stdout",
     "output_type": "stream",
     "text": [
      "행좌표 입력(0~9) 3\n",
      "열좌표 입력(0~9) 3\n"
     ]
    },
    {
     "data": {
      "text/plain": [
       "[[1, 1, 1, 0, 0, 0, 0, 0, 0, 0],\n",
       " [2, 10, 2, 0, 0, 0, 0, 0, 0, 0],\n",
       " [2, 9, 3, 1, 0, 0, 0, 1, 1, 1],\n",
       " [1, 2, 10, 1, 0, 0, 1, 2, 9, 1],\n",
       " [0, 1, 1, 1, 0, 0, 2, 11, 3, 1],\n",
       " [0, 0, 1, 1, 1, 0, 2, 9, 2, 0],\n",
       " [0, 0, 1, 9, 1, 0, 1, 2, 2, 1],\n",
       " [0, 0, 1, 1, 1, 0, 0, 1, 9, 1],\n",
       " [1, 1, 0, 0, 0, 0, 0, 1, 2, 2],\n",
       " [9, 1, 0, 0, 0, 0, 0, 0, 1, 9]]"
      ]
     },
     "metadata": {},
     "output_type": "display_data"
    },
    {
     "data": {
      "text/plain": [
       "[['1', '-', '-', '-', '-', '-', '-', '-', '-', '-'],\n",
       " ['-', '10', '2', '-', '-', '-', '-', '-', '-', '-'],\n",
       " ['-', '9', '-', '-', '-', '-', '-', '-', '-', '-'],\n",
       " ['-', '-', '-', '1', '-', '-', '-', '-', '-', '-'],\n",
       " ['-', '-', '-', '-', '-', '-', '-', '-', '-', '-'],\n",
       " ['-', '-', '-', '-', '-', '-', '-', '-', '-', '-'],\n",
       " ['-', '-', '-', '-', '-', '-', '-', '-', '-', '-'],\n",
       " ['-', '-', '-', '-', '-', '-', '-', '-', '-', '-'],\n",
       " ['-', '-', '-', '-', '-', '-', '-', '-', '-', '-'],\n",
       " ['-', '-', '-', '-', '-', '-', '-', '-', '-', '-']]"
      ]
     },
     "metadata": {},
     "output_type": "display_data"
    },
    {
     "name": "stdout",
     "output_type": "stream",
     "text": [
      "행좌표 입력(0~9) 3\n",
      "열좌표 입력(0~9) 2\n",
      "지뢰의 개수는  7\n"
     ]
    },
    {
     "data": {
      "text/plain": [
       "[[1, 1, 1, 0, 0, 0, 0, 0, 0, 0],\n",
       " [2, 10, 2, 0, 0, 0, 0, 0, 0, 0],\n",
       " [2, 9, 3, 1, 0, 0, 0, 1, 1, 1],\n",
       " [1, 2, 10, 1, 0, 0, 1, 2, 9, 1],\n",
       " [0, 1, 1, 1, 0, 0, 2, 11, 3, 1],\n",
       " [0, 0, 1, 1, 1, 0, 2, 9, 2, 0],\n",
       " [0, 0, 1, 9, 1, 0, 1, 2, 2, 1],\n",
       " [0, 0, 1, 1, 1, 0, 0, 1, 9, 1],\n",
       " [1, 1, 0, 0, 0, 0, 0, 1, 2, 2],\n",
       " [9, 1, 0, 0, 0, 0, 0, 0, 1, 9]]"
      ]
     },
     "metadata": {},
     "output_type": "display_data"
    },
    {
     "data": {
      "text/plain": [
       "[['1', '-', '-', '-', '-', '-', '-', '-', '-', '-'],\n",
       " ['-', '10', '2', '-', '-', '-', '-', '-', '-', '-'],\n",
       " ['-', '9', '-', '-', '-', '-', '-', '-', '-', '-'],\n",
       " ['-', '-', '10', '1', '-', '-', '-', '-', '-', '-'],\n",
       " ['-', '-', '-', '-', '-', '-', '-', '-', '-', '-'],\n",
       " ['-', '-', '-', '-', '-', '-', '-', '-', '-', '-'],\n",
       " ['-', '-', '-', '-', '-', '-', '-', '-', '-', '-'],\n",
       " ['-', '-', '-', '-', '-', '-', '-', '-', '-', '-'],\n",
       " ['-', '-', '-', '-', '-', '-', '-', '-', '-', '-'],\n",
       " ['-', '-', '-', '-', '-', '-', '-', '-', '-', '-']]"
      ]
     },
     "metadata": {},
     "output_type": "display_data"
    },
    {
     "name": "stdout",
     "output_type": "stream",
     "text": [
      "행좌표 입력(0~9) 3\n",
      "열좌표 입력(0~9) 8\n",
      "지뢰의 개수는  6\n"
     ]
    },
    {
     "data": {
      "text/plain": [
       "[[1, 1, 1, 0, 0, 0, 0, 0, 0, 0],\n",
       " [2, 10, 2, 0, 0, 0, 0, 0, 0, 0],\n",
       " [2, 9, 3, 1, 0, 0, 0, 1, 1, 1],\n",
       " [1, 2, 10, 1, 0, 0, 1, 2, 9, 1],\n",
       " [0, 1, 1, 1, 0, 0, 2, 11, 3, 1],\n",
       " [0, 0, 1, 1, 1, 0, 2, 9, 2, 0],\n",
       " [0, 0, 1, 9, 1, 0, 1, 2, 2, 1],\n",
       " [0, 0, 1, 1, 1, 0, 0, 1, 9, 1],\n",
       " [1, 1, 0, 0, 0, 0, 0, 1, 2, 2],\n",
       " [9, 1, 0, 0, 0, 0, 0, 0, 1, 9]]"
      ]
     },
     "metadata": {},
     "output_type": "display_data"
    },
    {
     "data": {
      "text/plain": [
       "[['1', '-', '-', '-', '-', '-', '-', '-', '-', '-'],\n",
       " ['-', '10', '2', '-', '-', '-', '-', '-', '-', '-'],\n",
       " ['-', '9', '-', '-', '-', '-', '-', '-', '-', '-'],\n",
       " ['-', '-', '10', '1', '-', '-', '-', '-', '9', '-'],\n",
       " ['-', '-', '-', '-', '-', '-', '-', '-', '-', '-'],\n",
       " ['-', '-', '-', '-', '-', '-', '-', '-', '-', '-'],\n",
       " ['-', '-', '-', '-', '-', '-', '-', '-', '-', '-'],\n",
       " ['-', '-', '-', '-', '-', '-', '-', '-', '-', '-'],\n",
       " ['-', '-', '-', '-', '-', '-', '-', '-', '-', '-'],\n",
       " ['-', '-', '-', '-', '-', '-', '-', '-', '-', '-']]"
      ]
     },
     "metadata": {},
     "output_type": "display_data"
    },
    {
     "name": "stdout",
     "output_type": "stream",
     "text": [
      "행좌표 입력(0~9) 4\n",
      "열좌표 입력(0~9) 7\n",
      "지뢰의 개수는  5\n"
     ]
    },
    {
     "data": {
      "text/plain": [
       "[[1, 1, 1, 0, 0, 0, 0, 0, 0, 0],\n",
       " [2, 10, 2, 0, 0, 0, 0, 0, 0, 0],\n",
       " [2, 9, 3, 1, 0, 0, 0, 1, 1, 1],\n",
       " [1, 2, 10, 1, 0, 0, 1, 2, 9, 1],\n",
       " [0, 1, 1, 1, 0, 0, 2, 11, 3, 1],\n",
       " [0, 0, 1, 1, 1, 0, 2, 9, 2, 0],\n",
       " [0, 0, 1, 9, 1, 0, 1, 2, 2, 1],\n",
       " [0, 0, 1, 1, 1, 0, 0, 1, 9, 1],\n",
       " [1, 1, 0, 0, 0, 0, 0, 1, 2, 2],\n",
       " [9, 1, 0, 0, 0, 0, 0, 0, 1, 9]]"
      ]
     },
     "metadata": {},
     "output_type": "display_data"
    },
    {
     "data": {
      "text/plain": [
       "[['1', '-', '-', '-', '-', '-', '-', '-', '-', '-'],\n",
       " ['-', '10', '2', '-', '-', '-', '-', '-', '-', '-'],\n",
       " ['-', '9', '-', '-', '-', '-', '-', '-', '-', '-'],\n",
       " ['-', '-', '10', '1', '-', '-', '-', '-', '9', '-'],\n",
       " ['-', '-', '-', '-', '-', '-', '-', '11', '-', '-'],\n",
       " ['-', '-', '-', '-', '-', '-', '-', '-', '-', '-'],\n",
       " ['-', '-', '-', '-', '-', '-', '-', '-', '-', '-'],\n",
       " ['-', '-', '-', '-', '-', '-', '-', '-', '-', '-'],\n",
       " ['-', '-', '-', '-', '-', '-', '-', '-', '-', '-'],\n",
       " ['-', '-', '-', '-', '-', '-', '-', '-', '-', '-']]"
      ]
     },
     "metadata": {},
     "output_type": "display_data"
    },
    {
     "name": "stdout",
     "output_type": "stream",
     "text": [
      "행좌표 입력(0~9) 5\n",
      "열좌표 입력(0~9) 7\n",
      "지뢰의 개수는  4\n"
     ]
    },
    {
     "data": {
      "text/plain": [
       "[[1, 1, 1, 0, 0, 0, 0, 0, 0, 0],\n",
       " [2, 10, 2, 0, 0, 0, 0, 0, 0, 0],\n",
       " [2, 9, 3, 1, 0, 0, 0, 1, 1, 1],\n",
       " [1, 2, 10, 1, 0, 0, 1, 2, 9, 1],\n",
       " [0, 1, 1, 1, 0, 0, 2, 11, 3, 1],\n",
       " [0, 0, 1, 1, 1, 0, 2, 9, 2, 0],\n",
       " [0, 0, 1, 9, 1, 0, 1, 2, 2, 1],\n",
       " [0, 0, 1, 1, 1, 0, 0, 1, 9, 1],\n",
       " [1, 1, 0, 0, 0, 0, 0, 1, 2, 2],\n",
       " [9, 1, 0, 0, 0, 0, 0, 0, 1, 9]]"
      ]
     },
     "metadata": {},
     "output_type": "display_data"
    },
    {
     "data": {
      "text/plain": [
       "[['1', '-', '-', '-', '-', '-', '-', '-', '-', '-'],\n",
       " ['-', '10', '2', '-', '-', '-', '-', '-', '-', '-'],\n",
       " ['-', '9', '-', '-', '-', '-', '-', '-', '-', '-'],\n",
       " ['-', '-', '10', '1', '-', '-', '-', '-', '9', '-'],\n",
       " ['-', '-', '-', '-', '-', '-', '-', '11', '-', '-'],\n",
       " ['-', '-', '-', '-', '-', '-', '-', '9', '-', '-'],\n",
       " ['-', '-', '-', '-', '-', '-', '-', '-', '-', '-'],\n",
       " ['-', '-', '-', '-', '-', '-', '-', '-', '-', '-'],\n",
       " ['-', '-', '-', '-', '-', '-', '-', '-', '-', '-'],\n",
       " ['-', '-', '-', '-', '-', '-', '-', '-', '-', '-']]"
      ]
     },
     "metadata": {},
     "output_type": "display_data"
    },
    {
     "name": "stdout",
     "output_type": "stream",
     "text": [
      "행좌표 입력(0~9) 6\n",
      "열좌표 입력(0~9) 3\n",
      "지뢰의 개수는  3\n"
     ]
    },
    {
     "data": {
      "text/plain": [
       "[[1, 1, 1, 0, 0, 0, 0, 0, 0, 0],\n",
       " [2, 10, 2, 0, 0, 0, 0, 0, 0, 0],\n",
       " [2, 9, 3, 1, 0, 0, 0, 1, 1, 1],\n",
       " [1, 2, 10, 1, 0, 0, 1, 2, 9, 1],\n",
       " [0, 1, 1, 1, 0, 0, 2, 11, 3, 1],\n",
       " [0, 0, 1, 1, 1, 0, 2, 9, 2, 0],\n",
       " [0, 0, 1, 9, 1, 0, 1, 2, 2, 1],\n",
       " [0, 0, 1, 1, 1, 0, 0, 1, 9, 1],\n",
       " [1, 1, 0, 0, 0, 0, 0, 1, 2, 2],\n",
       " [9, 1, 0, 0, 0, 0, 0, 0, 1, 9]]"
      ]
     },
     "metadata": {},
     "output_type": "display_data"
    },
    {
     "data": {
      "text/plain": [
       "[['1', '-', '-', '-', '-', '-', '-', '-', '-', '-'],\n",
       " ['-', '10', '2', '-', '-', '-', '-', '-', '-', '-'],\n",
       " ['-', '9', '-', '-', '-', '-', '-', '-', '-', '-'],\n",
       " ['-', '-', '10', '1', '-', '-', '-', '-', '9', '-'],\n",
       " ['-', '-', '-', '-', '-', '-', '-', '11', '-', '-'],\n",
       " ['-', '-', '-', '-', '-', '-', '-', '9', '-', '-'],\n",
       " ['-', '-', '-', '9', '-', '-', '-', '-', '-', '-'],\n",
       " ['-', '-', '-', '-', '-', '-', '-', '-', '-', '-'],\n",
       " ['-', '-', '-', '-', '-', '-', '-', '-', '-', '-'],\n",
       " ['-', '-', '-', '-', '-', '-', '-', '-', '-', '-']]"
      ]
     },
     "metadata": {},
     "output_type": "display_data"
    },
    {
     "name": "stdout",
     "output_type": "stream",
     "text": [
      "행좌표 입력(0~9) 7\n",
      "열좌표 입력(0~9) 8\n",
      "지뢰의 개수는  2\n"
     ]
    },
    {
     "data": {
      "text/plain": [
       "[[1, 1, 1, 0, 0, 0, 0, 0, 0, 0],\n",
       " [2, 10, 2, 0, 0, 0, 0, 0, 0, 0],\n",
       " [2, 9, 3, 1, 0, 0, 0, 1, 1, 1],\n",
       " [1, 2, 10, 1, 0, 0, 1, 2, 9, 1],\n",
       " [0, 1, 1, 1, 0, 0, 2, 11, 3, 1],\n",
       " [0, 0, 1, 1, 1, 0, 2, 9, 2, 0],\n",
       " [0, 0, 1, 9, 1, 0, 1, 2, 2, 1],\n",
       " [0, 0, 1, 1, 1, 0, 0, 1, 9, 1],\n",
       " [1, 1, 0, 0, 0, 0, 0, 1, 2, 2],\n",
       " [9, 1, 0, 0, 0, 0, 0, 0, 1, 9]]"
      ]
     },
     "metadata": {},
     "output_type": "display_data"
    },
    {
     "data": {
      "text/plain": [
       "[['1', '-', '-', '-', '-', '-', '-', '-', '-', '-'],\n",
       " ['-', '10', '2', '-', '-', '-', '-', '-', '-', '-'],\n",
       " ['-', '9', '-', '-', '-', '-', '-', '-', '-', '-'],\n",
       " ['-', '-', '10', '1', '-', '-', '-', '-', '9', '-'],\n",
       " ['-', '-', '-', '-', '-', '-', '-', '11', '-', '-'],\n",
       " ['-', '-', '-', '-', '-', '-', '-', '9', '-', '-'],\n",
       " ['-', '-', '-', '9', '-', '-', '-', '-', '-', '-'],\n",
       " ['-', '-', '-', '-', '-', '-', '-', '-', '9', '-'],\n",
       " ['-', '-', '-', '-', '-', '-', '-', '-', '-', '-'],\n",
       " ['-', '-', '-', '-', '-', '-', '-', '-', '-', '-']]"
      ]
     },
     "metadata": {},
     "output_type": "display_data"
    },
    {
     "name": "stdout",
     "output_type": "stream",
     "text": [
      "행좌표 입력(0~9) 9\n",
      "열좌표 입력(0~9) 0\n",
      "지뢰의 개수는  1\n"
     ]
    },
    {
     "data": {
      "text/plain": [
       "[[1, 1, 1, 0, 0, 0, 0, 0, 0, 0],\n",
       " [2, 10, 2, 0, 0, 0, 0, 0, 0, 0],\n",
       " [2, 9, 3, 1, 0, 0, 0, 1, 1, 1],\n",
       " [1, 2, 10, 1, 0, 0, 1, 2, 9, 1],\n",
       " [0, 1, 1, 1, 0, 0, 2, 11, 3, 1],\n",
       " [0, 0, 1, 1, 1, 0, 2, 9, 2, 0],\n",
       " [0, 0, 1, 9, 1, 0, 1, 2, 2, 1],\n",
       " [0, 0, 1, 1, 1, 0, 0, 1, 9, 1],\n",
       " [1, 1, 0, 0, 0, 0, 0, 1, 2, 2],\n",
       " [9, 1, 0, 0, 0, 0, 0, 0, 1, 9]]"
      ]
     },
     "metadata": {},
     "output_type": "display_data"
    },
    {
     "data": {
      "text/plain": [
       "[['1', '-', '-', '-', '-', '-', '-', '-', '-', '-'],\n",
       " ['-', '10', '2', '-', '-', '-', '-', '-', '-', '-'],\n",
       " ['-', '9', '-', '-', '-', '-', '-', '-', '-', '-'],\n",
       " ['-', '-', '10', '1', '-', '-', '-', '-', '9', '-'],\n",
       " ['-', '-', '-', '-', '-', '-', '-', '11', '-', '-'],\n",
       " ['-', '-', '-', '-', '-', '-', '-', '9', '-', '-'],\n",
       " ['-', '-', '-', '9', '-', '-', '-', '-', '-', '-'],\n",
       " ['-', '-', '-', '-', '-', '-', '-', '-', '9', '-'],\n",
       " ['-', '-', '-', '-', '-', '-', '-', '-', '-', '-'],\n",
       " ['9', '-', '-', '-', '-', '-', '-', '-', '-', '-']]"
      ]
     },
     "metadata": {},
     "output_type": "display_data"
    },
    {
     "name": "stdout",
     "output_type": "stream",
     "text": [
      "행좌표 입력(0~9) 9\n",
      "열좌표 입력(0~9) 9\n",
      "지뢰의 개수는  0\n",
      "축하드립니다. 지뢰를 모두 찾으셨습니다. 게임을 종료합니다\n"
     ]
    }
   ],
   "source": [
    "# 지뢰찾기(빨리찾아서 터뜨리기)\n",
    "# 필드(2차원 배열 10*10)\n",
    "fields = list() # 저장타입 -> 양수\n",
    "for i in range(10):\n",
    "    fields.append([0]*10)\n",
    "#10개의 지뢰를 임의의 위치에 저장\n",
    "import random\n",
    "nums = list(range(100))\n",
    "for i in random.sample(nums,10):\n",
    "    row = i // 10 # 행 몫\n",
    "    col = i % 10 # 열 나머지\n",
    "    fields[row][col] = 9 # 지뢰위치\n",
    "    #8방 위치 1증가\n",
    "    if row < len(fields)-1:\n",
    "        fields[row+1][col]+=1#남\n",
    "    if row < (len(fields)-1) and col < (len(fields)-1):\n",
    "        fields[row+1][col+1]+=1#남동\n",
    "    if col < (len(fields)-1):\n",
    "        fields[row][col+1]+=1 #동\n",
    "    if row > 0 and col < (len(fields)-1):\n",
    "        fields[row-1][col+1]+=1 # 북동\n",
    "    if row > 0:    \n",
    "        fields[row-1][col]+=1 #북\n",
    "    if row > 0 and col > 0:\n",
    "        fields[row-1][col-1]+=1 #북서\n",
    "    if col > 0:\n",
    "        fields[row][col-1]+=1 #서\n",
    "    if row < (len(fields)-1) and col > 0:\n",
    "        fields[row+1][col-1]+=1 #남서\n",
    "fields2 = list()\n",
    "for i in range(10):\n",
    "    fields2.append(['-']*10)\n",
    "count = 10\n",
    "while(True):\n",
    "    row = int(input(\"행좌표 입력(0~9) \"))\n",
    "    col = int(input(\"열좌표 입력(0~9) \"))\n",
    "    fields2[row][col] = str(fields[row][col])\n",
    "    if fields[row][col]>=9:\n",
    "        count-=1\n",
    "        print(\"지뢰의 개수는 \", count)\n",
    "        if count == 0:\n",
    "            print(\"축하드립니다. 지뢰를 모두 찾으셨습니다. 게임을 종료합니다\")\n",
    "            break\n",
    "    display(fields)\n",
    "    display(fields2)"
   ]
  },
  {
   "cell_type": "markdown",
   "id": "85b2d151",
   "metadata": {},
   "source": [
    "## 월 9시 퀴즈(4문항) - 전주 리뷰용\n",
    "## 과목 마지막 주 금 : 과목평가: 20문항(18객관식 + 2주관식) 50분\n",
    "## 매주 금: 과제\n",
    "## 30일 월 9시 4문항 시험"
   ]
  },
  {
   "cell_type": "code",
   "execution_count": null,
   "id": "a780ad59",
   "metadata": {},
   "outputs": [],
   "source": []
  }
 ],
 "metadata": {
  "kernelspec": {
   "display_name": "Python 3 (ipykernel)",
   "language": "python",
   "name": "python3"
  },
  "language_info": {
   "codemirror_mode": {
    "name": "ipython",
    "version": 3
   },
   "file_extension": ".py",
   "mimetype": "text/x-python",
   "name": "python",
   "nbconvert_exporter": "python",
   "pygments_lexer": "ipython3",
   "version": "3.9.12"
  }
 },
 "nbformat": 4,
 "nbformat_minor": 5
}
