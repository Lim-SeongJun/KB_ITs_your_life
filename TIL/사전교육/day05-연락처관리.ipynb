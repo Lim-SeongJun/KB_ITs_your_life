{
 "cells": [
  {
   "cell_type": "code",
   "execution_count": 1,
   "id": "46f29262",
   "metadata": {},
   "outputs": [
    {
     "data": {
      "text/plain": [
       "'\\n프로그래밍시 개발 요령\\n1. 기능별로 분할\\n- 데이터 관리(데이터정의,데이터관리객체-CRUD)\\n- UI모듈\\n- IO모듈(네트워크 포함)\\n'"
      ]
     },
     "execution_count": 1,
     "metadata": {},
     "output_type": "execute_result"
    }
   ],
   "source": [
    "\"\"\"\n",
    "프로그래밍시 개발 요령\n",
    "1. 기능별로 분할\n",
    "- 데이터 관리(데이터정의,데이터관리객체-CRUD)\n",
    "- UI모듈\n",
    "- IO모듈(네트워크 포함)\n",
    "\"\"\""
   ]
  },
  {
   "cell_type": "code",
   "execution_count": 30,
   "id": "7fc78b8b",
   "metadata": {},
   "outputs": [
    {
     "name": "stdout",
     "output_type": "stream",
     "text": [
      "홍길동,010-1111-2222,None,None\n",
      "홍길동,010-1111-2222,hong@a.com,친구\n"
     ]
    }
   ],
   "source": [
    "# 데이터 정의\n",
    "# 관리할 대상 - 연락처\n",
    "# 연락처속성 - \n",
    "#    이름:문자열(필수),\n",
    "#    전화번호:문자열(필수),\n",
    "#    이메일:문자열,\n",
    "#    설명:문자열\n",
    "class Contact:\n",
    "    def __init__(self,name,tel,email=None, note=None):\n",
    "        self.name = name\n",
    "        self.tel = tel\n",
    "        self.email = email\n",
    "        self.note =note\n",
    "    def __str__(self):\n",
    "        return f\"{self.name},{self.tel},{self.email},{self.note}\"\n",
    "c = Contact(\"홍길동\",\"010-1111-2222\")\n",
    "print(c)\n",
    "c = Contact(\"홍길동\",\"010-1111-2222\",\"hong@a.com\",\"친구\")\n",
    "print(c)"
   ]
  },
  {
   "cell_type": "code",
   "execution_count": 32,
   "id": "1811bc14",
   "metadata": {},
   "outputs": [
    {
     "name": "stdout",
     "output_type": "stream",
     "text": [
      "2\n",
      "['010-1111-2222', '010-2222-3333']\n",
      "[<__main__.Contact object at 0x000001ABC0433280>, <__main__.Contact object at 0x000001ABBFF60160>]\n"
     ]
    }
   ],
   "source": [
    "# 데이터 관리자 객체(manager)\n",
    "'''contacts=[]\n",
    "#등록\n",
    "contacts.append(c)\n",
    "for c in contacts:\n",
    "    print(c)\n",
    "#검색\n",
    "for c in contacts:\n",
    "    if c.name == \"홍길동\":\n",
    "        print(c)\n",
    "'''\n",
    "class ContactManager:\n",
    "    def __init__(self):\n",
    "        self.contacts = []\n",
    "    def add(self,c):\n",
    "        self.contacts.append(c)\n",
    "    def count(self):\n",
    "        return len(self.contacts)\n",
    "    def list(self, target =\"name\"):\n",
    "        ans = []\n",
    "        for c in self.contacts:\n",
    "            if target == \"name\":\n",
    "                ans.append(c.name)\n",
    "            elif target == \"tel\":\n",
    "                ans.append(c.tel)\n",
    "        return ans\n",
    "    def search(self, keyword, target=\"name\"):\n",
    "        ans = []\n",
    "        for c in self.contacts:\n",
    "            if target == \"name\":\n",
    "                if keyword in c.name:\n",
    "                    ans.append(c)\n",
    "            elif target == \"tel\":\n",
    "                if keyword in c.tel:\n",
    "                    ans.append(c)\n",
    "        return ans\n",
    "    def delete(self,keyword,target=\"name\"):\n",
    "        for c in self.contacts:\n",
    "            if target == \"name\":\n",
    "                if c.name == keyword:\n",
    "                    self.contacts.remove(c)\n",
    "            elif target == \"tel\":\n",
    "                if c.tel == keyword:\n",
    "                    self.contacts.remove(c)\n",
    "\n",
    "mgr = ContactManager()\n",
    "c = Contact(\"홍길동\",\"010-1111-2222\")\n",
    "mgr.add(c) #등록\n",
    "c = Contact(\"김길동\",\"010-2222-3333\",\"hong@a.com\",\"친구\")\n",
    "mgr.add(c) #등록\n",
    "print(mgr.count())\n",
    "ans = mgr.list(target='tel')\n",
    "print(ans)\n",
    "c = mgr.search(\"길\")\n",
    "print(c)\n",
    "mgr.delete(\"김길동\",target=\"name\")"
   ]
  },
  {
   "cell_type": "markdown",
   "id": "021efa54",
   "metadata": {},
   "source": [
    "## 문자열 검색"
   ]
  },
  {
   "cell_type": "code",
   "execution_count": 4,
   "id": "c4697411",
   "metadata": {},
   "outputs": [
    {
     "data": {
      "text/plain": [
       "True"
      ]
     },
     "execution_count": 4,
     "metadata": {},
     "output_type": "execute_result"
    }
   ],
   "source": [
    "#\"010-1111-2222\".index(\"11\")\n",
    "#\"010-1111-2222\".find(\"11\")\n",
    "\"11\" in \"010-1111-2222\""
   ]
  },
  {
   "cell_type": "code",
   "execution_count": 11,
   "id": "6e5d4ede",
   "metadata": {
    "scrolled": true
   },
   "outputs": [
    {
     "name": "stdout",
     "output_type": "stream",
     "text": [
      "* 연락처 관리 *\n",
      "등록갯수: 0개\n",
      "(1) 등록 (2) 목록 (3) 검색 (9) 종료\n",
      "메뉴번호를 입력하세요 : h\n",
      "* 연락처 관리 *\n",
      "등록갯수: 0개\n",
      "(1) 등록 (2) 목록 (3) 검색 (9) 종료\n",
      "메뉴번호를 입력하세요 : 9\n",
      "*** 프로그램 종료 ***\n"
     ]
    }
   ],
   "source": [
    "\"\"\"\n",
    "입출력 설계\n",
    "* 연락처 관리 *\n",
    "등록갯수 : XX개\n",
    "(1) 등록 (2) 목록 (3) 검색 (9) 종료\n",
    "\"\"\"\n",
    "class ContactUi:\n",
    "    def __init__(self):\n",
    "        self.mgr = ContactManager()\n",
    "    def start(self):\n",
    "        while True:\n",
    "            self.show_main_menu()\n",
    "            try:\n",
    "                ans = int(input(\"메뉴번호를 입력하세요 : \"))\n",
    "            except:\n",
    "                continue\n",
    "            if ans == 9 :\n",
    "                break\n",
    "            if ans == 1:\n",
    "                self.ui_regist()\n",
    "#            elif ans == 2:\n",
    "#                ui_show_list()\n",
    "#            elif ans == 3:\n",
    "#                ui_find_contact()\n",
    "        print(\"*** 프로그램 종료 ***\")\n",
    "    def ui_regist(self):\n",
    "        print(\"** 연락처 등록 **\")\n",
    "        name = input(\"등록할 이름 입력 : \")\n",
    "        tel = input(\"등록할 전화번호 입력 : \")\n",
    "        email = input(\"등록할 이메일 입력 : \")\n",
    "        note = input(\"등록할 설명 입력 : \")\n",
    "        c = Contact(name,tel,email,note)\n",
    "        self.mgr.add(c)\n",
    "    def show_main_menu(self):\n",
    "        print(\"* 연락처 관리 *\")\n",
    "        print(f\"등록갯수: {self.mgr.count()}개\")\n",
    "        print(\"(1) 등록 (2) 목록 (3) 검색 (9) 종료\")\n",
    "        \n",
    "ui = ContactUi()\n",
    "ui.start()"
   ]
  },
  {
   "cell_type": "code",
   "execution_count": null,
   "id": "20e2c117",
   "metadata": {},
   "outputs": [],
   "source": []
  }
 ],
 "metadata": {
  "kernelspec": {
   "display_name": "Python 3 (ipykernel)",
   "language": "python",
   "name": "python3"
  },
  "language_info": {
   "codemirror_mode": {
    "name": "ipython",
    "version": 3
   },
   "file_extension": ".py",
   "mimetype": "text/x-python",
   "name": "python",
   "nbconvert_exporter": "python",
   "pygments_lexer": "ipython3",
   "version": "3.9.12"
  }
 },
 "nbformat": 4,
 "nbformat_minor": 5
}
