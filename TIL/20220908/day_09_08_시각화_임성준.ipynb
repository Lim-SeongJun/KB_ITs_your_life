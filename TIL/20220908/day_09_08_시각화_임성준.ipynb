{
 "cells": [
  {
   "cell_type": "markdown",
   "id": "3252626b",
   "metadata": {},
   "source": [
    "# 프로젝트 일정\n",
    "   * 9월 16일(금) 조별 아이디어 발표(여러개 후보군)\n",
    "      * 아이템별 시장조사 필수, 주요구현기능 발표"
   ]
  },
  {
   "cell_type": "code",
   "execution_count": 21,
   "id": "e01c7d67",
   "metadata": {},
   "outputs": [],
   "source": [
    "import pandas as pd\n",
    "import numpy as np\n",
    "import matplotlib.pyplot as plt\n",
    "#시각화 한글처리\n",
    "plt.rc(\"font\", family=\"Malgun Gothic\")"
   ]
  },
  {
   "cell_type": "code",
   "execution_count": 22,
   "id": "78f1389a",
   "metadata": {
    "scrolled": true
   },
   "outputs": [
    {
     "data": {
      "text/plain": [
       "Text(0.5, 1.0, '헬로')"
      ]
     },
     "execution_count": 22,
     "metadata": {},
     "output_type": "execute_result"
    },
    {
     "data": {
      "image/png": "[encoded data removed]",
      "text/plain": [
       "<Figure size 432x288 with 1 Axes>"
      ]
     },
     "metadata": {
      "needs_background": "light"
     },
     "output_type": "display_data"
    }
   ],
   "source": [
    "x= np.arange(10)\n",
    "y = x**2\n",
    "# plt.ylim(0,90)\n",
    "# plt.xlim(0,90)\n",
    "plt.plot(x,x*2,'b-')\n",
    "plt.plot(x,y,'r--')\n",
    "plt.plot(x,x**3,'go')\n",
    "\n",
    "plt.title('헬로')"
   ]
  },
  {
   "cell_type": "code",
   "execution_count": null,
   "id": "35618a9c",
   "metadata": {},
   "outputs": [],
   "source": []
  }
 ],
 "metadata": {
  "kernelspec": {
   "display_name": "Python 3 (ipykernel)",
   "language": "python",
   "name": "python3"
  },
  "language_info": {
   "codemirror_mode": {
    "name": "ipython",
    "version": 3
   },
   "file_extension": ".py",
   "mimetype": "text/x-python",
   "name": "python",
   "nbconvert_exporter": "python",
   "pygments_lexer": "ipython3",
   "version": "3.9.12"
  }
 },
 "nbformat": 4,
 "nbformat_minor": 5
}
