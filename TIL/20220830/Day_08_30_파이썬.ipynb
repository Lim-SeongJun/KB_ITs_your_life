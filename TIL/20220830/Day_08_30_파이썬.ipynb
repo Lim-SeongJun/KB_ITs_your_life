{
 "cells": [
  {
   "cell_type": "code",
   "execution_count": 20,
   "id": "6409fdb6",
   "metadata": {},
   "outputs": [
    {
     "data": {
      "text/plain": [
       "True"
      ]
     },
     "execution_count": 20,
     "metadata": {},
     "output_type": "execute_result"
    }
   ],
   "source": [
    "bool(None)\n",
    "bool(0)\n",
    "bool(0.0)\n",
    "bool([]) # 빈 리스트\n",
    "bool(set())\n",
    "bool(dict())\n",
    "bool(\"\") # 빈 문자열\n",
    "bool(\" \") # 공백 문자열(True)"
   ]
  },
  {
   "cell_type": "code",
   "execution_count": 22,
   "id": "acb630b1",
   "metadata": {},
   "outputs": [
    {
     "data": {
      "text/plain": [
       "'구름에 \\n달 가듯이 \\n가는 \\n나그네'"
      ]
     },
     "execution_count": 22,
     "metadata": {},
     "output_type": "execute_result"
    }
   ],
   "source": [
    "s1 = \"구름에 \\\n",
    "달 가듯이 \\\n",
    "가는 \\\n",
    "나그네\"\n",
    "s1"
   ]
  },
  {
   "cell_type": "code",
   "execution_count": 23,
   "id": "6eb8c9cb",
   "metadata": {},
   "outputs": [
    {
     "data": {
      "text/plain": [
       "'홍길동의 나이는 30'"
      ]
     },
     "execution_count": 23,
     "metadata": {},
     "output_type": "execute_result"
    }
   ],
   "source": [
    "age = 30\n",
    "\"홍길동의 나이는 \" + str(age)"
   ]
  },
  {
   "cell_type": "code",
   "execution_count": 29,
   "id": "4eba08d1",
   "metadata": {},
   "outputs": [
    {
     "data": {
      "text/plain": [
       "'홍길동의 나이는 30'"
      ]
     },
     "execution_count": 29,
     "metadata": {},
     "output_type": "execute_result"
    }
   ],
   "source": [
    "# 문자열 포맷팅 3가지(출력형식정하기)\n",
    "# 1. %\n",
    "name = \"홍길동\"\n",
    "age = 30\n",
    "\"%s의 나이는 %d\" % (name,age)"
   ]
  },
  {
   "cell_type": "code",
   "execution_count": 30,
   "id": "cfef73fb",
   "metadata": {},
   "outputs": [
    {
     "data": {
      "text/plain": [
       "'홍길동의 나이는 30'"
      ]
     },
     "execution_count": 30,
     "metadata": {},
     "output_type": "execute_result"
    }
   ],
   "source": [
    "# str.format\n",
    "\"{}의 나이는 {}\".format(name,age)"
   ]
  },
  {
   "cell_type": "code",
   "execution_count": 38,
   "id": "1ba1eb5f",
   "metadata": {},
   "outputs": [
    {
     "data": {
      "text/plain": [
       "'홍길동의 나이는 30, 태어난 연도는 1992'"
      ]
     },
     "execution_count": 38,
     "metadata": {},
     "output_type": "execute_result"
    }
   ],
   "source": [
    "# 3. f-string\n",
    "f'{name}의 나이는 {age}, 태어난 연도는 {2022-age}'"
   ]
  },
  {
   "cell_type": "code",
   "execution_count": 39,
   "id": "61a51293",
   "metadata": {},
   "outputs": [
    {
     "data": {
      "text/plain": [
       "['A', 'B', 'C', 'D']"
      ]
     },
     "execution_count": 39,
     "metadata": {},
     "output_type": "execute_result"
    }
   ],
   "source": [
    "arr = \"A:B:C:D\".split(\":\")\n",
    "arr"
   ]
  },
  {
   "cell_type": "code",
   "execution_count": 40,
   "id": "7a687505",
   "metadata": {},
   "outputs": [
    {
     "data": {
      "text/plain": [
       "'A--B--C--D'"
      ]
     },
     "execution_count": 40,
     "metadata": {},
     "output_type": "execute_result"
    }
   ],
   "source": [
    "# 리스트를 구분자로 연결한 문자열로 생성\n",
    "\"--\".join(arr)"
   ]
  },
  {
   "cell_type": "code",
   "execution_count": 41,
   "id": "a91d5620",
   "metadata": {},
   "outputs": [
    {
     "name": "stdout",
     "output_type": "stream",
     "text": [
      "나이를 입력하세요30\n"
     ]
    }
   ],
   "source": [
    "ans = input('나이를 입력하세요')"
   ]
  },
  {
   "cell_type": "code",
   "execution_count": 43,
   "id": "cb4cc094",
   "metadata": {},
   "outputs": [
    {
     "data": {
      "text/plain": [
       "1992"
      ]
     },
     "execution_count": 43,
     "metadata": {},
     "output_type": "execute_result"
    }
   ],
   "source": [
    "2022- int(ans)"
   ]
  },
  {
   "cell_type": "code",
   "execution_count": 58,
   "id": "f90737a9",
   "metadata": {},
   "outputs": [],
   "source": [
    "mylist = [1,3,5] # 1,3,5 -> item(항목) -> 저장된 값 -> 1차원\n",
    "mylist = [[1,2],[3,4],[5,6]] #2 차원 "
   ]
  },
  {
   "cell_type": "code",
   "execution_count": 59,
   "id": "c85cba49",
   "metadata": {},
   "outputs": [
    {
     "data": {
      "text/plain": [
       "[1, 2]"
      ]
     },
     "execution_count": 59,
     "metadata": {},
     "output_type": "execute_result"
    }
   ],
   "source": [
    "mylist[0] # 0행"
   ]
  },
  {
   "cell_type": "code",
   "execution_count": 100,
   "id": "f2ac27a0",
   "metadata": {},
   "outputs": [
    {
     "name": "stdout",
     "output_type": "stream",
     "text": [
      "년 : 2022\n",
      "월 : 8\n",
      "일 : 30\n"
     ]
    },
    {
     "data": {
      "text/plain": [
       "'화요일'"
      ]
     },
     "execution_count": 100,
     "metadata": {},
     "output_type": "execute_result"
    }
   ],
   "source": [
    "year = int(input('년 : '))\n",
    "month = int(input('월 : '))\n",
    "month_yoon=0\n",
    "day = int(input('일 : '))\n",
    "yoon = (year % 400) # 21\n",
    "yoon_1 = yoon % 4 # 2 \n",
    "yoon_2 = (yoon-1)//7 # 3\n",
    "if year % 4 ==0:\n",
    "    month_yoon = {'0':0,'1':3,'2':4,'3':7,'4':9,'5':12,'6':14,'7':17,'8':20,'9':22,'10':25,'11':27,'12':30}\n",
    "else:\n",
    "    month_yoon = {'0':0,'1':3,'2':3,'3':6,'4':8,'5':11,'6':13,'7':16,'8':19,'9':21,'10':24,'11':26,'12':29}\n",
    "a = {1:'월요일', 2: '화요일',3:'수요일',4:'목요일',5:'금요일',6:'토요일',7:'일요일'}\n",
    "whatday = (yoon_2+ yoon_1+month_yoon[str(month-1)] + day)%7\n",
    "a[whatday]"
   ]
  },
  {
   "cell_type": "code",
   "execution_count": 84,
   "id": "ea279ad0",
   "metadata": {},
   "outputs": [],
   "source": [
    "arr = [1,3,5]"
   ]
  },
  {
   "cell_type": "code",
   "execution_count": 82,
   "id": "76b3c03e",
   "metadata": {},
   "outputs": [
    {
     "data": {
      "text/plain": [
       "[5, 3, 1]"
      ]
     },
     "execution_count": 82,
     "metadata": {},
     "output_type": "execute_result"
    }
   ],
   "source": [
    "arr[::-1] # 역순이된 리스트 생성, 반환, 원본수정 안함"
   ]
  },
  {
   "cell_type": "code",
   "execution_count": 86,
   "id": "9599ce55",
   "metadata": {},
   "outputs": [
    {
     "data": {
      "text/plain": [
       "[1, 3, 5]"
      ]
     },
     "execution_count": 86,
     "metadata": {},
     "output_type": "execute_result"
    }
   ],
   "source": [
    "arr"
   ]
  },
  {
   "cell_type": "code",
   "execution_count": 83,
   "id": "0faff3d6",
   "metadata": {},
   "outputs": [
    {
     "data": {
      "text/plain": [
       "[5, 3, 1]"
      ]
     },
     "execution_count": 83,
     "metadata": {},
     "output_type": "execute_result"
    }
   ],
   "source": [
    "arr.reverse() # 원본 리스트 역순\n",
    "arr"
   ]
  },
  {
   "cell_type": "code",
   "execution_count": 92,
   "id": "d9615714",
   "metadata": {},
   "outputs": [
    {
     "data": {
      "text/plain": [
       "['홍', '박', '홍']"
      ]
     },
     "execution_count": 92,
     "metadata": {},
     "output_type": "execute_result"
    }
   ],
   "source": [
    "names = ['홍','김','박','홍']\n",
    "names.pop(1) # 김 삭제\n",
    "names"
   ]
  },
  {
   "cell_type": "code",
   "execution_count": 91,
   "id": "724c2e20",
   "metadata": {},
   "outputs": [
    {
     "data": {
      "text/plain": [
       "['박', '홍']"
      ]
     },
     "execution_count": 91,
     "metadata": {},
     "output_type": "execute_result"
    }
   ],
   "source": [
    "names.remove('홍')\n",
    "names"
   ]
  },
  {
   "cell_type": "code",
   "execution_count": 99,
   "id": "e6525a9c",
   "metadata": {},
   "outputs": [
    {
     "name": "stdout",
     "output_type": "stream",
     "text": [
      "[19, 19, 7, 15, 37, 19]\n",
      "{19, 15, 37, 7}\n"
     ]
    }
   ],
   "source": [
    "# 로또번호 생성, 저장\n",
    "lotto_list = []\n",
    "lotto_set = set()\n",
    "\n",
    "import random\n",
    "num = random.randint(1,45) # 1이상 45이하\n",
    "lotto_list.append(num)\n",
    "lotto_set.add(num)\n",
    "\n",
    "num = random.randint(1,45) # 1이상 45이하\n",
    "lotto_list.append(num)\n",
    "lotto_set.add(num)\n",
    "\n",
    "num = random.randint(1,45) # 1이상 45이하\n",
    "lotto_list.append(num)\n",
    "lotto_set.add(num)\n",
    "\n",
    "num = random.randint(1,45) # 1이상 45이하\n",
    "lotto_list.append(num)\n",
    "lotto_set.add(num)\n",
    "\n",
    "num = random.randint(1,45) # 1이상 45이하\n",
    "lotto_list.append(num)\n",
    "lotto_set.add(num)\n",
    "\n",
    "num = random.randint(1,45) # 1이상 45이하\n",
    "lotto_list.append(num)\n",
    "lotto_set.add(num)\n",
    "\n",
    "print(lotto_list)\n",
    "print(lotto_set)"
   ]
  },
  {
   "cell_type": "code",
   "execution_count": 101,
   "id": "b6371a5c",
   "metadata": {},
   "outputs": [
    {
     "name": "stdout",
     "output_type": "stream",
     "text": [
      "2 * 1 = 2\n",
      "2 * 2 = 4\n",
      "2 * 3 = 6\n",
      "2 * 4 = 8\n",
      "2 * 5 = 10\n",
      "2 * 6 = 12\n",
      "2 * 7 = 14\n",
      "2 * 8 = 16\n",
      "2 * 9 = 18\n"
     ]
    }
   ],
   "source": [
    "# while문으로 2단 구구단 출력\n",
    "count = 1\n",
    "while(True):\n",
    "    print(f'2 * {count} = {2*count}')\n",
    "    count +=1\n",
    "    if count == 10:\n",
    "        break"
   ]
  },
  {
   "cell_type": "code",
   "execution_count": 105,
   "id": "eeb14656",
   "metadata": {},
   "outputs": [
    {
     "name": "stdout",
     "output_type": "stream",
     "text": [
      "2\n",
      "4\n",
      "6\n",
      "8\n",
      "10\n",
      "12\n",
      "14\n",
      "16\n",
      "18\n"
     ]
    }
   ],
   "source": [
    "dan = 2\n",
    "for i in list(range(1,10)):\n",
    "    print(dan*i)"
   ]
  },
  {
   "cell_type": "code",
   "execution_count": 106,
   "id": "8b2e6d9c",
   "metadata": {},
   "outputs": [
    {
     "data": {
      "text/plain": [
       "5050"
      ]
     },
     "execution_count": 106,
     "metadata": {},
     "output_type": "execute_result"
    }
   ],
   "source": [
    "sum(list(range(1,101)))"
   ]
  },
  {
   "cell_type": "code",
   "execution_count": 118,
   "id": "75349f86",
   "metadata": {},
   "outputs": [
    {
     "name": "stdout",
     "output_type": "stream",
     "text": [
      "\n",
      "1 2 3 4 5 6 7 8 9 \n",
      "2 4 6 8 10 12 14 16 18 \n",
      "3 6 9 12 15 18 21 24 27 \n",
      "4 8 12 16 20 24 28 32 36 \n",
      "5 10 15 20 25 30 35 40 45 \n",
      "6 12 18 24 30 36 42 48 54 \n",
      "7 14 21 28 35 42 49 56 63 \n",
      "8 16 24 32 40 48 56 64 72 \n",
      "9 18 27 36 45 54 63 72 81 \n",
      "10 20 30 40 50 60 70 80 90 "
     ]
    }
   ],
   "source": [
    "arr3 = [[1,2,3],[4,5,6],[7,8,9,10]]\n",
    "for a in arr3:\n",
    "    for b in a:\n",
    "        print('')\n",
    "        for i in list(range(1,10)):\n",
    "            print(b*i,end=' ')"
   ]
  },
  {
   "cell_type": "code",
   "execution_count": 120,
   "id": "7261c687",
   "metadata": {
    "scrolled": true
   },
   "outputs": [
    {
     "name": "stdout",
     "output_type": "stream",
     "text": [
      "평균= 73.33333333333333\n"
     ]
    }
   ],
   "source": [
    "scores=[\n",
    "    ['홍',70],\n",
    "    ['김',80],\n",
    "    ['박',70]\n",
    "]\n",
    "tot = 0\n",
    "# 학생평균 계산\n",
    "for sc in scores:\n",
    "    tot += sc[1]\n",
    "print(\"평균=\",tot/len(scores))"
   ]
  },
  {
   "cell_type": "code",
   "execution_count": 121,
   "id": "5192c555",
   "metadata": {},
   "outputs": [
    {
     "data": {
      "text/plain": [
       "['홀', '짝', '홀', '홀', '짝']"
      ]
     },
     "execution_count": 121,
     "metadata": {},
     "output_type": "execute_result"
    }
   ],
   "source": [
    "arr4= [1,2,1,1,2]\n",
    "# 1=홀, 2=짝 변환 출력[홀,짝,홀,홀,짝]\n",
    "['짝' if i%2==0 else '홀' for i in arr4]"
   ]
  },
  {
   "cell_type": "code",
   "execution_count": 127,
   "id": "261a1770",
   "metadata": {},
   "outputs": [
    {
     "name": "stdout",
     "output_type": "stream",
     "text": [
      "9\n",
      "24\n"
     ]
    }
   ],
   "source": [
    "def calc_many(choice,*args):\n",
    "    if choice ==\"sum\":\n",
    "        return(sum(args))\n",
    "    elif choice == 'mul':\n",
    "        tot=1\n",
    "        for i in args:\n",
    "            tot *= i\n",
    "        return tot\n",
    "print(calc_many(\"sum\",1,3,5))\n",
    "print(calc_many(\"mul\",3,2,4))"
   ]
  },
  {
   "cell_type": "code",
   "execution_count": null,
   "id": "e2c96f00",
   "metadata": {},
   "outputs": [],
   "source": []
  }
 ],
 "metadata": {
  "kernelspec": {
   "display_name": "Python 3 (ipykernel)",
   "language": "python",
   "name": "python3"
  },
  "language_info": {
   "codemirror_mode": {
    "name": "ipython",
    "version": 3
   },
   "file_extension": ".py",
   "mimetype": "text/x-python",
   "name": "python",
   "nbconvert_exporter": "python",
   "pygments_lexer": "ipython3",
   "version": "3.9.12"
  }
 },
 "nbformat": 4,
 "nbformat_minor": 5
}
