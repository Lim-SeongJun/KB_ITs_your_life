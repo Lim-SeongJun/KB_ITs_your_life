{
 "cells": [
  {
   "cell_type": "markdown",
   "id": "248c7fe8",
   "metadata": {},
   "source": [
    "# 국민건강보험공단_건강검진정보_2021_12 분석\n",
    "건강검진 결과지 제대로 읽는 법\n",
    "\n",
    "\n",
    "https://health.chosun.com/site/data/html_dir/2016/11/30/2016113001291.html"
   ]
  },
  {
   "cell_type": "markdown",
   "id": "c7c1be87",
   "metadata": {},
   "source": [
    "# 건강검진정보 csv 병합"
   ]
  },
  {
   "cell_type": "code",
   "execution_count": 1,
   "id": "1d6bcf65",
   "metadata": {},
   "outputs": [],
   "source": [
    "# url1=\"https://raw.githubusercontent.com/KimYounghwan/bigdata/master/%EA%B5%AD%EB%AF%BC%EA%B1%B4%EA%B0%95%EB%B3%B4%ED%97%98%EA%B3%B5%EB%8B%A8_%EA%B1%B4%EA%B0%95%EA%B2%80%EC%A7%84%EC%A0%95%EB%B3%B4_20211229_1.CSV\"\n",
    "# url2=\"https://raw.githubusercontent.com/KimYounghwan/bigdata/master/%EA%B5%AD%EB%AF%BC%EA%B1%B4%EA%B0%95%EB%B3%B4%ED%97%98%EA%B3%B5%EB%8B%A8_%EA%B1%B4%EA%B0%95%EA%B2%80%EC%A7%84%EC%A0%95%EB%B3%B4_20211229_2.CSV\"\n",
    "# url3=\"https://raw.githubusercontent.com/KimYounghwan/bigdata/master/%EA%B5%AD%EB%AF%BC%EA%B1%B4%EA%B0%95%EB%B3%B4%ED%97%98%EA%B3%B5%EB%8B%A8_%EA%B1%B4%EA%B0%95%EA%B2%80%EC%A7%84%EC%A0%95%EB%B3%B4_20211229_3.CSV\"\n",
    "# url4=\"https://raw.githubusercontent.com/KimYounghwan/bigdata/master/%EA%B5%AD%EB%AF%BC%EA%B1%B4%EA%B0%95%EB%B3%B4%ED%97%98%EA%B3%B5%EB%8B%A8_%EA%B1%B4%EA%B0%95%EA%B2%80%EC%A7%84%EC%A0%95%EB%B3%B4_20211229_4.CSV\""
   ]
  },
  {
   "cell_type": "code",
   "execution_count": 2,
   "id": "205c12dd",
   "metadata": {},
   "outputs": [],
   "source": [
    "# import pandas as pd\n",
    "\n",
    "# 검진정보1=pd.read_csv(url1)\n",
    "# 검진정보2=pd.read_csv(url2)\n",
    "# 검진정보3=pd.read_csv(url3)\n",
    "# 검진정보4=pd.read_csv(url4)"
   ]
  },
  {
   "cell_type": "code",
   "execution_count": 1,
   "id": "ee55f933",
   "metadata": {
    "scrolled": true
   },
   "outputs": [
    {
     "data": {
      "text/html": [
       "<div>\n",
       "<style scoped>\n",
       "    .dataframe tbody tr th:only-of-type {\n",
       "        vertical-align: middle;\n",
       "    }\n",
       "\n",
       "    .dataframe tbody tr th {\n",
       "        vertical-align: top;\n",
       "    }\n",
       "\n",
       "    .dataframe thead th {\n",
       "        text-align: right;\n",
       "    }\n",
       "</style>\n",
       "<table border=\"1\" class=\"dataframe\">\n",
       "  <thead>\n",
       "    <tr style=\"text-align: right;\">\n",
       "      <th></th>\n",
       "      <th>기준년도</th>\n",
       "      <th>가입자 일련번호</th>\n",
       "      <th>시도</th>\n",
       "      <th>성별</th>\n",
       "      <th>연령대</th>\n",
       "      <th>신장(5Cm단위)</th>\n",
       "      <th>체중(5Kg 단위)</th>\n",
       "      <th>허리둘레</th>\n",
       "      <th>시력(좌)</th>\n",
       "      <th>시력(우)</th>\n",
       "      <th>...</th>\n",
       "      <th>치석</th>\n",
       "      <th>데이터 공개일자</th>\n",
       "      <th>빈혈유무</th>\n",
       "      <th>BMI</th>\n",
       "      <th>비만정도</th>\n",
       "      <th>혈압</th>\n",
       "      <th>당뇨</th>\n",
       "      <th>혈청크레아티닌유무</th>\n",
       "      <th>신장질환</th>\n",
       "      <th>간질환</th>\n",
       "    </tr>\n",
       "  </thead>\n",
       "  <tbody>\n",
       "    <tr>\n",
       "      <th>0</th>\n",
       "      <td>2020</td>\n",
       "      <td>1</td>\n",
       "      <td>세종특별자치시</td>\n",
       "      <td>남</td>\n",
       "      <td>40대</td>\n",
       "      <td>165</td>\n",
       "      <td>60</td>\n",
       "      <td>72.1</td>\n",
       "      <td>1.2</td>\n",
       "      <td>1.5</td>\n",
       "      <td>...</td>\n",
       "      <td>NaN</td>\n",
       "      <td>2021-12-29</td>\n",
       "      <td>정상</td>\n",
       "      <td>22.038567</td>\n",
       "      <td>정상</td>\n",
       "      <td>정상혈압</td>\n",
       "      <td>정상</td>\n",
       "      <td>정상</td>\n",
       "      <td>정상</td>\n",
       "      <td>정상</td>\n",
       "    </tr>\n",
       "    <tr>\n",
       "      <th>1</th>\n",
       "      <td>2020</td>\n",
       "      <td>2</td>\n",
       "      <td>대구광역시</td>\n",
       "      <td>여</td>\n",
       "      <td>60대</td>\n",
       "      <td>150</td>\n",
       "      <td>65</td>\n",
       "      <td>81.0</td>\n",
       "      <td>0.8</td>\n",
       "      <td>0.8</td>\n",
       "      <td>...</td>\n",
       "      <td>NaN</td>\n",
       "      <td>2021-12-29</td>\n",
       "      <td>정상</td>\n",
       "      <td>28.888889</td>\n",
       "      <td>1단계 비만</td>\n",
       "      <td>정상혈압</td>\n",
       "      <td>정상</td>\n",
       "      <td>비정상</td>\n",
       "      <td>위험군</td>\n",
       "      <td>정상</td>\n",
       "    </tr>\n",
       "    <tr>\n",
       "      <th>2</th>\n",
       "      <td>2020</td>\n",
       "      <td>3</td>\n",
       "      <td>서울특별시</td>\n",
       "      <td>여</td>\n",
       "      <td>50대</td>\n",
       "      <td>155</td>\n",
       "      <td>55</td>\n",
       "      <td>70.0</td>\n",
       "      <td>0.6</td>\n",
       "      <td>0.7</td>\n",
       "      <td>...</td>\n",
       "      <td>NaN</td>\n",
       "      <td>2021-12-29</td>\n",
       "      <td>정상</td>\n",
       "      <td>22.892820</td>\n",
       "      <td>정상</td>\n",
       "      <td>정상혈압</td>\n",
       "      <td>공복혈당장애</td>\n",
       "      <td>정상</td>\n",
       "      <td>정상</td>\n",
       "      <td>정상</td>\n",
       "    </tr>\n",
       "    <tr>\n",
       "      <th>3</th>\n",
       "      <td>2020</td>\n",
       "      <td>4</td>\n",
       "      <td>울산광역시</td>\n",
       "      <td>남</td>\n",
       "      <td>60대</td>\n",
       "      <td>160</td>\n",
       "      <td>70</td>\n",
       "      <td>90.8</td>\n",
       "      <td>1.0</td>\n",
       "      <td>1.0</td>\n",
       "      <td>...</td>\n",
       "      <td>0.0</td>\n",
       "      <td>2021-12-29</td>\n",
       "      <td>정상</td>\n",
       "      <td>27.343750</td>\n",
       "      <td>1단계 비만</td>\n",
       "      <td>정상혈압</td>\n",
       "      <td>당뇨병</td>\n",
       "      <td>비정상</td>\n",
       "      <td>위험군</td>\n",
       "      <td>비정상</td>\n",
       "    </tr>\n",
       "    <tr>\n",
       "      <th>4</th>\n",
       "      <td>2020</td>\n",
       "      <td>5</td>\n",
       "      <td>경기도</td>\n",
       "      <td>여</td>\n",
       "      <td>50대</td>\n",
       "      <td>155</td>\n",
       "      <td>50</td>\n",
       "      <td>75.2</td>\n",
       "      <td>1.5</td>\n",
       "      <td>1.2</td>\n",
       "      <td>...</td>\n",
       "      <td>NaN</td>\n",
       "      <td>2021-12-29</td>\n",
       "      <td>정상</td>\n",
       "      <td>20.811655</td>\n",
       "      <td>정상</td>\n",
       "      <td>고혈압</td>\n",
       "      <td>공복혈당장애</td>\n",
       "      <td>정상</td>\n",
       "      <td>정상</td>\n",
       "      <td>정상</td>\n",
       "    </tr>\n",
       "    <tr>\n",
       "      <th>...</th>\n",
       "      <td>...</td>\n",
       "      <td>...</td>\n",
       "      <td>...</td>\n",
       "      <td>...</td>\n",
       "      <td>...</td>\n",
       "      <td>...</td>\n",
       "      <td>...</td>\n",
       "      <td>...</td>\n",
       "      <td>...</td>\n",
       "      <td>...</td>\n",
       "      <td>...</td>\n",
       "      <td>...</td>\n",
       "      <td>...</td>\n",
       "      <td>...</td>\n",
       "      <td>...</td>\n",
       "      <td>...</td>\n",
       "      <td>...</td>\n",
       "      <td>...</td>\n",
       "      <td>...</td>\n",
       "      <td>...</td>\n",
       "      <td>...</td>\n",
       "    </tr>\n",
       "    <tr>\n",
       "      <th>999995</th>\n",
       "      <td>2020</td>\n",
       "      <td>999996</td>\n",
       "      <td>경기도</td>\n",
       "      <td>여</td>\n",
       "      <td>60대</td>\n",
       "      <td>145</td>\n",
       "      <td>55</td>\n",
       "      <td>81.0</td>\n",
       "      <td>0.9</td>\n",
       "      <td>1.0</td>\n",
       "      <td>...</td>\n",
       "      <td>NaN</td>\n",
       "      <td>2021-12-29</td>\n",
       "      <td>정상</td>\n",
       "      <td>26.159334</td>\n",
       "      <td>1단계 비만</td>\n",
       "      <td>정상혈압</td>\n",
       "      <td>공복혈당장애</td>\n",
       "      <td>정상</td>\n",
       "      <td>정상</td>\n",
       "      <td>정상</td>\n",
       "    </tr>\n",
       "    <tr>\n",
       "      <th>999996</th>\n",
       "      <td>2020</td>\n",
       "      <td>999997</td>\n",
       "      <td>부산광역시</td>\n",
       "      <td>여</td>\n",
       "      <td>50대</td>\n",
       "      <td>160</td>\n",
       "      <td>55</td>\n",
       "      <td>76.5</td>\n",
       "      <td>1.5</td>\n",
       "      <td>1.5</td>\n",
       "      <td>...</td>\n",
       "      <td>NaN</td>\n",
       "      <td>2021-12-29</td>\n",
       "      <td>정상</td>\n",
       "      <td>21.484375</td>\n",
       "      <td>정상</td>\n",
       "      <td>정상혈압</td>\n",
       "      <td>정상</td>\n",
       "      <td>정상</td>\n",
       "      <td>정상</td>\n",
       "      <td>정상</td>\n",
       "    </tr>\n",
       "    <tr>\n",
       "      <th>999997</th>\n",
       "      <td>2020</td>\n",
       "      <td>999998</td>\n",
       "      <td>경상남도</td>\n",
       "      <td>남</td>\n",
       "      <td>40대</td>\n",
       "      <td>175</td>\n",
       "      <td>70</td>\n",
       "      <td>85.0</td>\n",
       "      <td>1.2</td>\n",
       "      <td>1.2</td>\n",
       "      <td>...</td>\n",
       "      <td>NaN</td>\n",
       "      <td>2021-12-29</td>\n",
       "      <td>정상</td>\n",
       "      <td>22.857143</td>\n",
       "      <td>정상</td>\n",
       "      <td>정상혈압</td>\n",
       "      <td>정상</td>\n",
       "      <td>정상</td>\n",
       "      <td>정상</td>\n",
       "      <td>정상</td>\n",
       "    </tr>\n",
       "    <tr>\n",
       "      <th>999998</th>\n",
       "      <td>2020</td>\n",
       "      <td>999999</td>\n",
       "      <td>경상남도</td>\n",
       "      <td>여</td>\n",
       "      <td>40대</td>\n",
       "      <td>160</td>\n",
       "      <td>70</td>\n",
       "      <td>91.0</td>\n",
       "      <td>0.6</td>\n",
       "      <td>0.5</td>\n",
       "      <td>...</td>\n",
       "      <td>NaN</td>\n",
       "      <td>2021-12-29</td>\n",
       "      <td>비정상</td>\n",
       "      <td>27.343750</td>\n",
       "      <td>1단계 비만</td>\n",
       "      <td>정상혈압</td>\n",
       "      <td>공복혈당장애</td>\n",
       "      <td>정상</td>\n",
       "      <td>정상</td>\n",
       "      <td>정상</td>\n",
       "    </tr>\n",
       "    <tr>\n",
       "      <th>999999</th>\n",
       "      <td>2020</td>\n",
       "      <td>1000000</td>\n",
       "      <td>인천광역시</td>\n",
       "      <td>남</td>\n",
       "      <td>50대</td>\n",
       "      <td>160</td>\n",
       "      <td>55</td>\n",
       "      <td>76.1</td>\n",
       "      <td>2.0</td>\n",
       "      <td>2.0</td>\n",
       "      <td>...</td>\n",
       "      <td>NaN</td>\n",
       "      <td>2021-12-29</td>\n",
       "      <td>정상</td>\n",
       "      <td>21.484375</td>\n",
       "      <td>정상</td>\n",
       "      <td>정상혈압</td>\n",
       "      <td>공복혈당장애</td>\n",
       "      <td>정상</td>\n",
       "      <td>정상</td>\n",
       "      <td>정상</td>\n",
       "    </tr>\n",
       "  </tbody>\n",
       "</table>\n",
       "<p>1000000 rows × 39 columns</p>\n",
       "</div>"
      ],
      "text/plain": [
       "        기준년도  가입자 일련번호       시도 성별  연령대  신장(5Cm단위)  체중(5Kg 단위)  허리둘레  시력(좌)  \\\n",
       "0       2020         1  세종특별자치시  남  40대        165          60  72.1    1.2   \n",
       "1       2020         2    대구광역시  여  60대        150          65  81.0    0.8   \n",
       "2       2020         3    서울특별시  여  50대        155          55  70.0    0.6   \n",
       "3       2020         4    울산광역시  남  60대        160          70  90.8    1.0   \n",
       "4       2020         5      경기도  여  50대        155          50  75.2    1.5   \n",
       "...      ...       ...      ... ..  ...        ...         ...   ...    ...   \n",
       "999995  2020    999996      경기도  여  60대        145          55  81.0    0.9   \n",
       "999996  2020    999997    부산광역시  여  50대        160          55  76.5    1.5   \n",
       "999997  2020    999998     경상남도  남  40대        175          70  85.0    1.2   \n",
       "999998  2020    999999     경상남도  여  40대        160          70  91.0    0.6   \n",
       "999999  2020   1000000    인천광역시  남  50대        160          55  76.1    2.0   \n",
       "\n",
       "        시력(우)  ...   치석    데이터 공개일자  빈혈유무        BMI    비만정도    혈압      당뇨  \\\n",
       "0         1.5  ...  NaN  2021-12-29    정상  22.038567      정상  정상혈압      정상   \n",
       "1         0.8  ...  NaN  2021-12-29    정상  28.888889  1단계 비만  정상혈압      정상   \n",
       "2         0.7  ...  NaN  2021-12-29    정상  22.892820      정상  정상혈압  공복혈당장애   \n",
       "3         1.0  ...  0.0  2021-12-29    정상  27.343750  1단계 비만  정상혈압     당뇨병   \n",
       "4         1.2  ...  NaN  2021-12-29    정상  20.811655      정상   고혈압  공복혈당장애   \n",
       "...       ...  ...  ...         ...   ...        ...     ...   ...     ...   \n",
       "999995    1.0  ...  NaN  2021-12-29    정상  26.159334  1단계 비만  정상혈압  공복혈당장애   \n",
       "999996    1.5  ...  NaN  2021-12-29    정상  21.484375      정상  정상혈압      정상   \n",
       "999997    1.2  ...  NaN  2021-12-29    정상  22.857143      정상  정상혈압      정상   \n",
       "999998    0.5  ...  NaN  2021-12-29   비정상  27.343750  1단계 비만  정상혈압  공복혈당장애   \n",
       "999999    2.0  ...  NaN  2021-12-29    정상  21.484375      정상  정상혈압  공복혈당장애   \n",
       "\n",
       "        혈청크레아티닌유무  신장질환  간질환  \n",
       "0              정상    정상   정상  \n",
       "1             비정상   위험군   정상  \n",
       "2              정상    정상   정상  \n",
       "3             비정상   위험군  비정상  \n",
       "4              정상    정상   정상  \n",
       "...           ...   ...  ...  \n",
       "999995         정상    정상   정상  \n",
       "999996         정상    정상   정상  \n",
       "999997         정상    정상   정상  \n",
       "999998         정상    정상   정상  \n",
       "999999         정상    정상   정상  \n",
       "\n",
       "[1000000 rows x 39 columns]"
      ]
     },
     "execution_count": 1,
     "metadata": {},
     "output_type": "execute_result"
    }
   ],
   "source": [
    "import pandas as pd\n",
    "검진정보 = pd.read_csv('검진정보.csv',encoding='utf-8')\n",
    "검진정보"
   ]
  },
  {
   "cell_type": "code",
   "execution_count": 2,
   "id": "213d8281",
   "metadata": {},
   "outputs": [
    {
     "data": {
      "text/plain": [
       "Index(['기준년도', '가입자 일련번호', '시도', '성별', '연령대', '신장(5Cm단위)', '체중(5Kg 단위)',\n",
       "       '허리둘레', '시력(좌)', '시력(우)', '청력(좌)', '청력(우)', '수축기 혈압', '이완기 혈압',\n",
       "       '식전혈당(공복혈당)', '총 콜레스테롤', '트리글리세라이드', 'HDL 콜레스테롤', 'LDL 콜레스테롤', '혈색소',\n",
       "       '요단백', '혈청크레아티닌', '(혈청지오티)AST', '(혈청지오티)ALT', '감마 지티피', '흡연상태', '음주여부',\n",
       "       '구강검진 수검여부', '치아우식증유무', '치석', '데이터 공개일자', '빈혈유무', 'BMI', '비만정도', '혈압',\n",
       "       '당뇨', '혈청크레아티닌유무', '신장질환', '간질환'],\n",
       "      dtype='object')"
      ]
     },
     "execution_count": 2,
     "metadata": {},
     "output_type": "execute_result"
    }
   ],
   "source": [
    "검진정보.columns"
   ]
  },
  {
   "cell_type": "markdown",
   "id": "2a22c655",
   "metadata": {},
   "source": [
    "# 데이터 복사 및 전처리 작업"
   ]
  },
  {
   "cell_type": "markdown",
   "id": "d041bd4f",
   "metadata": {},
   "source": [
    "## 결측값 확인"
   ]
  },
  {
   "cell_type": "code",
   "execution_count": 5,
   "id": "985303f0",
   "metadata": {
    "scrolled": true
   },
   "outputs": [
    {
     "data": {
      "text/plain": [
       "기준년도               0\n",
       "가입자 일련번호           0\n",
       "시도                 0\n",
       "성별                 0\n",
       "연령대                0\n",
       "신장(5Cm단위)          0\n",
       "체중(5Kg 단위)         0\n",
       "허리둘레             108\n",
       "시력(좌)            257\n",
       "시력(우)            252\n",
       "청력(좌)            222\n",
       "청력(우)            230\n",
       "수축기 혈압             0\n",
       "이완기 혈압             0\n",
       "식전혈당(공복혈당)         0\n",
       "총 콜레스테롤       597694\n",
       "트리글리세라이드      597678\n",
       "HDL 콜레스테롤     597685\n",
       "LDL 콜레스테롤     605529\n",
       "혈색소                0\n",
       "요단백                0\n",
       "혈청크레아티닌            0\n",
       "(혈청지오티)AST         0\n",
       "(혈청지오티)ALT         0\n",
       "감마 지티피          7603\n",
       "흡연상태             343\n",
       "음주여부             196\n",
       "구강검진 수검여부          0\n",
       "치아우식증유무       668617\n",
       "치석            668618\n",
       "데이터 공개일자           0\n",
       "빈혈유무               0\n",
       "BMI                0\n",
       "비만정도               0\n",
       "혈압                 0\n",
       "당뇨                49\n",
       "혈청크레아티닌유무          0\n",
       "신장질환               0\n",
       "간질환                0\n",
       "dtype: int64"
      ]
     },
     "execution_count": 5,
     "metadata": {},
     "output_type": "execute_result"
    }
   ],
   "source": [
    "검진정보.isnull().sum()"
   ]
  },
  {
   "cell_type": "markdown",
   "id": "b24f116f",
   "metadata": {},
   "source": [
    "# 결측치 처리"
   ]
  },
  {
   "cell_type": "code",
   "execution_count": null,
   "id": "35f55623",
   "metadata": {},
   "outputs": [],
   "source": [
    "검진정보['수축기 혈압'] = 검진정보['수축기 혈압'].fillna(검진정보['수축기 혈압'].mean()) \n",
    "검진정보['이완기 혈압'] = 검진정보['이완기 혈압'].fillna(검진정보['이완기 혈압'].mean()) \n",
    "\n",
    "검진정보['혈색소'] = 검진정보['혈색소'].fillna(검진정보['혈색소'].mean())\n",
    "\n",
    "검진정보['식전혈당(공복혈당)'] = 검진정보['식전혈당(공복혈당)'].fillna(검진정보['식전혈당(공복혈당)'].mean()) \n",
    "검진정보[\"요단백\"] = 검진정보[\"요단백\"].fillna(검진정보[\"요단백\"].mean())\n",
    "검진정보[\"혈청크레아티닌\"] = 검진정보[\"혈청크레아티닌\"].fillna(검진정보[\"혈청크레아티닌\"].mean())\n",
    "\n",
    "검진정보['(혈청지오티)AST'] = 검진정보['(혈청지오티)AST'].fillna(검진정보['(혈청지오티)AST'].mode()[0])\n",
    "검진정보['(혈청지오티)ALT'] = 검진정보['(혈청지오티)ALT'].fillna(검진정보['(혈청지오티)ALT'].mode()[0])"
   ]
  },
  {
   "cell_type": "code",
   "execution_count": null,
   "id": "6b3b16cb",
   "metadata": {},
   "outputs": [],
   "source": [
    "def 연령대_변환(x):\n",
    "    x=x['연령대 코드(5세단위)']\n",
    "    if x==1 or x==2:\n",
    "        return \"10대 이하\"\n",
    "    elif x==3 or x==4:\n",
    "        return \"10대\"\n",
    "    elif x==5 or x==6:\n",
    "        return \"20대\"\n",
    "    elif x==7 or x==8:\n",
    "        return \"30대\"\n",
    "    elif x==9 or x==10:\n",
    "        return \"40대\"\n",
    "    elif x==11 or x==12:\n",
    "        return \"50대\"\n",
    "    elif x==13 or x==14:\n",
    "        return \"60대\"\n",
    "    elif x==15 or x==16:\n",
    "        return \"70대\"\n",
    "    elif x==17 or x==18:\n",
    "        return \"80대\"\n",
    "\n",
    "검진정보[\"연령대 코드(5세단위)\"] = 검진정보.apply(연령대_변환,axis=1)"
   ]
  },
  {
   "cell_type": "code",
   "execution_count": null,
   "id": "3c4db252",
   "metadata": {},
   "outputs": [],
   "source": [
    "검진정보.rename(columns={'연령대 코드(5세단위)':'연령대'}, inplace=True)"
   ]
  },
  {
   "cell_type": "code",
   "execution_count": null,
   "id": "a63a69de",
   "metadata": {},
   "outputs": [],
   "source": [
    "검진정보[\"연령대\"]"
   ]
  },
  {
   "cell_type": "markdown",
   "id": "5c17fed4",
   "metadata": {},
   "source": [
    "# 성별코드를 성별로 변경"
   ]
  },
  {
   "cell_type": "code",
   "execution_count": null,
   "id": "1d627a9e",
   "metadata": {},
   "outputs": [],
   "source": [
    "검진정보[\"성별코드\"] = pd.cut(\n",
    "    검진정보[\"성별코드\"],\n",
    "    bins=[0,1,2],\n",
    "    labels=\"남,여\".split(\",\")\n",
    "    )"
   ]
  },
  {
   "cell_type": "code",
   "execution_count": null,
   "id": "61c0a4cd",
   "metadata": {},
   "outputs": [],
   "source": [
    "검진정보.rename(columns = {'성별코드' : '성별'}, inplace = True)"
   ]
  },
  {
   "cell_type": "code",
   "execution_count": null,
   "id": "6aedc480",
   "metadata": {},
   "outputs": [],
   "source": [
    "검진정보[\"성별\"]"
   ]
  },
  {
   "cell_type": "markdown",
   "id": "54b39e0f",
   "metadata": {},
   "source": [
    "# 시도코드를 시도로 변경"
   ]
  },
  {
   "cell_type": "code",
   "execution_count": null,
   "id": "907314c8",
   "metadata": {},
   "outputs": [],
   "source": [
    "#시도코드 변환\n",
    "def 시도_변환(x):\n",
    "    x=x['시도코드']\n",
    "    if x==11:\n",
    "        return \"서울특별시\"\n",
    "    elif x==26:\n",
    "        return \"부산광역시\"\n",
    "    elif x==27:\n",
    "        return \"대구광역시\"\n",
    "    elif x==28:\n",
    "        return \"인천광역시\"\n",
    "    elif x==29:\n",
    "        return \"광주광역시\"\n",
    "    elif x==30:\n",
    "        return \"대전광역시\"\n",
    "    elif x==31:\n",
    "        return \"울산광역시\"\n",
    "    elif x==36:\n",
    "        return \"세종특별자치시\"\n",
    "    elif x==41:\n",
    "        return \"경기도\"\n",
    "    elif x==42:\n",
    "        return \"강원도\"\n",
    "    elif x==43:\n",
    "        return \"충청북도\"\n",
    "    elif x==44:\n",
    "        return \"충청남도\"\n",
    "    elif x==45:\n",
    "        return \"전라북도\"\n",
    "    elif x==46:\n",
    "        return \"전라남도\"\n",
    "    elif x==47:\n",
    "        return \"경상북도\"\n",
    "    elif x==48:\n",
    "        return \"경상남도\"\n",
    "    elif x==49:\n",
    "        return \"제주특별자치도\"\n",
    "\n",
    "\n",
    "검진정보[\"시도코드\"] = 검진정보.apply(시도_변환,axis=1)"
   ]
  },
  {
   "cell_type": "code",
   "execution_count": null,
   "id": "cea65c81",
   "metadata": {},
   "outputs": [],
   "source": [
    "검진정보.rename(columns={\"시도코드\":\"시도\"}, inplace=True)"
   ]
  },
  {
   "cell_type": "code",
   "execution_count": null,
   "id": "ade2ac94",
   "metadata": {},
   "outputs": [],
   "source": [
    "검진정보[\"시도\"]"
   ]
  },
  {
   "cell_type": "markdown",
   "id": "c990c2e6",
   "metadata": {},
   "source": [
    "# 빈혈유무 구하기"
   ]
  },
  {
   "cell_type": "markdown",
   "id": "e0362a0a",
   "metadata": {},
   "source": [
    "- 혈액이 인체 조직의 대사에 필요한 산소를 충분히 공급하지 못해 조직의 저산소증을 초래하는 경우  \n",
    "* 구분  \n",
    "남자 빈혈 : 혈색소 수치 < 13   \n",
    "여자 빈혈 : 혈색소 수치 < 12"
   ]
  },
  {
   "cell_type": "code",
   "execution_count": null,
   "id": "a9442d15",
   "metadata": {},
   "outputs": [],
   "source": [
    "# 빈혈 함수\n",
    "def 빈혈(x):\n",
    "    if x['성별'] == '남자':\n",
    "        if x['혈색소'] < 13:\n",
    "            return '비정상'\n",
    "        else:\n",
    "            return '정상'\n",
    "    \n",
    "    else:\n",
    "        if x['혈색소'] < 12:\n",
    "            return '비정상'\n",
    "        else:\n",
    "            return '정상'\n",
    "\n",
    "검진정보['빈혈유무'] = 검진정보.apply(빈혈,axis =1)"
   ]
  },
  {
   "cell_type": "code",
   "execution_count": null,
   "id": "094ec995",
   "metadata": {},
   "outputs": [],
   "source": [
    "검진정보['빈혈유무']"
   ]
  },
  {
   "cell_type": "markdown",
   "id": "1832cd3a",
   "metadata": {},
   "source": [
    "# BMI, 비만도 계산"
   ]
  },
  {
   "cell_type": "markdown",
   "id": "3040a12b",
   "metadata": {},
   "source": [
    "* BMI 계산 : 체중 / (신장**2*10000)\n",
    "* 구분  \n",
    "  (1) 저체중 &nbsp;&nbsp;&nbsp; : BMI < 18.5  \n",
    "  (2) 정상   &nbsp;&nbsp; &nbsp;&nbsp;   : 18.5 <= BMI < 23.0  \n",
    "  (3) 위험체중 &nbsp;&nbsp;: 23.0 <= BMI < 25.0  \n",
    "  (4) 1단계 비만  : 25.0 <= BMI < 30.0  \n",
    "  (5) 2단계 비만  : BMI > 30.0"
   ]
  },
  {
   "cell_type": "code",
   "execution_count": null,
   "id": "3fb2c2c4",
   "metadata": {},
   "outputs": [],
   "source": [
    "#BMI\n",
    "검진정보[\"BMI\"] = 검진정보[\"체중(5Kg 단위)\"]/검진정보[\"신장(5Cm단위)\"]**2*10000"
   ]
  },
  {
   "cell_type": "code",
   "execution_count": null,
   "id": "cded5692",
   "metadata": {
    "scrolled": true
   },
   "outputs": [],
   "source": [
    "def 비만도_계산(x):\n",
    "    x=x[\"BMI\"]\n",
    "    if x<18.5:\n",
    "        return \"저체중\"\n",
    "    elif 18.5<=x<23.0:\n",
    "        return \"정상\"\n",
    "    elif 23.0<=x<25.0:\n",
    "        return \"위험체중\"\n",
    "    elif 25.0<=x<30.0:\n",
    "        return \"1단계 비만\"\n",
    "    elif x>30.0:\n",
    "        return \"2단계 비만\"\n",
    "\n",
    "검진정보[\"비만정도\"] = 검진정보.apply(비만도_계산,axis=1)"
   ]
  },
  {
   "cell_type": "code",
   "execution_count": null,
   "id": "5ca7996a",
   "metadata": {
    "scrolled": true
   },
   "outputs": [],
   "source": [
    "def 비만도_계산(x):\n",
    "    x=x[\"BMI\"]\n",
    "    if x<18.5:\n",
    "        return \"저체중\"\n",
    "    elif 18.5<=x<23.0:\n",
    "        return \"정상\"\n",
    "    elif 23.0<=x<25.0:\n",
    "        return \"위험체중\"\n",
    "    elif 25.0<=x<30.0:\n",
    "        return \"1단계 비만\"\n",
    "    elif x>30.0:\n",
    "        return \"2단계 비만\"\n",
    "\n",
    "검진정보[\"비만정도\"] = 검진정보.apply(비만도_계산,axis=1)"
   ]
  },
  {
   "cell_type": "code",
   "execution_count": null,
   "id": "679087c7",
   "metadata": {},
   "outputs": [],
   "source": [
    "검진정보[\"비만정도\"]"
   ]
  },
  {
   "cell_type": "markdown",
   "id": "0607b299",
   "metadata": {},
   "source": [
    "# 혈압 계산"
   ]
  },
  {
   "cell_type": "markdown",
   "id": "a2b4cccd",
   "metadata": {},
   "source": [
    "* 구분  \n",
    "  (1) 저혈압 &nbsp;&nbsp;&nbsp;&nbsp;&nbsp;&nbsp;&nbsp;: 수축기 혈압 < 100 & 이완기 혈압 < 60  \n",
    "  (2) 정상&nbsp;&nbsp;&nbsp;&nbsp;&nbsp;&nbsp;&nbsp;   &nbsp; : 수축기 혈압 < 140 | 이완기 혈압 < 90  \n",
    "  (3) 고혈압  :   수축기 혈압 >= 140 | 이완기 혈압 >= 90   "
   ]
  },
  {
   "cell_type": "code",
   "execution_count": null,
   "id": "901e9dcf",
   "metadata": {},
   "outputs": [],
   "source": [
    "def 혈압(x):\n",
    "    if (x[\"수축기 혈압\"] < 100) & (x[\"이완기 혈압\"] < 60) :\n",
    "        return '저혈압'\n",
    "    elif (x[\"수축기 혈압\"] >= 140) | (x[\"이완기 혈압\"] >= 90):\n",
    "        return '고혈압'\n",
    "    else : #(x[\"수축기 혈압\"] < 140) | (x[\"이완기 혈압\"] < 90):\n",
    "        return '정상혈압'\n",
    "\n",
    "검진정보[\"혈압\"] = 검진정보.apply(혈압,axis =1)"
   ]
  },
  {
   "cell_type": "code",
   "execution_count": null,
   "id": "44ebd65c",
   "metadata": {},
   "outputs": [],
   "source": [
    "검진정보[\"혈압\"]"
   ]
  },
  {
   "cell_type": "markdown",
   "id": "aa158043",
   "metadata": {},
   "source": [
    "# 당뇨병 유무 (공복혈당 계산)"
   ]
  },
  {
   "cell_type": "markdown",
   "id": "0faf4e59",
   "metadata": {},
   "source": [
    "* 구분  \n",
    "(1) 정상&nbsp;  &nbsp;   &nbsp;&nbsp;&nbsp;&nbsp; : ~ 100 mg/dL  \n",
    "(2) 공복혈당장애&nbsp; : 100 ~ 125 mg/dL  \n",
    "(3) 당뇨병&nbsp;   &nbsp;   &nbsp;&nbsp; : 126mg/dL 이상  "
   ]
  },
  {
   "cell_type": "code",
   "execution_count": null,
   "id": "ff235eae",
   "metadata": {},
   "outputs": [],
   "source": [
    "검진정보[\"당뇨\"] = pd.cut(\n",
    "    검진정보[\"식전혈당(공복혈당)\"],\n",
    "    bins=[0,100,125,500],\n",
    "    labels=\"정상,공복혈당장애,당뇨병\".split(\",\")\n",
    "    )"
   ]
  },
  {
   "cell_type": "code",
   "execution_count": null,
   "id": "849e1aae",
   "metadata": {},
   "outputs": [],
   "source": [
    "검진정보[\"당뇨\"]"
   ]
  },
  {
   "cell_type": "markdown",
   "id": "dd8050b4",
   "metadata": {},
   "source": [
    "# 신장질환 유무"
   ]
  },
  {
   "cell_type": "markdown",
   "id": "7014c5db",
   "metadata": {},
   "source": [
    "1) 요단백\n",
    "- 소변에 단백질이 나오는 것\n",
    "- 신장병을 진단하는 중요한 지표 중의 하나\n",
    "* 구분  \n",
    "요단백 검사결과 1 : 정상  \n",
    "\n",
    "2) 크레아티닌\n",
    "- 화학 물질의 분해로 인해 근육 사용의 천연 부산물\n",
    "- 운동하는 동안 근육은 크레아틴을 에너지로 전환하여 근육 수축 도움\n",
    "- 혈중 크레아티닌 수치 증가시 신장질환 위험\n",
    "- 구분  \n",
    "성인 남성 : 0.9 ~ 1.3mg  \n",
    "성인 여성 : 0.6 ~ 1.1mg"
   ]
  },
  {
   "cell_type": "code",
   "execution_count": null,
   "id": "9e9da6fa",
   "metadata": {},
   "outputs": [],
   "source": [
    "# 요단백\n",
    "\n",
    "def 요단백(x):\n",
    "        if x['요단백'] == 1:\n",
    "            return \"정상\"\n",
    "        else:\n",
    "            return \"비정상\" # 2,3,4,5,6\n",
    "\n",
    "검진정보[\"요단백\"] = 검진정보.apply(요단백,axis =1)"
   ]
  },
  {
   "cell_type": "code",
   "execution_count": null,
   "id": "24b8485f",
   "metadata": {},
   "outputs": [],
   "source": [
    "# 혈청크레아티닌\n",
    "\n",
    "def 혈청크레아티닌(x):\n",
    "    if x[\"성별\"] == '남자':\n",
    "        if (x[\"혈청크레아티닌\"] >= 0.9) & (x[\"혈청크레아티닌\"] <= 1.3):\n",
    "            return '정상'\n",
    "        else:\n",
    "            return '비정상'\n",
    "    else:\n",
    "        if (x[\"혈청크레아티닌\"] >= 0.6) & (x[\"혈청크레아티닌\"] <= 1.1):\n",
    "            return '정상'\n",
    "        else:\n",
    "            return '비정상'\n",
    "\n",
    "검진정보[\"혈청크레아티닌유무\"] = 검진정보.apply(혈청크레아티닌,axis =1)"
   ]
  },
  {
   "cell_type": "code",
   "execution_count": null,
   "id": "d82ba50d",
   "metadata": {},
   "outputs": [],
   "source": [
    "# 신장질환 함수\n",
    "def 신장질환(x):\n",
    "    if x['요단백'] == '정상' :\n",
    "        if x['혈청크레아티닌유무'] == '비정상' :\n",
    "            return '위험군'\n",
    "        else :\n",
    "            return '정상'\n",
    "    \n",
    "    else :\n",
    "        return '비정상'\n",
    "\n",
    "검진정보['신장질환'] = 검진정보.apply(신장질환,axis =1)"
   ]
  },
  {
   "cell_type": "code",
   "execution_count": null,
   "id": "1b94cf08",
   "metadata": {},
   "outputs": [],
   "source": [
    "검진정보['신장질환']"
   ]
  },
  {
   "cell_type": "markdown",
   "id": "9fcb377e",
   "metadata": {},
   "source": [
    "# 간질환 유무"
   ]
  },
  {
   "cell_type": "markdown",
   "id": "c3422411",
   "metadata": {},
   "source": [
    "(혈청지오티) GOT(glutamic oxaloacetic transaminase)\n",
    "- 아미노산을 형성하는 작용\n",
    "- 건강한 사람의 혈액 중에도 세포에 함유되어 있는 GOT가 소량 유출, 장기의 세포가 파괴되면 대량 흘러나오게 됩니다. \n",
    "- 심장, 간, 골격근, 신장, 적혈구에 특히 많이 있는 효소로서 간장애, 심근경색, 용혈 등을 진단하는데 유용"
   ]
  },
  {
   "cell_type": "code",
   "execution_count": null,
   "id": "d89eff88",
   "metadata": {},
   "outputs": [],
   "source": [
    "def 간질환_계산(x):\n",
    "    if (x['(혈청지오티)AST']<=40.0) & (x['(혈청지오티)ALT']<=40.0):\n",
    "        return \"정상\"\n",
    "    elif (x['(혈청지오티)AST']<=40.0) & (x['(혈청지오티)ALT']>40.0) :\n",
    "        return \"위험군\"\n",
    "    elif (x['(혈청지오티)AST']>40.0) & (x['(혈청지오티)ALT']<=40.0):\n",
    "        return \"위험군\"\n",
    "    elif (x['(혈청지오티)AST']>40.0) & (x['(혈청지오티)ALT']>40.0):\n",
    "        return \"비정상\"\n",
    "\n",
    "검진정보[\"간질환\"] = 검진정보.apply(간질환_계산,axis=1)"
   ]
  },
  {
   "cell_type": "code",
   "execution_count": null,
   "id": "2088fd4c",
   "metadata": {},
   "outputs": [],
   "source": [
    "검진정보[\"간질환\"]"
   ]
  },
  {
   "cell_type": "markdown",
   "id": "3d229dfb",
   "metadata": {},
   "source": [
    "# 심장질환 유무"
   ]
  },
  {
   "cell_type": "markdown",
   "id": "a7d82078",
   "metadata": {},
   "source": [
    "1) 콜레스테롤  \n",
    "- 세포막을 구성하는 주요성분의 하나이며 세포의 기능에 필수적인 물질  \n",
    "- 비정상적으로 많아지면 다른 지방물질과 함께 혈관내벽에 쌓여 혈관이 좁아짐  \n",
    "- 혈관수축이 원활하지 못하게 되어 동맥경화를 비롯한 각종 혈관계 질환 발병 가능성 큼\n",
    "\n",
    "#### 총콜레스테롤 \n",
    "   * 총 콜레스테롤 수치가 정상이어도 HDL, LDL, 트리글리세라이드가 비정상인 경우가 있다.\n",
    "#### HDL\n",
    "   * 40이하 비정상\n",
    "#### LDL\n",
    "   * 130 이하 정상\n",
    "   * 130~ 비정상\n",
    "#### 트리글리세라이드\n",
    "   * 150미만 정상\n",
    "   * 150이상 비정상"
   ]
  },
  {
   "cell_type": "code",
   "execution_count": null,
   "id": "303a6258",
   "metadata": {},
   "outputs": [],
   "source": [
    "심장질환 = (검진정보[검진정보['LDL 콜레스테롤'].notnull()])\n",
    "심장질환.dropna(axis=0, subset=['총 콜레스테롤'],inplace=True)\n",
    "심장질환.reset_index(drop=True,inplace=True)"
   ]
  },
  {
   "cell_type": "code",
   "execution_count": null,
   "id": "4a4e9c7b",
   "metadata": {},
   "outputs": [],
   "source": [
    "def 심장질환_계산(x):\n",
    "    if (x['HDL 콜레스테롤']>40.0) & (x['LDL 콜레스테롤']<=130) & (x['트리글리세라이드']<150):\n",
    "        return \"정상\"\n",
    "    elif (x['HDL 콜레스테롤']<=40.0) & (x['LDL 콜레스테롤']<=130) & (x['트리글리세라이드']<150):\n",
    "        return \"HDL\"\n",
    "    elif (x['HDL 콜레스테롤']>40.0) & (x['LDL 콜레스테롤']>130) & (x['트리글리세라이드']<150):\n",
    "        return \"LDL\"\n",
    "    elif (x['HDL 콜레스테롤']>40.0) & (x['LDL 콜레스테롤']<=130) & (x['트리글리세라이드']>=150):\n",
    "        return \"트리글리\"\n",
    "    elif (x['HDL 콜레스테롤']<=40.0) & (x['LDL 콜레스테롤']<=130) & (x['트리글리세라이드']>=150):\n",
    "        return \"HDL,트리글리\"\n",
    "    elif (x['HDL 콜레스테롤']>40.0) & (x['LDL 콜레스테롤']>130) & (x['트리글리세라이드']>=150):\n",
    "        return \"LDL,트리글리\"\n",
    "    elif (x['HDL 콜레스테롤']<=40.0) & (x['LDL 콜레스테롤']>130) & (x['트리글리세라이드']<150):\n",
    "        return \"HDL,LDL\"\n",
    "    elif (x['HDL 콜레스테롤']<=40.0) & (x['LDL 콜레스테롤']>130) & (x['트리글리세라이드']>=150):\n",
    "        return \"HDL,LDL,트리글리\"\n",
    "심장질환[\"심장질환\"] = 심장질환.apply(심장질환_계산,axis=1)"
   ]
  },
  {
   "cell_type": "code",
   "execution_count": null,
   "id": "87a8fb7c",
   "metadata": {
    "scrolled": true
   },
   "outputs": [],
   "source": [
    "심장질환"
   ]
  },
  {
   "cell_type": "markdown",
   "id": "5cff3a86",
   "metadata": {},
   "source": [
    "## 데이터 전처리 완료된 DF -> csv로 저장"
   ]
  },
  {
   "cell_type": "code",
   "execution_count": null,
   "id": "e5eee9b0",
   "metadata": {
    "scrolled": true
   },
   "outputs": [],
   "source": [
    "검진정보"
   ]
  },
  {
   "cell_type": "code",
   "execution_count": null,
   "id": "a4966c2d",
   "metadata": {},
   "outputs": [],
   "source": [
    "검진정보.to_csv(\"검진정보.csv\", index=False)"
   ]
  },
  {
   "cell_type": "code",
   "execution_count": null,
   "id": "a378c61a",
   "metadata": {},
   "outputs": [],
   "source": [
    "심장질환.to_csv(\"심장질환.csv\", index=False)"
   ]
  },
  {
   "cell_type": "code",
   "execution_count": null,
   "id": "6b90789c",
   "metadata": {},
   "outputs": [],
   "source": []
  }
 ],
 "metadata": {
  "kernelspec": {
   "display_name": "Python 3 (ipykernel)",
   "language": "python",
   "name": "python3"
  },
  "language_info": {
   "codemirror_mode": {
    "name": "ipython",
    "version": 3
   },
   "file_extension": ".py",
   "mimetype": "text/x-python",
   "name": "python",
   "nbconvert_exporter": "python",
   "pygments_lexer": "ipython3",
   "version": "3.9.12"
  }
 },
 "nbformat": 4,
 "nbformat_minor": 5
}
