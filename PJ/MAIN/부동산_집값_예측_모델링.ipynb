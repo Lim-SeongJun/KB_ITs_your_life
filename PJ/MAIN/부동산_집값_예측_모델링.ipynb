{
 "cells": [
  {
   "cell_type": "code",
   "execution_count": 1,
   "id": "9f959b77",
   "metadata": {},
   "outputs": [],
   "source": [
    "import numpy as np\n",
    "import pandas as pd\n",
    "import matplotlib.pyplot as plt\n",
    "import seaborn as sns\n",
    "import timeit\n",
    "import sklearn\n",
    "import warnings\n",
    "warnings.filterwarnings('ignore')\n",
    "import sys\n",
    "plt.rc(\"font\", family=\"Malgun Gothic\")"
   ]
  },
  {
   "cell_type": "code",
   "execution_count": 12,
   "id": "d4ac1566",
   "metadata": {},
   "outputs": [],
   "source": [
    "from sklearn.linear_model import ElasticNet, Lasso\n",
    "from sklearn.ensemble import GradientBoostingRegressor, RandomForestRegressor\n",
    "from sklearn.kernel_ridge import KernelRidge\n",
    "from sklearn.pipeline import make_pipeline\n",
    "from sklearn.preprocessing import RobustScaler\n",
    "from sklearn.model_selection import KFold, cross_val_score, train_test_split\n",
    "from sklearn.metrics import mean_squared_error\n",
    "import xgboost as xgb\n",
    "import lightgbm as lgb"
   ]
  },
  {
   "cell_type": "code",
   "execution_count": 13,
   "id": "8cbf2dc7",
   "metadata": {},
   "outputs": [],
   "source": [
    "apt_price = pd.read_csv('아파트csv/부동산 집값_예측/아파트_전처리.csv',encoding='utf8')"
   ]
  },
  {
   "cell_type": "code",
   "execution_count": 14,
   "id": "8fb96c81",
   "metadata": {},
   "outputs": [],
   "source": [
    "X = apt_price.drop(columns='거래금액(만원)')\n",
    "y = apt_price['거래금액(만원)']"
   ]
  },
  {
   "cell_type": "code",
   "execution_count": 15,
   "id": "f6ed9441",
   "metadata": {},
   "outputs": [],
   "source": [
    "X_train,X_test,y_train,y_test = train_test_split(X, y, test_size=0.3)"
   ]
  },
  {
   "cell_type": "code",
   "execution_count": 6,
   "id": "fe923e99",
   "metadata": {},
   "outputs": [],
   "source": [
    "forest = RandomForestRegressor(n_estimators = 100, n_jobs = -1, random_state=42)\n",
    "xgboost = xgb.XGBRegressor(random_state=42)\n",
    "lightgbm = lgb.LGBMRegressor(random_state=42, num_leaves = 100, min_data_in_leaf = 15, max_depth=6,\n",
    "                            learning_rate = 0.1, min_child_samples = 30, feature_fraction=0.9, bagging_freq= 1,\n",
    "                            bagging_fraction = 0.9, bagging_seed = 11, lambda_l1 = 0.1, verbosity = -1 )"
   ]
  },
  {
   "cell_type": "code",
   "execution_count": 7,
   "id": "5c70cb42",
   "metadata": {},
   "outputs": [],
   "source": [
    "models = [{'model':xgboost, 'name':'XGBoost'},\n",
    "          {'model':lightgbm, 'name':'LightGBM'},\n",
    "         {'model':forest, 'name' : 'RandomForest'}]\n",
    "\n",
    "def AveragingBlending(models, x, y, sub_x):\n",
    "    for m in models : \n",
    "        m['model'].fit(x.values, y)\n",
    "    \n",
    "    predictions = np.column_stack([m['model'].predict(sub_x.values) for m in models])\n",
    "    return predictions"
   ]
  },
  {
   "cell_type": "code",
   "execution_count": 8,
   "id": "db6df7b9",
   "metadata": {},
   "outputs": [
    {
     "name": "stdout",
     "output_type": "stream",
     "text": [
      "[LightGBM] [Warning] feature_fraction is set=0.9, colsample_bytree=1.0 will be ignored. Current value: feature_fraction=0.9\n",
      "[LightGBM] [Warning] min_data_in_leaf is set=15, min_child_samples=30 will be ignored. Current value: min_data_in_leaf=15\n",
      "[LightGBM] [Warning] lambda_l1 is set=0.1, reg_alpha=0.0 will be ignored. Current value: lambda_l1=0.1\n",
      "[LightGBM] [Warning] bagging_fraction is set=0.9, subsample=1.0 will be ignored. Current value: bagging_fraction=0.9\n",
      "[LightGBM] [Warning] bagging_freq is set=1, subsample_freq=0 will be ignored. Current value: bagging_freq=1\n"
     ]
    }
   ],
   "source": [
    "y_test_pred = AveragingBlending(models, X_train, y_train, X_test)"
   ]
  },
  {
   "cell_type": "code",
   "execution_count": 9,
   "id": "56d7b8ad",
   "metadata": {
    "scrolled": true
   },
   "outputs": [
    {
     "data": {
      "text/plain": [
       "array([11.51268259, 10.50755248, 11.03836578, ..., 10.26386143,\n",
       "        9.46771205,  9.93681905])"
      ]
     },
     "execution_count": 9,
     "metadata": {},
     "output_type": "execute_result"
    }
   ],
   "source": [
    "predictions = (y_test_pred[:, 0]*0.05 + y_test_pred[:, 1]*0.1 + y_test_pred[:, 2]*0.85)\n",
    "predictions"
   ]
  },
  {
   "cell_type": "code",
   "execution_count": 30,
   "id": "339c8ae4",
   "metadata": {},
   "outputs": [
    {
     "data": {
      "text/html": [
       "<div>\n",
       "<style scoped>\n",
       "    .dataframe tbody tr th:only-of-type {\n",
       "        vertical-align: middle;\n",
       "    }\n",
       "\n",
       "    .dataframe tbody tr th {\n",
       "        vertical-align: top;\n",
       "    }\n",
       "\n",
       "    .dataframe thead th {\n",
       "        text-align: right;\n",
       "    }\n",
       "</style>\n",
       "<table border=\"1\" class=\"dataframe\">\n",
       "  <thead>\n",
       "    <tr style=\"text-align: right;\">\n",
       "      <th></th>\n",
       "      <th>전용면적(㎡)</th>\n",
       "      <th>계약일</th>\n",
       "      <th>거래금액(만원)</th>\n",
       "      <th>층</th>\n",
       "      <th>건축년도</th>\n",
       "      <th>구</th>\n",
       "      <th>동</th>\n",
       "      <th>평</th>\n",
       "      <th>계약년</th>\n",
       "      <th>계약월</th>\n",
       "      <th>한강</th>\n",
       "      <th>건물나이</th>\n",
       "      <th>재건축</th>\n",
       "    </tr>\n",
       "  </thead>\n",
       "  <tbody>\n",
       "    <tr>\n",
       "      <th>0</th>\n",
       "      <td>4.366278</td>\n",
       "      <td>1</td>\n",
       "      <td>11.097425</td>\n",
       "      <td>2.197225</td>\n",
       "      <td>1988</td>\n",
       "      <td>24</td>\n",
       "      <td>293</td>\n",
       "      <td>3.284664</td>\n",
       "      <td>2012</td>\n",
       "      <td>5</td>\n",
       "      <td>0.0</td>\n",
       "      <td>24</td>\n",
       "      <td>0.000000</td>\n",
       "    </tr>\n",
       "    <tr>\n",
       "      <th>1</th>\n",
       "      <td>4.366278</td>\n",
       "      <td>9</td>\n",
       "      <td>10.968216</td>\n",
       "      <td>1.945910</td>\n",
       "      <td>1988</td>\n",
       "      <td>24</td>\n",
       "      <td>293</td>\n",
       "      <td>3.284664</td>\n",
       "      <td>2012</td>\n",
       "      <td>7</td>\n",
       "      <td>0.0</td>\n",
       "      <td>24</td>\n",
       "      <td>0.000000</td>\n",
       "    </tr>\n",
       "    <tr>\n",
       "      <th>2</th>\n",
       "      <td>4.658047</td>\n",
       "      <td>13</td>\n",
       "      <td>11.350418</td>\n",
       "      <td>2.397895</td>\n",
       "      <td>1984</td>\n",
       "      <td>24</td>\n",
       "      <td>293</td>\n",
       "      <td>3.569533</td>\n",
       "      <td>2012</td>\n",
       "      <td>4</td>\n",
       "      <td>0.0</td>\n",
       "      <td>28</td>\n",
       "      <td>0.000000</td>\n",
       "    </tr>\n",
       "    <tr>\n",
       "      <th>3</th>\n",
       "      <td>4.907495</td>\n",
       "      <td>8</td>\n",
       "      <td>11.691080</td>\n",
       "      <td>2.944439</td>\n",
       "      <td>2004</td>\n",
       "      <td>24</td>\n",
       "      <td>293</td>\n",
       "      <td>3.813307</td>\n",
       "      <td>2012</td>\n",
       "      <td>5</td>\n",
       "      <td>0.0</td>\n",
       "      <td>8</td>\n",
       "      <td>0.000000</td>\n",
       "    </tr>\n",
       "    <tr>\n",
       "      <th>4</th>\n",
       "      <td>3.939249</td>\n",
       "      <td>9</td>\n",
       "      <td>11.258046</td>\n",
       "      <td>1.791759</td>\n",
       "      <td>1982</td>\n",
       "      <td>24</td>\n",
       "      <td>293</td>\n",
       "      <td>2.867899</td>\n",
       "      <td>2012</td>\n",
       "      <td>1</td>\n",
       "      <td>0.0</td>\n",
       "      <td>30</td>\n",
       "      <td>0.693147</td>\n",
       "    </tr>\n",
       "    <tr>\n",
       "      <th>...</th>\n",
       "      <td>...</td>\n",
       "      <td>...</td>\n",
       "      <td>...</td>\n",
       "      <td>...</td>\n",
       "      <td>...</td>\n",
       "      <td>...</td>\n",
       "      <td>...</td>\n",
       "      <td>...</td>\n",
       "      <td>...</td>\n",
       "      <td>...</td>\n",
       "      <td>...</td>\n",
       "      <td>...</td>\n",
       "      <td>...</td>\n",
       "    </tr>\n",
       "    <tr>\n",
       "      <th>824116</th>\n",
       "      <td>4.106932</td>\n",
       "      <td>20</td>\n",
       "      <td>11.211834</td>\n",
       "      <td>2.079442</td>\n",
       "      <td>1997</td>\n",
       "      <td>3</td>\n",
       "      <td>67</td>\n",
       "      <td>3.030134</td>\n",
       "      <td>2022</td>\n",
       "      <td>7</td>\n",
       "      <td>0.0</td>\n",
       "      <td>25</td>\n",
       "      <td>0.000000</td>\n",
       "    </tr>\n",
       "    <tr>\n",
       "      <th>824117</th>\n",
       "      <td>4.443004</td>\n",
       "      <td>27</td>\n",
       "      <td>11.424105</td>\n",
       "      <td>2.833213</td>\n",
       "      <td>1997</td>\n",
       "      <td>3</td>\n",
       "      <td>67</td>\n",
       "      <td>3.356897</td>\n",
       "      <td>2022</td>\n",
       "      <td>7</td>\n",
       "      <td>0.0</td>\n",
       "      <td>25</td>\n",
       "      <td>0.000000</td>\n",
       "    </tr>\n",
       "    <tr>\n",
       "      <th>824118</th>\n",
       "      <td>4.450736</td>\n",
       "      <td>4</td>\n",
       "      <td>10.819798</td>\n",
       "      <td>1.945910</td>\n",
       "      <td>2003</td>\n",
       "      <td>3</td>\n",
       "      <td>67</td>\n",
       "      <td>3.367296</td>\n",
       "      <td>2021</td>\n",
       "      <td>11</td>\n",
       "      <td>0.0</td>\n",
       "      <td>18</td>\n",
       "      <td>0.000000</td>\n",
       "    </tr>\n",
       "    <tr>\n",
       "      <th>824119</th>\n",
       "      <td>4.450736</td>\n",
       "      <td>9</td>\n",
       "      <td>10.817796</td>\n",
       "      <td>2.484907</td>\n",
       "      <td>2003</td>\n",
       "      <td>3</td>\n",
       "      <td>67</td>\n",
       "      <td>3.367296</td>\n",
       "      <td>2022</td>\n",
       "      <td>4</td>\n",
       "      <td>0.0</td>\n",
       "      <td>19</td>\n",
       "      <td>0.000000</td>\n",
       "    </tr>\n",
       "    <tr>\n",
       "      <th>824120</th>\n",
       "      <td>4.349374</td>\n",
       "      <td>23</td>\n",
       "      <td>10.878066</td>\n",
       "      <td>2.397895</td>\n",
       "      <td>2007</td>\n",
       "      <td>3</td>\n",
       "      <td>67</td>\n",
       "      <td>3.265759</td>\n",
       "      <td>2022</td>\n",
       "      <td>4</td>\n",
       "      <td>0.0</td>\n",
       "      <td>15</td>\n",
       "      <td>0.000000</td>\n",
       "    </tr>\n",
       "  </tbody>\n",
       "</table>\n",
       "<p>824121 rows × 13 columns</p>\n",
       "</div>"
      ],
      "text/plain": [
       "         전용면적(㎡)  계약일   거래금액(만원)         층  건축년도   구    동         평   계약년  \\\n",
       "0       4.366278    1  11.097425  2.197225  1988  24  293  3.284664  2012   \n",
       "1       4.366278    9  10.968216  1.945910  1988  24  293  3.284664  2012   \n",
       "2       4.658047   13  11.350418  2.397895  1984  24  293  3.569533  2012   \n",
       "3       4.907495    8  11.691080  2.944439  2004  24  293  3.813307  2012   \n",
       "4       3.939249    9  11.258046  1.791759  1982  24  293  2.867899  2012   \n",
       "...          ...  ...        ...       ...   ...  ..  ...       ...   ...   \n",
       "824116  4.106932   20  11.211834  2.079442  1997   3   67  3.030134  2022   \n",
       "824117  4.443004   27  11.424105  2.833213  1997   3   67  3.356897  2022   \n",
       "824118  4.450736    4  10.819798  1.945910  2003   3   67  3.367296  2021   \n",
       "824119  4.450736    9  10.817796  2.484907  2003   3   67  3.367296  2022   \n",
       "824120  4.349374   23  10.878066  2.397895  2007   3   67  3.265759  2022   \n",
       "\n",
       "        계약월   한강  건물나이       재건축  \n",
       "0         5  0.0    24  0.000000  \n",
       "1         7  0.0    24  0.000000  \n",
       "2         4  0.0    28  0.000000  \n",
       "3         5  0.0     8  0.000000  \n",
       "4         1  0.0    30  0.693147  \n",
       "...     ...  ...   ...       ...  \n",
       "824116    7  0.0    25  0.000000  \n",
       "824117    7  0.0    25  0.000000  \n",
       "824118   11  0.0    18  0.000000  \n",
       "824119    4  0.0    19  0.000000  \n",
       "824120    4  0.0    15  0.000000  \n",
       "\n",
       "[824121 rows x 13 columns]"
      ]
     },
     "execution_count": 30,
     "metadata": {},
     "output_type": "execute_result"
    }
   ],
   "source": [
    "apt_price"
   ]
  },
  {
   "cell_type": "markdown",
   "id": "e822270c",
   "metadata": {},
   "source": [
    "## Test 예측값"
   ]
  },
  {
   "cell_type": "code",
   "execution_count": 13,
   "id": "0602f06e",
   "metadata": {
    "scrolled": true
   },
   "outputs": [
    {
     "data": {
      "text/html": [
       "<div>\n",
       "<style scoped>\n",
       "    .dataframe tbody tr th:only-of-type {\n",
       "        vertical-align: middle;\n",
       "    }\n",
       "\n",
       "    .dataframe tbody tr th {\n",
       "        vertical-align: top;\n",
       "    }\n",
       "\n",
       "    .dataframe thead th {\n",
       "        text-align: right;\n",
       "    }\n",
       "</style>\n",
       "<table border=\"1\" class=\"dataframe\">\n",
       "  <thead>\n",
       "    <tr style=\"text-align: right;\">\n",
       "      <th></th>\n",
       "      <th>0</th>\n",
       "    </tr>\n",
       "  </thead>\n",
       "  <tbody>\n",
       "    <tr>\n",
       "      <th>700619</th>\n",
       "      <td>99974.715330</td>\n",
       "    </tr>\n",
       "    <tr>\n",
       "      <th>218807</th>\n",
       "      <td>36589.813114</td>\n",
       "    </tr>\n",
       "    <tr>\n",
       "      <th>519467</th>\n",
       "      <td>62214.894427</td>\n",
       "    </tr>\n",
       "    <tr>\n",
       "      <th>616265</th>\n",
       "      <td>34921.117493</td>\n",
       "    </tr>\n",
       "    <tr>\n",
       "      <th>319603</th>\n",
       "      <td>28274.580039</td>\n",
       "    </tr>\n",
       "    <tr>\n",
       "      <th>...</th>\n",
       "      <td>...</td>\n",
       "    </tr>\n",
       "    <tr>\n",
       "      <th>350041</th>\n",
       "      <td>26670.634675</td>\n",
       "    </tr>\n",
       "    <tr>\n",
       "      <th>246132</th>\n",
       "      <td>21476.014832</td>\n",
       "    </tr>\n",
       "    <tr>\n",
       "      <th>632826</th>\n",
       "      <td>28676.307955</td>\n",
       "    </tr>\n",
       "    <tr>\n",
       "      <th>645042</th>\n",
       "      <td>12934.258078</td>\n",
       "    </tr>\n",
       "    <tr>\n",
       "      <th>108403</th>\n",
       "      <td>20676.864230</td>\n",
       "    </tr>\n",
       "  </tbody>\n",
       "</table>\n",
       "<p>247237 rows × 1 columns</p>\n",
       "</div>"
      ],
      "text/plain": [
       "                   0\n",
       "700619  99974.715330\n",
       "218807  36589.813114\n",
       "519467  62214.894427\n",
       "616265  34921.117493\n",
       "319603  28274.580039\n",
       "...              ...\n",
       "350041  26670.634675\n",
       "246132  21476.014832\n",
       "632826  28676.307955\n",
       "645042  12934.258078\n",
       "108403  20676.864230\n",
       "\n",
       "[247237 rows x 1 columns]"
      ]
     },
     "execution_count": 13,
     "metadata": {},
     "output_type": "execute_result"
    }
   ],
   "source": [
    "pd.DataFrame(np.expm1(predictions).reshape(-1,1),index=X_test.index)"
   ]
  },
  {
   "cell_type": "markdown",
   "id": "ceb604f5",
   "metadata": {},
   "source": [
    "## Test 실제값"
   ]
  },
  {
   "cell_type": "code",
   "execution_count": 18,
   "id": "eb77aad2",
   "metadata": {
    "scrolled": true
   },
   "outputs": [
    {
     "data": {
      "text/html": [
       "<div>\n",
       "<style scoped>\n",
       "    .dataframe tbody tr th:only-of-type {\n",
       "        vertical-align: middle;\n",
       "    }\n",
       "\n",
       "    .dataframe tbody tr th {\n",
       "        vertical-align: top;\n",
       "    }\n",
       "\n",
       "    .dataframe thead th {\n",
       "        text-align: right;\n",
       "    }\n",
       "</style>\n",
       "<table border=\"1\" class=\"dataframe\">\n",
       "  <thead>\n",
       "    <tr style=\"text-align: right;\">\n",
       "      <th></th>\n",
       "      <th>거래금액(만원)</th>\n",
       "    </tr>\n",
       "  </thead>\n",
       "  <tbody>\n",
       "    <tr>\n",
       "      <th>700619</th>\n",
       "      <td>82000.0</td>\n",
       "    </tr>\n",
       "    <tr>\n",
       "      <th>218807</th>\n",
       "      <td>34900.0</td>\n",
       "    </tr>\n",
       "    <tr>\n",
       "      <th>519467</th>\n",
       "      <td>66500.0</td>\n",
       "    </tr>\n",
       "    <tr>\n",
       "      <th>616265</th>\n",
       "      <td>34800.0</td>\n",
       "    </tr>\n",
       "    <tr>\n",
       "      <th>319603</th>\n",
       "      <td>29350.0</td>\n",
       "    </tr>\n",
       "    <tr>\n",
       "      <th>...</th>\n",
       "      <td>...</td>\n",
       "    </tr>\n",
       "    <tr>\n",
       "      <th>350041</th>\n",
       "      <td>30000.0</td>\n",
       "    </tr>\n",
       "    <tr>\n",
       "      <th>246132</th>\n",
       "      <td>22000.0</td>\n",
       "    </tr>\n",
       "    <tr>\n",
       "      <th>632826</th>\n",
       "      <td>31500.0</td>\n",
       "    </tr>\n",
       "    <tr>\n",
       "      <th>645042</th>\n",
       "      <td>12500.0</td>\n",
       "    </tr>\n",
       "    <tr>\n",
       "      <th>108403</th>\n",
       "      <td>18000.0</td>\n",
       "    </tr>\n",
       "  </tbody>\n",
       "</table>\n",
       "<p>247237 rows × 1 columns</p>\n",
       "</div>"
      ],
      "text/plain": [
       "        거래금액(만원)\n",
       "700619   82000.0\n",
       "218807   34900.0\n",
       "519467   66500.0\n",
       "616265   34800.0\n",
       "319603   29350.0\n",
       "...          ...\n",
       "350041   30000.0\n",
       "246132   22000.0\n",
       "632826   31500.0\n",
       "645042   12500.0\n",
       "108403   18000.0\n",
       "\n",
       "[247237 rows x 1 columns]"
      ]
     },
     "execution_count": 18,
     "metadata": {},
     "output_type": "execute_result"
    }
   ],
   "source": [
    "pd.DataFrame(np.expm1(pd.read_csv('아파트_전처리.csv',encoding='utf8').iloc[X_test.index,2]))"
   ]
  },
  {
   "cell_type": "code",
   "execution_count": 1,
   "id": "bf51995c",
   "metadata": {},
   "outputs": [
    {
     "name": "stderr",
     "output_type": "stream",
     "text": [
      "C:\\Anaconda3\\envs\\KB\\lib\\site-packages\\xgboost\\compat.py:36: FutureWarning: pandas.Int64Index is deprecated and will be removed from pandas in a future version. Use pandas.Index with the appropriate dtype instead.\n",
      "  from pandas import MultiIndex, Int64Index\n"
     ]
    }
   ],
   "source": [
    "from sklearn.ensemble import GradientBoostingRegressor, RandomForestRegressor\n",
    "import xgboost as xgb\n",
    "import lightgbm as lgb\n",
    "import joblib\n",
    "import numpy as np\n",
    "import pandas as pd\n",
    "import sklearn"
   ]
  },
  {
   "cell_type": "code",
   "execution_count": 4,
   "id": "fc51b6e3",
   "metadata": {},
   "outputs": [],
   "source": [
    "XGB1 = joblib.load('아파트csv/부동산 집값_예측/XGB1.pkl')\n",
    "LGBM1 = joblib.load('아파트csv/부동산 집값_예측/LGBM1.pkl')\n",
    "RandomForest = joblib.load('아파트csv/부동산 집값_예측/RandomForest1.pkl')"
   ]
  },
  {
   "cell_type": "code",
   "execution_count": 16,
   "id": "7fa4439e",
   "metadata": {},
   "outputs": [
    {
     "data": {
      "text/plain": [
       "array([50575.79868118, 31176.9463937 , 33637.52209896, ...,\n",
       "       38545.75602298, 70361.55135835, 63774.86704556])"
      ]
     },
     "execution_count": 16,
     "metadata": {},
     "output_type": "execute_result"
    }
   ],
   "source": [
    "np.expm1(XGB1.predict(X_test.values)*0.05 + LGBM1.predict(X_test.values)*0.1 + RandomForest.predict(X_test.values)*0.85)"
   ]
  },
  {
   "cell_type": "code",
   "execution_count": null,
   "id": "e750284f",
   "metadata": {},
   "outputs": [],
   "source": []
  }
 ],
 "metadata": {
  "kernelspec": {
   "display_name": "KB",
   "language": "python",
   "name": "kb"
  },
  "language_info": {
   "codemirror_mode": {
    "name": "ipython",
    "version": 3
   },
   "file_extension": ".py",
   "mimetype": "text/x-python",
   "name": "python",
   "nbconvert_exporter": "python",
   "pygments_lexer": "ipython3",
   "version": "3.9.12"
  }
 },
 "nbformat": 4,
 "nbformat_minor": 5
}
