{
 "cells": [
  {
   "cell_type": "code",
   "execution_count": 1,
   "id": "0d8c13c0",
   "metadata": {
    "scrolled": false
   },
   "outputs": [
    {
     "name": "stderr",
     "output_type": "stream",
     "text": [
      "C:\\Anaconda3\\envs\\KB\\lib\\site-packages\\xgboost\\compat.py:36: FutureWarning: pandas.Int64Index is deprecated and will be removed from pandas in a future version. Use pandas.Index with the appropriate dtype instead.\n",
      "  from pandas import MultiIndex, Int64Index\n"
     ]
    }
   ],
   "source": [
    "from sklearn.ensemble import GradientBoostingRegressor, RandomForestRegressor\n",
    "import xgboost as xgb\n",
    "import lightgbm as lgb\n",
    "import joblib\n",
    "import numpy as np\n",
    "import pandas as pd\n",
    "import sklearn"
   ]
  },
  {
   "cell_type": "code",
   "execution_count": 6,
   "id": "19154670",
   "metadata": {},
   "outputs": [
    {
     "data": {
      "text/plain": [
       "'1.5.0'"
      ]
     },
     "execution_count": 6,
     "metadata": {},
     "output_type": "execute_result"
    }
   ],
   "source": [
    "xgb.__version__"
   ]
  },
  {
   "cell_type": "code",
   "execution_count": 2,
   "id": "751de60b",
   "metadata": {},
   "outputs": [],
   "source": [
    "XGB1 = joblib.load('XGB1.pkl')\n",
    "LGBM1 = joblib.load('LGBM1.pkl')\n",
    "RandomForest = joblib.load('RandomForest1.pkl')"
   ]
  },
  {
   "cell_type": "code",
   "execution_count": 3,
   "id": "3f5daf37",
   "metadata": {},
   "outputs": [],
   "source": [
    "X_test = pd.read_csv('아파트_전처리.csv',encoding='utf8')"
   ]
  },
  {
   "cell_type": "code",
   "execution_count": 4,
   "id": "01d20335",
   "metadata": {},
   "outputs": [],
   "source": [
    "X_test.drop(columns='거래금액(만원)',inplace=True)"
   ]
  },
  {
   "cell_type": "code",
   "execution_count": 5,
   "id": "30779a7b",
   "metadata": {},
   "outputs": [
    {
     "data": {
      "text/plain": [
       "array([64738.58798112, 60544.27019913, 74881.42114644, ...,\n",
       "       56712.63830954, 61722.99795622, 53394.11544115])"
      ]
     },
     "execution_count": 5,
     "metadata": {},
     "output_type": "execute_result"
    }
   ],
   "source": [
    "np.expm1(XGB1.predict(X_test.values)*0.05 + LGBM1.predict(X_test.values)*0.1 + RandomForest.predict(X_test.values)*0.85)"
   ]
  },
  {
   "cell_type": "code",
   "execution_count": null,
   "id": "1e1f2a2e",
   "metadata": {},
   "outputs": [],
   "source": []
  }
 ],
 "metadata": {
  "kernelspec": {
   "display_name": "KB",
   "language": "python",
   "name": "kb"
  },
  "language_info": {
   "codemirror_mode": {
    "name": "ipython",
    "version": 3
   },
   "file_extension": ".py",
   "mimetype": "text/x-python",
   "name": "python",
   "nbconvert_exporter": "python",
   "pygments_lexer": "ipython3",
   "version": "3.9.12"
  }
 },
 "nbformat": 4,
 "nbformat_minor": 5
}
