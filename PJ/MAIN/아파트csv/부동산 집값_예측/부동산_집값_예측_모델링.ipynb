{
 "cells": [
  {
   "cell_type": "code",
   "execution_count": 1,
   "id": "c6b3a617",
   "metadata": {},
   "outputs": [],
   "source": [
    "import numpy as np\n",
    "import pandas as pd\n",
    "import matplotlib.pyplot as plt\n",
    "import seaborn as sns\n",
    "import timeit\n",
    "import sklearn\n",
    "import warnings\n",
    "warnings.filterwarnings('ignore')\n",
    "import sys\n",
    "plt.rc(\"font\", family=\"Malgun Gothic\")"
   ]
  },
  {
   "cell_type": "code",
   "execution_count": 2,
   "id": "6febcfc8",
   "metadata": {},
   "outputs": [],
   "source": [
    "from sklearn.linear_model import ElasticNet, Lasso\n",
    "from sklearn.ensemble import GradientBoostingRegressor, RandomForestRegressor\n",
    "from sklearn.kernel_ridge import KernelRidge\n",
    "from sklearn.pipeline import make_pipeline\n",
    "from sklearn.preprocessing import RobustScaler\n",
    "from sklearn.model_selection import KFold, cross_val_score, train_test_split\n",
    "from sklearn.metrics import mean_squared_error\n",
    "import xgboost as xgb\n",
    "import lightgbm as lgb"
   ]
  },
  {
   "cell_type": "code",
   "execution_count": 3,
   "id": "ace8ed68",
   "metadata": {},
   "outputs": [],
   "source": [
    "apt_price = pd.read_csv('아파트_전처리.csv',encoding='utf8')"
   ]
  },
  {
   "cell_type": "code",
   "execution_count": 7,
   "id": "1e697e09",
   "metadata": {},
   "outputs": [],
   "source": [
    "a = apt_price[apt_price['계약년']!=2022]\n",
    "b = apt_price[apt_price['계약년']==2022]"
   ]
  },
  {
   "cell_type": "code",
   "execution_count": 20,
   "id": "d2c7965a",
   "metadata": {},
   "outputs": [
    {
     "data": {
      "text/html": [
       "<div>\n",
       "<style scoped>\n",
       "    .dataframe tbody tr th:only-of-type {\n",
       "        vertical-align: middle;\n",
       "    }\n",
       "\n",
       "    .dataframe tbody tr th {\n",
       "        vertical-align: top;\n",
       "    }\n",
       "\n",
       "    .dataframe thead th {\n",
       "        text-align: right;\n",
       "    }\n",
       "</style>\n",
       "<table border=\"1\" class=\"dataframe\">\n",
       "  <thead>\n",
       "    <tr style=\"text-align: right;\">\n",
       "      <th></th>\n",
       "      <th>전용면적(㎡)</th>\n",
       "      <th>계약일</th>\n",
       "      <th>층</th>\n",
       "      <th>건축년도</th>\n",
       "      <th>구</th>\n",
       "      <th>동</th>\n",
       "      <th>평</th>\n",
       "      <th>계약년</th>\n",
       "      <th>계약월</th>\n",
       "      <th>한강</th>\n",
       "      <th>건물나이</th>\n",
       "      <th>재건축</th>\n",
       "    </tr>\n",
       "  </thead>\n",
       "  <tbody>\n",
       "    <tr>\n",
       "      <th>807176</th>\n",
       "      <td>4.394079</td>\n",
       "      <td>12</td>\n",
       "      <td>2.197225</td>\n",
       "      <td>1987</td>\n",
       "      <td>24</td>\n",
       "      <td>293</td>\n",
       "      <td>3.310543</td>\n",
       "      <td>2022</td>\n",
       "      <td>4</td>\n",
       "      <td>0.0</td>\n",
       "      <td>35</td>\n",
       "      <td>0.693147</td>\n",
       "    </tr>\n",
       "    <tr>\n",
       "      <th>807177</th>\n",
       "      <td>4.394079</td>\n",
       "      <td>21</td>\n",
       "      <td>1.945910</td>\n",
       "      <td>1987</td>\n",
       "      <td>24</td>\n",
       "      <td>293</td>\n",
       "      <td>3.310543</td>\n",
       "      <td>2022</td>\n",
       "      <td>4</td>\n",
       "      <td>0.0</td>\n",
       "      <td>35</td>\n",
       "      <td>0.693147</td>\n",
       "    </tr>\n",
       "    <tr>\n",
       "      <th>807178</th>\n",
       "      <td>4.394079</td>\n",
       "      <td>27</td>\n",
       "      <td>1.945910</td>\n",
       "      <td>1987</td>\n",
       "      <td>24</td>\n",
       "      <td>293</td>\n",
       "      <td>3.310543</td>\n",
       "      <td>2022</td>\n",
       "      <td>5</td>\n",
       "      <td>0.0</td>\n",
       "      <td>35</td>\n",
       "      <td>0.693147</td>\n",
       "    </tr>\n",
       "    <tr>\n",
       "      <th>807188</th>\n",
       "      <td>4.637831</td>\n",
       "      <td>1</td>\n",
       "      <td>2.890372</td>\n",
       "      <td>2020</td>\n",
       "      <td>24</td>\n",
       "      <td>293</td>\n",
       "      <td>3.549617</td>\n",
       "      <td>2022</td>\n",
       "      <td>4</td>\n",
       "      <td>0.0</td>\n",
       "      <td>2</td>\n",
       "      <td>0.000000</td>\n",
       "    </tr>\n",
       "    <tr>\n",
       "      <th>807189</th>\n",
       "      <td>4.920419</td>\n",
       "      <td>2</td>\n",
       "      <td>3.091042</td>\n",
       "      <td>2020</td>\n",
       "      <td>24</td>\n",
       "      <td>293</td>\n",
       "      <td>3.826465</td>\n",
       "      <td>2022</td>\n",
       "      <td>5</td>\n",
       "      <td>0.0</td>\n",
       "      <td>2</td>\n",
       "      <td>0.000000</td>\n",
       "    </tr>\n",
       "    <tr>\n",
       "      <th>...</th>\n",
       "      <td>...</td>\n",
       "      <td>...</td>\n",
       "      <td>...</td>\n",
       "      <td>...</td>\n",
       "      <td>...</td>\n",
       "      <td>...</td>\n",
       "      <td>...</td>\n",
       "      <td>...</td>\n",
       "      <td>...</td>\n",
       "      <td>...</td>\n",
       "      <td>...</td>\n",
       "      <td>...</td>\n",
       "    </tr>\n",
       "    <tr>\n",
       "      <th>824115</th>\n",
       "      <td>4.106932</td>\n",
       "      <td>27</td>\n",
       "      <td>3.218876</td>\n",
       "      <td>1997</td>\n",
       "      <td>3</td>\n",
       "      <td>67</td>\n",
       "      <td>3.030134</td>\n",
       "      <td>2022</td>\n",
       "      <td>3</td>\n",
       "      <td>0.0</td>\n",
       "      <td>25</td>\n",
       "      <td>0.000000</td>\n",
       "    </tr>\n",
       "    <tr>\n",
       "      <th>824116</th>\n",
       "      <td>4.106932</td>\n",
       "      <td>20</td>\n",
       "      <td>2.079442</td>\n",
       "      <td>1997</td>\n",
       "      <td>3</td>\n",
       "      <td>67</td>\n",
       "      <td>3.030134</td>\n",
       "      <td>2022</td>\n",
       "      <td>7</td>\n",
       "      <td>0.0</td>\n",
       "      <td>25</td>\n",
       "      <td>0.000000</td>\n",
       "    </tr>\n",
       "    <tr>\n",
       "      <th>824117</th>\n",
       "      <td>4.443004</td>\n",
       "      <td>27</td>\n",
       "      <td>2.833213</td>\n",
       "      <td>1997</td>\n",
       "      <td>3</td>\n",
       "      <td>67</td>\n",
       "      <td>3.356897</td>\n",
       "      <td>2022</td>\n",
       "      <td>7</td>\n",
       "      <td>0.0</td>\n",
       "      <td>25</td>\n",
       "      <td>0.000000</td>\n",
       "    </tr>\n",
       "    <tr>\n",
       "      <th>824119</th>\n",
       "      <td>4.450736</td>\n",
       "      <td>9</td>\n",
       "      <td>2.484907</td>\n",
       "      <td>2003</td>\n",
       "      <td>3</td>\n",
       "      <td>67</td>\n",
       "      <td>3.367296</td>\n",
       "      <td>2022</td>\n",
       "      <td>4</td>\n",
       "      <td>0.0</td>\n",
       "      <td>19</td>\n",
       "      <td>0.000000</td>\n",
       "    </tr>\n",
       "    <tr>\n",
       "      <th>824120</th>\n",
       "      <td>4.349374</td>\n",
       "      <td>23</td>\n",
       "      <td>2.397895</td>\n",
       "      <td>2007</td>\n",
       "      <td>3</td>\n",
       "      <td>67</td>\n",
       "      <td>3.265759</td>\n",
       "      <td>2022</td>\n",
       "      <td>4</td>\n",
       "      <td>0.0</td>\n",
       "      <td>15</td>\n",
       "      <td>0.000000</td>\n",
       "    </tr>\n",
       "  </tbody>\n",
       "</table>\n",
       "<p>9237 rows × 12 columns</p>\n",
       "</div>"
      ],
      "text/plain": [
       "         전용면적(㎡)  계약일         층  건축년도   구    동         평   계약년  계약월   한강  \\\n",
       "807176  4.394079   12  2.197225  1987  24  293  3.310543  2022    4  0.0   \n",
       "807177  4.394079   21  1.945910  1987  24  293  3.310543  2022    4  0.0   \n",
       "807178  4.394079   27  1.945910  1987  24  293  3.310543  2022    5  0.0   \n",
       "807188  4.637831    1  2.890372  2020  24  293  3.549617  2022    4  0.0   \n",
       "807189  4.920419    2  3.091042  2020  24  293  3.826465  2022    5  0.0   \n",
       "...          ...  ...       ...   ...  ..  ...       ...   ...  ...  ...   \n",
       "824115  4.106932   27  3.218876  1997   3   67  3.030134  2022    3  0.0   \n",
       "824116  4.106932   20  2.079442  1997   3   67  3.030134  2022    7  0.0   \n",
       "824117  4.443004   27  2.833213  1997   3   67  3.356897  2022    7  0.0   \n",
       "824119  4.450736    9  2.484907  2003   3   67  3.367296  2022    4  0.0   \n",
       "824120  4.349374   23  2.397895  2007   3   67  3.265759  2022    4  0.0   \n",
       "\n",
       "        건물나이       재건축  \n",
       "807176    35  0.693147  \n",
       "807177    35  0.693147  \n",
       "807178    35  0.693147  \n",
       "807188     2  0.000000  \n",
       "807189     2  0.000000  \n",
       "...      ...       ...  \n",
       "824115    25  0.000000  \n",
       "824116    25  0.000000  \n",
       "824117    25  0.000000  \n",
       "824119    19  0.000000  \n",
       "824120    15  0.000000  \n",
       "\n",
       "[9237 rows x 12 columns]"
      ]
     },
     "execution_count": 20,
     "metadata": {},
     "output_type": "execute_result"
    }
   ],
   "source": [
    "b1 =  b.drop(columns='거래금액(만원)')\n",
    "b1"
   ]
  },
  {
   "cell_type": "code",
   "execution_count": 8,
   "id": "561709c9",
   "metadata": {},
   "outputs": [],
   "source": [
    "X = a.drop(columns='거래금액(만원)')\n",
    "y = a['거래금액(만원)']"
   ]
  },
  {
   "cell_type": "code",
   "execution_count": 4,
   "id": "e29c9fe7",
   "metadata": {},
   "outputs": [],
   "source": [
    "X = apt_price.drop(columns='거래금액(만원)')\n",
    "y = apt_price['거래금액(만원)']"
   ]
  },
  {
   "cell_type": "code",
   "execution_count": 5,
   "id": "f975a82b",
   "metadata": {},
   "outputs": [],
   "source": [
    "X_train,X_test,y_train,y_test = train_test_split(X, y, test_size=0.3)"
   ]
  },
  {
   "cell_type": "code",
   "execution_count": 9,
   "id": "27a0c21f",
   "metadata": {},
   "outputs": [],
   "source": [
    "forest = RandomForestRegressor(n_estimators = 30, n_jobs = -1)\n",
    "xgboost = xgb.XGBRegressor()\n",
    "lightgbm = lgb.LGBMRegressor(num_leaves = 100, min_data_in_leaf = 15, max_depth=6,\n",
    "                            learning_rate = 0.1, min_child_samples = 30, feature_fraction=0.9, bagging_freq= 1,\n",
    "                            bagging_fraction = 0.9, bagging_seed = 11, lambda_l1 = 0.1, verbosity = -1 )"
   ]
  },
  {
   "cell_type": "code",
   "execution_count": 10,
   "id": "1eb49ecb",
   "metadata": {},
   "outputs": [],
   "source": [
    "models = [{'model':xgboost, 'name':'XGBoost'},\n",
    "          {'model':lightgbm, 'name':'LightGBM'},\n",
    "         {'model':forest, 'name' : 'RandomForest'}]\n",
    "\n",
    "def AveragingBlending(models, x, y, sub_x):\n",
    "    for m in models : \n",
    "        m['model'].fit(x.values, y)\n",
    "    \n",
    "    predictions = np.column_stack([m['model'].predict(sub_x.values) for m in models])\n",
    "    return predictions"
   ]
  },
  {
   "cell_type": "code",
   "execution_count": 11,
   "id": "a274373b",
   "metadata": {},
   "outputs": [],
   "source": [
    "forest.fit(X_train.values, y_train)\n",
    "predictions = forest.predict(X_test.values)"
   ]
  },
  {
   "cell_type": "code",
   "execution_count": 12,
   "id": "543a07c8",
   "metadata": {},
   "outputs": [
    {
     "data": {
      "text/plain": [
       "array([10.67494971, 11.45793139, 11.44880643, ..., 11.50008791,\n",
       "       10.61643566, 11.42130991])"
      ]
     },
     "execution_count": 12,
     "metadata": {},
     "output_type": "execute_result"
    }
   ],
   "source": [
    "predictions"
   ]
  },
  {
   "cell_type": "code",
   "execution_count": 13,
   "id": "b2bcbdaf",
   "metadata": {},
   "outputs": [
    {
     "name": "stdout",
     "output_type": "stream",
     "text": [
      "[LightGBM] [Warning] feature_fraction is set=0.9, colsample_bytree=1.0 will be ignored. Current value: feature_fraction=0.9\n",
      "[LightGBM] [Warning] min_data_in_leaf is set=15, min_child_samples=30 will be ignored. Current value: min_data_in_leaf=15\n",
      "[LightGBM] [Warning] lambda_l1 is set=0.1, reg_alpha=0.0 will be ignored. Current value: lambda_l1=0.1\n",
      "[LightGBM] [Warning] bagging_fraction is set=0.9, subsample=1.0 will be ignored. Current value: bagging_fraction=0.9\n",
      "[LightGBM] [Warning] bagging_freq is set=1, subsample_freq=0 will be ignored. Current value: bagging_freq=1\n"
     ]
    }
   ],
   "source": [
    "y_test_pred = AveragingBlending(models, X_train, y_train, X_test)"
   ]
  },
  {
   "cell_type": "code",
   "execution_count": 14,
   "id": "536a0303",
   "metadata": {
    "scrolled": true
   },
   "outputs": [
    {
     "data": {
      "text/plain": [
       "array([10.6971001 , 11.45483503, 11.42717919, ..., 11.49230557,\n",
       "       10.62409102, 11.44826764])"
      ]
     },
     "execution_count": 14,
     "metadata": {},
     "output_type": "execute_result"
    }
   ],
   "source": [
    "predictions = (y_test_pred[:, 0]*0.05 + y_test_pred[:, 1]*0.1 + y_test_pred[:, 2]*0.85)\n",
    "predictions"
   ]
  },
  {
   "cell_type": "code",
   "execution_count": 15,
   "id": "37b1b2a2",
   "metadata": {},
   "outputs": [],
   "source": [
    "c1 = models[0]['model'].predict(X_test.values)\n",
    "c2 = models[1]['model'].predict(X_test.values)\n",
    "c3 = models[2]['model'].predict(X_test.values)"
   ]
  },
  {
   "cell_type": "code",
   "execution_count": 30,
   "id": "0c4d0b50",
   "metadata": {},
   "outputs": [
    {
     "name": "stdout",
     "output_type": "stream",
     "text": [
      "0.9539238233375416\n",
      "0.9354042972251623\n",
      "0.9757063744754952\n"
     ]
    }
   ],
   "source": [
    "print(models[0]['model'].score(X_test,y_test))\n",
    "print(models[1]['model'].score(X_test,y_test))\n",
    "print(models[2]['model'].score(X_test,y_test))"
   ]
  },
  {
   "cell_type": "code",
   "execution_count": 16,
   "id": "8bbbfbd2",
   "metadata": {},
   "outputs": [
    {
     "name": "stdout",
     "output_type": "stream",
     "text": [
      "0.9550230191590715\n",
      "0.9358591806010113\n",
      "0.9753346614802751\n"
     ]
    }
   ],
   "source": [
    "print(models[0]['model'].score(X_test,y_test))\n",
    "print(models[1]['model'].score(X_test,y_test))\n",
    "print(models[2]['model'].score(X_test,y_test))"
   ]
  },
  {
   "cell_type": "code",
   "execution_count": 18,
   "id": "af62e8e3",
   "metadata": {},
   "outputs": [
    {
     "data": {
      "text/plain": [
       "array([44226.41431412, 94355.46164601, 91781.707916  , ...,\n",
       "       97958.12601577, 41112.46867309, 93737.81882719])"
      ]
     },
     "execution_count": 18,
     "metadata": {},
     "output_type": "execute_result"
    }
   ],
   "source": [
    "p1 = (c1*0.05 + c2*0.1 + c3*0.85)\n",
    "np.expm1(p1)"
   ]
  },
  {
   "cell_type": "markdown",
   "id": "adaf8c1c",
   "metadata": {},
   "source": [
    "## Test 예측값"
   ]
  },
  {
   "cell_type": "code",
   "execution_count": 20,
   "id": "ce055199",
   "metadata": {
    "scrolled": true
   },
   "outputs": [],
   "source": [
    "d2 = pd.DataFrame(np.expm1(p1).reshape(-1,1),index=X_test.index,columns=['거래금액(만원)'])"
   ]
  },
  {
   "cell_type": "code",
   "execution_count": 21,
   "id": "eead6152",
   "metadata": {
    "scrolled": true
   },
   "outputs": [
    {
     "data": {
      "text/html": [
       "<div>\n",
       "<style scoped>\n",
       "    .dataframe tbody tr th:only-of-type {\n",
       "        vertical-align: middle;\n",
       "    }\n",
       "\n",
       "    .dataframe tbody tr th {\n",
       "        vertical-align: top;\n",
       "    }\n",
       "\n",
       "    .dataframe thead th {\n",
       "        text-align: right;\n",
       "    }\n",
       "</style>\n",
       "<table border=\"1\" class=\"dataframe\">\n",
       "  <thead>\n",
       "    <tr style=\"text-align: right;\">\n",
       "      <th></th>\n",
       "      <th>전용면적(㎡)</th>\n",
       "      <th>계약일</th>\n",
       "      <th>층</th>\n",
       "      <th>건축년도</th>\n",
       "      <th>구</th>\n",
       "      <th>동</th>\n",
       "      <th>평</th>\n",
       "      <th>계약년</th>\n",
       "      <th>계약월</th>\n",
       "      <th>한강</th>\n",
       "      <th>건물나이</th>\n",
       "      <th>재건축</th>\n",
       "      <th>거래금액(만원)</th>\n",
       "    </tr>\n",
       "  </thead>\n",
       "  <tbody>\n",
       "    <tr>\n",
       "      <th>672940</th>\n",
       "      <td>4.109233</td>\n",
       "      <td>24</td>\n",
       "      <td>1.945910</td>\n",
       "      <td>2000</td>\n",
       "      <td>5</td>\n",
       "      <td>82</td>\n",
       "      <td>3.034953</td>\n",
       "      <td>2020</td>\n",
       "      <td>2</td>\n",
       "      <td>0.000000</td>\n",
       "      <td>20</td>\n",
       "      <td>0.000000</td>\n",
       "      <td>44226.414314</td>\n",
       "    </tr>\n",
       "    <tr>\n",
       "      <th>366309</th>\n",
       "      <td>4.424248</td>\n",
       "      <td>16</td>\n",
       "      <td>2.639057</td>\n",
       "      <td>1979</td>\n",
       "      <td>21</td>\n",
       "      <td>306</td>\n",
       "      <td>3.339322</td>\n",
       "      <td>2016</td>\n",
       "      <td>7</td>\n",
       "      <td>0.000000</td>\n",
       "      <td>37</td>\n",
       "      <td>0.693147</td>\n",
       "      <td>94355.461646</td>\n",
       "    </tr>\n",
       "    <tr>\n",
       "      <th>676197</th>\n",
       "      <td>4.452252</td>\n",
       "      <td>19</td>\n",
       "      <td>2.639057</td>\n",
       "      <td>1996</td>\n",
       "      <td>5</td>\n",
       "      <td>202</td>\n",
       "      <td>3.367296</td>\n",
       "      <td>2020</td>\n",
       "      <td>6</td>\n",
       "      <td>0.000000</td>\n",
       "      <td>24</td>\n",
       "      <td>0.000000</td>\n",
       "      <td>91781.707916</td>\n",
       "    </tr>\n",
       "    <tr>\n",
       "      <th>115948</th>\n",
       "      <td>4.453998</td>\n",
       "      <td>4</td>\n",
       "      <td>1.945910</td>\n",
       "      <td>1988</td>\n",
       "      <td>2</td>\n",
       "      <td>83</td>\n",
       "      <td>3.367296</td>\n",
       "      <td>2014</td>\n",
       "      <td>2</td>\n",
       "      <td>0.000000</td>\n",
       "      <td>26</td>\n",
       "      <td>0.000000</td>\n",
       "      <td>36665.110700</td>\n",
       "    </tr>\n",
       "    <tr>\n",
       "      <th>388542</th>\n",
       "      <td>4.453998</td>\n",
       "      <td>6</td>\n",
       "      <td>2.708050</td>\n",
       "      <td>2008</td>\n",
       "      <td>17</td>\n",
       "      <td>184</td>\n",
       "      <td>3.367296</td>\n",
       "      <td>2016</td>\n",
       "      <td>8</td>\n",
       "      <td>0.000000</td>\n",
       "      <td>8</td>\n",
       "      <td>0.000000</td>\n",
       "      <td>55070.125929</td>\n",
       "    </tr>\n",
       "    <tr>\n",
       "      <th>...</th>\n",
       "      <td>...</td>\n",
       "      <td>...</td>\n",
       "      <td>...</td>\n",
       "      <td>...</td>\n",
       "      <td>...</td>\n",
       "      <td>...</td>\n",
       "      <td>...</td>\n",
       "      <td>...</td>\n",
       "      <td>...</td>\n",
       "      <td>...</td>\n",
       "      <td>...</td>\n",
       "      <td>...</td>\n",
       "      <td>...</td>\n",
       "    </tr>\n",
       "    <tr>\n",
       "      <th>795942</th>\n",
       "      <td>4.243440</td>\n",
       "      <td>16</td>\n",
       "      <td>2.079442</td>\n",
       "      <td>2004</td>\n",
       "      <td>15</td>\n",
       "      <td>272</td>\n",
       "      <td>3.165475</td>\n",
       "      <td>2021</td>\n",
       "      <td>7</td>\n",
       "      <td>0.693147</td>\n",
       "      <td>17</td>\n",
       "      <td>0.000000</td>\n",
       "      <td>50905.358032</td>\n",
       "    </tr>\n",
       "    <tr>\n",
       "      <th>124904</th>\n",
       "      <td>4.453870</td>\n",
       "      <td>25</td>\n",
       "      <td>1.945910</td>\n",
       "      <td>2004</td>\n",
       "      <td>16</td>\n",
       "      <td>230</td>\n",
       "      <td>3.367296</td>\n",
       "      <td>2014</td>\n",
       "      <td>7</td>\n",
       "      <td>0.000000</td>\n",
       "      <td>10</td>\n",
       "      <td>0.000000</td>\n",
       "      <td>49010.565002</td>\n",
       "    </tr>\n",
       "    <tr>\n",
       "      <th>586228</th>\n",
       "      <td>4.850075</td>\n",
       "      <td>31</td>\n",
       "      <td>2.564949</td>\n",
       "      <td>2005</td>\n",
       "      <td>13</td>\n",
       "      <td>312</td>\n",
       "      <td>3.756538</td>\n",
       "      <td>2017</td>\n",
       "      <td>10</td>\n",
       "      <td>0.000000</td>\n",
       "      <td>12</td>\n",
       "      <td>0.000000</td>\n",
       "      <td>97958.126016</td>\n",
       "    </tr>\n",
       "    <tr>\n",
       "      <th>227762</th>\n",
       "      <td>4.371850</td>\n",
       "      <td>22</td>\n",
       "      <td>1.945910</td>\n",
       "      <td>2003</td>\n",
       "      <td>16</td>\n",
       "      <td>195</td>\n",
       "      <td>3.288402</td>\n",
       "      <td>2015</td>\n",
       "      <td>6</td>\n",
       "      <td>0.000000</td>\n",
       "      <td>12</td>\n",
       "      <td>0.000000</td>\n",
       "      <td>41112.468673</td>\n",
       "    </tr>\n",
       "    <tr>\n",
       "      <th>37689</th>\n",
       "      <td>4.890048</td>\n",
       "      <td>7</td>\n",
       "      <td>1.791759</td>\n",
       "      <td>2012</td>\n",
       "      <td>19</td>\n",
       "      <td>271</td>\n",
       "      <td>3.797734</td>\n",
       "      <td>2013</td>\n",
       "      <td>3</td>\n",
       "      <td>0.000000</td>\n",
       "      <td>1</td>\n",
       "      <td>0.000000</td>\n",
       "      <td>93737.818827</td>\n",
       "    </tr>\n",
       "  </tbody>\n",
       "</table>\n",
       "<p>247237 rows × 13 columns</p>\n",
       "</div>"
      ],
      "text/plain": [
       "         전용면적(㎡)  계약일         층  건축년도   구    동         평   계약년  계약월        한강  \\\n",
       "672940  4.109233   24  1.945910  2000   5   82  3.034953  2020    2  0.000000   \n",
       "366309  4.424248   16  2.639057  1979  21  306  3.339322  2016    7  0.000000   \n",
       "676197  4.452252   19  2.639057  1996   5  202  3.367296  2020    6  0.000000   \n",
       "115948  4.453998    4  1.945910  1988   2   83  3.367296  2014    2  0.000000   \n",
       "388542  4.453998    6  2.708050  2008  17  184  3.367296  2016    8  0.000000   \n",
       "...          ...  ...       ...   ...  ..  ...       ...   ...  ...       ...   \n",
       "795942  4.243440   16  2.079442  2004  15  272  3.165475  2021    7  0.693147   \n",
       "124904  4.453870   25  1.945910  2004  16  230  3.367296  2014    7  0.000000   \n",
       "586228  4.850075   31  2.564949  2005  13  312  3.756538  2017   10  0.000000   \n",
       "227762  4.371850   22  1.945910  2003  16  195  3.288402  2015    6  0.000000   \n",
       "37689   4.890048    7  1.791759  2012  19  271  3.797734  2013    3  0.000000   \n",
       "\n",
       "        건물나이       재건축      거래금액(만원)  \n",
       "672940    20  0.000000  44226.414314  \n",
       "366309    37  0.693147  94355.461646  \n",
       "676197    24  0.000000  91781.707916  \n",
       "115948    26  0.000000  36665.110700  \n",
       "388542     8  0.000000  55070.125929  \n",
       "...      ...       ...           ...  \n",
       "795942    17  0.000000  50905.358032  \n",
       "124904    10  0.000000  49010.565002  \n",
       "586228    12  0.000000  97958.126016  \n",
       "227762    12  0.000000  41112.468673  \n",
       "37689      1  0.000000  93737.818827  \n",
       "\n",
       "[247237 rows x 13 columns]"
      ]
     },
     "execution_count": 21,
     "metadata": {},
     "output_type": "execute_result"
    }
   ],
   "source": [
    "pd.concat([X_test,d2],axis=1)"
   ]
  },
  {
   "cell_type": "code",
   "execution_count": 25,
   "id": "eba6dfcb",
   "metadata": {},
   "outputs": [
    {
     "data": {
      "text/plain": [
       "672940     59.900\n",
       "366309     82.450\n",
       "676197     84.820\n",
       "115948     84.970\n",
       "388542     84.970\n",
       "           ...   \n",
       "795942     68.647\n",
       "124904     84.959\n",
       "586228    126.750\n",
       "227762     78.190\n",
       "37689     131.960\n",
       "Name: 전용면적(㎡), Length: 247237, dtype: float64"
      ]
     },
     "execution_count": 25,
     "metadata": {},
     "output_type": "execute_result"
    }
   ],
   "source": [
    "np.expm1(X_test['전용면적(㎡)'])"
   ]
  },
  {
   "cell_type": "markdown",
   "id": "725982a7",
   "metadata": {},
   "source": [
    "## Test 실제값"
   ]
  },
  {
   "cell_type": "code",
   "execution_count": 23,
   "id": "bb0e1a82",
   "metadata": {},
   "outputs": [
    {
     "data": {
      "text/plain": [
       "672940    44800.0\n",
       "366309    94700.0\n",
       "676197    92000.0\n",
       "115948    39900.0\n",
       "388542    51000.0\n",
       "           ...   \n",
       "795942    68000.0\n",
       "124904    46800.0\n",
       "586228    90000.0\n",
       "227762    40500.0\n",
       "37689     81896.0\n",
       "Name: 거래금액(만원), Length: 247237, dtype: float64"
      ]
     },
     "execution_count": 23,
     "metadata": {},
     "output_type": "execute_result"
    }
   ],
   "source": [
    "np.expm1(y_test)"
   ]
  },
  {
   "cell_type": "code",
   "execution_count": 48,
   "id": "4e3650e2",
   "metadata": {
    "scrolled": true
   },
   "outputs": [
    {
     "data": {
      "text/plain": [
       "Index(['시군구', '번지', '본번', '부번', '단지명', '전용면적(㎡)', '계약년월', '계약일', '거래금액(만원)',\n",
       "       '층', '건축년도', '도로명', '거래유형', '중개사소재지', '구', '동', '평', '거래금액_억원', '계약년',\n",
       "       '계약월', '평형'],\n",
       "      dtype='object')"
      ]
     },
     "execution_count": 48,
     "metadata": {},
     "output_type": "execute_result"
    }
   ],
   "source": [
    "원본=pd.read_csv('../아파트 실거래 병합/apt_price.csv',encoding='utf8')\n",
    "원본.columns"
   ]
  },
  {
   "cell_type": "code",
   "execution_count": 49,
   "id": "d6a5ecfc",
   "metadata": {
    "scrolled": false
   },
   "outputs": [
    {
     "data": {
      "text/html": [
       "<div>\n",
       "<style scoped>\n",
       "    .dataframe tbody tr th:only-of-type {\n",
       "        vertical-align: middle;\n",
       "    }\n",
       "\n",
       "    .dataframe tbody tr th {\n",
       "        vertical-align: top;\n",
       "    }\n",
       "\n",
       "    .dataframe thead th {\n",
       "        text-align: right;\n",
       "    }\n",
       "</style>\n",
       "<table border=\"1\" class=\"dataframe\">\n",
       "  <thead>\n",
       "    <tr style=\"text-align: right;\">\n",
       "      <th></th>\n",
       "      <th>번지</th>\n",
       "      <th>단지명</th>\n",
       "      <th>전용면적(㎡)</th>\n",
       "      <th>계약년월</th>\n",
       "      <th>계약일</th>\n",
       "      <th>거래금액(만원)</th>\n",
       "      <th>층</th>\n",
       "      <th>건축년도</th>\n",
       "      <th>도로명</th>\n",
       "      <th>구</th>\n",
       "      <th>동</th>\n",
       "      <th>평</th>\n",
       "      <th>계약년</th>\n",
       "      <th>계약월</th>\n",
       "      <th>평형</th>\n",
       "    </tr>\n",
       "  </thead>\n",
       "  <tbody>\n",
       "    <tr>\n",
       "      <th>807176</th>\n",
       "      <td>658-1</td>\n",
       "      <td>개포6차우성아파트1동~8동</td>\n",
       "      <td>79.97</td>\n",
       "      <td>202204</td>\n",
       "      <td>12</td>\n",
       "      <td>200000</td>\n",
       "      <td>4</td>\n",
       "      <td>1987</td>\n",
       "      <td>언주로 3</td>\n",
       "      <td>강남구</td>\n",
       "      <td>개포동</td>\n",
       "      <td>26.4</td>\n",
       "      <td>2022</td>\n",
       "      <td>4</td>\n",
       "      <td>20평대</td>\n",
       "    </tr>\n",
       "    <tr>\n",
       "      <th>807177</th>\n",
       "      <td>658-1</td>\n",
       "      <td>개포6차우성아파트1동~8동</td>\n",
       "      <td>79.97</td>\n",
       "      <td>202204</td>\n",
       "      <td>21</td>\n",
       "      <td>201000</td>\n",
       "      <td>2</td>\n",
       "      <td>1987</td>\n",
       "      <td>언주로 3</td>\n",
       "      <td>강남구</td>\n",
       "      <td>개포동</td>\n",
       "      <td>26.4</td>\n",
       "      <td>2022</td>\n",
       "      <td>4</td>\n",
       "      <td>20평대</td>\n",
       "    </tr>\n",
       "    <tr>\n",
       "      <th>807178</th>\n",
       "      <td>658-1</td>\n",
       "      <td>개포6차우성아파트1동~8동</td>\n",
       "      <td>79.97</td>\n",
       "      <td>202205</td>\n",
       "      <td>27</td>\n",
       "      <td>210000</td>\n",
       "      <td>2</td>\n",
       "      <td>1987</td>\n",
       "      <td>언주로 3</td>\n",
       "      <td>강남구</td>\n",
       "      <td>개포동</td>\n",
       "      <td>26.4</td>\n",
       "      <td>2022</td>\n",
       "      <td>5</td>\n",
       "      <td>20평대</td>\n",
       "    </tr>\n",
       "    <tr>\n",
       "      <th>807188</th>\n",
       "      <td>1282</td>\n",
       "      <td>개포래미안포레스트</td>\n",
       "      <td>102.32</td>\n",
       "      <td>202204</td>\n",
       "      <td>1</td>\n",
       "      <td>317000</td>\n",
       "      <td>13</td>\n",
       "      <td>2020</td>\n",
       "      <td>개포로 264</td>\n",
       "      <td>강남구</td>\n",
       "      <td>개포동</td>\n",
       "      <td>33.8</td>\n",
       "      <td>2022</td>\n",
       "      <td>4</td>\n",
       "      <td>30평대</td>\n",
       "    </tr>\n",
       "    <tr>\n",
       "      <th>807189</th>\n",
       "      <td>1282</td>\n",
       "      <td>개포래미안포레스트</td>\n",
       "      <td>136.06</td>\n",
       "      <td>202205</td>\n",
       "      <td>2</td>\n",
       "      <td>381000</td>\n",
       "      <td>17</td>\n",
       "      <td>2020</td>\n",
       "      <td>개포로 264</td>\n",
       "      <td>강남구</td>\n",
       "      <td>개포동</td>\n",
       "      <td>44.9</td>\n",
       "      <td>2022</td>\n",
       "      <td>5</td>\n",
       "      <td>40평대</td>\n",
       "    </tr>\n",
       "    <tr>\n",
       "      <th>...</th>\n",
       "      <td>...</td>\n",
       "      <td>...</td>\n",
       "      <td>...</td>\n",
       "      <td>...</td>\n",
       "      <td>...</td>\n",
       "      <td>...</td>\n",
       "      <td>...</td>\n",
       "      <td>...</td>\n",
       "      <td>...</td>\n",
       "      <td>...</td>\n",
       "      <td>...</td>\n",
       "      <td>...</td>\n",
       "      <td>...</td>\n",
       "      <td>...</td>\n",
       "      <td>...</td>\n",
       "    </tr>\n",
       "    <tr>\n",
       "      <th>824115</th>\n",
       "      <td>450</td>\n",
       "      <td>한신아파트(103~109)</td>\n",
       "      <td>59.76</td>\n",
       "      <td>202203</td>\n",
       "      <td>27</td>\n",
       "      <td>66000</td>\n",
       "      <td>20</td>\n",
       "      <td>1997</td>\n",
       "      <td>동일로 752</td>\n",
       "      <td>중랑구</td>\n",
       "      <td>중화동</td>\n",
       "      <td>19.7</td>\n",
       "      <td>2022</td>\n",
       "      <td>3</td>\n",
       "      <td>10평대</td>\n",
       "    </tr>\n",
       "    <tr>\n",
       "      <th>824116</th>\n",
       "      <td>450</td>\n",
       "      <td>한신아파트(103~109)</td>\n",
       "      <td>59.76</td>\n",
       "      <td>202207</td>\n",
       "      <td>20</td>\n",
       "      <td>65000</td>\n",
       "      <td>3</td>\n",
       "      <td>1997</td>\n",
       "      <td>동일로 752</td>\n",
       "      <td>중랑구</td>\n",
       "      <td>중화동</td>\n",
       "      <td>19.7</td>\n",
       "      <td>2022</td>\n",
       "      <td>7</td>\n",
       "      <td>10평대</td>\n",
       "    </tr>\n",
       "    <tr>\n",
       "      <th>824117</th>\n",
       "      <td>450</td>\n",
       "      <td>한신아파트(103~109)</td>\n",
       "      <td>84.03</td>\n",
       "      <td>202207</td>\n",
       "      <td>27</td>\n",
       "      <td>77000</td>\n",
       "      <td>12</td>\n",
       "      <td>1997</td>\n",
       "      <td>동일로 752</td>\n",
       "      <td>중랑구</td>\n",
       "      <td>중화동</td>\n",
       "      <td>27.7</td>\n",
       "      <td>2022</td>\n",
       "      <td>7</td>\n",
       "      <td>20평대</td>\n",
       "    </tr>\n",
       "    <tr>\n",
       "      <th>824119</th>\n",
       "      <td>274-51</td>\n",
       "      <td>한영(101)</td>\n",
       "      <td>84.69</td>\n",
       "      <td>202204</td>\n",
       "      <td>9</td>\n",
       "      <td>68000</td>\n",
       "      <td>7</td>\n",
       "      <td>2003</td>\n",
       "      <td>동일로144길 74</td>\n",
       "      <td>중랑구</td>\n",
       "      <td>중화동</td>\n",
       "      <td>28.0</td>\n",
       "      <td>2022</td>\n",
       "      <td>4</td>\n",
       "      <td>20평대</td>\n",
       "    </tr>\n",
       "    <tr>\n",
       "      <th>824120</th>\n",
       "      <td>11-7</td>\n",
       "      <td>현대휴앤미(102동)</td>\n",
       "      <td>76.43</td>\n",
       "      <td>202204</td>\n",
       "      <td>23</td>\n",
       "      <td>54000</td>\n",
       "      <td>6</td>\n",
       "      <td>2007</td>\n",
       "      <td>봉화산로27가길 19</td>\n",
       "      <td>중랑구</td>\n",
       "      <td>중화동</td>\n",
       "      <td>25.2</td>\n",
       "      <td>2022</td>\n",
       "      <td>4</td>\n",
       "      <td>20평대</td>\n",
       "    </tr>\n",
       "  </tbody>\n",
       "</table>\n",
       "<p>9237 rows × 15 columns</p>\n",
       "</div>"
      ],
      "text/plain": [
       "            번지             단지명  전용면적(㎡)    계약년월  계약일  거래금액(만원)   층  건축년도  \\\n",
       "807176   658-1  개포6차우성아파트1동~8동    79.97  202204   12    200000   4  1987   \n",
       "807177   658-1  개포6차우성아파트1동~8동    79.97  202204   21    201000   2  1987   \n",
       "807178   658-1  개포6차우성아파트1동~8동    79.97  202205   27    210000   2  1987   \n",
       "807188    1282       개포래미안포레스트   102.32  202204    1    317000  13  2020   \n",
       "807189    1282       개포래미안포레스트   136.06  202205    2    381000  17  2020   \n",
       "...        ...             ...      ...     ...  ...       ...  ..   ...   \n",
       "824115     450  한신아파트(103~109)    59.76  202203   27     66000  20  1997   \n",
       "824116     450  한신아파트(103~109)    59.76  202207   20     65000   3  1997   \n",
       "824117     450  한신아파트(103~109)    84.03  202207   27     77000  12  1997   \n",
       "824119  274-51         한영(101)    84.69  202204    9     68000   7  2003   \n",
       "824120    11-7     현대휴앤미(102동)    76.43  202204   23     54000   6  2007   \n",
       "\n",
       "                도로명    구    동     평   계약년  계약월    평형  \n",
       "807176        언주로 3  강남구  개포동  26.4  2022    4  20평대  \n",
       "807177        언주로 3  강남구  개포동  26.4  2022    4  20평대  \n",
       "807178        언주로 3  강남구  개포동  26.4  2022    5  20평대  \n",
       "807188      개포로 264  강남구  개포동  33.8  2022    4  30평대  \n",
       "807189      개포로 264  강남구  개포동  44.9  2022    5  40평대  \n",
       "...             ...  ...  ...   ...   ...  ...   ...  \n",
       "824115      동일로 752  중랑구  중화동  19.7  2022    3  10평대  \n",
       "824116      동일로 752  중랑구  중화동  19.7  2022    7  10평대  \n",
       "824117      동일로 752  중랑구  중화동  27.7  2022    7  20평대  \n",
       "824119   동일로144길 74  중랑구  중화동  28.0  2022    4  20평대  \n",
       "824120  봉화산로27가길 19  중랑구  중화동  25.2  2022    4  20평대  \n",
       "\n",
       "[9237 rows x 15 columns]"
      ]
     },
     "execution_count": 49,
     "metadata": {},
     "output_type": "execute_result"
    }
   ],
   "source": [
    "원본2022 = 원본[원본['계약년']==2022]\n",
    "원본2022['거래금액(만원)'] = np.round(d2['거래금액(만원)'],-3).astype('int64')\n",
    "원본2022.drop(columns=['시군구','본번','부번','거래유형','중개사소재지','거래금액_억원'],inplace=True)"
   ]
  },
  {
   "cell_type": "code",
   "execution_count": 51,
   "id": "a2e4f668",
   "metadata": {
    "scrolled": true
   },
   "outputs": [],
   "source": [
    "원본2022.reset_index(inplace=True)"
   ]
  },
  {
   "cell_type": "code",
   "execution_count": 55,
   "id": "9dea3f23",
   "metadata": {},
   "outputs": [
    {
     "data": {
      "text/plain": [
       "2860"
      ]
     },
     "execution_count": 55,
     "metadata": {},
     "output_type": "execute_result"
    }
   ],
   "source": [
    "원본2022['단지명'].nunique()"
   ]
  },
  {
   "cell_type": "code",
   "execution_count": 56,
   "id": "069715c6",
   "metadata": {},
   "outputs": [],
   "source": [
    "원본2022.to_csv('아파트2022_예측값.csv',index=False)"
   ]
  },
  {
   "cell_type": "code",
   "execution_count": 26,
   "id": "586e237a",
   "metadata": {},
   "outputs": [],
   "source": [
    "import joblib"
   ]
  },
  {
   "cell_type": "code",
   "execution_count": 27,
   "id": "b0d1755a",
   "metadata": {},
   "outputs": [
    {
     "data": {
      "text/plain": [
       "['RandomForest1.pkl']"
      ]
     },
     "execution_count": 27,
     "metadata": {},
     "output_type": "execute_result"
    }
   ],
   "source": [
    "joblib.dump(models[0]['model'], 'XGB1.pkl')\n",
    "joblib.dump(models[1]['model'], 'LGBM1.pkl')\n",
    "joblib.dump(models[2]['model'], 'RandomForest1.pkl')"
   ]
  },
  {
   "cell_type": "code",
   "execution_count": null,
   "id": "024b6675",
   "metadata": {},
   "outputs": [],
   "source": []
  }
 ],
 "metadata": {
  "kernelspec": {
   "display_name": "KB",
   "language": "python",
   "name": "kb"
  },
  "language_info": {
   "codemirror_mode": {
    "name": "ipython",
    "version": 3
   },
   "file_extension": ".py",
   "mimetype": "text/x-python",
   "name": "python",
   "nbconvert_exporter": "python",
   "pygments_lexer": "ipython3",
   "version": "3.9.12"
  }
 },
 "nbformat": 4,
 "nbformat_minor": 5
}
